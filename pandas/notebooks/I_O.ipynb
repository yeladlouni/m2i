{
  "nbformat": 4,
  "nbformat_minor": 0,
  "metadata": {
    "colab": {
      "name": "I/O.ipynb",
      "provenance": [],
      "collapsed_sections": []
    },
    "kernelspec": {
      "name": "python3",
      "display_name": "Python 3"
    }
  },
  "cells": [
    {
      "cell_type": "markdown",
      "metadata": {
        "id": "SmISnOOIDLBd"
      },
      "source": [
        "L'accès aux données est une étape primordiale avant l'analyse de données. Les entrées/sorties \"E/S\" ou inputs/output \"I/O\" permettent de lire les fichiers textes, chargement des données depuis les bases de données et l'interaction avec les sources réseaux comme les web APIs."
      ]
    },
    {
      "cell_type": "markdown",
      "metadata": {
        "id": "GgzH4Q_nESuv"
      },
      "source": [
        "# Fichiers textes"
      ]
    },
    {
      "cell_type": "markdown",
      "metadata": {
        "id": "D1wOOyODEmtN"
      },
      "source": [
        "Pandas offre un ensemble de fonctions pour lire les données tabulaires en tant que DataFrame.\n",
        "\n",
        "Fonction | Description\n",
        "-- | --\n",
        "read_csv | Charger des données délimitées depuis un fichier, URL. Le séparateur par défaut est la virgule ','\n",
        "read_table | Charger des données délimitées depuis un fichier, URL. Le séparateur est la tabulation '\\t'\n",
        "read_fwf | Charger des données depuis un fichier où les colonnes ont une largeur fixe\n",
        "read_clipboard | Charger les données depuis le presse-papiers où les séparateur est la tabulation\n",
        "read_excel | Charger les données depuis un fichier XLS ou XLSX\n",
        "read_hdf | Charger les fichiers HDF5\n",
        "read_html | Charger toutes les tables contenues dans un fichier HTML\n",
        "read_json | Charger les données depuis un fichier JSON\n",
        "read_msgpack | Charger les données encodées en utilisant le format binaire MessagePack\n",
        "read_pickle | Charger les objets contenues dans un fichier binaire pickle\n",
        "read_sas | Charger les données depuis les fichiers SAS\n",
        "read_sql | Lire les résultats d'une requête en tant que DataFrame\n",
        "read_stata | Charger les données depuis un fichier Stata\n",
        "read_feather | Lire les fichiers binaires Feather\n",
        "\n",
        "Les arguments optionnels de ces fonctions sont:\n",
        "\n",
        "* Indexation: Traitement d'une ou plusieurs colonnes et choix des noms de colonnes\n",
        "* Inférence du type et conversion: conversion de valeurs et liste personnalisée des valeurs manquantes\n",
        "* Parsing des date/heure: Reconnaître des colonnes comme des dates ou heures\n",
        "* Itération: Itération des fichiers larges\n",
        "* Nettoyage: échapper des lignes ou des entêtes\n",
        "\n",
        "Certaines fonctions comme read_csv effectuent l'inférence du type."
      ]
    },
    {
      "cell_type": "code",
      "metadata": {
        "id": "n2hGflRCEGbv"
      },
      "source": [
        "import pandas as pd"
      ],
      "execution_count": 1,
      "outputs": []
    },
    {
      "cell_type": "code",
      "metadata": {
        "id": "OHivJgQdEE6R"
      },
      "source": [
        "df = pd.read_json('sample_data/anscombe.json')"
      ],
      "execution_count": 6,
      "outputs": []
    },
    {
      "cell_type": "code",
      "metadata": {
        "colab": {
          "base_uri": "https://localhost:8080/",
          "height": 1000
        },
        "id": "lc_NW2XfF0H6",
        "outputId": "cf1b112d-2a4e-433b-d99a-384a03dbf21c"
      },
      "source": [
        "df"
      ],
      "execution_count": 7,
      "outputs": [
        {
          "output_type": "execute_result",
          "data": {
            "text/html": [
              "<div>\n",
              "<style scoped>\n",
              "    .dataframe tbody tr th:only-of-type {\n",
              "        vertical-align: middle;\n",
              "    }\n",
              "\n",
              "    .dataframe tbody tr th {\n",
              "        vertical-align: top;\n",
              "    }\n",
              "\n",
              "    .dataframe thead th {\n",
              "        text-align: right;\n",
              "    }\n",
              "</style>\n",
              "<table border=\"1\" class=\"dataframe\">\n",
              "  <thead>\n",
              "    <tr style=\"text-align: right;\">\n",
              "      <th></th>\n",
              "      <th>Series</th>\n",
              "      <th>X</th>\n",
              "      <th>Y</th>\n",
              "    </tr>\n",
              "  </thead>\n",
              "  <tbody>\n",
              "    <tr>\n",
              "      <th>0</th>\n",
              "      <td>I</td>\n",
              "      <td>10</td>\n",
              "      <td>8.04</td>\n",
              "    </tr>\n",
              "    <tr>\n",
              "      <th>1</th>\n",
              "      <td>I</td>\n",
              "      <td>8</td>\n",
              "      <td>6.95</td>\n",
              "    </tr>\n",
              "    <tr>\n",
              "      <th>2</th>\n",
              "      <td>I</td>\n",
              "      <td>13</td>\n",
              "      <td>7.58</td>\n",
              "    </tr>\n",
              "    <tr>\n",
              "      <th>3</th>\n",
              "      <td>I</td>\n",
              "      <td>9</td>\n",
              "      <td>8.81</td>\n",
              "    </tr>\n",
              "    <tr>\n",
              "      <th>4</th>\n",
              "      <td>I</td>\n",
              "      <td>11</td>\n",
              "      <td>8.33</td>\n",
              "    </tr>\n",
              "    <tr>\n",
              "      <th>5</th>\n",
              "      <td>I</td>\n",
              "      <td>14</td>\n",
              "      <td>9.96</td>\n",
              "    </tr>\n",
              "    <tr>\n",
              "      <th>6</th>\n",
              "      <td>I</td>\n",
              "      <td>6</td>\n",
              "      <td>7.24</td>\n",
              "    </tr>\n",
              "    <tr>\n",
              "      <th>7</th>\n",
              "      <td>I</td>\n",
              "      <td>4</td>\n",
              "      <td>4.26</td>\n",
              "    </tr>\n",
              "    <tr>\n",
              "      <th>8</th>\n",
              "      <td>I</td>\n",
              "      <td>12</td>\n",
              "      <td>10.84</td>\n",
              "    </tr>\n",
              "    <tr>\n",
              "      <th>9</th>\n",
              "      <td>I</td>\n",
              "      <td>7</td>\n",
              "      <td>4.81</td>\n",
              "    </tr>\n",
              "    <tr>\n",
              "      <th>10</th>\n",
              "      <td>I</td>\n",
              "      <td>5</td>\n",
              "      <td>5.68</td>\n",
              "    </tr>\n",
              "    <tr>\n",
              "      <th>11</th>\n",
              "      <td>II</td>\n",
              "      <td>10</td>\n",
              "      <td>9.14</td>\n",
              "    </tr>\n",
              "    <tr>\n",
              "      <th>12</th>\n",
              "      <td>II</td>\n",
              "      <td>8</td>\n",
              "      <td>8.14</td>\n",
              "    </tr>\n",
              "    <tr>\n",
              "      <th>13</th>\n",
              "      <td>II</td>\n",
              "      <td>13</td>\n",
              "      <td>8.74</td>\n",
              "    </tr>\n",
              "    <tr>\n",
              "      <th>14</th>\n",
              "      <td>II</td>\n",
              "      <td>9</td>\n",
              "      <td>8.77</td>\n",
              "    </tr>\n",
              "    <tr>\n",
              "      <th>15</th>\n",
              "      <td>II</td>\n",
              "      <td>11</td>\n",
              "      <td>9.26</td>\n",
              "    </tr>\n",
              "    <tr>\n",
              "      <th>16</th>\n",
              "      <td>II</td>\n",
              "      <td>14</td>\n",
              "      <td>8.10</td>\n",
              "    </tr>\n",
              "    <tr>\n",
              "      <th>17</th>\n",
              "      <td>II</td>\n",
              "      <td>6</td>\n",
              "      <td>6.13</td>\n",
              "    </tr>\n",
              "    <tr>\n",
              "      <th>18</th>\n",
              "      <td>II</td>\n",
              "      <td>4</td>\n",
              "      <td>3.10</td>\n",
              "    </tr>\n",
              "    <tr>\n",
              "      <th>19</th>\n",
              "      <td>II</td>\n",
              "      <td>12</td>\n",
              "      <td>9.13</td>\n",
              "    </tr>\n",
              "    <tr>\n",
              "      <th>20</th>\n",
              "      <td>II</td>\n",
              "      <td>7</td>\n",
              "      <td>7.26</td>\n",
              "    </tr>\n",
              "    <tr>\n",
              "      <th>21</th>\n",
              "      <td>II</td>\n",
              "      <td>5</td>\n",
              "      <td>4.74</td>\n",
              "    </tr>\n",
              "    <tr>\n",
              "      <th>22</th>\n",
              "      <td>III</td>\n",
              "      <td>10</td>\n",
              "      <td>7.46</td>\n",
              "    </tr>\n",
              "    <tr>\n",
              "      <th>23</th>\n",
              "      <td>III</td>\n",
              "      <td>8</td>\n",
              "      <td>6.77</td>\n",
              "    </tr>\n",
              "    <tr>\n",
              "      <th>24</th>\n",
              "      <td>III</td>\n",
              "      <td>13</td>\n",
              "      <td>12.74</td>\n",
              "    </tr>\n",
              "    <tr>\n",
              "      <th>25</th>\n",
              "      <td>III</td>\n",
              "      <td>9</td>\n",
              "      <td>7.11</td>\n",
              "    </tr>\n",
              "    <tr>\n",
              "      <th>26</th>\n",
              "      <td>III</td>\n",
              "      <td>11</td>\n",
              "      <td>7.81</td>\n",
              "    </tr>\n",
              "    <tr>\n",
              "      <th>27</th>\n",
              "      <td>III</td>\n",
              "      <td>14</td>\n",
              "      <td>8.84</td>\n",
              "    </tr>\n",
              "    <tr>\n",
              "      <th>28</th>\n",
              "      <td>III</td>\n",
              "      <td>6</td>\n",
              "      <td>6.08</td>\n",
              "    </tr>\n",
              "    <tr>\n",
              "      <th>29</th>\n",
              "      <td>III</td>\n",
              "      <td>4</td>\n",
              "      <td>5.39</td>\n",
              "    </tr>\n",
              "    <tr>\n",
              "      <th>30</th>\n",
              "      <td>III</td>\n",
              "      <td>12</td>\n",
              "      <td>8.15</td>\n",
              "    </tr>\n",
              "    <tr>\n",
              "      <th>31</th>\n",
              "      <td>III</td>\n",
              "      <td>7</td>\n",
              "      <td>6.42</td>\n",
              "    </tr>\n",
              "    <tr>\n",
              "      <th>32</th>\n",
              "      <td>III</td>\n",
              "      <td>5</td>\n",
              "      <td>5.73</td>\n",
              "    </tr>\n",
              "    <tr>\n",
              "      <th>33</th>\n",
              "      <td>IV</td>\n",
              "      <td>8</td>\n",
              "      <td>6.58</td>\n",
              "    </tr>\n",
              "    <tr>\n",
              "      <th>34</th>\n",
              "      <td>IV</td>\n",
              "      <td>8</td>\n",
              "      <td>5.76</td>\n",
              "    </tr>\n",
              "    <tr>\n",
              "      <th>35</th>\n",
              "      <td>IV</td>\n",
              "      <td>8</td>\n",
              "      <td>7.71</td>\n",
              "    </tr>\n",
              "    <tr>\n",
              "      <th>36</th>\n",
              "      <td>IV</td>\n",
              "      <td>8</td>\n",
              "      <td>8.84</td>\n",
              "    </tr>\n",
              "    <tr>\n",
              "      <th>37</th>\n",
              "      <td>IV</td>\n",
              "      <td>8</td>\n",
              "      <td>8.47</td>\n",
              "    </tr>\n",
              "    <tr>\n",
              "      <th>38</th>\n",
              "      <td>IV</td>\n",
              "      <td>8</td>\n",
              "      <td>7.04</td>\n",
              "    </tr>\n",
              "    <tr>\n",
              "      <th>39</th>\n",
              "      <td>IV</td>\n",
              "      <td>8</td>\n",
              "      <td>5.25</td>\n",
              "    </tr>\n",
              "    <tr>\n",
              "      <th>40</th>\n",
              "      <td>IV</td>\n",
              "      <td>19</td>\n",
              "      <td>12.50</td>\n",
              "    </tr>\n",
              "    <tr>\n",
              "      <th>41</th>\n",
              "      <td>IV</td>\n",
              "      <td>8</td>\n",
              "      <td>5.56</td>\n",
              "    </tr>\n",
              "    <tr>\n",
              "      <th>42</th>\n",
              "      <td>IV</td>\n",
              "      <td>8</td>\n",
              "      <td>7.91</td>\n",
              "    </tr>\n",
              "    <tr>\n",
              "      <th>43</th>\n",
              "      <td>IV</td>\n",
              "      <td>8</td>\n",
              "      <td>6.89</td>\n",
              "    </tr>\n",
              "  </tbody>\n",
              "</table>\n",
              "</div>"
            ],
            "text/plain": [
              "   Series   X      Y\n",
              "0       I  10   8.04\n",
              "1       I   8   6.95\n",
              "2       I  13   7.58\n",
              "3       I   9   8.81\n",
              "4       I  11   8.33\n",
              "5       I  14   9.96\n",
              "6       I   6   7.24\n",
              "7       I   4   4.26\n",
              "8       I  12  10.84\n",
              "9       I   7   4.81\n",
              "10      I   5   5.68\n",
              "11     II  10   9.14\n",
              "12     II   8   8.14\n",
              "13     II  13   8.74\n",
              "14     II   9   8.77\n",
              "15     II  11   9.26\n",
              "16     II  14   8.10\n",
              "17     II   6   6.13\n",
              "18     II   4   3.10\n",
              "19     II  12   9.13\n",
              "20     II   7   7.26\n",
              "21     II   5   4.74\n",
              "22    III  10   7.46\n",
              "23    III   8   6.77\n",
              "24    III  13  12.74\n",
              "25    III   9   7.11\n",
              "26    III  11   7.81\n",
              "27    III  14   8.84\n",
              "28    III   6   6.08\n",
              "29    III   4   5.39\n",
              "30    III  12   8.15\n",
              "31    III   7   6.42\n",
              "32    III   5   5.73\n",
              "33     IV   8   6.58\n",
              "34     IV   8   5.76\n",
              "35     IV   8   7.71\n",
              "36     IV   8   8.84\n",
              "37     IV   8   8.47\n",
              "38     IV   8   7.04\n",
              "39     IV   8   5.25\n",
              "40     IV  19  12.50\n",
              "41     IV   8   5.56\n",
              "42     IV   8   7.91\n",
              "43     IV   8   6.89"
            ]
          },
          "metadata": {
            "tags": []
          },
          "execution_count": 7
        }
      ]
    },
    {
      "cell_type": "code",
      "metadata": {
        "colab": {
          "base_uri": "https://localhost:8080/"
        },
        "id": "e4z7TbTQEXVU",
        "outputId": "0ac0f02c-ac5a-4d90-8292-94cc00196246"
      },
      "source": [
        "!wget https://github.com/wesm/pydata-book/blob/2nd-edition/datasets/movielens/users.dat\n",
        "!wget https://github.com/wesm/pydata-book/blob/2nd-edition/datasets/movielens/movies.dat\n",
        "!wget https://github.com/wesm/pydata-book/blob/2nd-edition/datasets/movielens/ratings.dat"
      ],
      "execution_count": 3,
      "outputs": [
        {
          "output_type": "stream",
          "text": [
            "--2020-11-17 22:03:12--  https://github.com/wesm/pydata-book/blob/2nd-edition/datasets/movielens/users.dat\n",
            "Resolving github.com (github.com)... 192.30.255.113\n",
            "Connecting to github.com (github.com)|192.30.255.113|:443... connected.\n",
            "HTTP request sent, awaiting response... 200 OK\n",
            "Length: unspecified [text/html]\n",
            "Saving to: ‘users.dat’\n",
            "\n",
            "users.dat               [ <=>                ]   1.28M  --.-KB/s    in 0.05s   \n",
            "\n",
            "2020-11-17 22:03:12 (25.6 MB/s) - ‘users.dat’ saved [1341438]\n",
            "\n",
            "--2020-11-17 22:03:13--  https://github.com/wesm/pydata-book/blob/2nd-edition/datasets/movielens/movies.dat\n",
            "Resolving github.com (github.com)... 192.30.255.113\n",
            "Connecting to github.com (github.com)|192.30.255.113|:443... connected.\n",
            "HTTP request sent, awaiting response... 200 OK\n",
            "Length: unspecified [text/html]\n",
            "Saving to: ‘movies.dat’\n",
            "\n",
            "movies.dat              [ <=>                ] 960.58K  --.-KB/s    in 0.04s   \n",
            "\n",
            "2020-11-17 22:03:13 (21.4 MB/s) - ‘movies.dat’ saved [983639]\n",
            "\n",
            "--2020-11-17 22:03:13--  https://github.com/wesm/pydata-book/blob/2nd-edition/datasets/movielens/ratings.dat\n",
            "Resolving github.com (github.com)... 192.30.255.113\n",
            "Connecting to github.com (github.com)|192.30.255.113|:443... connected.\n",
            "HTTP request sent, awaiting response... 200 OK\n",
            "Length: unspecified [text/html]\n",
            "Saving to: ‘ratings.dat’\n",
            "\n",
            "ratings.dat             [ <=>                ]  94.72K  --.-KB/s    in 0.02s   \n",
            "\n",
            "2020-11-17 22:03:14 (3.82 MB/s) - ‘ratings.dat’ saved [96992]\n",
            "\n"
          ],
          "name": "stdout"
        }
      ]
    },
    {
      "cell_type": "markdown",
      "metadata": {
        "id": "UhEDbQT3T39l"
      },
      "source": [
        "Argument | Description\n",
        "-- | --\n",
        "path | Chemin, URL ou pointeur vers un fichier\n",
        "sep ou delimiter | Séquence de caractères ou expression régulière utiliser pour spliter chaque enregistrement\n",
        "header | Nombre d'enregistrements à utiliser comme noms de colonnes, par défaut 0, mettre Non si le fichier ne contient aucune entête\n",
        "index_col | Indices ou noms de colonnes à utiliser comme Index, une liste pour le cas des Index hiérarchiques\n",
        "names | Noms de colonnes si header=None\n",
        "skiprows | Nombre de lignes au début du fichier à ignorer\n",
        "na_values | Séquence de valeurs à remplacer avec NA\n",
        "comment | Caractères pour ignorer les commentaires à la fin des lignes\n",
        "parse_dates | Parser les datetime, elle peut combiner une liste de colonnes pour retrouver la date complète\n",
        "keep_date_col | En cas de combinaison de plusieurs colonnes, garder les colonnes initiales\n",
        "converters | Dictionnaire contenant les colonnes à convertir et les fonctions à appliquer {'foo': f}\n",
        "dayfirst | traiter les date en utilisant le format international\n",
        "date_parser | fonction à utiliser pour parser les dates\n",
        "nrows | Nombre de lignes à lire depuis le début du fichier\n",
        "iterator | Retourner TextParser pour lire le fichier par morçeaux \"chunks\"\n",
        "chunksize | Pour l'itération, la taille des morçeaux \"chunks\"\n",
        "skip_footer | Nombre de lignes à ignorer à la fin du fichier\n",
        "verbose | Afficher les informations lors du parsing du fichier\n",
        "encoding | Encodage à utiliser lors de la lecture du fichier, 'utf-8' par exemple\n",
        "squeeze | Si le fichier contient une seule colonne, retourner un objet Series\n",
        "thousands | Utiliser le séparateur des milliers, '.' ou ','"
      ]
    },
    {
      "cell_type": "markdown",
      "metadata": {
        "id": "gXk7eS0mXpIT"
      },
      "source": [
        "**Lecture des fichiers textes par morçeaux**"
      ]
    },
    {
      "cell_type": "markdown",
      "metadata": {
        "id": "3SRsumVwXzeD"
      },
      "source": [
        "**Ecriture des données dans un fichier texte**"
      ]
    },
    {
      "cell_type": "markdown",
      "metadata": {
        "id": "Kwe32yQ_X4MF"
      },
      "source": [
        "**Utilisation des fichiers séparés**"
      ]
    },
    {
      "cell_type": "markdown",
      "metadata": {
        "id": "mwIe_LkIYAJy"
      },
      "source": [
        "Argument | Description\n",
        "-- | --\n",
        "delimiter | Caractère séparateur, par défaut ','\n",
        "lineterminator | Le séparateur des lignes, '\\r\\n' par défaut\n",
        "quotechar | Caractère utilisé comme délimiteur du texte\n",
        "quoting | Convention de quoting, csv.QUOTE_ALL, csv.QUOTE_MINIMAL, csv.QUOTE_NONNUMERIC ou csv.QUOTE_NONE\n",
        "skipinitialspace | Ignorer les espaces après les séparateurs, par défaut False\n",
        "doublequote | Comment utiliser un quote à l'intérieur d'un texte\n",
        "escapechar | Chaîne à utilise pour échapper le délimiteur"
      ]
    },
    {
      "cell_type": "markdown",
      "metadata": {
        "id": "hVzNtY_XZF1H"
      },
      "source": [
        "**JSON**"
      ]
    },
    {
      "cell_type": "markdown",
      "metadata": {
        "id": "IvruWiyNZLSz"
      },
      "source": [
        "**XML et HTML**"
      ]
    },
    {
      "cell_type": "markdown",
      "metadata": {
        "id": "_AZziFGHZPgF"
      },
      "source": [
        "**Parsing du XML avec lxml.objectify**"
      ]
    },
    {
      "cell_type": "markdown",
      "metadata": {
        "id": "1A2PPmoVZWoR"
      },
      "source": [
        "# Format binaire"
      ]
    },
    {
      "cell_type": "markdown",
      "metadata": {
        "id": "iilyEF2XZbW6"
      },
      "source": [
        "**Utilisation du format HDF5**"
      ]
    },
    {
      "cell_type": "markdown",
      "metadata": {
        "id": "XpyB36-xZfrs"
      },
      "source": [
        "**Lecture des fichiers Excel**"
      ]
    },
    {
      "cell_type": "markdown",
      "metadata": {
        "id": "FUluRc2vZjdQ"
      },
      "source": [
        "**Intéraction avec les Web APIs**"
      ]
    },
    {
      "cell_type": "markdown",
      "metadata": {
        "id": "M89eeC1EG0QD"
      },
      "source": [
        "Les web APIs, ou les REST APIs qui sont les plus utilisés aujourd'hui afin de mettre en place l'interopérabilité."
      ]
    },
    {
      "cell_type": "code",
      "metadata": {
        "id": "K1qUZNBqZZsi"
      },
      "source": [
        "import requests"
      ],
      "execution_count": 20,
      "outputs": []
    },
    {
      "cell_type": "code",
      "metadata": {
        "id": "a3CaS-IcZquD"
      },
      "source": [
        "url = 'https://api.exchangeratesapi.io/latest'"
      ],
      "execution_count": 21,
      "outputs": []
    },
    {
      "cell_type": "code",
      "metadata": {
        "id": "xMGr7UmZZtpC"
      },
      "source": [
        "resp = requests.get(url)"
      ],
      "execution_count": 22,
      "outputs": []
    },
    {
      "cell_type": "code",
      "metadata": {
        "colab": {
          "base_uri": "https://localhost:8080/"
        },
        "id": "sYB5f6LzZxZK",
        "outputId": "38cd0ed9-a1d5-4136-bc58-dcc8aabe1828"
      },
      "source": [
        "resp"
      ],
      "execution_count": 23,
      "outputs": [
        {
          "output_type": "execute_result",
          "data": {
            "text/plain": [
              "<Response [200]>"
            ]
          },
          "metadata": {
            "tags": []
          },
          "execution_count": 23
        }
      ]
    },
    {
      "cell_type": "code",
      "metadata": {
        "id": "SCUUuIHUZyGa"
      },
      "source": [
        "data = resp.json()"
      ],
      "execution_count": 24,
      "outputs": []
    },
    {
      "cell_type": "code",
      "metadata": {
        "colab": {
          "base_uri": "https://localhost:8080/"
        },
        "id": "nmLZpqZYZ09j",
        "outputId": "4fec3ad7-0bea-4590-a0a5-8141e789163b"
      },
      "source": [
        "data"
      ],
      "execution_count": 25,
      "outputs": [
        {
          "output_type": "execute_result",
          "data": {
            "text/plain": [
              "{'base': 'EUR',\n",
              " 'date': '2020-11-17',\n",
              " 'rates': {'AUD': 1.6236,\n",
              "  'BGN': 1.9558,\n",
              "  'BRL': 6.4375,\n",
              "  'CAD': 1.556,\n",
              "  'CHF': 1.0816,\n",
              "  'CNY': 7.7892,\n",
              "  'CZK': 26.508,\n",
              "  'DKK': 7.448,\n",
              "  'GBP': 0.89585,\n",
              "  'HKD': 9.2119,\n",
              "  'HRK': 7.5668,\n",
              "  'HUF': 361.5,\n",
              "  'IDR': 16779.76,\n",
              "  'ILS': 3.9945,\n",
              "  'INR': 88.4825,\n",
              "  'ISK': 161.5,\n",
              "  'JPY': 123.78,\n",
              "  'KRW': 1314.74,\n",
              "  'MXN': 24.2129,\n",
              "  'MYR': 4.877,\n",
              "  'NOK': 10.7683,\n",
              "  'NZD': 1.7234,\n",
              "  'PHP': 57.389,\n",
              "  'PLN': 4.4964,\n",
              "  'RON': 4.872,\n",
              "  'RUB': 90.734,\n",
              "  'SEK': 10.2375,\n",
              "  'SGD': 1.5962,\n",
              "  'THB': 35.836,\n",
              "  'TRY': 9.2071,\n",
              "  'USD': 1.1882,\n",
              "  'ZAR': 18.3062}}"
            ]
          },
          "metadata": {
            "tags": []
          },
          "execution_count": 25
        }
      ]
    },
    {
      "cell_type": "code",
      "metadata": {
        "id": "yOO2L6BeayHK"
      },
      "source": [
        "TAUX_CHANGE = data['rates']['CAD']"
      ],
      "execution_count": 28,
      "outputs": []
    },
    {
      "cell_type": "code",
      "metadata": {
        "colab": {
          "base_uri": "https://localhost:8080/"
        },
        "id": "caKzYGCIbu4T",
        "outputId": "dceece17-6b7f-476a-ada9-5a5718974d12"
      },
      "source": [
        "TAUX_CHANGE"
      ],
      "execution_count": 29,
      "outputs": [
        {
          "output_type": "execute_result",
          "data": {
            "text/plain": [
              "1.556"
            ]
          },
          "metadata": {
            "tags": []
          },
          "execution_count": 29
        }
      ]
    },
    {
      "cell_type": "markdown",
      "metadata": {
        "id": "C4DYGJouZ45-"
      },
      "source": [
        "**Intéraction avec les bases de données**"
      ]
    },
    {
      "cell_type": "code",
      "metadata": {
        "id": "2utygbmhZ1lb"
      },
      "source": [
        "import sqlite3"
      ],
      "execution_count": 31,
      "outputs": []
    },
    {
      "cell_type": "code",
      "metadata": {
        "id": "GZOsdLFflRGH"
      },
      "source": [
        "name = \"\"\"\n",
        "jkdlkk\n",
        "dldml\n",
        "\"\"\""
      ],
      "execution_count": 39,
      "outputs": []
    },
    {
      "cell_type": "code",
      "metadata": {
        "colab": {
          "base_uri": "https://localhost:8080/"
        },
        "id": "od5-I-9hlahV",
        "outputId": "66936139-6395-4e2b-9eb9-e5b024599f31"
      },
      "source": [
        "print(name)"
      ],
      "execution_count": 40,
      "outputs": [
        {
          "output_type": "stream",
          "text": [
            "\n",
            "jkdlkk\n",
            "dldml\n",
            "\n"
          ],
          "name": "stdout"
        }
      ]
    },
    {
      "cell_type": "code",
      "metadata": {
        "id": "aSnfkHNLZ84L"
      },
      "source": [
        "query = \"\"\"\n",
        "  CREATE TABLE test\n",
        "  (a VARCHAR(20), b VARCHAR(20),\n",
        "  c REAL, d INTEGER\n",
        "  );\"\"\""
      ],
      "execution_count": 32,
      "outputs": []
    },
    {
      "cell_type": "code",
      "metadata": {
        "id": "LEHSDo6XaUX0"
      },
      "source": [
        "con = sqlite3.connect('states')"
      ],
      "execution_count": 33,
      "outputs": []
    },
    {
      "cell_type": "code",
      "metadata": {
        "colab": {
          "base_uri": "https://localhost:8080/",
          "height": 165
        },
        "id": "Ak84Ev0VaYnj",
        "outputId": "e2b707d5-484a-4c66-ed1b-0fb987f804ae"
      },
      "source": [
        "con.execute(query)"
      ],
      "execution_count": 41,
      "outputs": [
        {
          "output_type": "error",
          "ename": "OperationalError",
          "evalue": "ignored",
          "traceback": [
            "\u001b[0;31m---------------------------------------------------------------------------\u001b[0m",
            "\u001b[0;31mOperationalError\u001b[0m                          Traceback (most recent call last)",
            "\u001b[0;32m<ipython-input-41-3ee84edf4275>\u001b[0m in \u001b[0;36m<module>\u001b[0;34m()\u001b[0m\n\u001b[0;32m----> 1\u001b[0;31m \u001b[0mcon\u001b[0m\u001b[0;34m.\u001b[0m\u001b[0mexecute\u001b[0m\u001b[0;34m(\u001b[0m\u001b[0mquery\u001b[0m\u001b[0;34m)\u001b[0m\u001b[0;34m\u001b[0m\u001b[0;34m\u001b[0m\u001b[0m\n\u001b[0m",
            "\u001b[0;31mOperationalError\u001b[0m: table test already exists"
          ]
        }
      ]
    },
    {
      "cell_type": "code",
      "metadata": {
        "id": "IjuJuaDDaalL"
      },
      "source": [
        "con.commit()"
      ],
      "execution_count": 42,
      "outputs": []
    },
    {
      "cell_type": "code",
      "metadata": {
        "id": "UycOomUnac30"
      },
      "source": [
        "data = [('Atlanta', 'Georgia', 1.25, 6),\n",
        "        ('Boston', 'Massachusetts', 2.6, 3),\n",
        "        ('Las Vegas', 'Nevada', 1.7, 5)]"
      ],
      "execution_count": 43,
      "outputs": []
    },
    {
      "cell_type": "code",
      "metadata": {
        "id": "SCejJYs5a2eq"
      },
      "source": [
        "stmt = \"INSERT INTO test VALUES(?, ?, ?, ?)\""
      ],
      "execution_count": 44,
      "outputs": []
    },
    {
      "cell_type": "code",
      "metadata": {
        "colab": {
          "base_uri": "https://localhost:8080/"
        },
        "id": "X5-FfXfKlxNO",
        "outputId": "3e7e7bed-d796-4ab9-9499-15cfec1c2a4c"
      },
      "source": [
        "con.executemany(stmt, data)"
      ],
      "execution_count": 47,
      "outputs": [
        {
          "output_type": "execute_result",
          "data": {
            "text/plain": [
              "<sqlite3.Cursor at 0x7f164805e500>"
            ]
          },
          "metadata": {
            "tags": []
          },
          "execution_count": 47
        }
      ]
    },
    {
      "cell_type": "code",
      "metadata": {
        "id": "EgzCfxitbBFC"
      },
      "source": [
        "con.commit()"
      ],
      "execution_count": 48,
      "outputs": []
    },
    {
      "cell_type": "code",
      "metadata": {
        "id": "5fYtn7NjbCcz"
      },
      "source": [
        "cursor = con.execute('SELECT * FROM test')"
      ],
      "execution_count": 49,
      "outputs": []
    },
    {
      "cell_type": "code",
      "metadata": {
        "id": "T-KUyuh-bHeD"
      },
      "source": [
        "rows = cursor.fetchall()"
      ],
      "execution_count": 50,
      "outputs": []
    },
    {
      "cell_type": "code",
      "metadata": {
        "colab": {
          "base_uri": "https://localhost:8080/"
        },
        "id": "O07hYJ6bbKBT",
        "outputId": "c1e36d86-c17a-4173-8a0b-a01aa2b1602b"
      },
      "source": [
        "rows"
      ],
      "execution_count": 51,
      "outputs": [
        {
          "output_type": "execute_result",
          "data": {
            "text/plain": [
              "[('Atlanta', 'Georgia', 1.25, 6),\n",
              " ('Boston', 'Massachusetts', 2.6, 3),\n",
              " ('Las Vegas', 'Nevada', 1.7, 5)]"
            ]
          },
          "metadata": {
            "tags": []
          },
          "execution_count": 51
        }
      ]
    },
    {
      "cell_type": "code",
      "metadata": {
        "id": "UGNQSx5rbK5C"
      },
      "source": [
        "x = cursor.description"
      ],
      "execution_count": 52,
      "outputs": []
    },
    {
      "cell_type": "code",
      "metadata": {
        "id": "cvsrdawEbdAb"
      },
      "source": [
        "import pandas as pd"
      ],
      "execution_count": 53,
      "outputs": []
    },
    {
      "cell_type": "code",
      "metadata": {
        "colab": {
          "base_uri": "https://localhost:8080/",
          "height": 143
        },
        "id": "Re3sJqfcbPrz",
        "outputId": "9ad67eae-73d8-44df-8481-475819915583"
      },
      "source": [
        "pd.DataFrame(rows, columns=[x[0] for x in cursor.description])"
      ],
      "execution_count": 54,
      "outputs": [
        {
          "output_type": "execute_result",
          "data": {
            "text/html": [
              "<div>\n",
              "<style scoped>\n",
              "    .dataframe tbody tr th:only-of-type {\n",
              "        vertical-align: middle;\n",
              "    }\n",
              "\n",
              "    .dataframe tbody tr th {\n",
              "        vertical-align: top;\n",
              "    }\n",
              "\n",
              "    .dataframe thead th {\n",
              "        text-align: right;\n",
              "    }\n",
              "</style>\n",
              "<table border=\"1\" class=\"dataframe\">\n",
              "  <thead>\n",
              "    <tr style=\"text-align: right;\">\n",
              "      <th></th>\n",
              "      <th>a</th>\n",
              "      <th>b</th>\n",
              "      <th>c</th>\n",
              "      <th>d</th>\n",
              "    </tr>\n",
              "  </thead>\n",
              "  <tbody>\n",
              "    <tr>\n",
              "      <th>0</th>\n",
              "      <td>Atlanta</td>\n",
              "      <td>Georgia</td>\n",
              "      <td>1.25</td>\n",
              "      <td>6</td>\n",
              "    </tr>\n",
              "    <tr>\n",
              "      <th>1</th>\n",
              "      <td>Boston</td>\n",
              "      <td>Massachusetts</td>\n",
              "      <td>2.60</td>\n",
              "      <td>3</td>\n",
              "    </tr>\n",
              "    <tr>\n",
              "      <th>2</th>\n",
              "      <td>Las Vegas</td>\n",
              "      <td>Nevada</td>\n",
              "      <td>1.70</td>\n",
              "      <td>5</td>\n",
              "    </tr>\n",
              "  </tbody>\n",
              "</table>\n",
              "</div>"
            ],
            "text/plain": [
              "           a              b     c  d\n",
              "0    Atlanta        Georgia  1.25  6\n",
              "1     Boston  Massachusetts  2.60  3\n",
              "2  Las Vegas         Nevada  1.70  5"
            ]
          },
          "metadata": {
            "tags": []
          },
          "execution_count": 54
        }
      ]
    },
    {
      "cell_type": "markdown",
      "metadata": {
        "id": "X0P3IypnbqZH"
      },
      "source": [
        "**Utilisation de SQLAlchemy**"
      ]
    },
    {
      "cell_type": "code",
      "metadata": {
        "id": "hOdjdUMCbZ5L"
      },
      "source": [
        "import sqlalchemy as sqla"
      ],
      "execution_count": 29,
      "outputs": []
    },
    {
      "cell_type": "code",
      "metadata": {
        "id": "h-sPJX3TbusL"
      },
      "source": [
        "db = sqla.create_engine('sqlite:///mydata.sqlite')"
      ],
      "execution_count": 30,
      "outputs": []
    },
    {
      "cell_type": "code",
      "metadata": {
        "colab": {
          "base_uri": "https://localhost:8080/",
          "height": 143
        },
        "id": "B7-7x_Avb2E7",
        "outputId": "370026a1-943e-419e-afaa-0c167806dd62"
      },
      "source": [
        "pd.read_sql('SELECT * FROM test', db)"
      ],
      "execution_count": 31,
      "outputs": [
        {
          "output_type": "execute_result",
          "data": {
            "text/html": [
              "<div>\n",
              "<style scoped>\n",
              "    .dataframe tbody tr th:only-of-type {\n",
              "        vertical-align: middle;\n",
              "    }\n",
              "\n",
              "    .dataframe tbody tr th {\n",
              "        vertical-align: top;\n",
              "    }\n",
              "\n",
              "    .dataframe thead th {\n",
              "        text-align: right;\n",
              "    }\n",
              "</style>\n",
              "<table border=\"1\" class=\"dataframe\">\n",
              "  <thead>\n",
              "    <tr style=\"text-align: right;\">\n",
              "      <th></th>\n",
              "      <th>a</th>\n",
              "      <th>b</th>\n",
              "      <th>c</th>\n",
              "      <th>d</th>\n",
              "    </tr>\n",
              "  </thead>\n",
              "  <tbody>\n",
              "    <tr>\n",
              "      <th>0</th>\n",
              "      <td>Atlanta</td>\n",
              "      <td>Georgia</td>\n",
              "      <td>1.25</td>\n",
              "      <td>6</td>\n",
              "    </tr>\n",
              "    <tr>\n",
              "      <th>1</th>\n",
              "      <td>Boston</td>\n",
              "      <td>Massachusetts</td>\n",
              "      <td>2.60</td>\n",
              "      <td>3</td>\n",
              "    </tr>\n",
              "    <tr>\n",
              "      <th>2</th>\n",
              "      <td>Las Vegas</td>\n",
              "      <td>Nevada</td>\n",
              "      <td>1.70</td>\n",
              "      <td>5</td>\n",
              "    </tr>\n",
              "  </tbody>\n",
              "</table>\n",
              "</div>"
            ],
            "text/plain": [
              "           a              b     c  d\n",
              "0    Atlanta        Georgia  1.25  6\n",
              "1     Boston  Massachusetts  2.60  3\n",
              "2  Las Vegas         Nevada  1.70  5"
            ]
          },
          "metadata": {
            "tags": []
          },
          "execution_count": 31
        }
      ]
    },
    {
      "cell_type": "code",
      "metadata": {
        "id": "lv8j1aixb5my"
      },
      "source": [
        ""
      ],
      "execution_count": null,
      "outputs": []
    }
  ]
}