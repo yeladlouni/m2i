{
  "nbformat": 4,
  "nbformat_minor": 0,
  "metadata": {
    "colab": {
      "name": "overview.ipynb",
      "provenance": [],
      "collapsed_sections": []
    },
    "kernelspec": {
      "name": "python3",
      "display_name": "Python 3"
    }
  },
  "cells": [
    {
      "cell_type": "markdown",
      "metadata": {
        "id": "w4BmEZPUT068"
      },
      "source": [
        "Pandas contient les structures de données et les outils de manipulation de données conçus afin de rendre le nettoyage et l'analyse de données simples et rapides en Python. Pandas est souvent utilisé en tandem avec les packages numpy et scipy. Les packages analytiques comme statsmodels et scikit-learn et les outils de dataviz comme matplotlib. Pandas est conçu pour analyser les données tabulaires et hétérogènes. Depuis qu'il est devenu un projet open source en 2010, pandas a gagné en maturité et peut être utilisé pour un large éventail de cas d'utilisations.\n",
        "La package pandas peut être importé en utilisant:\n",
        "\n"
      ]
    },
    {
      "cell_type": "code",
      "metadata": {
        "id": "PNtlQFHETb2N"
      },
      "source": [
        "import pandas as pd"
      ],
      "execution_count": null,
      "outputs": []
    },
    {
      "cell_type": "markdown",
      "metadata": {
        "id": "5siWZPE_WCPA"
      },
      "source": [
        "Les structures de données **DataFrame** et **Series** peuvent aussi être importées en utilisant:"
      ]
    },
    {
      "cell_type": "code",
      "metadata": {
        "id": "KCPUDbbxWBsD"
      },
      "source": [
        "from pandas import Series, DataFrame"
      ],
      "execution_count": null,
      "outputs": []
    },
    {
      "cell_type": "markdown",
      "metadata": {
        "id": "BMp5bP22XF8H"
      },
      "source": [
        "# Introduction aux structures de données Pandas\n",
        "\n",
        "Afin de pouvoir travailler avec Pandas, il faut se familiariser avec ses structures de données **Series** et **DataFrame**."
      ]
    },
    {
      "cell_type": "markdown",
      "metadata": {
        "id": "-9yjp77aX3pV"
      },
      "source": [
        "**Series**\n",
        "\n",
        "Une **Series** est un tableau unidimensionnel contenant une séquence de valeurs et un tableau associé des libellés de données appelé **index**.\n",
        "L'objet **Series** le plus simplé est formé à partir d'un tableau de données:"
      ]
    },
    {
      "cell_type": "code",
      "metadata": {
        "id": "UP7VmDguX2Mg"
      },
      "source": [
        "obj = pd.Series([4, 7, -5, 3])"
      ],
      "execution_count": null,
      "outputs": []
    },
    {
      "cell_type": "code",
      "metadata": {
        "id": "GjfddSNjZBur",
        "colab": {
          "base_uri": "https://localhost:8080/"
        },
        "outputId": "2789b05e-b978-415a-9f83-951f434f74f2"
      },
      "source": [
        "obj"
      ],
      "execution_count": null,
      "outputs": [
        {
          "output_type": "execute_result",
          "data": {
            "text/plain": [
              "0    4\n",
              "1    7\n",
              "2   -5\n",
              "3    3\n",
              "dtype: int64"
            ]
          },
          "metadata": {
            "tags": []
          },
          "execution_count": 4
        }
      ]
    },
    {
      "cell_type": "markdown",
      "metadata": {
        "id": "l9CAQ3T3ZIpN"
      },
      "source": [
        "La représentation sous forme de chaîne de caractères de **Series** affiche l'index à gauche et les valeurs à droite. Comme l'index n'a pas été spécifié, un index par défaut composé des nombres de 0 à N-1 (où N est la taille des données) est crée. On peut retrouver la représentation du tableau et celle de l'index en utilisant les attributs **values** et **index**:"
      ]
    },
    {
      "cell_type": "code",
      "metadata": {
        "id": "70jTx3raZCr6",
        "colab": {
          "base_uri": "https://localhost:8080/"
        },
        "outputId": "716a3186-5ed9-4a7d-85c3-ea03b2d892a0"
      },
      "source": [
        "obj.values"
      ],
      "execution_count": null,
      "outputs": [
        {
          "output_type": "execute_result",
          "data": {
            "text/plain": [
              "array([ 4,  7, -5,  3])"
            ]
          },
          "metadata": {
            "tags": []
          },
          "execution_count": 5
        }
      ]
    },
    {
      "cell_type": "code",
      "metadata": {
        "id": "_kgNqFvWaZTF",
        "colab": {
          "base_uri": "https://localhost:8080/"
        },
        "outputId": "c875e403-d569-4c2b-9578-c94a0efc85b9"
      },
      "source": [
        "obj.index"
      ],
      "execution_count": null,
      "outputs": [
        {
          "output_type": "execute_result",
          "data": {
            "text/plain": [
              "RangeIndex(start=0, stop=4, step=1)"
            ]
          },
          "metadata": {
            "tags": []
          },
          "execution_count": 6
        }
      ]
    },
    {
      "cell_type": "markdown",
      "metadata": {
        "id": "pGKzDOt_ahXA"
      },
      "source": [
        "il est souvent préférable de créer Series en spécifiant l'index:"
      ]
    },
    {
      "cell_type": "code",
      "metadata": {
        "id": "xdODECxrabGK"
      },
      "source": [
        "obj2 = pd.Series([4, 7, -5, 2], index=['d', 'b', 'a', 'c'])"
      ],
      "execution_count": null,
      "outputs": []
    },
    {
      "cell_type": "code",
      "metadata": {
        "id": "k59BJDI0aziq",
        "colab": {
          "base_uri": "https://localhost:8080/"
        },
        "outputId": "4ad8c336-5f5a-423e-cb8f-669cb70ae83c"
      },
      "source": [
        "obj2"
      ],
      "execution_count": null,
      "outputs": [
        {
          "output_type": "execute_result",
          "data": {
            "text/plain": [
              "d    4\n",
              "b    7\n",
              "a   -5\n",
              "c    2\n",
              "dtype: int64"
            ]
          },
          "metadata": {
            "tags": []
          },
          "execution_count": 8
        }
      ]
    },
    {
      "cell_type": "code",
      "metadata": {
        "id": "3XPXM92Qa0HK",
        "colab": {
          "base_uri": "https://localhost:8080/"
        },
        "outputId": "55c9c6f5-4b1c-45ae-9355-a3f35bc58562"
      },
      "source": [
        "obj2.index"
      ],
      "execution_count": null,
      "outputs": [
        {
          "output_type": "execute_result",
          "data": {
            "text/plain": [
              "Index(['d', 'b', 'a', 'c'], dtype='object')"
            ]
          },
          "metadata": {
            "tags": []
          },
          "execution_count": 9
        }
      ]
    },
    {
      "cell_type": "markdown",
      "metadata": {
        "id": "Z52mIfI-a9rf"
      },
      "source": [
        "On peut utiliser l'index pour accéder aux différentes valeurs:"
      ]
    },
    {
      "cell_type": "code",
      "metadata": {
        "id": "a9hKU8VCa23L",
        "colab": {
          "base_uri": "https://localhost:8080/"
        },
        "outputId": "0cb074aa-1f3f-448b-d04b-03bf76e24d06"
      },
      "source": [
        "obj2['a']"
      ],
      "execution_count": null,
      "outputs": [
        {
          "output_type": "execute_result",
          "data": {
            "text/plain": [
              "-5"
            ]
          },
          "metadata": {
            "tags": []
          },
          "execution_count": 11
        }
      ]
    },
    {
      "cell_type": "code",
      "metadata": {
        "id": "rQw29-lKbERC",
        "colab": {
          "base_uri": "https://localhost:8080/"
        },
        "outputId": "e9bdcce8-c548-4ad6-d552-bd115333efe9"
      },
      "source": [
        "obj2['d']"
      ],
      "execution_count": null,
      "outputs": [
        {
          "output_type": "execute_result",
          "data": {
            "text/plain": [
              "4"
            ]
          },
          "metadata": {
            "tags": []
          },
          "execution_count": 12
        }
      ]
    },
    {
      "cell_type": "code",
      "metadata": {
        "id": "vnEuqH3tbI26",
        "colab": {
          "base_uri": "https://localhost:8080/"
        },
        "outputId": "0600e7ba-070b-4d48-e145-422f7d900682"
      },
      "source": [
        "obj2[['c', 'a', 'd']]"
      ],
      "execution_count": null,
      "outputs": [
        {
          "output_type": "execute_result",
          "data": {
            "text/plain": [
              "c    2\n",
              "a   -5\n",
              "d    4\n",
              "dtype: int64"
            ]
          },
          "metadata": {
            "tags": []
          },
          "execution_count": 13
        }
      ]
    },
    {
      "cell_type": "markdown",
      "metadata": {
        "id": "WWpZJSctbOGW"
      },
      "source": [
        "['c', 'a', 'd'] est interprété comme étant la liste des indices même s'elle contient des strings au lieu des nombres.\n",
        "L'utilisation des fonctions et les opérations telles que les filtres permet de préserver le lien avec la valeur d'index."
      ]
    },
    {
      "cell_type": "code",
      "metadata": {
        "id": "g9B5rpifK1G-",
        "colab": {
          "base_uri": "https://localhost:8080/"
        },
        "outputId": "a47c6a5f-fbb5-4cfa-b562-9bb31c087e75"
      },
      "source": [
        "obj2 > 0"
      ],
      "execution_count": null,
      "outputs": [
        {
          "output_type": "execute_result",
          "data": {
            "text/plain": [
              "d     True\n",
              "b     True\n",
              "a    False\n",
              "c     True\n",
              "dtype: bool"
            ]
          },
          "metadata": {
            "tags": []
          },
          "execution_count": 5
        }
      ]
    },
    {
      "cell_type": "code",
      "metadata": {
        "id": "X85yGZAFbMMC",
        "colab": {
          "base_uri": "https://localhost:8080/"
        },
        "outputId": "f788a310-9dae-4c18-8d7f-068f9d80c6a9"
      },
      "source": [
        "obj2[obj2 > 0]"
      ],
      "execution_count": null,
      "outputs": [
        {
          "output_type": "execute_result",
          "data": {
            "text/plain": [
              "d    4\n",
              "b    7\n",
              "c    2\n",
              "dtype: int64"
            ]
          },
          "metadata": {
            "tags": []
          },
          "execution_count": 14
        }
      ]
    },
    {
      "cell_type": "code",
      "metadata": {
        "id": "xc7-7UJ6b2QC",
        "colab": {
          "base_uri": "https://localhost:8080/"
        },
        "outputId": "b560210f-3049-47a6-e79c-f5d843e4fafd"
      },
      "source": [
        "obj2 * 2"
      ],
      "execution_count": null,
      "outputs": [
        {
          "output_type": "execute_result",
          "data": {
            "text/plain": [
              "d     8\n",
              "b    14\n",
              "a   -10\n",
              "c     4\n",
              "dtype: int64"
            ]
          },
          "metadata": {
            "tags": []
          },
          "execution_count": 15
        }
      ]
    },
    {
      "cell_type": "code",
      "metadata": {
        "id": "zsQqL10Tb-V-"
      },
      "source": [
        "import numpy as np"
      ],
      "execution_count": null,
      "outputs": []
    },
    {
      "cell_type": "code",
      "metadata": {
        "id": "_3aIrh-Kb42y",
        "colab": {
          "base_uri": "https://localhost:8080/"
        },
        "outputId": "d56dabda-2e05-4390-9a1d-f5a32d6a9c82"
      },
      "source": [
        "np.exp(obj2)"
      ],
      "execution_count": null,
      "outputs": [
        {
          "output_type": "execute_result",
          "data": {
            "text/plain": [
              "d      54.598150\n",
              "b    1096.633158\n",
              "a       0.006738\n",
              "c       7.389056\n",
              "dtype: float64"
            ]
          },
          "metadata": {
            "tags": []
          },
          "execution_count": 18
        }
      ]
    },
    {
      "cell_type": "markdown",
      "metadata": {
        "id": "yZT_QaVgcFSI"
      },
      "source": [
        "Les **Series** peuvent aussi être utilisés comme des dictionnaires ordonnés puisqu'ils mappent un index à une valeur:"
      ]
    },
    {
      "cell_type": "code",
      "metadata": {
        "id": "QFZDxk69b9CC",
        "colab": {
          "base_uri": "https://localhost:8080/"
        },
        "outputId": "2d04625f-2d90-42e8-b162-4ec6cc9e2d85"
      },
      "source": [
        "'b' in obj2"
      ],
      "execution_count": null,
      "outputs": [
        {
          "output_type": "execute_result",
          "data": {
            "text/plain": [
              "True"
            ]
          },
          "metadata": {
            "tags": []
          },
          "execution_count": 19
        }
      ]
    },
    {
      "cell_type": "code",
      "metadata": {
        "id": "lMoRrqaYci0R",
        "colab": {
          "base_uri": "https://localhost:8080/"
        },
        "outputId": "73bf2619-21ad-4651-dd7e-f3c6af3eb97a"
      },
      "source": [
        "'e' in obj2"
      ],
      "execution_count": null,
      "outputs": [
        {
          "output_type": "execute_result",
          "data": {
            "text/plain": [
              "False"
            ]
          },
          "metadata": {
            "tags": []
          },
          "execution_count": 20
        }
      ]
    },
    {
      "cell_type": "markdown",
      "metadata": {
        "id": "9xaud5Lxcowi"
      },
      "source": [
        "On peut créer un objet **Series** à partir d'un dictionnaire:"
      ]
    },
    {
      "cell_type": "code",
      "metadata": {
        "id": "qKnldYlYMRp2"
      },
      "source": [
        "import numpy as np"
      ],
      "execution_count": null,
      "outputs": []
    },
    {
      "cell_type": "code",
      "metadata": {
        "id": "iHUn-6j7cmSa"
      },
      "source": [
        "sdata = {'Ohio': 35000, 'Texas': 71000, 'Oregon': 16000, 'Utah': 5000, 'Boston': np.nan}"
      ],
      "execution_count": null,
      "outputs": []
    },
    {
      "cell_type": "code",
      "metadata": {
        "id": "OiTn9yJzc8Qa"
      },
      "source": [
        "obj3 = pd.Series(sdata)"
      ],
      "execution_count": null,
      "outputs": []
    },
    {
      "cell_type": "code",
      "metadata": {
        "id": "3TXp0GOhdAbK",
        "colab": {
          "base_uri": "https://localhost:8080/"
        },
        "outputId": "2f85365a-9eef-460d-b983-a635535b8f2c"
      },
      "source": [
        "obj3"
      ],
      "execution_count": null,
      "outputs": [
        {
          "output_type": "execute_result",
          "data": {
            "text/plain": [
              "Ohio      35000.0\n",
              "Texas     71000.0\n",
              "Oregon    16000.0\n",
              "Utah       5000.0\n",
              "Boston        NaN\n",
              "dtype: float64"
            ]
          },
          "metadata": {
            "tags": []
          },
          "execution_count": 8
        }
      ]
    },
    {
      "cell_type": "markdown",
      "metadata": {
        "id": "QuZFFK04dzOu"
      },
      "source": [
        "Quand on passe un dictionnaire, l'index est obtenu à partir des clés triés du dictionnaire. On peut modifier ce comportement en passant les clés dans l'ordre spécifié."
      ]
    },
    {
      "cell_type": "code",
      "metadata": {
        "id": "5xFqzp8sdBp6"
      },
      "source": [
        "states = ['California', 'Ohio', 'Oregon', 'Texas']"
      ],
      "execution_count": null,
      "outputs": []
    },
    {
      "cell_type": "code",
      "metadata": {
        "id": "RPdCck3zfJse"
      },
      "source": [
        "obj4 = pd.Series(sdata, index=states)"
      ],
      "execution_count": null,
      "outputs": []
    },
    {
      "cell_type": "code",
      "metadata": {
        "id": "2u-K78f6fOQb",
        "colab": {
          "base_uri": "https://localhost:8080/"
        },
        "outputId": "c094da9d-3ad0-49bb-a4a6-6183f355ec89"
      },
      "source": [
        "obj4"
      ],
      "execution_count": null,
      "outputs": [
        {
          "output_type": "execute_result",
          "data": {
            "text/plain": [
              "California        NaN\n",
              "Ohio          35000.0\n",
              "Oregon        16000.0\n",
              "Texas         71000.0\n",
              "dtype: float64"
            ]
          },
          "metadata": {
            "tags": []
          },
          "execution_count": 26
        }
      ]
    },
    {
      "cell_type": "markdown",
      "metadata": {
        "id": "_S0sUuRmfoMY"
      },
      "source": [
        "Les valeurs ont été placées dans l'ordre précisé. Comme aucune valeur n'a été spécifiée pour 'California', la valeur NaN \"not a number\" est attribuée qui correspond à une valeur manquante pour Pandas. Les fonctions isnull et notnull sont des fonctions Pandas qui permettent de détecter les valeurs manquantes."
      ]
    },
    {
      "cell_type": "code",
      "metadata": {
        "id": "Rn00eUKUfO7N",
        "colab": {
          "base_uri": "https://localhost:8080/"
        },
        "outputId": "12989c9e-5261-43cd-c1d6-3f2c378efdc7"
      },
      "source": [
        "pd.isnull(obj4)"
      ],
      "execution_count": null,
      "outputs": [
        {
          "output_type": "execute_result",
          "data": {
            "text/plain": [
              "California     True\n",
              "Ohio          False\n",
              "Oregon        False\n",
              "Texas         False\n",
              "dtype: bool"
            ]
          },
          "metadata": {
            "tags": []
          },
          "execution_count": 27
        }
      ]
    },
    {
      "cell_type": "code",
      "metadata": {
        "id": "nKJCCUCigVyD",
        "colab": {
          "base_uri": "https://localhost:8080/"
        },
        "outputId": "0e347f99-6926-491a-9885-655ba7225fb4"
      },
      "source": [
        "pd.notnull(obj4)"
      ],
      "execution_count": null,
      "outputs": [
        {
          "output_type": "execute_result",
          "data": {
            "text/plain": [
              "California    False\n",
              "Ohio           True\n",
              "Oregon         True\n",
              "Texas          True\n",
              "dtype: bool"
            ]
          },
          "metadata": {
            "tags": []
          },
          "execution_count": 28
        }
      ]
    },
    {
      "cell_type": "markdown",
      "metadata": {
        "id": "t3ItB4vxgdsb"
      },
      "source": [
        "Les séries ont également ces méthodes:"
      ]
    },
    {
      "cell_type": "code",
      "metadata": {
        "id": "tEJr4lqZgZIM",
        "colab": {
          "base_uri": "https://localhost:8080/"
        },
        "outputId": "72d63452-ab42-4512-c5af-bc504fc5d0dc"
      },
      "source": [
        "obj4.isnull()"
      ],
      "execution_count": null,
      "outputs": [
        {
          "output_type": "execute_result",
          "data": {
            "text/plain": [
              "California     True\n",
              "Ohio          False\n",
              "Oregon        False\n",
              "Texas         False\n",
              "dtype: bool"
            ]
          },
          "metadata": {
            "tags": []
          },
          "execution_count": 29
        }
      ]
    },
    {
      "cell_type": "markdown",
      "metadata": {
        "id": "ayxet-QUgspc"
      },
      "source": [
        "Une caractéristique des **Series** est leur capacité de s'aligner par index pour les opérations arithmétiques:"
      ]
    },
    {
      "cell_type": "code",
      "metadata": {
        "id": "hAEpCeK6gjNz",
        "colab": {
          "base_uri": "https://localhost:8080/"
        },
        "outputId": "12b9b211-21eb-4ab9-b5e3-93f3d4705614"
      },
      "source": [
        "obj3"
      ],
      "execution_count": null,
      "outputs": [
        {
          "output_type": "execute_result",
          "data": {
            "text/plain": [
              "Ohio      35000\n",
              "Texas     71000\n",
              "Oregon    16000\n",
              "Utah       5000\n",
              "dtype: int64"
            ]
          },
          "metadata": {
            "tags": []
          },
          "execution_count": 30
        }
      ]
    },
    {
      "cell_type": "code",
      "metadata": {
        "id": "9d9PRpl2g3Cr",
        "colab": {
          "base_uri": "https://localhost:8080/"
        },
        "outputId": "0c5dbba4-6a78-4f4d-f41d-7e2fa997050c"
      },
      "source": [
        "obj4"
      ],
      "execution_count": null,
      "outputs": [
        {
          "output_type": "execute_result",
          "data": {
            "text/plain": [
              "California        NaN\n",
              "Ohio          35000.0\n",
              "Oregon        16000.0\n",
              "Texas         71000.0\n",
              "dtype: float64"
            ]
          },
          "metadata": {
            "tags": []
          },
          "execution_count": 31
        }
      ]
    },
    {
      "cell_type": "code",
      "metadata": {
        "id": "uR8TF6mlg4_j",
        "colab": {
          "base_uri": "https://localhost:8080/"
        },
        "outputId": "c09a8470-ffe7-46e2-9c20-ee0a593bb9f7"
      },
      "source": [
        "obj3 + obj4"
      ],
      "execution_count": null,
      "outputs": [
        {
          "output_type": "execute_result",
          "data": {
            "text/plain": [
              "California         NaN\n",
              "Ohio           70000.0\n",
              "Oregon         32000.0\n",
              "Texas         142000.0\n",
              "Utah               NaN\n",
              "dtype: float64"
            ]
          },
          "metadata": {
            "tags": []
          },
          "execution_count": 32
        }
      ]
    },
    {
      "cell_type": "markdown",
      "metadata": {
        "id": "uoZmJKa8hOqS"
      },
      "source": [
        "**Series** et l'index possèdent l'attribut **name**:"
      ]
    },
    {
      "cell_type": "code",
      "metadata": {
        "id": "2KjwUcB2g8Cz"
      },
      "source": [
        "obj4.name = 'population'"
      ],
      "execution_count": null,
      "outputs": []
    },
    {
      "cell_type": "code",
      "metadata": {
        "id": "H_Bp8ByihgEc"
      },
      "source": [
        "obj4.index.name = 'state'"
      ],
      "execution_count": null,
      "outputs": []
    },
    {
      "cell_type": "code",
      "metadata": {
        "id": "5URHq_VohjZk",
        "colab": {
          "base_uri": "https://localhost:8080/"
        },
        "outputId": "f668f37e-d082-408e-a74a-7191f2e6eb4a"
      },
      "source": [
        "obj4"
      ],
      "execution_count": null,
      "outputs": [
        {
          "output_type": "execute_result",
          "data": {
            "text/plain": [
              "state\n",
              "California        NaN\n",
              "Ohio          35000.0\n",
              "Oregon        16000.0\n",
              "Texas         71000.0\n",
              "Name: population, dtype: float64"
            ]
          },
          "metadata": {
            "tags": []
          },
          "execution_count": 35
        }
      ]
    },
    {
      "cell_type": "markdown",
      "metadata": {
        "id": "Ny5MJS7Qhwyd"
      },
      "source": [
        "L'index peut être modifié en utilisant l'affectation:"
      ]
    },
    {
      "cell_type": "code",
      "metadata": {
        "id": "Fa62tklXhlWL",
        "colab": {
          "base_uri": "https://localhost:8080/"
        },
        "outputId": "bb3e3b49-e1f6-4f17-e410-be1d18fa4f51"
      },
      "source": [
        "obj"
      ],
      "execution_count": null,
      "outputs": [
        {
          "output_type": "execute_result",
          "data": {
            "text/plain": [
              "0    4\n",
              "1    7\n",
              "2   -5\n",
              "3    3\n",
              "dtype: int64"
            ]
          },
          "metadata": {
            "tags": []
          },
          "execution_count": 36
        }
      ]
    },
    {
      "cell_type": "code",
      "metadata": {
        "id": "ynmmgIhdh3dr"
      },
      "source": [
        "obj.index = ['Bob', 'Steve', 'Jeff', 'Ryan']"
      ],
      "execution_count": null,
      "outputs": []
    },
    {
      "cell_type": "code",
      "metadata": {
        "id": "K2jcbTIjh86D",
        "colab": {
          "base_uri": "https://localhost:8080/"
        },
        "outputId": "fd612c6c-8ddb-4285-b526-a3d28c2aa041"
      },
      "source": [
        "obj"
      ],
      "execution_count": null,
      "outputs": [
        {
          "output_type": "execute_result",
          "data": {
            "text/plain": [
              "Bob      4\n",
              "Steve    7\n",
              "Jeff    -5\n",
              "Ryan     3\n",
              "dtype: int64"
            ]
          },
          "metadata": {
            "tags": []
          },
          "execution_count": 38
        }
      ]
    },
    {
      "cell_type": "markdown",
      "metadata": {
        "id": "oa7IkWQ1iA7a"
      },
      "source": [
        "**DataFrame**\n",
        "\n",
        "Un DataFrame représente une table rectangulaire de données et contient une collection ordonnée de colonnes, chacune avec un type différent (numérique, string, booléen...). Le DataFrame a un index de ligne et un autre pour les colonnes. \n",
        "\n",
        "Il existe plusieurs manières pour la construction d'un DataFrame, la plus commune est à partir d'un dictionnaire de listes de tailles égales."
      ]
    },
    {
      "cell_type": "code",
      "metadata": {
        "id": "hC-vztqjh-EL"
      },
      "source": [
        "data = {'state': ['Ohio', 'Ohio', 'Ohio', 'Nevada', 'Nevada', 'Nevada'],\n",
        "        'year': [2000, 2001, 2002, 2001, 2002, 2003],\n",
        "        'pop': [1.5, 1.7, 3.6, 2.4, 2.9, 3.2]}"
      ],
      "execution_count": null,
      "outputs": []
    },
    {
      "cell_type": "code",
      "metadata": {
        "id": "3PFI-4LZj29E"
      },
      "source": [
        "frame = pd.DataFrame(data)"
      ],
      "execution_count": null,
      "outputs": []
    },
    {
      "cell_type": "markdown",
      "metadata": {
        "id": "bzL3eTqxkFRg"
      },
      "source": [
        "Le DataFrame résultant a l'index assigné automatiquement comme pour les Series et les colonnes sont triées."
      ]
    },
    {
      "cell_type": "code",
      "metadata": {
        "id": "KXRi4Ec5j8xF",
        "colab": {
          "base_uri": "https://localhost:8080/",
          "height": 237
        },
        "outputId": "54f331f2-089c-49e6-e3ba-69620f0f2dbf"
      },
      "source": [
        "frame"
      ],
      "execution_count": null,
      "outputs": [
        {
          "output_type": "execute_result",
          "data": {
            "text/html": [
              "<div>\n",
              "<style scoped>\n",
              "    .dataframe tbody tr th:only-of-type {\n",
              "        vertical-align: middle;\n",
              "    }\n",
              "\n",
              "    .dataframe tbody tr th {\n",
              "        vertical-align: top;\n",
              "    }\n",
              "\n",
              "    .dataframe thead th {\n",
              "        text-align: right;\n",
              "    }\n",
              "</style>\n",
              "<table border=\"1\" class=\"dataframe\">\n",
              "  <thead>\n",
              "    <tr style=\"text-align: right;\">\n",
              "      <th></th>\n",
              "      <th>state</th>\n",
              "      <th>year</th>\n",
              "      <th>pop</th>\n",
              "    </tr>\n",
              "  </thead>\n",
              "  <tbody>\n",
              "    <tr>\n",
              "      <th>0</th>\n",
              "      <td>Ohio</td>\n",
              "      <td>2000</td>\n",
              "      <td>1.5</td>\n",
              "    </tr>\n",
              "    <tr>\n",
              "      <th>1</th>\n",
              "      <td>Ohio</td>\n",
              "      <td>2001</td>\n",
              "      <td>1.7</td>\n",
              "    </tr>\n",
              "    <tr>\n",
              "      <th>2</th>\n",
              "      <td>Ohio</td>\n",
              "      <td>2002</td>\n",
              "      <td>3.6</td>\n",
              "    </tr>\n",
              "    <tr>\n",
              "      <th>3</th>\n",
              "      <td>Nevada</td>\n",
              "      <td>2001</td>\n",
              "      <td>2.4</td>\n",
              "    </tr>\n",
              "    <tr>\n",
              "      <th>4</th>\n",
              "      <td>Nevada</td>\n",
              "      <td>2002</td>\n",
              "      <td>2.9</td>\n",
              "    </tr>\n",
              "    <tr>\n",
              "      <th>5</th>\n",
              "      <td>Nevada</td>\n",
              "      <td>2003</td>\n",
              "      <td>3.2</td>\n",
              "    </tr>\n",
              "  </tbody>\n",
              "</table>\n",
              "</div>"
            ],
            "text/plain": [
              "    state  year  pop\n",
              "0    Ohio  2000  1.5\n",
              "1    Ohio  2001  1.7\n",
              "2    Ohio  2002  3.6\n",
              "3  Nevada  2001  2.4\n",
              "4  Nevada  2002  2.9\n",
              "5  Nevada  2003  3.2"
            ]
          },
          "metadata": {
            "tags": []
          },
          "execution_count": 42
        }
      ]
    },
    {
      "cell_type": "markdown",
      "metadata": {
        "id": "bES06_dhkfKy"
      },
      "source": [
        "Pour les DataFrames larges, la méthode **head** retourne les 5 premières lignes."
      ]
    },
    {
      "cell_type": "code",
      "metadata": {
        "id": "P13Z4JeskaxM",
        "colab": {
          "base_uri": "https://localhost:8080/",
          "height": 205
        },
        "outputId": "b37d20f0-66f2-4e4f-b34a-532ee7430c73"
      },
      "source": [
        "frame.head()"
      ],
      "execution_count": null,
      "outputs": [
        {
          "output_type": "execute_result",
          "data": {
            "text/html": [
              "<div>\n",
              "<style scoped>\n",
              "    .dataframe tbody tr th:only-of-type {\n",
              "        vertical-align: middle;\n",
              "    }\n",
              "\n",
              "    .dataframe tbody tr th {\n",
              "        vertical-align: top;\n",
              "    }\n",
              "\n",
              "    .dataframe thead th {\n",
              "        text-align: right;\n",
              "    }\n",
              "</style>\n",
              "<table border=\"1\" class=\"dataframe\">\n",
              "  <thead>\n",
              "    <tr style=\"text-align: right;\">\n",
              "      <th></th>\n",
              "      <th>state</th>\n",
              "      <th>year</th>\n",
              "      <th>pop</th>\n",
              "    </tr>\n",
              "  </thead>\n",
              "  <tbody>\n",
              "    <tr>\n",
              "      <th>0</th>\n",
              "      <td>Ohio</td>\n",
              "      <td>2000.0</td>\n",
              "      <td>1.5</td>\n",
              "    </tr>\n",
              "    <tr>\n",
              "      <th>1</th>\n",
              "      <td>Ohio</td>\n",
              "      <td>2001.0</td>\n",
              "      <td>1.7</td>\n",
              "    </tr>\n",
              "    <tr>\n",
              "      <th>2</th>\n",
              "      <td>Ohio</td>\n",
              "      <td>2002.0</td>\n",
              "      <td>3.6</td>\n",
              "    </tr>\n",
              "    <tr>\n",
              "      <th>3</th>\n",
              "      <td>Nevada</td>\n",
              "      <td>2001.0</td>\n",
              "      <td>2.4</td>\n",
              "    </tr>\n",
              "    <tr>\n",
              "      <th>4</th>\n",
              "      <td>Nevada</td>\n",
              "      <td>2002.0</td>\n",
              "      <td>2.9</td>\n",
              "    </tr>\n",
              "  </tbody>\n",
              "</table>\n",
              "</div>"
            ],
            "text/plain": [
              "    state    year  pop\n",
              "0    Ohio  2000.0  1.5\n",
              "1    Ohio  2001.0  1.7\n",
              "2    Ohio  2002.0  3.6\n",
              "3  Nevada  2001.0  2.4\n",
              "4  Nevada  2002.0  2.9"
            ]
          },
          "metadata": {
            "tags": []
          },
          "execution_count": 18
        }
      ]
    },
    {
      "cell_type": "markdown",
      "metadata": {
        "id": "WDefZmMqks68"
      },
      "source": [
        "Si une séquence de colonnes est spécifiée, les colonnes du DataFrame seront arrangées selon l'ordre spécifié:"
      ]
    },
    {
      "cell_type": "code",
      "metadata": {
        "id": "XcztGeGjkqRc",
        "colab": {
          "base_uri": "https://localhost:8080/",
          "height": 236
        },
        "outputId": "bed7b3d6-371f-436c-ec78-7b8adabece4e"
      },
      "source": [
        "pd.DataFrame(data, columns=['year', 'state', 'pop'])"
      ],
      "execution_count": null,
      "outputs": [
        {
          "output_type": "execute_result",
          "data": {
            "text/html": [
              "<div>\n",
              "<style scoped>\n",
              "    .dataframe tbody tr th:only-of-type {\n",
              "        vertical-align: middle;\n",
              "    }\n",
              "\n",
              "    .dataframe tbody tr th {\n",
              "        vertical-align: top;\n",
              "    }\n",
              "\n",
              "    .dataframe thead th {\n",
              "        text-align: right;\n",
              "    }\n",
              "</style>\n",
              "<table border=\"1\" class=\"dataframe\">\n",
              "  <thead>\n",
              "    <tr style=\"text-align: right;\">\n",
              "      <th></th>\n",
              "      <th>year</th>\n",
              "      <th>state</th>\n",
              "      <th>pop</th>\n",
              "    </tr>\n",
              "  </thead>\n",
              "  <tbody>\n",
              "    <tr>\n",
              "      <th>0</th>\n",
              "      <td>2000</td>\n",
              "      <td>Ohio</td>\n",
              "      <td>1.5</td>\n",
              "    </tr>\n",
              "    <tr>\n",
              "      <th>1</th>\n",
              "      <td>2001</td>\n",
              "      <td>Ohio</td>\n",
              "      <td>1.7</td>\n",
              "    </tr>\n",
              "    <tr>\n",
              "      <th>2</th>\n",
              "      <td>2002</td>\n",
              "      <td>Ohio</td>\n",
              "      <td>3.6</td>\n",
              "    </tr>\n",
              "    <tr>\n",
              "      <th>3</th>\n",
              "      <td>2001</td>\n",
              "      <td>Nevada</td>\n",
              "      <td>2.4</td>\n",
              "    </tr>\n",
              "    <tr>\n",
              "      <th>4</th>\n",
              "      <td>2002</td>\n",
              "      <td>Nevada</td>\n",
              "      <td>2.9</td>\n",
              "    </tr>\n",
              "    <tr>\n",
              "      <th>5</th>\n",
              "      <td>2003</td>\n",
              "      <td>Nevada</td>\n",
              "      <td>3.2</td>\n",
              "    </tr>\n",
              "  </tbody>\n",
              "</table>\n",
              "</div>"
            ],
            "text/plain": [
              "   year   state  pop\n",
              "0  2000    Ohio  1.5\n",
              "1  2001    Ohio  1.7\n",
              "2  2002    Ohio  3.6\n",
              "3  2001  Nevada  2.4\n",
              "4  2002  Nevada  2.9\n",
              "5  2003  Nevada  3.2"
            ]
          },
          "metadata": {
            "tags": []
          },
          "execution_count": 22
        }
      ]
    },
    {
      "cell_type": "markdown",
      "metadata": {
        "id": "lQMZJuwPlEnD"
      },
      "source": [
        "Si une colonne non contenue dans le dictionnaire est spécifiée, elle va apparaître avec des valeurs manquantes dans le résultat:"
      ]
    },
    {
      "cell_type": "code",
      "metadata": {
        "id": "RFhPjoXFlAmU"
      },
      "source": [
        "frame2 = pd.DataFrame(data, columns=['year', 'state', 'pop', 'debt'], \n",
        "                      index=['one', 'two', 'three', 'four', 'five', 'six'])"
      ],
      "execution_count": null,
      "outputs": []
    },
    {
      "cell_type": "code",
      "metadata": {
        "id": "6cc-15_tldOM",
        "colab": {
          "base_uri": "https://localhost:8080/",
          "height": 237
        },
        "outputId": "ba282129-f02f-4ab7-b8dd-83618cbbc2fe"
      },
      "source": [
        "frame2"
      ],
      "execution_count": null,
      "outputs": [
        {
          "output_type": "execute_result",
          "data": {
            "text/html": [
              "<div>\n",
              "<style scoped>\n",
              "    .dataframe tbody tr th:only-of-type {\n",
              "        vertical-align: middle;\n",
              "    }\n",
              "\n",
              "    .dataframe tbody tr th {\n",
              "        vertical-align: top;\n",
              "    }\n",
              "\n",
              "    .dataframe thead th {\n",
              "        text-align: right;\n",
              "    }\n",
              "</style>\n",
              "<table border=\"1\" class=\"dataframe\">\n",
              "  <thead>\n",
              "    <tr style=\"text-align: right;\">\n",
              "      <th></th>\n",
              "      <th>year</th>\n",
              "      <th>state</th>\n",
              "      <th>pop</th>\n",
              "      <th>debt</th>\n",
              "    </tr>\n",
              "  </thead>\n",
              "  <tbody>\n",
              "    <tr>\n",
              "      <th>one</th>\n",
              "      <td>2000</td>\n",
              "      <td>Ohio</td>\n",
              "      <td>1.5</td>\n",
              "      <td>NaN</td>\n",
              "    </tr>\n",
              "    <tr>\n",
              "      <th>two</th>\n",
              "      <td>2001</td>\n",
              "      <td>Ohio</td>\n",
              "      <td>1.7</td>\n",
              "      <td>NaN</td>\n",
              "    </tr>\n",
              "    <tr>\n",
              "      <th>three</th>\n",
              "      <td>2002</td>\n",
              "      <td>Ohio</td>\n",
              "      <td>3.6</td>\n",
              "      <td>NaN</td>\n",
              "    </tr>\n",
              "    <tr>\n",
              "      <th>four</th>\n",
              "      <td>2001</td>\n",
              "      <td>Nevada</td>\n",
              "      <td>2.4</td>\n",
              "      <td>NaN</td>\n",
              "    </tr>\n",
              "    <tr>\n",
              "      <th>five</th>\n",
              "      <td>2002</td>\n",
              "      <td>Nevada</td>\n",
              "      <td>2.9</td>\n",
              "      <td>NaN</td>\n",
              "    </tr>\n",
              "    <tr>\n",
              "      <th>six</th>\n",
              "      <td>2003</td>\n",
              "      <td>Nevada</td>\n",
              "      <td>3.2</td>\n",
              "      <td>NaN</td>\n",
              "    </tr>\n",
              "  </tbody>\n",
              "</table>\n",
              "</div>"
            ],
            "text/plain": [
              "       year   state  pop debt\n",
              "one    2000    Ohio  1.5  NaN\n",
              "two    2001    Ohio  1.7  NaN\n",
              "three  2002    Ohio  3.6  NaN\n",
              "four   2001  Nevada  2.4  NaN\n",
              "five   2002  Nevada  2.9  NaN\n",
              "six    2003  Nevada  3.2  NaN"
            ]
          },
          "metadata": {
            "tags": []
          },
          "execution_count": 24
        }
      ]
    },
    {
      "cell_type": "code",
      "metadata": {
        "id": "EDAeqCMCPwxd",
        "colab": {
          "base_uri": "https://localhost:8080/"
        },
        "outputId": "8236c7c2-fb87-4f67-f918-bd15b69a53cf"
      },
      "source": [
        "frame2.index"
      ],
      "execution_count": null,
      "outputs": [
        {
          "output_type": "execute_result",
          "data": {
            "text/plain": [
              "Index(['one', 'two', 'three', 'four', 'five', 'six'], dtype='object')"
            ]
          },
          "metadata": {
            "tags": []
          },
          "execution_count": 25
        }
      ]
    },
    {
      "cell_type": "code",
      "metadata": {
        "id": "7fGHEsE2lenJ",
        "colab": {
          "base_uri": "https://localhost:8080/"
        },
        "outputId": "4a1ccd91-08ba-46e6-d2a5-8c6992fcfa8c"
      },
      "source": [
        "frame2.columns"
      ],
      "execution_count": null,
      "outputs": [
        {
          "output_type": "execute_result",
          "data": {
            "text/plain": [
              "Index(['year', 'state', 'pop', 'debt'], dtype='object')"
            ]
          },
          "metadata": {
            "tags": []
          },
          "execution_count": 47
        }
      ]
    },
    {
      "cell_type": "markdown",
      "metadata": {
        "id": "2Cnv6bZXloFA"
      },
      "source": [
        "Une colonne dans un DataFrame peut être retournée comme Series en utilisant la notation dictionnaire ou par attribut:"
      ]
    },
    {
      "cell_type": "code",
      "metadata": {
        "id": "ifxjlY-pljIU",
        "colab": {
          "base_uri": "https://localhost:8080/",
          "height": 237
        },
        "outputId": "3b7bfaa1-d158-419c-cf49-736a58959fac"
      },
      "source": [
        "frame2['state']"
      ],
      "execution_count": null,
      "outputs": [
        {
          "output_type": "execute_result",
          "data": {
            "text/html": [
              "<div>\n",
              "<style scoped>\n",
              "    .dataframe tbody tr th:only-of-type {\n",
              "        vertical-align: middle;\n",
              "    }\n",
              "\n",
              "    .dataframe tbody tr th {\n",
              "        vertical-align: top;\n",
              "    }\n",
              "\n",
              "    .dataframe thead th {\n",
              "        text-align: right;\n",
              "    }\n",
              "</style>\n",
              "<table border=\"1\" class=\"dataframe\">\n",
              "  <thead>\n",
              "    <tr style=\"text-align: right;\">\n",
              "      <th></th>\n",
              "      <th>pop</th>\n",
              "      <th>state</th>\n",
              "    </tr>\n",
              "  </thead>\n",
              "  <tbody>\n",
              "    <tr>\n",
              "      <th>one</th>\n",
              "      <td>1.5</td>\n",
              "      <td>Ohio</td>\n",
              "    </tr>\n",
              "    <tr>\n",
              "      <th>two</th>\n",
              "      <td>1.7</td>\n",
              "      <td>Ohio</td>\n",
              "    </tr>\n",
              "    <tr>\n",
              "      <th>three</th>\n",
              "      <td>3.6</td>\n",
              "      <td>Ohio</td>\n",
              "    </tr>\n",
              "    <tr>\n",
              "      <th>four</th>\n",
              "      <td>2.4</td>\n",
              "      <td>Nevada</td>\n",
              "    </tr>\n",
              "    <tr>\n",
              "      <th>five</th>\n",
              "      <td>2.9</td>\n",
              "      <td>Nevada</td>\n",
              "    </tr>\n",
              "    <tr>\n",
              "      <th>six</th>\n",
              "      <td>3.2</td>\n",
              "      <td>Nevada</td>\n",
              "    </tr>\n",
              "  </tbody>\n",
              "</table>\n",
              "</div>"
            ],
            "text/plain": [
              "       pop   state\n",
              "one    1.5    Ohio\n",
              "two    1.7    Ohio\n",
              "three  3.6    Ohio\n",
              "four   2.4  Nevada\n",
              "five   2.9  Nevada\n",
              "six    3.2  Nevada"
            ]
          },
          "metadata": {
            "tags": []
          },
          "execution_count": 26
        }
      ]
    },
    {
      "cell_type": "code",
      "metadata": {
        "id": "IBVAWP0yl4UE",
        "colab": {
          "base_uri": "https://localhost:8080/"
        },
        "outputId": "d8f30ecf-91bf-4d53-da75-c43a06e8f5a3"
      },
      "source": [
        "frame2.year"
      ],
      "execution_count": null,
      "outputs": [
        {
          "output_type": "execute_result",
          "data": {
            "text/plain": [
              "one        Ohio\n",
              "two        Ohio\n",
              "three      Ohio\n",
              "four     Nevada\n",
              "five     Nevada\n",
              "six      Nevada\n",
              "Name: state, dtype: object"
            ]
          },
          "metadata": {
            "tags": []
          },
          "execution_count": 27
        }
      ]
    },
    {
      "cell_type": "markdown",
      "metadata": {
        "id": "IGxWhMc0mHj8"
      },
      "source": [
        "Les lignes peut aussi être retournées par position ou nom en utilisant l'attribut **loc**:"
      ]
    },
    {
      "cell_type": "code",
      "metadata": {
        "id": "zHHC5UMtRRND",
        "colab": {
          "base_uri": "https://localhost:8080/",
          "height": 112
        },
        "outputId": "925e8880-06b1-4c8c-d935-be9c8e16cf25"
      },
      "source": [
        "frame2.iloc[[0, 2]]"
      ],
      "execution_count": null,
      "outputs": [
        {
          "output_type": "execute_result",
          "data": {
            "text/html": [
              "<div>\n",
              "<style scoped>\n",
              "    .dataframe tbody tr th:only-of-type {\n",
              "        vertical-align: middle;\n",
              "    }\n",
              "\n",
              "    .dataframe tbody tr th {\n",
              "        vertical-align: top;\n",
              "    }\n",
              "\n",
              "    .dataframe thead th {\n",
              "        text-align: right;\n",
              "    }\n",
              "</style>\n",
              "<table border=\"1\" class=\"dataframe\">\n",
              "  <thead>\n",
              "    <tr style=\"text-align: right;\">\n",
              "      <th></th>\n",
              "      <th>year</th>\n",
              "      <th>state</th>\n",
              "      <th>pop</th>\n",
              "      <th>debt</th>\n",
              "    </tr>\n",
              "  </thead>\n",
              "  <tbody>\n",
              "    <tr>\n",
              "      <th>one</th>\n",
              "      <td>2000</td>\n",
              "      <td>Ohio</td>\n",
              "      <td>1.5</td>\n",
              "      <td>NaN</td>\n",
              "    </tr>\n",
              "    <tr>\n",
              "      <th>three</th>\n",
              "      <td>2002</td>\n",
              "      <td>Ohio</td>\n",
              "      <td>3.6</td>\n",
              "      <td>NaN</td>\n",
              "    </tr>\n",
              "  </tbody>\n",
              "</table>\n",
              "</div>"
            ],
            "text/plain": [
              "       year state  pop debt\n",
              "one    2000  Ohio  1.5  NaN\n",
              "three  2002  Ohio  3.6  NaN"
            ]
          },
          "metadata": {
            "tags": []
          },
          "execution_count": 29
        }
      ]
    },
    {
      "cell_type": "code",
      "metadata": {
        "id": "mP1aeSVXl9HM",
        "colab": {
          "base_uri": "https://localhost:8080/"
        },
        "outputId": "705af5ea-c2a7-46f8-b56d-7c4fe81f3c76"
      },
      "source": [
        "frame2.loc['three']"
      ],
      "execution_count": null,
      "outputs": [
        {
          "output_type": "execute_result",
          "data": {
            "text/plain": [
              "year     2002\n",
              "state    Ohio\n",
              "pop       3.6\n",
              "debt      NaN\n",
              "Name: three, dtype: object"
            ]
          },
          "metadata": {
            "tags": []
          },
          "execution_count": 50
        }
      ]
    },
    {
      "cell_type": "markdown",
      "metadata": {
        "id": "d7lbcTSNmV4y"
      },
      "source": [
        "Les colonnes peuvent être modifiées par affectation. Par exemple la colonne vide 'debt' peut être affectée en utilisant un scalaire ou un tableau de valeurs:"
      ]
    },
    {
      "cell_type": "code",
      "metadata": {
        "id": "nUHHgX4emTQ8"
      },
      "source": [
        "frame2['debt'] = 16.5"
      ],
      "execution_count": null,
      "outputs": []
    },
    {
      "cell_type": "code",
      "metadata": {
        "id": "pjTtF7jQmqMM",
        "colab": {
          "base_uri": "https://localhost:8080/",
          "height": 237
        },
        "outputId": "075e90e2-f9f4-42f3-c29b-95ce15340492"
      },
      "source": [
        "frame2"
      ],
      "execution_count": null,
      "outputs": [
        {
          "output_type": "execute_result",
          "data": {
            "text/html": [
              "<div>\n",
              "<style scoped>\n",
              "    .dataframe tbody tr th:only-of-type {\n",
              "        vertical-align: middle;\n",
              "    }\n",
              "\n",
              "    .dataframe tbody tr th {\n",
              "        vertical-align: top;\n",
              "    }\n",
              "\n",
              "    .dataframe thead th {\n",
              "        text-align: right;\n",
              "    }\n",
              "</style>\n",
              "<table border=\"1\" class=\"dataframe\">\n",
              "  <thead>\n",
              "    <tr style=\"text-align: right;\">\n",
              "      <th></th>\n",
              "      <th>year</th>\n",
              "      <th>state</th>\n",
              "      <th>pop</th>\n",
              "      <th>debt</th>\n",
              "    </tr>\n",
              "  </thead>\n",
              "  <tbody>\n",
              "    <tr>\n",
              "      <th>one</th>\n",
              "      <td>2000</td>\n",
              "      <td>Ohio</td>\n",
              "      <td>1.5</td>\n",
              "      <td>16.5</td>\n",
              "    </tr>\n",
              "    <tr>\n",
              "      <th>two</th>\n",
              "      <td>2001</td>\n",
              "      <td>Ohio</td>\n",
              "      <td>1.7</td>\n",
              "      <td>16.5</td>\n",
              "    </tr>\n",
              "    <tr>\n",
              "      <th>three</th>\n",
              "      <td>2002</td>\n",
              "      <td>Ohio</td>\n",
              "      <td>3.6</td>\n",
              "      <td>16.5</td>\n",
              "    </tr>\n",
              "    <tr>\n",
              "      <th>four</th>\n",
              "      <td>2001</td>\n",
              "      <td>Nevada</td>\n",
              "      <td>2.4</td>\n",
              "      <td>16.5</td>\n",
              "    </tr>\n",
              "    <tr>\n",
              "      <th>five</th>\n",
              "      <td>2002</td>\n",
              "      <td>Nevada</td>\n",
              "      <td>2.9</td>\n",
              "      <td>16.5</td>\n",
              "    </tr>\n",
              "    <tr>\n",
              "      <th>six</th>\n",
              "      <td>2003</td>\n",
              "      <td>Nevada</td>\n",
              "      <td>3.2</td>\n",
              "      <td>16.5</td>\n",
              "    </tr>\n",
              "  </tbody>\n",
              "</table>\n",
              "</div>"
            ],
            "text/plain": [
              "       year   state  pop  debt\n",
              "one    2000    Ohio  1.5  16.5\n",
              "two    2001    Ohio  1.7  16.5\n",
              "three  2002    Ohio  3.6  16.5\n",
              "four   2001  Nevada  2.4  16.5\n",
              "five   2002  Nevada  2.9  16.5\n",
              "six    2003  Nevada  3.2  16.5"
            ]
          },
          "metadata": {
            "tags": []
          },
          "execution_count": 52
        }
      ]
    },
    {
      "cell_type": "code",
      "metadata": {
        "id": "cRV3cMNWmqs8"
      },
      "source": [
        "frame2['debt'] = np.arange(6.)"
      ],
      "execution_count": null,
      "outputs": []
    },
    {
      "cell_type": "code",
      "metadata": {
        "id": "LnzqQAKemz1A",
        "colab": {
          "base_uri": "https://localhost:8080/",
          "height": 236
        },
        "outputId": "cd276e92-3332-4984-efdf-d367f3a4fa1a"
      },
      "source": [
        "frame2"
      ],
      "execution_count": null,
      "outputs": [
        {
          "output_type": "execute_result",
          "data": {
            "text/html": [
              "<div>\n",
              "<style scoped>\n",
              "    .dataframe tbody tr th:only-of-type {\n",
              "        vertical-align: middle;\n",
              "    }\n",
              "\n",
              "    .dataframe tbody tr th {\n",
              "        vertical-align: top;\n",
              "    }\n",
              "\n",
              "    .dataframe thead th {\n",
              "        text-align: right;\n",
              "    }\n",
              "</style>\n",
              "<table border=\"1\" class=\"dataframe\">\n",
              "  <thead>\n",
              "    <tr style=\"text-align: right;\">\n",
              "      <th></th>\n",
              "      <th>year</th>\n",
              "      <th>state</th>\n",
              "      <th>pop</th>\n",
              "      <th>debt</th>\n",
              "    </tr>\n",
              "  </thead>\n",
              "  <tbody>\n",
              "    <tr>\n",
              "      <th>one</th>\n",
              "      <td>2000</td>\n",
              "      <td>Ohio</td>\n",
              "      <td>1.5</td>\n",
              "      <td>0.0</td>\n",
              "    </tr>\n",
              "    <tr>\n",
              "      <th>two</th>\n",
              "      <td>2001</td>\n",
              "      <td>Ohio</td>\n",
              "      <td>1.7</td>\n",
              "      <td>1.0</td>\n",
              "    </tr>\n",
              "    <tr>\n",
              "      <th>three</th>\n",
              "      <td>2002</td>\n",
              "      <td>Ohio</td>\n",
              "      <td>3.6</td>\n",
              "      <td>2.0</td>\n",
              "    </tr>\n",
              "    <tr>\n",
              "      <th>four</th>\n",
              "      <td>2001</td>\n",
              "      <td>Nevada</td>\n",
              "      <td>2.4</td>\n",
              "      <td>3.0</td>\n",
              "    </tr>\n",
              "    <tr>\n",
              "      <th>five</th>\n",
              "      <td>2002</td>\n",
              "      <td>Nevada</td>\n",
              "      <td>2.9</td>\n",
              "      <td>4.0</td>\n",
              "    </tr>\n",
              "    <tr>\n",
              "      <th>six</th>\n",
              "      <td>2003</td>\n",
              "      <td>Nevada</td>\n",
              "      <td>3.2</td>\n",
              "      <td>5.0</td>\n",
              "    </tr>\n",
              "  </tbody>\n",
              "</table>\n",
              "</div>"
            ],
            "text/plain": [
              "       year   state  pop  debt\n",
              "one    2000    Ohio  1.5   0.0\n",
              "two    2001    Ohio  1.7   1.0\n",
              "three  2002    Ohio  3.6   2.0\n",
              "four   2001  Nevada  2.4   3.0\n",
              "five   2002  Nevada  2.9   4.0\n",
              "six    2003  Nevada  3.2   5.0"
            ]
          },
          "metadata": {
            "tags": []
          },
          "execution_count": 33
        }
      ]
    },
    {
      "cell_type": "markdown",
      "metadata": {
        "id": "6RX_Ubwgnvdq"
      },
      "source": [
        "Quand on affecte une liste ou un tableau à une colonne, la longueur des valeurs doit correspondre à la longeur du DataFrame. Si une Series est affectée, ses libellés seront alignées à l'index du DataFrame en insérant les valeurs manquantes dans les trous."
      ]
    },
    {
      "cell_type": "code",
      "metadata": {
        "id": "ZPfvOiGBm1Ex"
      },
      "source": [
        "val = pd.Series([-1.2, -1.5, -1.7], index=['two', 'four', 'five'])"
      ],
      "execution_count": null,
      "outputs": []
    },
    {
      "cell_type": "code",
      "metadata": {
        "id": "_6BVZDb2ocvE"
      },
      "source": [
        "frame2['debt'] = val"
      ],
      "execution_count": null,
      "outputs": []
    },
    {
      "cell_type": "code",
      "metadata": {
        "id": "sI30qCynoi3d",
        "colab": {
          "base_uri": "https://localhost:8080/",
          "height": 237
        },
        "outputId": "6bd8ff89-4249-4593-b01a-21dfd1b02f95"
      },
      "source": [
        "frame2"
      ],
      "execution_count": null,
      "outputs": [
        {
          "output_type": "execute_result",
          "data": {
            "text/html": [
              "<div>\n",
              "<style scoped>\n",
              "    .dataframe tbody tr th:only-of-type {\n",
              "        vertical-align: middle;\n",
              "    }\n",
              "\n",
              "    .dataframe tbody tr th {\n",
              "        vertical-align: top;\n",
              "    }\n",
              "\n",
              "    .dataframe thead th {\n",
              "        text-align: right;\n",
              "    }\n",
              "</style>\n",
              "<table border=\"1\" class=\"dataframe\">\n",
              "  <thead>\n",
              "    <tr style=\"text-align: right;\">\n",
              "      <th></th>\n",
              "      <th>year</th>\n",
              "      <th>state</th>\n",
              "      <th>pop</th>\n",
              "      <th>debt</th>\n",
              "    </tr>\n",
              "  </thead>\n",
              "  <tbody>\n",
              "    <tr>\n",
              "      <th>one</th>\n",
              "      <td>2000</td>\n",
              "      <td>Ohio</td>\n",
              "      <td>1.5</td>\n",
              "      <td>NaN</td>\n",
              "    </tr>\n",
              "    <tr>\n",
              "      <th>two</th>\n",
              "      <td>2001</td>\n",
              "      <td>Ohio</td>\n",
              "      <td>1.7</td>\n",
              "      <td>-1.2</td>\n",
              "    </tr>\n",
              "    <tr>\n",
              "      <th>three</th>\n",
              "      <td>2002</td>\n",
              "      <td>Ohio</td>\n",
              "      <td>3.6</td>\n",
              "      <td>NaN</td>\n",
              "    </tr>\n",
              "    <tr>\n",
              "      <th>four</th>\n",
              "      <td>2001</td>\n",
              "      <td>Nevada</td>\n",
              "      <td>2.4</td>\n",
              "      <td>-1.5</td>\n",
              "    </tr>\n",
              "    <tr>\n",
              "      <th>five</th>\n",
              "      <td>2002</td>\n",
              "      <td>Nevada</td>\n",
              "      <td>2.9</td>\n",
              "      <td>-1.7</td>\n",
              "    </tr>\n",
              "    <tr>\n",
              "      <th>six</th>\n",
              "      <td>2003</td>\n",
              "      <td>Nevada</td>\n",
              "      <td>3.2</td>\n",
              "      <td>NaN</td>\n",
              "    </tr>\n",
              "  </tbody>\n",
              "</table>\n",
              "</div>"
            ],
            "text/plain": [
              "       year   state  pop  debt\n",
              "one    2000    Ohio  1.5   NaN\n",
              "two    2001    Ohio  1.7  -1.2\n",
              "three  2002    Ohio  3.6   NaN\n",
              "four   2001  Nevada  2.4  -1.5\n",
              "five   2002  Nevada  2.9  -1.7\n",
              "six    2003  Nevada  3.2   NaN"
            ]
          },
          "metadata": {
            "tags": []
          },
          "execution_count": 57
        }
      ]
    },
    {
      "cell_type": "markdown",
      "metadata": {
        "id": "BTe2v5U3orAX"
      },
      "source": [
        "L'affectation d'une colonne non-existante permet de créer une nouvelle colonne. Le mot clé **del** supprime des colonnes comme pour les dictionnaires."
      ]
    },
    {
      "cell_type": "code",
      "metadata": {
        "id": "HO0vBo3gojqt"
      },
      "source": [
        "frame2['eastern'] = frame2.state == 'Ohio'"
      ],
      "execution_count": null,
      "outputs": []
    },
    {
      "cell_type": "code",
      "metadata": {
        "id": "L-X2OWTopD4t",
        "colab": {
          "base_uri": "https://localhost:8080/",
          "height": 237
        },
        "outputId": "2a459d73-9030-4ee5-e994-ba83cc40f75b"
      },
      "source": [
        "frame2"
      ],
      "execution_count": null,
      "outputs": [
        {
          "output_type": "execute_result",
          "data": {
            "text/html": [
              "<div>\n",
              "<style scoped>\n",
              "    .dataframe tbody tr th:only-of-type {\n",
              "        vertical-align: middle;\n",
              "    }\n",
              "\n",
              "    .dataframe tbody tr th {\n",
              "        vertical-align: top;\n",
              "    }\n",
              "\n",
              "    .dataframe thead th {\n",
              "        text-align: right;\n",
              "    }\n",
              "</style>\n",
              "<table border=\"1\" class=\"dataframe\">\n",
              "  <thead>\n",
              "    <tr style=\"text-align: right;\">\n",
              "      <th></th>\n",
              "      <th>year</th>\n",
              "      <th>state</th>\n",
              "      <th>pop</th>\n",
              "      <th>debt</th>\n",
              "      <th>eastern</th>\n",
              "    </tr>\n",
              "  </thead>\n",
              "  <tbody>\n",
              "    <tr>\n",
              "      <th>one</th>\n",
              "      <td>2000</td>\n",
              "      <td>Ohio</td>\n",
              "      <td>1.5</td>\n",
              "      <td>NaN</td>\n",
              "      <td>True</td>\n",
              "    </tr>\n",
              "    <tr>\n",
              "      <th>two</th>\n",
              "      <td>2001</td>\n",
              "      <td>Ohio</td>\n",
              "      <td>1.7</td>\n",
              "      <td>-1.2</td>\n",
              "      <td>True</td>\n",
              "    </tr>\n",
              "    <tr>\n",
              "      <th>three</th>\n",
              "      <td>2002</td>\n",
              "      <td>Ohio</td>\n",
              "      <td>3.6</td>\n",
              "      <td>NaN</td>\n",
              "      <td>True</td>\n",
              "    </tr>\n",
              "    <tr>\n",
              "      <th>four</th>\n",
              "      <td>2001</td>\n",
              "      <td>Nevada</td>\n",
              "      <td>2.4</td>\n",
              "      <td>-1.5</td>\n",
              "      <td>False</td>\n",
              "    </tr>\n",
              "    <tr>\n",
              "      <th>five</th>\n",
              "      <td>2002</td>\n",
              "      <td>Nevada</td>\n",
              "      <td>2.9</td>\n",
              "      <td>-1.7</td>\n",
              "      <td>False</td>\n",
              "    </tr>\n",
              "    <tr>\n",
              "      <th>six</th>\n",
              "      <td>2003</td>\n",
              "      <td>Nevada</td>\n",
              "      <td>3.2</td>\n",
              "      <td>NaN</td>\n",
              "      <td>False</td>\n",
              "    </tr>\n",
              "  </tbody>\n",
              "</table>\n",
              "</div>"
            ],
            "text/plain": [
              "       year   state  pop  debt  eastern\n",
              "one    2000    Ohio  1.5   NaN     True\n",
              "two    2001    Ohio  1.7  -1.2     True\n",
              "three  2002    Ohio  3.6   NaN     True\n",
              "four   2001  Nevada  2.4  -1.5    False\n",
              "five   2002  Nevada  2.9  -1.7    False\n",
              "six    2003  Nevada  3.2   NaN    False"
            ]
          },
          "metadata": {
            "tags": []
          },
          "execution_count": 59
        }
      ]
    },
    {
      "cell_type": "code",
      "metadata": {
        "id": "q6-4ZOFhpEW-"
      },
      "source": [
        "del frame2['eastern']"
      ],
      "execution_count": null,
      "outputs": []
    },
    {
      "cell_type": "code",
      "metadata": {
        "id": "Uaue4f19pJRE",
        "colab": {
          "base_uri": "https://localhost:8080/"
        },
        "outputId": "5d1743a5-8379-4024-e8ab-8321c1c3e350"
      },
      "source": [
        "frame2.columns"
      ],
      "execution_count": null,
      "outputs": [
        {
          "output_type": "execute_result",
          "data": {
            "text/plain": [
              "Index(['year', 'state', 'pop', 'debt'], dtype='object')"
            ]
          },
          "metadata": {
            "tags": []
          },
          "execution_count": 61
        }
      ]
    },
    {
      "cell_type": "markdown",
      "metadata": {
        "id": "coHscG_MpUF1"
      },
      "source": [
        "Une autre manière pour la création d'un DataFrame est l'utilisation d'un dictionnaire de dictionnaires."
      ]
    },
    {
      "cell_type": "code",
      "metadata": {
        "id": "gUhdCXmGpKHm"
      },
      "source": [
        "pop = {'Nevada': {2001: 2.4, 2002: 2.9},\n",
        "       'Ohio': {2000: 1.5, 2001: 1.7, 2002: 3.6}}"
      ],
      "execution_count": null,
      "outputs": []
    },
    {
      "cell_type": "markdown",
      "metadata": {
        "id": "n6ljoJccpzVU"
      },
      "source": [
        "Lorqu'un dictionnaire imbriqué est passé à un DataFrame, pandas interprète les clés du dictionnaire externe comme des colonnes, et les clés internes comme indices de lignes:"
      ]
    },
    {
      "cell_type": "code",
      "metadata": {
        "id": "fzRc2vsKpwQ2"
      },
      "source": [
        "frame3 = pd.DataFrame(pop)"
      ],
      "execution_count": null,
      "outputs": []
    },
    {
      "cell_type": "code",
      "metadata": {
        "id": "uXJGg9IlqTEd",
        "colab": {
          "base_uri": "https://localhost:8080/",
          "height": 143
        },
        "outputId": "e4834ca4-c78f-48dc-a97e-0a425d020677"
      },
      "source": [
        "frame3"
      ],
      "execution_count": null,
      "outputs": [
        {
          "output_type": "execute_result",
          "data": {
            "text/html": [
              "<div>\n",
              "<style scoped>\n",
              "    .dataframe tbody tr th:only-of-type {\n",
              "        vertical-align: middle;\n",
              "    }\n",
              "\n",
              "    .dataframe tbody tr th {\n",
              "        vertical-align: top;\n",
              "    }\n",
              "\n",
              "    .dataframe thead th {\n",
              "        text-align: right;\n",
              "    }\n",
              "</style>\n",
              "<table border=\"1\" class=\"dataframe\">\n",
              "  <thead>\n",
              "    <tr style=\"text-align: right;\">\n",
              "      <th></th>\n",
              "      <th>Nevada</th>\n",
              "      <th>Ohio</th>\n",
              "    </tr>\n",
              "  </thead>\n",
              "  <tbody>\n",
              "    <tr>\n",
              "      <th>2001</th>\n",
              "      <td>2.4</td>\n",
              "      <td>1.7</td>\n",
              "    </tr>\n",
              "    <tr>\n",
              "      <th>2002</th>\n",
              "      <td>2.9</td>\n",
              "      <td>3.6</td>\n",
              "    </tr>\n",
              "    <tr>\n",
              "      <th>2000</th>\n",
              "      <td>NaN</td>\n",
              "      <td>1.5</td>\n",
              "    </tr>\n",
              "  </tbody>\n",
              "</table>\n",
              "</div>"
            ],
            "text/plain": [
              "      Nevada  Ohio\n",
              "2001     2.4   1.7\n",
              "2002     2.9   3.6\n",
              "2000     NaN   1.5"
            ]
          },
          "metadata": {
            "tags": []
          },
          "execution_count": 45
        }
      ]
    },
    {
      "cell_type": "markdown",
      "metadata": {
        "id": "9OIEM59nqVqe"
      },
      "source": [
        "On peut transposer le DataFrame (échanger les lignes et les colonnes):"
      ]
    },
    {
      "cell_type": "code",
      "metadata": {
        "id": "ZcAduWEuqTz1",
        "colab": {
          "base_uri": "https://localhost:8080/",
          "height": 112
        },
        "outputId": "55b43b04-7cc8-42e2-9647-fd938ced0567"
      },
      "source": [
        "frame3.T"
      ],
      "execution_count": null,
      "outputs": [
        {
          "output_type": "execute_result",
          "data": {
            "text/html": [
              "<div>\n",
              "<style scoped>\n",
              "    .dataframe tbody tr th:only-of-type {\n",
              "        vertical-align: middle;\n",
              "    }\n",
              "\n",
              "    .dataframe tbody tr th {\n",
              "        vertical-align: top;\n",
              "    }\n",
              "\n",
              "    .dataframe thead th {\n",
              "        text-align: right;\n",
              "    }\n",
              "</style>\n",
              "<table border=\"1\" class=\"dataframe\">\n",
              "  <thead>\n",
              "    <tr style=\"text-align: right;\">\n",
              "      <th></th>\n",
              "      <th>2001</th>\n",
              "      <th>2002</th>\n",
              "      <th>2000</th>\n",
              "    </tr>\n",
              "  </thead>\n",
              "  <tbody>\n",
              "    <tr>\n",
              "      <th>Nevada</th>\n",
              "      <td>2.4</td>\n",
              "      <td>2.9</td>\n",
              "      <td>NaN</td>\n",
              "    </tr>\n",
              "    <tr>\n",
              "      <th>Ohio</th>\n",
              "      <td>1.7</td>\n",
              "      <td>3.6</td>\n",
              "      <td>1.5</td>\n",
              "    </tr>\n",
              "  </tbody>\n",
              "</table>\n",
              "</div>"
            ],
            "text/plain": [
              "        2001  2002  2000\n",
              "Nevada   2.4   2.9   NaN\n",
              "Ohio     1.7   3.6   1.5"
            ]
          },
          "metadata": {
            "tags": []
          },
          "execution_count": 65
        }
      ]
    },
    {
      "cell_type": "markdown",
      "metadata": {
        "id": "Hxm5SSlGqmce"
      },
      "source": [
        "Les clés dans les dictionnaires internes sont triées pour former l'index du résultat sauf dans le cas où un index explicite est spécifié."
      ]
    },
    {
      "cell_type": "code",
      "metadata": {
        "id": "G6t2ctbzqfIh",
        "colab": {
          "base_uri": "https://localhost:8080/",
          "height": 143
        },
        "outputId": "ef8461e2-5ffb-4eed-8635-320a72fe7cf0"
      },
      "source": [
        "pd.DataFrame(pop, index=[2001, 2002, 2003])"
      ],
      "execution_count": null,
      "outputs": [
        {
          "output_type": "execute_result",
          "data": {
            "text/html": [
              "<div>\n",
              "<style scoped>\n",
              "    .dataframe tbody tr th:only-of-type {\n",
              "        vertical-align: middle;\n",
              "    }\n",
              "\n",
              "    .dataframe tbody tr th {\n",
              "        vertical-align: top;\n",
              "    }\n",
              "\n",
              "    .dataframe thead th {\n",
              "        text-align: right;\n",
              "    }\n",
              "</style>\n",
              "<table border=\"1\" class=\"dataframe\">\n",
              "  <thead>\n",
              "    <tr style=\"text-align: right;\">\n",
              "      <th></th>\n",
              "      <th>Nevada</th>\n",
              "      <th>Ohio</th>\n",
              "    </tr>\n",
              "  </thead>\n",
              "  <tbody>\n",
              "    <tr>\n",
              "      <th>2001</th>\n",
              "      <td>2.4</td>\n",
              "      <td>1.7</td>\n",
              "    </tr>\n",
              "    <tr>\n",
              "      <th>2002</th>\n",
              "      <td>2.9</td>\n",
              "      <td>3.6</td>\n",
              "    </tr>\n",
              "    <tr>\n",
              "      <th>2003</th>\n",
              "      <td>NaN</td>\n",
              "      <td>NaN</td>\n",
              "    </tr>\n",
              "  </tbody>\n",
              "</table>\n",
              "</div>"
            ],
            "text/plain": [
              "      Nevada  Ohio\n",
              "2001     2.4   1.7\n",
              "2002     2.9   3.6\n",
              "2003     NaN   NaN"
            ]
          },
          "metadata": {
            "tags": []
          },
          "execution_count": 67
        }
      ]
    },
    {
      "cell_type": "markdown",
      "metadata": {
        "id": "mnHaVeEErCSh"
      },
      "source": [
        "Les dictionnaires de Series sont traités de la même manière:"
      ]
    },
    {
      "cell_type": "code",
      "metadata": {
        "id": "XtUzs9sZq6kF"
      },
      "source": [
        "pdata = {'Ohio': frame3['Ohio'][:-1],\n",
        "         'Nevada': frame3['Nevada'][:2]}"
      ],
      "execution_count": null,
      "outputs": []
    },
    {
      "cell_type": "code",
      "metadata": {
        "id": "mtbHyus6rSq-",
        "colab": {
          "base_uri": "https://localhost:8080/",
          "height": 112
        },
        "outputId": "56847f12-124b-428a-bccd-a4f473ad3514"
      },
      "source": [
        "pd.DataFrame(pdata)"
      ],
      "execution_count": null,
      "outputs": [
        {
          "output_type": "execute_result",
          "data": {
            "text/html": [
              "<div>\n",
              "<style scoped>\n",
              "    .dataframe tbody tr th:only-of-type {\n",
              "        vertical-align: middle;\n",
              "    }\n",
              "\n",
              "    .dataframe tbody tr th {\n",
              "        vertical-align: top;\n",
              "    }\n",
              "\n",
              "    .dataframe thead th {\n",
              "        text-align: right;\n",
              "    }\n",
              "</style>\n",
              "<table border=\"1\" class=\"dataframe\">\n",
              "  <thead>\n",
              "    <tr style=\"text-align: right;\">\n",
              "      <th></th>\n",
              "      <th>Ohio</th>\n",
              "      <th>Nevada</th>\n",
              "    </tr>\n",
              "  </thead>\n",
              "  <tbody>\n",
              "    <tr>\n",
              "      <th>2001</th>\n",
              "      <td>1.7</td>\n",
              "      <td>2.4</td>\n",
              "    </tr>\n",
              "    <tr>\n",
              "      <th>2002</th>\n",
              "      <td>3.6</td>\n",
              "      <td>2.9</td>\n",
              "    </tr>\n",
              "  </tbody>\n",
              "</table>\n",
              "</div>"
            ],
            "text/plain": [
              "      Ohio  Nevada\n",
              "2001   1.7     2.4\n",
              "2002   3.6     2.9"
            ]
          },
          "metadata": {
            "tags": []
          },
          "execution_count": 69
        }
      ]
    },
    {
      "cell_type": "markdown",
      "metadata": {
        "id": "-1ugi7Iprhgb"
      },
      "source": [
        "Si l'index et columns du DataFrame ont l'attribut name spécifié, ces derniers vont être affichés:"
      ]
    },
    {
      "cell_type": "code",
      "metadata": {
        "id": "RSKsK_0zrVc2"
      },
      "source": [
        "frame3.index.name = 'year'\n",
        "frame3.columns.name = 'state'"
      ],
      "execution_count": null,
      "outputs": []
    },
    {
      "cell_type": "code",
      "metadata": {
        "id": "_ZGP67MTbFZJ",
        "colab": {
          "base_uri": "https://localhost:8080/"
        },
        "outputId": "8320668c-7a36-4930-a37a-5c8dbeb32dbd"
      },
      "source": [
        "frame3.index"
      ],
      "execution_count": null,
      "outputs": [
        {
          "output_type": "execute_result",
          "data": {
            "text/plain": [
              "Int64Index([2001, 2002, 2000], dtype='int64')"
            ]
          },
          "metadata": {
            "tags": []
          },
          "execution_count": 47
        }
      ]
    },
    {
      "cell_type": "code",
      "metadata": {
        "id": "ccn_nuW6r3oO",
        "colab": {
          "base_uri": "https://localhost:8080/",
          "height": 174
        },
        "outputId": "5cd5e597-8907-4ed8-94c2-4d4aa1cefd2a"
      },
      "source": [
        "frame3"
      ],
      "execution_count": null,
      "outputs": [
        {
          "output_type": "execute_result",
          "data": {
            "text/html": [
              "<div>\n",
              "<style scoped>\n",
              "    .dataframe tbody tr th:only-of-type {\n",
              "        vertical-align: middle;\n",
              "    }\n",
              "\n",
              "    .dataframe tbody tr th {\n",
              "        vertical-align: top;\n",
              "    }\n",
              "\n",
              "    .dataframe thead th {\n",
              "        text-align: right;\n",
              "    }\n",
              "</style>\n",
              "<table border=\"1\" class=\"dataframe\">\n",
              "  <thead>\n",
              "    <tr style=\"text-align: right;\">\n",
              "      <th>state</th>\n",
              "      <th>Nevada</th>\n",
              "      <th>Ohio</th>\n",
              "    </tr>\n",
              "    <tr>\n",
              "      <th>year</th>\n",
              "      <th></th>\n",
              "      <th></th>\n",
              "    </tr>\n",
              "  </thead>\n",
              "  <tbody>\n",
              "    <tr>\n",
              "      <th>2001</th>\n",
              "      <td>2.4</td>\n",
              "      <td>1.7</td>\n",
              "    </tr>\n",
              "    <tr>\n",
              "      <th>2002</th>\n",
              "      <td>2.9</td>\n",
              "      <td>3.6</td>\n",
              "    </tr>\n",
              "    <tr>\n",
              "      <th>2000</th>\n",
              "      <td>NaN</td>\n",
              "      <td>1.5</td>\n",
              "    </tr>\n",
              "  </tbody>\n",
              "</table>\n",
              "</div>"
            ],
            "text/plain": [
              "state  Nevada  Ohio\n",
              "year               \n",
              "2001      2.4   1.7\n",
              "2002      2.9   3.6\n",
              "2000      NaN   1.5"
            ]
          },
          "metadata": {
            "tags": []
          },
          "execution_count": 71
        }
      ]
    },
    {
      "cell_type": "code",
      "metadata": {
        "id": "AshhjGLUbqYS",
        "colab": {
          "base_uri": "https://localhost:8080/"
        },
        "outputId": "a9a84a8e-c736-4ddb-c3ab-01e02e557432"
      },
      "source": [
        "frame3.values"
      ],
      "execution_count": null,
      "outputs": [
        {
          "output_type": "execute_result",
          "data": {
            "text/plain": [
              "array([[2.4, 1.7],\n",
              "       [2.9, 3.6],\n",
              "       [nan, 1.5]])"
            ]
          },
          "metadata": {
            "tags": []
          },
          "execution_count": 49
        }
      ]
    },
    {
      "cell_type": "code",
      "metadata": {
        "id": "v8sMCmPnbvxC",
        "colab": {
          "base_uri": "https://localhost:8080/"
        },
        "outputId": "7e8f3b81-e316-4a9f-908a-6650be4a94da"
      },
      "source": [
        "frame3.values"
      ],
      "execution_count": null,
      "outputs": [
        {
          "output_type": "execute_result",
          "data": {
            "text/plain": [
              "array([[2.4, 1.7],\n",
              "       [2.9, 3.6],\n",
              "       [nan, 1.5]])"
            ]
          },
          "metadata": {
            "tags": []
          },
          "execution_count": 50
        }
      ]
    },
    {
      "cell_type": "code",
      "metadata": {
        "id": "PoiaoToRbyvW",
        "colab": {
          "base_uri": "https://localhost:8080/",
          "height": 142
        },
        "outputId": "eee92380-b374-41fc-e9ef-cac9547ccb3f"
      },
      "source": [
        "frame3"
      ],
      "execution_count": null,
      "outputs": [
        {
          "output_type": "execute_result",
          "data": {
            "text/html": [
              "<div>\n",
              "<style scoped>\n",
              "    .dataframe tbody tr th:only-of-type {\n",
              "        vertical-align: middle;\n",
              "    }\n",
              "\n",
              "    .dataframe tbody tr th {\n",
              "        vertical-align: top;\n",
              "    }\n",
              "\n",
              "    .dataframe thead th {\n",
              "        text-align: right;\n",
              "    }\n",
              "</style>\n",
              "<table border=\"1\" class=\"dataframe\">\n",
              "  <thead>\n",
              "    <tr style=\"text-align: right;\">\n",
              "      <th></th>\n",
              "      <th>Nevada</th>\n",
              "      <th>Ohio</th>\n",
              "    </tr>\n",
              "  </thead>\n",
              "  <tbody>\n",
              "    <tr>\n",
              "      <th>2001</th>\n",
              "      <td>2.4</td>\n",
              "      <td>1.7</td>\n",
              "    </tr>\n",
              "    <tr>\n",
              "      <th>2002</th>\n",
              "      <td>2.9</td>\n",
              "      <td>3.6</td>\n",
              "    </tr>\n",
              "    <tr>\n",
              "      <th>2000</th>\n",
              "      <td>NaN</td>\n",
              "      <td>1.5</td>\n",
              "    </tr>\n",
              "  </tbody>\n",
              "</table>\n",
              "</div>"
            ],
            "text/plain": [
              "      Nevada  Ohio\n",
              "2001     2.4   1.7\n",
              "2002     2.9   3.6\n",
              "2000     NaN   1.5"
            ]
          },
          "metadata": {
            "tags": []
          },
          "execution_count": 51
        }
      ]
    },
    {
      "cell_type": "markdown",
      "metadata": {
        "id": "9uYS3ys1r77M"
      },
      "source": [
        "Comme pour les Series, l'attribut values retourne les données contenues dans le DataFrame comme un tableau 2 dimensionnels:"
      ]
    },
    {
      "cell_type": "code",
      "metadata": {
        "id": "PndJhUixr4Od",
        "colab": {
          "base_uri": "https://localhost:8080/"
        },
        "outputId": "0006e512-e681-4197-bdec-49430c7a387a"
      },
      "source": [
        "frame3.values"
      ],
      "execution_count": null,
      "outputs": [
        {
          "output_type": "execute_result",
          "data": {
            "text/plain": [
              "array([[2.4, 1.7],\n",
              "       [2.9, 3.6],\n",
              "       [nan, 1.5]])"
            ]
          },
          "metadata": {
            "tags": []
          },
          "execution_count": 72
        }
      ]
    },
    {
      "cell_type": "code",
      "metadata": {
        "id": "mmbdbU8ecK9L",
        "colab": {
          "base_uri": "https://localhost:8080/"
        },
        "outputId": "d0f73e14-9ef9-4f4c-9272-dd28357d89eb"
      },
      "source": [
        "print(frame3.values)"
      ],
      "execution_count": null,
      "outputs": [
        {
          "output_type": "stream",
          "text": [
            "[[2.4 1.7]\n",
            " [2.9 3.6]\n",
            " [nan 1.5]]\n"
          ],
          "name": "stdout"
        }
      ]
    },
    {
      "cell_type": "markdown",
      "metadata": {
        "id": "oVqB2LPZsPiR"
      },
      "source": [
        "Si les colonnes du DataFrame sont de différents types, le dtype des valeurs sera choisi pour prendre en considération toutes les colonnes."
      ]
    },
    {
      "cell_type": "code",
      "metadata": {
        "id": "zdk9dgJLsJm1",
        "colab": {
          "base_uri": "https://localhost:8080/"
        },
        "outputId": "cd14d0b8-08e9-4deb-b847-eb8bce7d517f"
      },
      "source": [
        "frame2.values"
      ],
      "execution_count": null,
      "outputs": [
        {
          "output_type": "execute_result",
          "data": {
            "text/plain": [
              "array([[2000, 'Ohio', 1.5, nan],\n",
              "       [2001, 'Ohio', 1.7, -1.2],\n",
              "       [2002, 'Ohio', 3.6, nan],\n",
              "       [2001, 'Nevada', 2.4, -1.5],\n",
              "       [2002, 'Nevada', 2.9, -1.7],\n",
              "       [2003, 'Nevada', 3.2, nan]], dtype=object)"
            ]
          },
          "metadata": {
            "tags": []
          },
          "execution_count": 73
        }
      ]
    },
    {
      "cell_type": "markdown",
      "metadata": {
        "id": "JkqUs91yCfN8"
      },
      "source": [
        "**Synthèse: Création DataFrame**\n",
        "\n",
        "Pour synthétiser, on peut utiliser l'une de ces méthodes pour la création d'un DataFrame:\n",
        "\n",
        "Type | Notes\n",
        "-- | --\n",
        "2D ndarray | Une matrice de données, passer les libellés des lignes/colonnes\n",
        "Dictionnaire de listes, tuples et tableaux | Chaque séquence devient une colonne dans le DataFrame, toutes les sequences doivent avoir la même taille\n",
        "Dictionnaire de Series | Chaque valeur devient une colonne, les index de chaque Series sont unifiés pour produire l'index globale\n",
        "Liste de dictionnaires ou Series | Chaque élément devient une ligne dans le DataFrame, l'union des clés du dictionnaire ou les index de Series deviennent les libellés des colonnes du DataFrame\n",
        "Listes de listes ou tuples | Traités comme les 2D ndarray\n",
        "Un autre DataFrame | Les index du DataFrame sont utilisés sauf si une autre index est utilisée\n"
      ]
    },
    {
      "cell_type": "markdown",
      "metadata": {
        "id": "r0wl0RJlGypD"
      },
      "source": [
        "**Objets Index**\n",
        "\n",
        "Les objets Index de Pandas sont responsables de la maintenance des étiquettes des axes ainsi que d'autres métadonnées. Tous les tableaux ou les autres séquences d'étiquettes qu'on utilise lors de la construction de Series ou DataFrame sont convertis en Index en interne:"
      ]
    },
    {
      "cell_type": "code",
      "metadata": {
        "id": "EFSn-U-eHusy"
      },
      "source": [
        "import pandas as pd"
      ],
      "execution_count": null,
      "outputs": []
    },
    {
      "cell_type": "code",
      "metadata": {
        "id": "W3CLwRnIWfvb"
      },
      "source": [
        "obj = pd.Series(range(3), index=['a', 'b', 'c'])"
      ],
      "execution_count": null,
      "outputs": []
    },
    {
      "cell_type": "code",
      "metadata": {
        "id": "V0M4ESUPHrA8"
      },
      "source": [
        "index = obj.index"
      ],
      "execution_count": null,
      "outputs": []
    },
    {
      "cell_type": "code",
      "metadata": {
        "id": "dRWsAUePHyiq",
        "colab": {
          "base_uri": "https://localhost:8080/"
        },
        "outputId": "7a18f9e6-cf21-4408-a214-79f6944635c8"
      },
      "source": [
        "index"
      ],
      "execution_count": null,
      "outputs": [
        {
          "output_type": "execute_result",
          "data": {
            "text/plain": [
              "Index(['a', 'b', 'c'], dtype='object')"
            ]
          },
          "metadata": {
            "tags": []
          },
          "execution_count": 5
        }
      ]
    },
    {
      "cell_type": "code",
      "metadata": {
        "id": "hX82zuTyHzfy",
        "colab": {
          "base_uri": "https://localhost:8080/"
        },
        "outputId": "59d80979-ff89-443c-ec09-5ad870fb1169"
      },
      "source": [
        "index[1:]"
      ],
      "execution_count": null,
      "outputs": [
        {
          "output_type": "execute_result",
          "data": {
            "text/plain": [
              "Index(['b', 'c'], dtype='object')"
            ]
          },
          "metadata": {
            "tags": []
          },
          "execution_count": 6
        }
      ]
    },
    {
      "cell_type": "markdown",
      "metadata": {
        "id": "LvGheJ3VH3V7"
      },
      "source": [
        "Les objets Index sont immutables et ne peuvent pas être modifiés en conséquence par l'utilisateur:"
      ]
    },
    {
      "cell_type": "code",
      "metadata": {
        "id": "qt9aPYz1H14S",
        "colab": {
          "base_uri": "https://localhost:8080/",
          "height": 287
        },
        "outputId": "e801bcc4-6699-4d23-9da2-3e86835c1517"
      },
      "source": [
        "index[1] = 'd'"
      ],
      "execution_count": null,
      "outputs": [
        {
          "output_type": "error",
          "ename": "TypeError",
          "evalue": "ignored",
          "traceback": [
            "\u001b[0;31m---------------------------------------------------------------------------\u001b[0m",
            "\u001b[0;31mTypeError\u001b[0m                                 Traceback (most recent call last)",
            "\u001b[0;32m<ipython-input-7-a452e55ce13b>\u001b[0m in \u001b[0;36m<module>\u001b[0;34m()\u001b[0m\n\u001b[0;32m----> 1\u001b[0;31m \u001b[0mindex\u001b[0m\u001b[0;34m[\u001b[0m\u001b[0;36m1\u001b[0m\u001b[0;34m]\u001b[0m \u001b[0;34m=\u001b[0m \u001b[0;34m'd'\u001b[0m\u001b[0;34m\u001b[0m\u001b[0;34m\u001b[0m\u001b[0m\n\u001b[0m",
            "\u001b[0;32m/usr/local/lib/python3.6/dist-packages/pandas/core/indexes/base.py\u001b[0m in \u001b[0;36m__setitem__\u001b[0;34m(self, key, value)\u001b[0m\n\u001b[1;32m   4079\u001b[0m \u001b[0;34m\u001b[0m\u001b[0m\n\u001b[1;32m   4080\u001b[0m     \u001b[0;32mdef\u001b[0m \u001b[0m__setitem__\u001b[0m\u001b[0;34m(\u001b[0m\u001b[0mself\u001b[0m\u001b[0;34m,\u001b[0m \u001b[0mkey\u001b[0m\u001b[0;34m,\u001b[0m \u001b[0mvalue\u001b[0m\u001b[0;34m)\u001b[0m\u001b[0;34m:\u001b[0m\u001b[0;34m\u001b[0m\u001b[0;34m\u001b[0m\u001b[0m\n\u001b[0;32m-> 4081\u001b[0;31m         \u001b[0;32mraise\u001b[0m \u001b[0mTypeError\u001b[0m\u001b[0;34m(\u001b[0m\u001b[0;34m\"Index does not support mutable operations\"\u001b[0m\u001b[0;34m)\u001b[0m\u001b[0;34m\u001b[0m\u001b[0;34m\u001b[0m\u001b[0m\n\u001b[0m\u001b[1;32m   4082\u001b[0m \u001b[0;34m\u001b[0m\u001b[0m\n\u001b[1;32m   4083\u001b[0m     \u001b[0;32mdef\u001b[0m \u001b[0m__getitem__\u001b[0m\u001b[0;34m(\u001b[0m\u001b[0mself\u001b[0m\u001b[0;34m,\u001b[0m \u001b[0mkey\u001b[0m\u001b[0;34m)\u001b[0m\u001b[0;34m:\u001b[0m\u001b[0;34m\u001b[0m\u001b[0;34m\u001b[0m\u001b[0m\n",
            "\u001b[0;31mTypeError\u001b[0m: Index does not support mutable operations"
          ]
        }
      ]
    },
    {
      "cell_type": "markdown",
      "metadata": {
        "id": "72bbKTJdIG7F"
      },
      "source": [
        "L'immutabilité des Index sécurisent le partage des Index avec les différentes structures de données."
      ]
    },
    {
      "cell_type": "code",
      "metadata": {
        "id": "k8GqpdtSIWAc"
      },
      "source": [
        "import numpy as np"
      ],
      "execution_count": null,
      "outputs": []
    },
    {
      "cell_type": "code",
      "metadata": {
        "id": "13APkbimIDES"
      },
      "source": [
        "labels = pd.Index(np.arange(3))"
      ],
      "execution_count": null,
      "outputs": []
    },
    {
      "cell_type": "code",
      "metadata": {
        "id": "7ErG9GZtIU0B",
        "colab": {
          "base_uri": "https://localhost:8080/"
        },
        "outputId": "34cc51c6-cfe7-441f-9072-30d46b045abe"
      },
      "source": [
        "labels"
      ],
      "execution_count": null,
      "outputs": [
        {
          "output_type": "execute_result",
          "data": {
            "text/plain": [
              "Int64Index([0, 1, 2], dtype='int64')"
            ]
          },
          "metadata": {
            "tags": []
          },
          "execution_count": 11
        }
      ]
    },
    {
      "cell_type": "code",
      "metadata": {
        "id": "96TIuI7XIZfy"
      },
      "source": [
        "obj2 = pd.Series([1.5, -2.5, 0], index=labels)"
      ],
      "execution_count": null,
      "outputs": []
    },
    {
      "cell_type": "code",
      "metadata": {
        "id": "oSFi-7TSI1Ca",
        "colab": {
          "base_uri": "https://localhost:8080/"
        },
        "outputId": "adb5d9e6-59ca-4396-b2cc-182385d2d62e"
      },
      "source": [
        "obj2"
      ],
      "execution_count": null,
      "outputs": [
        {
          "output_type": "execute_result",
          "data": {
            "text/plain": [
              "0    1.5\n",
              "1   -2.5\n",
              "2    0.0\n",
              "dtype: float64"
            ]
          },
          "metadata": {
            "tags": []
          },
          "execution_count": 13
        }
      ]
    },
    {
      "cell_type": "code",
      "metadata": {
        "id": "qhEfe2a6I12a",
        "colab": {
          "base_uri": "https://localhost:8080/"
        },
        "outputId": "84837b34-5389-4bd9-af0f-f05a9c0df75c"
      },
      "source": [
        "obj2.index is labels"
      ],
      "execution_count": null,
      "outputs": [
        {
          "output_type": "execute_result",
          "data": {
            "text/plain": [
              "True"
            ]
          },
          "metadata": {
            "tags": []
          },
          "execution_count": 14
        }
      ]
    },
    {
      "cell_type": "markdown",
      "metadata": {
        "id": "jXz_5TQHJBr1"
      },
      "source": [
        "En plus d'être semblables aux tableaux **array**, une Index se comportent aussi comme les ensembles **set**:"
      ]
    },
    {
      "cell_type": "code",
      "metadata": {
        "id": "UDoBeBNHJYwk"
      },
      "source": [
        "pop = {'Nevada': {2001: 2.4, 2002: 2.9},\n",
        "       'Ohio': {2000: 1.5, 2001: 1.7, 2002: 3.6}}"
      ],
      "execution_count": null,
      "outputs": []
    },
    {
      "cell_type": "code",
      "metadata": {
        "id": "NjmFBw_iJaE2"
      },
      "source": [
        "frame3 = pd.DataFrame(pop)"
      ],
      "execution_count": null,
      "outputs": []
    },
    {
      "cell_type": "code",
      "metadata": {
        "id": "ChsVt15wI89C",
        "colab": {
          "base_uri": "https://localhost:8080/",
          "height": 143
        },
        "outputId": "a32e713d-f560-465c-8dde-8d87b2b54848"
      },
      "source": [
        "frame3"
      ],
      "execution_count": null,
      "outputs": [
        {
          "output_type": "execute_result",
          "data": {
            "text/html": [
              "<div>\n",
              "<style scoped>\n",
              "    .dataframe tbody tr th:only-of-type {\n",
              "        vertical-align: middle;\n",
              "    }\n",
              "\n",
              "    .dataframe tbody tr th {\n",
              "        vertical-align: top;\n",
              "    }\n",
              "\n",
              "    .dataframe thead th {\n",
              "        text-align: right;\n",
              "    }\n",
              "</style>\n",
              "<table border=\"1\" class=\"dataframe\">\n",
              "  <thead>\n",
              "    <tr style=\"text-align: right;\">\n",
              "      <th></th>\n",
              "      <th>Nevada</th>\n",
              "      <th>Ohio</th>\n",
              "    </tr>\n",
              "  </thead>\n",
              "  <tbody>\n",
              "    <tr>\n",
              "      <th>2001</th>\n",
              "      <td>2.4</td>\n",
              "      <td>1.7</td>\n",
              "    </tr>\n",
              "    <tr>\n",
              "      <th>2002</th>\n",
              "      <td>2.9</td>\n",
              "      <td>3.6</td>\n",
              "    </tr>\n",
              "    <tr>\n",
              "      <th>2000</th>\n",
              "      <td>NaN</td>\n",
              "      <td>1.5</td>\n",
              "    </tr>\n",
              "  </tbody>\n",
              "</table>\n",
              "</div>"
            ],
            "text/plain": [
              "      Nevada  Ohio\n",
              "2001     2.4   1.7\n",
              "2002     2.9   3.6\n",
              "2000     NaN   1.5"
            ]
          },
          "metadata": {
            "tags": []
          },
          "execution_count": 18
        }
      ]
    },
    {
      "cell_type": "code",
      "metadata": {
        "id": "OB2v-6mtJTSq",
        "colab": {
          "base_uri": "https://localhost:8080/"
        },
        "outputId": "9a2e8daf-4eb7-4105-e297-360111037708"
      },
      "source": [
        "frame3.columns"
      ],
      "execution_count": null,
      "outputs": [
        {
          "output_type": "execute_result",
          "data": {
            "text/plain": [
              "Index(['Nevada', 'Ohio'], dtype='object')"
            ]
          },
          "metadata": {
            "tags": []
          },
          "execution_count": 19
        }
      ]
    },
    {
      "cell_type": "code",
      "metadata": {
        "id": "AQsdpm1wJhoS",
        "colab": {
          "base_uri": "https://localhost:8080/"
        },
        "outputId": "89dcbfa9-c1eb-4330-83ea-b404c57f4663"
      },
      "source": [
        "'Ohio' in frame3.columns"
      ],
      "execution_count": null,
      "outputs": [
        {
          "output_type": "execute_result",
          "data": {
            "text/plain": [
              "True"
            ]
          },
          "metadata": {
            "tags": []
          },
          "execution_count": 20
        }
      ]
    },
    {
      "cell_type": "code",
      "metadata": {
        "id": "mQiO1pGuJnMK",
        "colab": {
          "base_uri": "https://localhost:8080/"
        },
        "outputId": "72b7759c-da3c-4566-baad-43da556e8131"
      },
      "source": [
        "frame3.index"
      ],
      "execution_count": null,
      "outputs": [
        {
          "output_type": "execute_result",
          "data": {
            "text/plain": [
              "Int64Index([2001, 2002, 2000], dtype='int64')"
            ]
          },
          "metadata": {
            "tags": []
          },
          "execution_count": 21
        }
      ]
    },
    {
      "cell_type": "code",
      "metadata": {
        "id": "fY-0wTYsJ2xb",
        "colab": {
          "base_uri": "https://localhost:8080/"
        },
        "outputId": "d2449403-ab38-48ce-e54b-2d6b031bec21"
      },
      "source": [
        "2003 in frame3.index"
      ],
      "execution_count": null,
      "outputs": [
        {
          "output_type": "execute_result",
          "data": {
            "text/plain": [
              "False"
            ]
          },
          "metadata": {
            "tags": []
          },
          "execution_count": 22
        }
      ]
    },
    {
      "cell_type": "markdown",
      "metadata": {
        "id": "LDl_ZiZhJ80t"
      },
      "source": [
        "A l'opposé des ensembles Python, une Index Pandas peut contenir des valeurs en double:"
      ]
    },
    {
      "cell_type": "code",
      "metadata": {
        "id": "KUaGeZS7J617"
      },
      "source": [
        "dup_labels = pd.Index(['foo', 'foo', 'bar', 'bar'])"
      ],
      "execution_count": null,
      "outputs": []
    },
    {
      "cell_type": "code",
      "metadata": {
        "id": "mbEW_9GdKOBj",
        "colab": {
          "base_uri": "https://localhost:8080/"
        },
        "outputId": "4f9ed280-7a6c-484d-9f46-66928de7c915"
      },
      "source": [
        "dup_labels"
      ],
      "execution_count": null,
      "outputs": [
        {
          "output_type": "execute_result",
          "data": {
            "text/plain": [
              "Index(['foo', 'foo', 'bar', 'bar'], dtype='object')"
            ]
          },
          "metadata": {
            "tags": []
          },
          "execution_count": 24
        }
      ]
    },
    {
      "cell_type": "markdown",
      "metadata": {
        "id": "rD8xQYQQKUUz"
      },
      "source": [
        "Chaque Index a un nombre de méthodes et propriétés pour la théorie des ensembles:\n",
        "\n",
        "Méthode | Description\n",
        "-- | --\n",
        "append | Concaténer avec d'autres Index pour produire une nouvelle Index\n",
        "difference | La différence des deux Index\n",
        "intersection | L'intersection des deux Index\n",
        "union | L'union des deux Index\n",
        "isin | Retourne un tableau de booléens indiquant si chaque valeur est contenue dans la collection spécifiée\n",
        "delete | Nouvelle Index sans l'élément à la position i\n",
        "drop | Nouvelle Index sans les valeurs spécifiées\n",
        "insert | Nouvelle Index avec l'élément spécifié dans la position i\n",
        "is_monotonic | Retourne True si chaque élément est supérieur ou égal à l'éléments précédent\n",
        "is_unique | Retourne True si l'Index n'a pas de valeurs en double\n",
        "unique | Retourne l'Index sans les éléments en double"
      ]
    },
    {
      "cell_type": "markdown",
      "metadata": {
        "id": "23cTq-hOMkES"
      },
      "source": [
        "# Manipulation de Series et DataFrame"
      ]
    },
    {
      "cell_type": "markdown",
      "metadata": {
        "id": "dbrcWUiKMuVY"
      },
      "source": [
        "**Réindexation**\n",
        "\n",
        "La méthode **reindex** est une méthode importante pour la manipulation des objets pandas, elle permet de créer un nouvel objet où les données sont conformes à la nouvelle Index."
      ]
    },
    {
      "cell_type": "code",
      "metadata": {
        "id": "EArn83uRNNvY"
      },
      "source": [
        "obj = pd.Series([4.5, 7.2, -5.3, 3.6], index=['d', 'b', 'a', 'c'])"
      ],
      "execution_count": null,
      "outputs": []
    },
    {
      "cell_type": "code",
      "metadata": {
        "id": "FCTUJBNcNYoF",
        "colab": {
          "base_uri": "https://localhost:8080/"
        },
        "outputId": "19188b28-c083-4277-a518-6674c2861377"
      },
      "source": [
        "obj"
      ],
      "execution_count": null,
      "outputs": [
        {
          "output_type": "execute_result",
          "data": {
            "text/plain": [
              "d    4.5\n",
              "b    7.2\n",
              "a   -5.3\n",
              "c    3.6\n",
              "dtype: float64"
            ]
          },
          "metadata": {
            "tags": []
          },
          "execution_count": 26
        }
      ]
    },
    {
      "cell_type": "markdown",
      "metadata": {
        "id": "q8kpu1LeNbKC"
      },
      "source": [
        "La méthode reindex permet de réarranger les données selon la nouvelle Index en introduisant les valeurs manquantes si une valeur n'est pas existante."
      ]
    },
    {
      "cell_type": "code",
      "metadata": {
        "id": "f0tdxy7QNZHL"
      },
      "source": [
        "obj2 = obj.reindex(['a', 'b', 'c', 'd', 'e'])"
      ],
      "execution_count": null,
      "outputs": []
    },
    {
      "cell_type": "code",
      "metadata": {
        "id": "4wQgdpysN1nb",
        "colab": {
          "base_uri": "https://localhost:8080/"
        },
        "outputId": "7a4c3b20-5d0c-49dc-b9cf-979dc94c9a5a"
      },
      "source": [
        "obj2"
      ],
      "execution_count": null,
      "outputs": [
        {
          "output_type": "execute_result",
          "data": {
            "text/plain": [
              "a   -5.3\n",
              "b    7.2\n",
              "c    3.6\n",
              "d    4.5\n",
              "e    NaN\n",
              "dtype: float64"
            ]
          },
          "metadata": {
            "tags": []
          },
          "execution_count": 28
        }
      ]
    },
    {
      "cell_type": "markdown",
      "metadata": {
        "id": "8E8-ChU0N8DI"
      },
      "source": [
        "Pour les séries chronologiques \"Time Series\", cette méthode permet d'interpoler ou de remplir les valeurs lors de la réindexation. Les options de la méthode le permettent en utilisant **ffill** ou \"forward-fills\"."
      ]
    },
    {
      "cell_type": "code",
      "metadata": {
        "id": "mNBQydRTN3Hb"
      },
      "source": [
        "obj3 = pd.Series(['blue', 'purple', 'yellow'], index=[0, 2, 4])"
      ],
      "execution_count": null,
      "outputs": []
    },
    {
      "cell_type": "code",
      "metadata": {
        "id": "GcZ5nyd8OiMk",
        "colab": {
          "base_uri": "https://localhost:8080/"
        },
        "outputId": "88a753c5-c138-4ef6-e08b-231a73375070"
      },
      "source": [
        "obj3"
      ],
      "execution_count": null,
      "outputs": [
        {
          "output_type": "execute_result",
          "data": {
            "text/plain": [
              "0      blue\n",
              "2    purple\n",
              "4    yellow\n",
              "dtype: object"
            ]
          },
          "metadata": {
            "tags": []
          },
          "execution_count": 30
        }
      ]
    },
    {
      "cell_type": "code",
      "metadata": {
        "id": "HpeixBwZOj6C",
        "colab": {
          "base_uri": "https://localhost:8080/"
        },
        "outputId": "82160caa-13d8-4e41-aecb-3a7662ce78e2"
      },
      "source": [
        "obj3.reindex(range(6), method='ffill')"
      ],
      "execution_count": null,
      "outputs": [
        {
          "output_type": "execute_result",
          "data": {
            "text/plain": [
              "0      blue\n",
              "1      blue\n",
              "2    purple\n",
              "3    purple\n",
              "4    yellow\n",
              "5    yellow\n",
              "dtype: object"
            ]
          },
          "metadata": {
            "tags": []
          },
          "execution_count": 31
        }
      ]
    },
    {
      "cell_type": "markdown",
      "metadata": {
        "id": "EExje3QTPKUv"
      },
      "source": [
        "Avec les DataFrame, reindex peut modifier l'Index des lignes, des colonnes ou les deux. Si une séquence est passée, elle réindexe les lignes:"
      ]
    },
    {
      "cell_type": "code",
      "metadata": {
        "id": "4KJBGeslkj7r"
      },
      "source": [
        "import numpy as np"
      ],
      "execution_count": null,
      "outputs": []
    },
    {
      "cell_type": "code",
      "metadata": {
        "id": "i5ilmvG1OpEj"
      },
      "source": [
        "frame = pd.DataFrame(np.arange(9).reshape((3, 3)),\n",
        "                     index=['a', 'c', 'd'],\n",
        "                     columns=['Ohio', 'Texas', 'California'])"
      ],
      "execution_count": null,
      "outputs": []
    },
    {
      "cell_type": "code",
      "metadata": {
        "id": "o0H2T6zzPs08",
        "colab": {
          "base_uri": "https://localhost:8080/",
          "height": 142
        },
        "outputId": "85c9fef8-03da-4328-ebf0-af5744948bc8"
      },
      "source": [
        "frame"
      ],
      "execution_count": null,
      "outputs": [
        {
          "output_type": "execute_result",
          "data": {
            "text/html": [
              "<div>\n",
              "<style scoped>\n",
              "    .dataframe tbody tr th:only-of-type {\n",
              "        vertical-align: middle;\n",
              "    }\n",
              "\n",
              "    .dataframe tbody tr th {\n",
              "        vertical-align: top;\n",
              "    }\n",
              "\n",
              "    .dataframe thead th {\n",
              "        text-align: right;\n",
              "    }\n",
              "</style>\n",
              "<table border=\"1\" class=\"dataframe\">\n",
              "  <thead>\n",
              "    <tr style=\"text-align: right;\">\n",
              "      <th></th>\n",
              "      <th>Ohio</th>\n",
              "      <th>Texas</th>\n",
              "      <th>California</th>\n",
              "    </tr>\n",
              "  </thead>\n",
              "  <tbody>\n",
              "    <tr>\n",
              "      <th>a</th>\n",
              "      <td>0</td>\n",
              "      <td>1</td>\n",
              "      <td>2</td>\n",
              "    </tr>\n",
              "    <tr>\n",
              "      <th>c</th>\n",
              "      <td>3</td>\n",
              "      <td>4</td>\n",
              "      <td>5</td>\n",
              "    </tr>\n",
              "    <tr>\n",
              "      <th>d</th>\n",
              "      <td>6</td>\n",
              "      <td>7</td>\n",
              "      <td>8</td>\n",
              "    </tr>\n",
              "  </tbody>\n",
              "</table>\n",
              "</div>"
            ],
            "text/plain": [
              "   Ohio  Texas  California\n",
              "a     0      1           2\n",
              "c     3      4           5\n",
              "d     6      7           8"
            ]
          },
          "metadata": {
            "tags": []
          },
          "execution_count": 12
        }
      ]
    },
    {
      "cell_type": "code",
      "metadata": {
        "id": "zLqRJwS8PvwU"
      },
      "source": [
        "frame2 = frame.reindex(['a', 'b', 'c', 'd'])"
      ],
      "execution_count": null,
      "outputs": []
    },
    {
      "cell_type": "code",
      "metadata": {
        "id": "lijEg8SYP2ZE",
        "colab": {
          "base_uri": "https://localhost:8080/",
          "height": 174
        },
        "outputId": "4c420716-ebf9-4ca2-b275-06836e7e4724"
      },
      "source": [
        "frame2"
      ],
      "execution_count": null,
      "outputs": [
        {
          "output_type": "execute_result",
          "data": {
            "text/html": [
              "<div>\n",
              "<style scoped>\n",
              "    .dataframe tbody tr th:only-of-type {\n",
              "        vertical-align: middle;\n",
              "    }\n",
              "\n",
              "    .dataframe tbody tr th {\n",
              "        vertical-align: top;\n",
              "    }\n",
              "\n",
              "    .dataframe thead th {\n",
              "        text-align: right;\n",
              "    }\n",
              "</style>\n",
              "<table border=\"1\" class=\"dataframe\">\n",
              "  <thead>\n",
              "    <tr style=\"text-align: right;\">\n",
              "      <th></th>\n",
              "      <th>Ohio</th>\n",
              "      <th>Texas</th>\n",
              "      <th>California</th>\n",
              "    </tr>\n",
              "  </thead>\n",
              "  <tbody>\n",
              "    <tr>\n",
              "      <th>a</th>\n",
              "      <td>0.0</td>\n",
              "      <td>1.0</td>\n",
              "      <td>2.0</td>\n",
              "    </tr>\n",
              "    <tr>\n",
              "      <th>b</th>\n",
              "      <td>NaN</td>\n",
              "      <td>NaN</td>\n",
              "      <td>NaN</td>\n",
              "    </tr>\n",
              "    <tr>\n",
              "      <th>c</th>\n",
              "      <td>3.0</td>\n",
              "      <td>4.0</td>\n",
              "      <td>5.0</td>\n",
              "    </tr>\n",
              "    <tr>\n",
              "      <th>d</th>\n",
              "      <td>6.0</td>\n",
              "      <td>7.0</td>\n",
              "      <td>8.0</td>\n",
              "    </tr>\n",
              "  </tbody>\n",
              "</table>\n",
              "</div>"
            ],
            "text/plain": [
              "   Ohio  Texas  California\n",
              "a   0.0    1.0         2.0\n",
              "b   NaN    NaN         NaN\n",
              "c   3.0    4.0         5.0\n",
              "d   6.0    7.0         8.0"
            ]
          },
          "metadata": {
            "tags": []
          },
          "execution_count": 15
        }
      ]
    },
    {
      "cell_type": "markdown",
      "metadata": {
        "id": "q7-x_zbKP7Va"
      },
      "source": [
        "Pour réindexer les colonnes, il suffit d'utiliser le paramètre columns:"
      ]
    },
    {
      "cell_type": "code",
      "metadata": {
        "id": "jipwdwSZP4KE"
      },
      "source": [
        "states = ['Texas', 'Utah', 'California']"
      ],
      "execution_count": null,
      "outputs": []
    },
    {
      "cell_type": "code",
      "metadata": {
        "id": "_IEBeWc2QIvK",
        "colab": {
          "base_uri": "https://localhost:8080/",
          "height": 143
        },
        "outputId": "9a412285-9a05-402a-8a7d-2f0ee02602af"
      },
      "source": [
        "frame.reindex(columns=states)"
      ],
      "execution_count": null,
      "outputs": [
        {
          "output_type": "execute_result",
          "data": {
            "text/html": [
              "<div>\n",
              "<style scoped>\n",
              "    .dataframe tbody tr th:only-of-type {\n",
              "        vertical-align: middle;\n",
              "    }\n",
              "\n",
              "    .dataframe tbody tr th {\n",
              "        vertical-align: top;\n",
              "    }\n",
              "\n",
              "    .dataframe thead th {\n",
              "        text-align: right;\n",
              "    }\n",
              "</style>\n",
              "<table border=\"1\" class=\"dataframe\">\n",
              "  <thead>\n",
              "    <tr style=\"text-align: right;\">\n",
              "      <th></th>\n",
              "      <th>Texas</th>\n",
              "      <th>Utah</th>\n",
              "      <th>California</th>\n",
              "    </tr>\n",
              "  </thead>\n",
              "  <tbody>\n",
              "    <tr>\n",
              "      <th>a</th>\n",
              "      <td>1</td>\n",
              "      <td>NaN</td>\n",
              "      <td>2</td>\n",
              "    </tr>\n",
              "    <tr>\n",
              "      <th>c</th>\n",
              "      <td>4</td>\n",
              "      <td>NaN</td>\n",
              "      <td>5</td>\n",
              "    </tr>\n",
              "    <tr>\n",
              "      <th>d</th>\n",
              "      <td>7</td>\n",
              "      <td>NaN</td>\n",
              "      <td>8</td>\n",
              "    </tr>\n",
              "  </tbody>\n",
              "</table>\n",
              "</div>"
            ],
            "text/plain": [
              "   Texas  Utah  California\n",
              "a      1   NaN           2\n",
              "c      4   NaN           5\n",
              "d      7   NaN           8"
            ]
          },
          "metadata": {
            "tags": []
          },
          "execution_count": 37
        }
      ]
    },
    {
      "cell_type": "markdown",
      "metadata": {
        "id": "v9YnhduPQS2l"
      },
      "source": [
        "La méthode **reindex** accepte les arguments suivants:\n",
        "\n",
        "Argument | Description\n",
        "-- | --\n",
        "index | La nouvelle séquence à utiliser\n",
        "method | La méthode d'interpolation, ffill pour un remplissage en avant et bfill pour un remplissage en arrière\n",
        "fill_value | La valeur à utiliser pour la substitution des valeurs manquantes\n",
        "limit | Pour ffill et bfill, la taille maximale des valeurs à remplir\n",
        "tolerance | Pour ffil et bfill, la taille maximale des valeurs à remplir pour les valeurs approximatives\n",
        "level | Le niveau à prendre en considération pour les MultiIndex\n",
        "copy | Copier les données même si les Index sont équivalents\n"
      ]
    },
    {
      "cell_type": "markdown",
      "metadata": {
        "id": "Q2qh3nuHTLMJ"
      },
      "source": [
        "**Enlever des entrées d'un axe**\n",
        "\n",
        "La méthode drop permet de retourner un nouvel objet avec la valeur ou les valeurs spécifiées supprimées de l'axe:"
      ]
    },
    {
      "cell_type": "code",
      "metadata": {
        "id": "VKEV4yqdRM7k"
      },
      "source": [
        "obj = pd.Series(np.arange(5.), index=['a', 'b', 'c', 'd', 'e'])"
      ],
      "execution_count": null,
      "outputs": []
    },
    {
      "cell_type": "code",
      "metadata": {
        "id": "2rxlWSlqUAbG",
        "colab": {
          "base_uri": "https://localhost:8080/"
        },
        "outputId": "8c1d7ae8-5474-4f0e-bdb7-22e0cc8d0847"
      },
      "source": [
        "obj"
      ],
      "execution_count": null,
      "outputs": [
        {
          "output_type": "execute_result",
          "data": {
            "text/plain": [
              "a    0.0\n",
              "b    1.0\n",
              "c    2.0\n",
              "d    3.0\n",
              "e    4.0\n",
              "dtype: float64"
            ]
          },
          "metadata": {
            "tags": []
          },
          "execution_count": 40
        }
      ]
    },
    {
      "cell_type": "code",
      "metadata": {
        "id": "GrYEag_VUBE0"
      },
      "source": [
        "new_obj = obj.drop('c')"
      ],
      "execution_count": null,
      "outputs": []
    },
    {
      "cell_type": "code",
      "metadata": {
        "id": "F_0TYqeSUJDM",
        "colab": {
          "base_uri": "https://localhost:8080/"
        },
        "outputId": "ba0dd9f5-49c3-4725-e471-dcf42b7a3f05"
      },
      "source": [
        "new_obj"
      ],
      "execution_count": null,
      "outputs": [
        {
          "output_type": "execute_result",
          "data": {
            "text/plain": [
              "a    0.0\n",
              "b    1.0\n",
              "d    3.0\n",
              "e    4.0\n",
              "dtype: float64"
            ]
          },
          "metadata": {
            "tags": []
          },
          "execution_count": 42
        }
      ]
    },
    {
      "cell_type": "code",
      "metadata": {
        "id": "sTwzlCTZUKF1",
        "colab": {
          "base_uri": "https://localhost:8080/"
        },
        "outputId": "0b441787-d92d-4c86-918b-e87777053cb6"
      },
      "source": [
        "obj.drop(['d', 'c'])"
      ],
      "execution_count": null,
      "outputs": [
        {
          "output_type": "execute_result",
          "data": {
            "text/plain": [
              "a    0.0\n",
              "b    1.0\n",
              "e    4.0\n",
              "dtype: float64"
            ]
          },
          "metadata": {
            "tags": []
          },
          "execution_count": 43
        }
      ]
    },
    {
      "cell_type": "markdown",
      "metadata": {
        "id": "7cNm78wXUQ3U"
      },
      "source": [
        "Avec les DataFrame, les valeurs d'index peuvent être supprimées de l'un des axes:"
      ]
    },
    {
      "cell_type": "code",
      "metadata": {
        "id": "N0H9oGMjUN19"
      },
      "source": [
        "data = pd.DataFrame(np.arange(16).reshape((4, 4)),\n",
        "                    index=['Ohio', 'Colorado', 'Utah', 'New York'],\n",
        "                    columns=['one', 'two', 'three', 'four'])"
      ],
      "execution_count": null,
      "outputs": []
    },
    {
      "cell_type": "code",
      "metadata": {
        "id": "xxLQi8FiUusd",
        "colab": {
          "base_uri": "https://localhost:8080/",
          "height": 174
        },
        "outputId": "4f3799ab-ba3c-4dbc-fa43-cdabe35066f0"
      },
      "source": [
        "data"
      ],
      "execution_count": null,
      "outputs": [
        {
          "output_type": "execute_result",
          "data": {
            "text/html": [
              "<div>\n",
              "<style scoped>\n",
              "    .dataframe tbody tr th:only-of-type {\n",
              "        vertical-align: middle;\n",
              "    }\n",
              "\n",
              "    .dataframe tbody tr th {\n",
              "        vertical-align: top;\n",
              "    }\n",
              "\n",
              "    .dataframe thead th {\n",
              "        text-align: right;\n",
              "    }\n",
              "</style>\n",
              "<table border=\"1\" class=\"dataframe\">\n",
              "  <thead>\n",
              "    <tr style=\"text-align: right;\">\n",
              "      <th></th>\n",
              "      <th>one</th>\n",
              "      <th>two</th>\n",
              "      <th>three</th>\n",
              "      <th>four</th>\n",
              "    </tr>\n",
              "  </thead>\n",
              "  <tbody>\n",
              "    <tr>\n",
              "      <th>Ohio</th>\n",
              "      <td>0</td>\n",
              "      <td>1</td>\n",
              "      <td>2</td>\n",
              "      <td>3</td>\n",
              "    </tr>\n",
              "    <tr>\n",
              "      <th>Colorado</th>\n",
              "      <td>4</td>\n",
              "      <td>5</td>\n",
              "      <td>6</td>\n",
              "      <td>7</td>\n",
              "    </tr>\n",
              "    <tr>\n",
              "      <th>Utah</th>\n",
              "      <td>8</td>\n",
              "      <td>9</td>\n",
              "      <td>10</td>\n",
              "      <td>11</td>\n",
              "    </tr>\n",
              "    <tr>\n",
              "      <th>New York</th>\n",
              "      <td>12</td>\n",
              "      <td>13</td>\n",
              "      <td>14</td>\n",
              "      <td>15</td>\n",
              "    </tr>\n",
              "  </tbody>\n",
              "</table>\n",
              "</div>"
            ],
            "text/plain": [
              "          one  two  three  four\n",
              "Ohio        0    1      2     3\n",
              "Colorado    4    5      6     7\n",
              "Utah        8    9     10    11\n",
              "New York   12   13     14    15"
            ]
          },
          "metadata": {
            "tags": []
          },
          "execution_count": 49
        }
      ]
    },
    {
      "cell_type": "code",
      "metadata": {
        "id": "KNaXbkhGUxqM",
        "colab": {
          "base_uri": "https://localhost:8080/",
          "height": 112
        },
        "outputId": "cb4a9a65-a620-48d0-828a-c22df07546fe"
      },
      "source": [
        "data.drop(['Colorado', 'Ohio'])"
      ],
      "execution_count": null,
      "outputs": [
        {
          "output_type": "execute_result",
          "data": {
            "text/html": [
              "<div>\n",
              "<style scoped>\n",
              "    .dataframe tbody tr th:only-of-type {\n",
              "        vertical-align: middle;\n",
              "    }\n",
              "\n",
              "    .dataframe tbody tr th {\n",
              "        vertical-align: top;\n",
              "    }\n",
              "\n",
              "    .dataframe thead th {\n",
              "        text-align: right;\n",
              "    }\n",
              "</style>\n",
              "<table border=\"1\" class=\"dataframe\">\n",
              "  <thead>\n",
              "    <tr style=\"text-align: right;\">\n",
              "      <th></th>\n",
              "      <th>one</th>\n",
              "      <th>two</th>\n",
              "      <th>three</th>\n",
              "      <th>four</th>\n",
              "    </tr>\n",
              "  </thead>\n",
              "  <tbody>\n",
              "    <tr>\n",
              "      <th>Utah</th>\n",
              "      <td>8</td>\n",
              "      <td>9</td>\n",
              "      <td>10</td>\n",
              "      <td>11</td>\n",
              "    </tr>\n",
              "    <tr>\n",
              "      <th>New York</th>\n",
              "      <td>12</td>\n",
              "      <td>13</td>\n",
              "      <td>14</td>\n",
              "      <td>15</td>\n",
              "    </tr>\n",
              "  </tbody>\n",
              "</table>\n",
              "</div>"
            ],
            "text/plain": [
              "          one  two  three  four\n",
              "Utah        8    9     10    11\n",
              "New York   12   13     14    15"
            ]
          },
          "metadata": {
            "tags": []
          },
          "execution_count": 50
        }
      ]
    },
    {
      "cell_type": "markdown",
      "metadata": {
        "id": "lxhjyJg0VFkE"
      },
      "source": [
        "On peut supprimer les valeurs des colonnes en passant axis=1 ou axis='columns':"
      ]
    },
    {
      "cell_type": "code",
      "metadata": {
        "id": "lbJwuZ8qU9MV",
        "colab": {
          "base_uri": "https://localhost:8080/",
          "height": 174
        },
        "outputId": "e17299f4-94f1-4f28-b44e-cb25841382a9"
      },
      "source": [
        "data.drop('two', axis=1)"
      ],
      "execution_count": null,
      "outputs": [
        {
          "output_type": "execute_result",
          "data": {
            "text/html": [
              "<div>\n",
              "<style scoped>\n",
              "    .dataframe tbody tr th:only-of-type {\n",
              "        vertical-align: middle;\n",
              "    }\n",
              "\n",
              "    .dataframe tbody tr th {\n",
              "        vertical-align: top;\n",
              "    }\n",
              "\n",
              "    .dataframe thead th {\n",
              "        text-align: right;\n",
              "    }\n",
              "</style>\n",
              "<table border=\"1\" class=\"dataframe\">\n",
              "  <thead>\n",
              "    <tr style=\"text-align: right;\">\n",
              "      <th></th>\n",
              "      <th>one</th>\n",
              "      <th>three</th>\n",
              "      <th>four</th>\n",
              "    </tr>\n",
              "  </thead>\n",
              "  <tbody>\n",
              "    <tr>\n",
              "      <th>Ohio</th>\n",
              "      <td>0</td>\n",
              "      <td>2</td>\n",
              "      <td>3</td>\n",
              "    </tr>\n",
              "    <tr>\n",
              "      <th>Colorado</th>\n",
              "      <td>4</td>\n",
              "      <td>6</td>\n",
              "      <td>7</td>\n",
              "    </tr>\n",
              "    <tr>\n",
              "      <th>Utah</th>\n",
              "      <td>8</td>\n",
              "      <td>10</td>\n",
              "      <td>11</td>\n",
              "    </tr>\n",
              "    <tr>\n",
              "      <th>New York</th>\n",
              "      <td>12</td>\n",
              "      <td>14</td>\n",
              "      <td>15</td>\n",
              "    </tr>\n",
              "  </tbody>\n",
              "</table>\n",
              "</div>"
            ],
            "text/plain": [
              "          one  three  four\n",
              "Ohio        0      2     3\n",
              "Colorado    4      6     7\n",
              "Utah        8     10    11\n",
              "New York   12     14    15"
            ]
          },
          "metadata": {
            "tags": []
          },
          "execution_count": 51
        }
      ]
    },
    {
      "cell_type": "code",
      "metadata": {
        "id": "mqOdmxe-VQ5c",
        "colab": {
          "base_uri": "https://localhost:8080/",
          "height": 174
        },
        "outputId": "adae4410-a164-4e2e-8b65-9b69e8a28ca5"
      },
      "source": [
        "data.drop(['two', 'four'], axis='columns')"
      ],
      "execution_count": null,
      "outputs": [
        {
          "output_type": "execute_result",
          "data": {
            "text/html": [
              "<div>\n",
              "<style scoped>\n",
              "    .dataframe tbody tr th:only-of-type {\n",
              "        vertical-align: middle;\n",
              "    }\n",
              "\n",
              "    .dataframe tbody tr th {\n",
              "        vertical-align: top;\n",
              "    }\n",
              "\n",
              "    .dataframe thead th {\n",
              "        text-align: right;\n",
              "    }\n",
              "</style>\n",
              "<table border=\"1\" class=\"dataframe\">\n",
              "  <thead>\n",
              "    <tr style=\"text-align: right;\">\n",
              "      <th></th>\n",
              "      <th>one</th>\n",
              "      <th>three</th>\n",
              "    </tr>\n",
              "  </thead>\n",
              "  <tbody>\n",
              "    <tr>\n",
              "      <th>Ohio</th>\n",
              "      <td>0</td>\n",
              "      <td>2</td>\n",
              "    </tr>\n",
              "    <tr>\n",
              "      <th>Colorado</th>\n",
              "      <td>4</td>\n",
              "      <td>6</td>\n",
              "    </tr>\n",
              "    <tr>\n",
              "      <th>Utah</th>\n",
              "      <td>8</td>\n",
              "      <td>10</td>\n",
              "    </tr>\n",
              "    <tr>\n",
              "      <th>New York</th>\n",
              "      <td>12</td>\n",
              "      <td>14</td>\n",
              "    </tr>\n",
              "  </tbody>\n",
              "</table>\n",
              "</div>"
            ],
            "text/plain": [
              "          one  three\n",
              "Ohio        0      2\n",
              "Colorado    4      6\n",
              "Utah        8     10\n",
              "New York   12     14"
            ]
          },
          "metadata": {
            "tags": []
          },
          "execution_count": 52
        }
      ]
    },
    {
      "cell_type": "markdown",
      "metadata": {
        "id": "x_cVA5oeVcIc"
      },
      "source": [
        "Plusieurs fonctions comme **drop** qui modifient la taille ou la forme de Series ou DataFrame peuvent manipuler un objet sur place \"in-place\" sans retourner l'objet:"
      ]
    },
    {
      "cell_type": "code",
      "metadata": {
        "id": "C3Cr9YXsVYAt"
      },
      "source": [
        "obj.drop('c', inplace=True)"
      ],
      "execution_count": null,
      "outputs": []
    },
    {
      "cell_type": "code",
      "metadata": {
        "id": "3QRbOzk8VuP9",
        "colab": {
          "base_uri": "https://localhost:8080/"
        },
        "outputId": "69f14de9-8183-49af-efdc-0ebf774b2527"
      },
      "source": [
        "obj"
      ],
      "execution_count": null,
      "outputs": [
        {
          "output_type": "execute_result",
          "data": {
            "text/plain": [
              "a    0.0\n",
              "b    1.0\n",
              "d    3.0\n",
              "e    4.0\n",
              "dtype: float64"
            ]
          },
          "metadata": {
            "tags": []
          },
          "execution_count": 54
        }
      ]
    },
    {
      "cell_type": "markdown",
      "metadata": {
        "id": "yzN5tpDwVyOG"
      },
      "source": [
        "**Indexation, Sélection et Filtrage**\n",
        "\n",
        "L'indexation des Series obj[...] fonctionne de la même manière que les listes et tableaux numpy avec l'exception qu'on peut utiliser n'importe quel type d'Index:"
      ]
    },
    {
      "cell_type": "code",
      "metadata": {
        "id": "EsM7fqpsVuzd"
      },
      "source": [
        "obj = pd.Series(np.arange(4.), index=['a', 'b', 'c', 'd'])"
      ],
      "execution_count": null,
      "outputs": []
    },
    {
      "cell_type": "code",
      "metadata": {
        "id": "tfzbrHT1WUIF",
        "colab": {
          "base_uri": "https://localhost:8080/"
        },
        "outputId": "d0b6e983-705c-4c72-df08-33439f7883f0"
      },
      "source": [
        "obj"
      ],
      "execution_count": null,
      "outputs": [
        {
          "output_type": "execute_result",
          "data": {
            "text/plain": [
              "a    0.0\n",
              "b    1.0\n",
              "c    2.0\n",
              "d    3.0\n",
              "dtype: float64"
            ]
          },
          "metadata": {
            "tags": []
          },
          "execution_count": 56
        }
      ]
    },
    {
      "cell_type": "code",
      "metadata": {
        "id": "QKJiEsCWWUlN",
        "colab": {
          "base_uri": "https://localhost:8080/"
        },
        "outputId": "d8a315ba-5d00-4eab-cd24-7047bf8499b3"
      },
      "source": [
        "obj['b']"
      ],
      "execution_count": null,
      "outputs": [
        {
          "output_type": "execute_result",
          "data": {
            "text/plain": [
              "1.0"
            ]
          },
          "metadata": {
            "tags": []
          },
          "execution_count": 57
        }
      ]
    },
    {
      "cell_type": "code",
      "metadata": {
        "id": "JGPxuYuYWXh1",
        "colab": {
          "base_uri": "https://localhost:8080/"
        },
        "outputId": "5477816c-691b-46a0-f64e-577c8394fca8"
      },
      "source": [
        "obj[1]"
      ],
      "execution_count": null,
      "outputs": [
        {
          "output_type": "execute_result",
          "data": {
            "text/plain": [
              "1.0"
            ]
          },
          "metadata": {
            "tags": []
          },
          "execution_count": 58
        }
      ]
    },
    {
      "cell_type": "code",
      "metadata": {
        "id": "4kv33PoVWuaV",
        "colab": {
          "base_uri": "https://localhost:8080/"
        },
        "outputId": "521a38f1-b9bc-4325-9de2-edb878246538"
      },
      "source": [
        "obj[2:4]  # slicing"
      ],
      "execution_count": null,
      "outputs": [
        {
          "output_type": "execute_result",
          "data": {
            "text/plain": [
              "c    2.0\n",
              "d    3.0\n",
              "dtype: float64"
            ]
          },
          "metadata": {
            "tags": []
          },
          "execution_count": 59
        }
      ]
    },
    {
      "cell_type": "code",
      "metadata": {
        "id": "FkOUpXdhW2jt",
        "colab": {
          "base_uri": "https://localhost:8080/"
        },
        "outputId": "c0885ab7-d74e-4701-8f33-05f8270b8231"
      },
      "source": [
        "obj[['b', 'a', 'd']]"
      ],
      "execution_count": null,
      "outputs": [
        {
          "output_type": "execute_result",
          "data": {
            "text/plain": [
              "b    1.0\n",
              "a    0.0\n",
              "d    3.0\n",
              "dtype: float64"
            ]
          },
          "metadata": {
            "tags": []
          },
          "execution_count": 60
        }
      ]
    },
    {
      "cell_type": "code",
      "metadata": {
        "id": "1On3IYwpW5zt",
        "colab": {
          "base_uri": "https://localhost:8080/"
        },
        "outputId": "fd8acfd4-b804-40cd-adcd-319d96c7b7c9"
      },
      "source": [
        "obj[[1, 3]]"
      ],
      "execution_count": null,
      "outputs": [
        {
          "output_type": "execute_result",
          "data": {
            "text/plain": [
              "b    1.0\n",
              "d    3.0\n",
              "dtype: float64"
            ]
          },
          "metadata": {
            "tags": []
          },
          "execution_count": 61
        }
      ]
    },
    {
      "cell_type": "code",
      "metadata": {
        "id": "nBoWnWB5W8nu",
        "colab": {
          "base_uri": "https://localhost:8080/"
        },
        "outputId": "0500b38e-3bf8-40ad-d8e5-320187dca28a"
      },
      "source": [
        "obj[obj < 2]"
      ],
      "execution_count": null,
      "outputs": [
        {
          "output_type": "execute_result",
          "data": {
            "text/plain": [
              "a    0.0\n",
              "b    1.0\n",
              "dtype: float64"
            ]
          },
          "metadata": {
            "tags": []
          },
          "execution_count": 62
        }
      ]
    },
    {
      "cell_type": "markdown",
      "metadata": {
        "id": "qzmsnvBpXCy3"
      },
      "source": [
        "Le slicing avec les libellés est différent du slicing normal, l'extremité droite de l'intervalle est incluse:"
      ]
    },
    {
      "cell_type": "code",
      "metadata": {
        "id": "pAEhyeqQW_FN",
        "colab": {
          "base_uri": "https://localhost:8080/"
        },
        "outputId": "4175b36e-8bf3-4249-e506-e8b9bad77911"
      },
      "source": [
        "obj['b': 'c']"
      ],
      "execution_count": null,
      "outputs": [
        {
          "output_type": "execute_result",
          "data": {
            "text/plain": [
              "b    1.0\n",
              "c    2.0\n",
              "dtype: float64"
            ]
          },
          "metadata": {
            "tags": []
          },
          "execution_count": 64
        }
      ]
    },
    {
      "cell_type": "markdown",
      "metadata": {
        "id": "GJHDyGncXiqv"
      },
      "source": [
        "L'affectation en utilisant ces méthodes modifie la partie correspondante des Series:"
      ]
    },
    {
      "cell_type": "code",
      "metadata": {
        "id": "A9bR-eKhXVed"
      },
      "source": [
        "obj['b': 'c'] = 5"
      ],
      "execution_count": null,
      "outputs": []
    },
    {
      "cell_type": "code",
      "metadata": {
        "id": "Hg6GV8V9Xtk1",
        "colab": {
          "base_uri": "https://localhost:8080/"
        },
        "outputId": "aec60c7b-cdf6-4f56-ec84-09c12a45f459"
      },
      "source": [
        "obj"
      ],
      "execution_count": null,
      "outputs": [
        {
          "output_type": "execute_result",
          "data": {
            "text/plain": [
              "a    0.0\n",
              "b    5.0\n",
              "c    5.0\n",
              "d    3.0\n",
              "dtype: float64"
            ]
          },
          "metadata": {
            "tags": []
          },
          "execution_count": 67
        }
      ]
    },
    {
      "cell_type": "markdown",
      "metadata": {
        "id": "HxDMT2cnX2sc"
      },
      "source": [
        "L'indexation d'un DataFrame permet de retrouver une ou plusieurs colonnes avec une seule ou plusieurs valeurs:"
      ]
    },
    {
      "cell_type": "code",
      "metadata": {
        "id": "PA5gI6bcXudV"
      },
      "source": [
        "data = pd.DataFrame(np.arange(16).reshape((4, 4)),\n",
        "                    index=['Ohio', 'Colorado', 'Utah', 'New York'],\n",
        "                    columns=['one', 'two', 'three', 'four'])"
      ],
      "execution_count": null,
      "outputs": []
    },
    {
      "cell_type": "code",
      "metadata": {
        "id": "foAaERaUYYXW",
        "colab": {
          "base_uri": "https://localhost:8080/",
          "height": 174
        },
        "outputId": "1ffdc1f9-e080-4fdf-be9c-dd68a4819057"
      },
      "source": [
        "data"
      ],
      "execution_count": null,
      "outputs": [
        {
          "output_type": "execute_result",
          "data": {
            "text/html": [
              "<div>\n",
              "<style scoped>\n",
              "    .dataframe tbody tr th:only-of-type {\n",
              "        vertical-align: middle;\n",
              "    }\n",
              "\n",
              "    .dataframe tbody tr th {\n",
              "        vertical-align: top;\n",
              "    }\n",
              "\n",
              "    .dataframe thead th {\n",
              "        text-align: right;\n",
              "    }\n",
              "</style>\n",
              "<table border=\"1\" class=\"dataframe\">\n",
              "  <thead>\n",
              "    <tr style=\"text-align: right;\">\n",
              "      <th></th>\n",
              "      <th>one</th>\n",
              "      <th>two</th>\n",
              "      <th>three</th>\n",
              "      <th>four</th>\n",
              "    </tr>\n",
              "  </thead>\n",
              "  <tbody>\n",
              "    <tr>\n",
              "      <th>Ohio</th>\n",
              "      <td>0</td>\n",
              "      <td>1</td>\n",
              "      <td>2</td>\n",
              "      <td>3</td>\n",
              "    </tr>\n",
              "    <tr>\n",
              "      <th>Colorado</th>\n",
              "      <td>4</td>\n",
              "      <td>5</td>\n",
              "      <td>6</td>\n",
              "      <td>7</td>\n",
              "    </tr>\n",
              "    <tr>\n",
              "      <th>Utah</th>\n",
              "      <td>8</td>\n",
              "      <td>9</td>\n",
              "      <td>10</td>\n",
              "      <td>11</td>\n",
              "    </tr>\n",
              "    <tr>\n",
              "      <th>New York</th>\n",
              "      <td>12</td>\n",
              "      <td>13</td>\n",
              "      <td>14</td>\n",
              "      <td>15</td>\n",
              "    </tr>\n",
              "  </tbody>\n",
              "</table>\n",
              "</div>"
            ],
            "text/plain": [
              "          one  two  three  four\n",
              "Ohio        0    1      2     3\n",
              "Colorado    4    5      6     7\n",
              "Utah        8    9     10    11\n",
              "New York   12   13     14    15"
            ]
          },
          "metadata": {
            "tags": []
          },
          "execution_count": 69
        }
      ]
    },
    {
      "cell_type": "code",
      "metadata": {
        "id": "uaokS-HrYZAu",
        "colab": {
          "base_uri": "https://localhost:8080/"
        },
        "outputId": "153df452-a854-4fc5-902d-a187676dfea5"
      },
      "source": [
        "data['two']"
      ],
      "execution_count": null,
      "outputs": [
        {
          "output_type": "execute_result",
          "data": {
            "text/plain": [
              "Ohio         1\n",
              "Colorado     5\n",
              "Utah         9\n",
              "New York    13\n",
              "Name: two, dtype: int64"
            ]
          },
          "metadata": {
            "tags": []
          },
          "execution_count": 70
        }
      ]
    },
    {
      "cell_type": "code",
      "metadata": {
        "id": "rhFYywV-YgOX",
        "colab": {
          "base_uri": "https://localhost:8080/",
          "height": 174
        },
        "outputId": "3f141689-9831-4ab1-b014-ef66e5598951"
      },
      "source": [
        "data[['three', 'one']]"
      ],
      "execution_count": null,
      "outputs": [
        {
          "output_type": "execute_result",
          "data": {
            "text/html": [
              "<div>\n",
              "<style scoped>\n",
              "    .dataframe tbody tr th:only-of-type {\n",
              "        vertical-align: middle;\n",
              "    }\n",
              "\n",
              "    .dataframe tbody tr th {\n",
              "        vertical-align: top;\n",
              "    }\n",
              "\n",
              "    .dataframe thead th {\n",
              "        text-align: right;\n",
              "    }\n",
              "</style>\n",
              "<table border=\"1\" class=\"dataframe\">\n",
              "  <thead>\n",
              "    <tr style=\"text-align: right;\">\n",
              "      <th></th>\n",
              "      <th>three</th>\n",
              "      <th>one</th>\n",
              "    </tr>\n",
              "  </thead>\n",
              "  <tbody>\n",
              "    <tr>\n",
              "      <th>Ohio</th>\n",
              "      <td>2</td>\n",
              "      <td>0</td>\n",
              "    </tr>\n",
              "    <tr>\n",
              "      <th>Colorado</th>\n",
              "      <td>6</td>\n",
              "      <td>4</td>\n",
              "    </tr>\n",
              "    <tr>\n",
              "      <th>Utah</th>\n",
              "      <td>10</td>\n",
              "      <td>8</td>\n",
              "    </tr>\n",
              "    <tr>\n",
              "      <th>New York</th>\n",
              "      <td>14</td>\n",
              "      <td>12</td>\n",
              "    </tr>\n",
              "  </tbody>\n",
              "</table>\n",
              "</div>"
            ],
            "text/plain": [
              "          three  one\n",
              "Ohio          2    0\n",
              "Colorado      6    4\n",
              "Utah         10    8\n",
              "New York     14   12"
            ]
          },
          "metadata": {
            "tags": []
          },
          "execution_count": 71
        }
      ]
    },
    {
      "cell_type": "code",
      "metadata": {
        "id": "LdZdHe8QYltu",
        "colab": {
          "base_uri": "https://localhost:8080/",
          "height": 112
        },
        "outputId": "f634324d-1c6c-48e5-8d79-c4ef9162334f"
      },
      "source": [
        "data[:2]"
      ],
      "execution_count": null,
      "outputs": [
        {
          "output_type": "execute_result",
          "data": {
            "text/html": [
              "<div>\n",
              "<style scoped>\n",
              "    .dataframe tbody tr th:only-of-type {\n",
              "        vertical-align: middle;\n",
              "    }\n",
              "\n",
              "    .dataframe tbody tr th {\n",
              "        vertical-align: top;\n",
              "    }\n",
              "\n",
              "    .dataframe thead th {\n",
              "        text-align: right;\n",
              "    }\n",
              "</style>\n",
              "<table border=\"1\" class=\"dataframe\">\n",
              "  <thead>\n",
              "    <tr style=\"text-align: right;\">\n",
              "      <th></th>\n",
              "      <th>one</th>\n",
              "      <th>two</th>\n",
              "      <th>three</th>\n",
              "      <th>four</th>\n",
              "    </tr>\n",
              "  </thead>\n",
              "  <tbody>\n",
              "    <tr>\n",
              "      <th>Ohio</th>\n",
              "      <td>0</td>\n",
              "      <td>1</td>\n",
              "      <td>2</td>\n",
              "      <td>3</td>\n",
              "    </tr>\n",
              "    <tr>\n",
              "      <th>Colorado</th>\n",
              "      <td>4</td>\n",
              "      <td>5</td>\n",
              "      <td>6</td>\n",
              "      <td>7</td>\n",
              "    </tr>\n",
              "  </tbody>\n",
              "</table>\n",
              "</div>"
            ],
            "text/plain": [
              "          one  two  three  four\n",
              "Ohio        0    1      2     3\n",
              "Colorado    4    5      6     7"
            ]
          },
          "metadata": {
            "tags": []
          },
          "execution_count": 72
        }
      ]
    },
    {
      "cell_type": "code",
      "metadata": {
        "id": "r8b18VWPYrfm",
        "colab": {
          "base_uri": "https://localhost:8080/",
          "height": 143
        },
        "outputId": "3c30eb30-efdf-4940-f8b6-9c9ba55e9772"
      },
      "source": [
        "data[data['three'] > 5]"
      ],
      "execution_count": null,
      "outputs": [
        {
          "output_type": "execute_result",
          "data": {
            "text/html": [
              "<div>\n",
              "<style scoped>\n",
              "    .dataframe tbody tr th:only-of-type {\n",
              "        vertical-align: middle;\n",
              "    }\n",
              "\n",
              "    .dataframe tbody tr th {\n",
              "        vertical-align: top;\n",
              "    }\n",
              "\n",
              "    .dataframe thead th {\n",
              "        text-align: right;\n",
              "    }\n",
              "</style>\n",
              "<table border=\"1\" class=\"dataframe\">\n",
              "  <thead>\n",
              "    <tr style=\"text-align: right;\">\n",
              "      <th></th>\n",
              "      <th>one</th>\n",
              "      <th>two</th>\n",
              "      <th>three</th>\n",
              "      <th>four</th>\n",
              "    </tr>\n",
              "  </thead>\n",
              "  <tbody>\n",
              "    <tr>\n",
              "      <th>Colorado</th>\n",
              "      <td>4</td>\n",
              "      <td>5</td>\n",
              "      <td>6</td>\n",
              "      <td>7</td>\n",
              "    </tr>\n",
              "    <tr>\n",
              "      <th>Utah</th>\n",
              "      <td>8</td>\n",
              "      <td>9</td>\n",
              "      <td>10</td>\n",
              "      <td>11</td>\n",
              "    </tr>\n",
              "    <tr>\n",
              "      <th>New York</th>\n",
              "      <td>12</td>\n",
              "      <td>13</td>\n",
              "      <td>14</td>\n",
              "      <td>15</td>\n",
              "    </tr>\n",
              "  </tbody>\n",
              "</table>\n",
              "</div>"
            ],
            "text/plain": [
              "          one  two  three  four\n",
              "Colorado    4    5      6     7\n",
              "Utah        8    9     10    11\n",
              "New York   12   13     14    15"
            ]
          },
          "metadata": {
            "tags": []
          },
          "execution_count": 73
        }
      ]
    },
    {
      "cell_type": "code",
      "metadata": {
        "id": "7_CZULuMYzf2",
        "colab": {
          "base_uri": "https://localhost:8080/",
          "height": 174
        },
        "outputId": "b6865f7d-f128-494c-cef3-109ca46ce15f"
      },
      "source": [
        "data < 5"
      ],
      "execution_count": null,
      "outputs": [
        {
          "output_type": "execute_result",
          "data": {
            "text/html": [
              "<div>\n",
              "<style scoped>\n",
              "    .dataframe tbody tr th:only-of-type {\n",
              "        vertical-align: middle;\n",
              "    }\n",
              "\n",
              "    .dataframe tbody tr th {\n",
              "        vertical-align: top;\n",
              "    }\n",
              "\n",
              "    .dataframe thead th {\n",
              "        text-align: right;\n",
              "    }\n",
              "</style>\n",
              "<table border=\"1\" class=\"dataframe\">\n",
              "  <thead>\n",
              "    <tr style=\"text-align: right;\">\n",
              "      <th></th>\n",
              "      <th>one</th>\n",
              "      <th>two</th>\n",
              "      <th>three</th>\n",
              "      <th>four</th>\n",
              "    </tr>\n",
              "  </thead>\n",
              "  <tbody>\n",
              "    <tr>\n",
              "      <th>Ohio</th>\n",
              "      <td>True</td>\n",
              "      <td>True</td>\n",
              "      <td>True</td>\n",
              "      <td>True</td>\n",
              "    </tr>\n",
              "    <tr>\n",
              "      <th>Colorado</th>\n",
              "      <td>True</td>\n",
              "      <td>False</td>\n",
              "      <td>False</td>\n",
              "      <td>False</td>\n",
              "    </tr>\n",
              "    <tr>\n",
              "      <th>Utah</th>\n",
              "      <td>False</td>\n",
              "      <td>False</td>\n",
              "      <td>False</td>\n",
              "      <td>False</td>\n",
              "    </tr>\n",
              "    <tr>\n",
              "      <th>New York</th>\n",
              "      <td>False</td>\n",
              "      <td>False</td>\n",
              "      <td>False</td>\n",
              "      <td>False</td>\n",
              "    </tr>\n",
              "  </tbody>\n",
              "</table>\n",
              "</div>"
            ],
            "text/plain": [
              "            one    two  three   four\n",
              "Ohio       True   True   True   True\n",
              "Colorado   True  False  False  False\n",
              "Utah      False  False  False  False\n",
              "New York  False  False  False  False"
            ]
          },
          "metadata": {
            "tags": []
          },
          "execution_count": 74
        }
      ]
    },
    {
      "cell_type": "code",
      "metadata": {
        "id": "udcXFXGEZBCu"
      },
      "source": [
        "data[data < 5] = 0"
      ],
      "execution_count": null,
      "outputs": []
    },
    {
      "cell_type": "code",
      "metadata": {
        "id": "yY86q7Y8ZET-",
        "colab": {
          "base_uri": "https://localhost:8080/",
          "height": 174
        },
        "outputId": "f0e736a6-caee-490d-8e78-529feab3f688"
      },
      "source": [
        "data"
      ],
      "execution_count": null,
      "outputs": [
        {
          "output_type": "execute_result",
          "data": {
            "text/html": [
              "<div>\n",
              "<style scoped>\n",
              "    .dataframe tbody tr th:only-of-type {\n",
              "        vertical-align: middle;\n",
              "    }\n",
              "\n",
              "    .dataframe tbody tr th {\n",
              "        vertical-align: top;\n",
              "    }\n",
              "\n",
              "    .dataframe thead th {\n",
              "        text-align: right;\n",
              "    }\n",
              "</style>\n",
              "<table border=\"1\" class=\"dataframe\">\n",
              "  <thead>\n",
              "    <tr style=\"text-align: right;\">\n",
              "      <th></th>\n",
              "      <th>one</th>\n",
              "      <th>two</th>\n",
              "      <th>three</th>\n",
              "      <th>four</th>\n",
              "    </tr>\n",
              "  </thead>\n",
              "  <tbody>\n",
              "    <tr>\n",
              "      <th>Ohio</th>\n",
              "      <td>0</td>\n",
              "      <td>0</td>\n",
              "      <td>0</td>\n",
              "      <td>0</td>\n",
              "    </tr>\n",
              "    <tr>\n",
              "      <th>Colorado</th>\n",
              "      <td>0</td>\n",
              "      <td>5</td>\n",
              "      <td>6</td>\n",
              "      <td>7</td>\n",
              "    </tr>\n",
              "    <tr>\n",
              "      <th>Utah</th>\n",
              "      <td>8</td>\n",
              "      <td>9</td>\n",
              "      <td>10</td>\n",
              "      <td>11</td>\n",
              "    </tr>\n",
              "    <tr>\n",
              "      <th>New York</th>\n",
              "      <td>12</td>\n",
              "      <td>13</td>\n",
              "      <td>14</td>\n",
              "      <td>15</td>\n",
              "    </tr>\n",
              "  </tbody>\n",
              "</table>\n",
              "</div>"
            ],
            "text/plain": [
              "          one  two  three  four\n",
              "Ohio        0    0      0     0\n",
              "Colorado    0    5      6     7\n",
              "Utah        8    9     10    11\n",
              "New York   12   13     14    15"
            ]
          },
          "metadata": {
            "tags": []
          },
          "execution_count": 76
        }
      ]
    },
    {
      "cell_type": "markdown",
      "metadata": {
        "id": "oMA9MO4DZgiY"
      },
      "source": [
        "**Sélection avec loc et iloc**\n",
        "\n",
        "Les deux opérateurs d'indexation permettent de sélectionner un sous ensemble d'enregistrements et de colonnes à partir d'un DataFrame en utilisant la notation numpy en utilisant les libellés des axes **loc** ou les entiers **iloc**."
      ]
    },
    {
      "cell_type": "code",
      "metadata": {
        "id": "ajOtXNyDZFPX",
        "colab": {
          "base_uri": "https://localhost:8080/"
        },
        "outputId": "452a11e0-d54e-4b14-a89e-7883e5fa32d3"
      },
      "source": [
        "data.loc['Colorado', ['two', 'three']]"
      ],
      "execution_count": null,
      "outputs": [
        {
          "output_type": "execute_result",
          "data": {
            "text/plain": [
              "two      5\n",
              "three    6\n",
              "Name: Colorado, dtype: int64"
            ]
          },
          "metadata": {
            "tags": []
          },
          "execution_count": 77
        }
      ]
    },
    {
      "cell_type": "code",
      "metadata": {
        "id": "y-Tc4kIraJAe",
        "colab": {
          "base_uri": "https://localhost:8080/"
        },
        "outputId": "fcf87d4e-4a12-4eb9-95af-82a090a48a99"
      },
      "source": [
        "data.iloc[2, [3, 0, 1]]"
      ],
      "execution_count": null,
      "outputs": [
        {
          "output_type": "execute_result",
          "data": {
            "text/plain": [
              "four    11\n",
              "one      8\n",
              "two      9\n",
              "Name: Utah, dtype: int64"
            ]
          },
          "metadata": {
            "tags": []
          },
          "execution_count": 78
        }
      ]
    },
    {
      "cell_type": "code",
      "metadata": {
        "id": "U9U6ygn3aOlt",
        "colab": {
          "base_uri": "https://localhost:8080/"
        },
        "outputId": "91db2eff-ee20-4865-936c-b3276e7ce2d0"
      },
      "source": [
        "data.iloc[2]"
      ],
      "execution_count": null,
      "outputs": [
        {
          "output_type": "execute_result",
          "data": {
            "text/plain": [
              "one       8\n",
              "two       9\n",
              "three    10\n",
              "four     11\n",
              "Name: Utah, dtype: int64"
            ]
          },
          "metadata": {
            "tags": []
          },
          "execution_count": 79
        }
      ]
    },
    {
      "cell_type": "code",
      "metadata": {
        "id": "ieGCcN-gaR_-",
        "colab": {
          "base_uri": "https://localhost:8080/",
          "height": 112
        },
        "outputId": "4548d17b-ae4d-4ee6-93a8-4da2425a8711"
      },
      "source": [
        "data.iloc[[1, 2], [3, 0, 1]]"
      ],
      "execution_count": null,
      "outputs": [
        {
          "output_type": "execute_result",
          "data": {
            "text/html": [
              "<div>\n",
              "<style scoped>\n",
              "    .dataframe tbody tr th:only-of-type {\n",
              "        vertical-align: middle;\n",
              "    }\n",
              "\n",
              "    .dataframe tbody tr th {\n",
              "        vertical-align: top;\n",
              "    }\n",
              "\n",
              "    .dataframe thead th {\n",
              "        text-align: right;\n",
              "    }\n",
              "</style>\n",
              "<table border=\"1\" class=\"dataframe\">\n",
              "  <thead>\n",
              "    <tr style=\"text-align: right;\">\n",
              "      <th></th>\n",
              "      <th>four</th>\n",
              "      <th>one</th>\n",
              "      <th>two</th>\n",
              "    </tr>\n",
              "  </thead>\n",
              "  <tbody>\n",
              "    <tr>\n",
              "      <th>Colorado</th>\n",
              "      <td>7</td>\n",
              "      <td>0</td>\n",
              "      <td>5</td>\n",
              "    </tr>\n",
              "    <tr>\n",
              "      <th>Utah</th>\n",
              "      <td>11</td>\n",
              "      <td>8</td>\n",
              "      <td>9</td>\n",
              "    </tr>\n",
              "  </tbody>\n",
              "</table>\n",
              "</div>"
            ],
            "text/plain": [
              "          four  one  two\n",
              "Colorado     7    0    5\n",
              "Utah        11    8    9"
            ]
          },
          "metadata": {
            "tags": []
          },
          "execution_count": 80
        }
      ]
    },
    {
      "cell_type": "markdown",
      "metadata": {
        "id": "loY2QzKcacpr"
      },
      "source": [
        "Les deux fonctions utilisent le slicing en plus des libellés:"
      ]
    },
    {
      "cell_type": "code",
      "metadata": {
        "id": "VXqKyJQQaZm1",
        "colab": {
          "base_uri": "https://localhost:8080/"
        },
        "outputId": "7980675a-6c85-45b2-8ceb-1f869195ddb3"
      },
      "source": [
        "data.loc[:'Utah', 'two']"
      ],
      "execution_count": null,
      "outputs": [
        {
          "output_type": "execute_result",
          "data": {
            "text/plain": [
              "Ohio        0\n",
              "Colorado    5\n",
              "Utah        9\n",
              "Name: two, dtype: int64"
            ]
          },
          "metadata": {
            "tags": []
          },
          "execution_count": 81
        }
      ]
    },
    {
      "cell_type": "code",
      "metadata": {
        "id": "1WBreqYmapx1",
        "colab": {
          "base_uri": "https://localhost:8080/",
          "height": 143
        },
        "outputId": "bf8903d7-abd6-4d2f-eb51-080d1c99215b"
      },
      "source": [
        "data.iloc[:, :3][data.three > 5]"
      ],
      "execution_count": null,
      "outputs": [
        {
          "output_type": "execute_result",
          "data": {
            "text/html": [
              "<div>\n",
              "<style scoped>\n",
              "    .dataframe tbody tr th:only-of-type {\n",
              "        vertical-align: middle;\n",
              "    }\n",
              "\n",
              "    .dataframe tbody tr th {\n",
              "        vertical-align: top;\n",
              "    }\n",
              "\n",
              "    .dataframe thead th {\n",
              "        text-align: right;\n",
              "    }\n",
              "</style>\n",
              "<table border=\"1\" class=\"dataframe\">\n",
              "  <thead>\n",
              "    <tr style=\"text-align: right;\">\n",
              "      <th></th>\n",
              "      <th>one</th>\n",
              "      <th>two</th>\n",
              "      <th>three</th>\n",
              "    </tr>\n",
              "  </thead>\n",
              "  <tbody>\n",
              "    <tr>\n",
              "      <th>Colorado</th>\n",
              "      <td>0</td>\n",
              "      <td>5</td>\n",
              "      <td>6</td>\n",
              "    </tr>\n",
              "    <tr>\n",
              "      <th>Utah</th>\n",
              "      <td>8</td>\n",
              "      <td>9</td>\n",
              "      <td>10</td>\n",
              "    </tr>\n",
              "    <tr>\n",
              "      <th>New York</th>\n",
              "      <td>12</td>\n",
              "      <td>13</td>\n",
              "      <td>14</td>\n",
              "    </tr>\n",
              "  </tbody>\n",
              "</table>\n",
              "</div>"
            ],
            "text/plain": [
              "          one  two  three\n",
              "Colorado    0    5      6\n",
              "Utah        8    9     10\n",
              "New York   12   13     14"
            ]
          },
          "metadata": {
            "tags": []
          },
          "execution_count": 82
        }
      ]
    },
    {
      "cell_type": "markdown",
      "metadata": {
        "id": "HNakNNilbRD1"
      },
      "source": [
        "**Fonctions de sélection de données**\n",
        "\n",
        "Type | Notes\n",
        "-- | --\n",
        "df[val] | Sélectionner une colonne ou une séquence de colonnes depuis le DataFrame, filtrer des lignes et slicing\n",
        "df.loc[val] | Sélectionner une ligne ou un sous-ensemble de lignes à partir du DataFrame en utilisant le libellé\n",
        "df.loc[:, val] |Sélectionner une colonne ou un sous-ensemble de colonnes par libellé\n",
        "df.loc[val1, val2] | Sélectionner les lignes et les colonnes par libellé\n",
        "df.iloc[where] | Sélectionner une ligne ou un sous-ensemble de lignes en utilisant la position\n",
        "df.iloc[:, where] | Sélectionner une colonne ou un sous-ensemble de colonnes par position\n",
        "df.iloc[where_i, where_j] | Sélectioner les lignes et les colonnes par position\n",
        "df.at[label_i, label_j] | Sélectionner une valeur scalaire en précisant le libellé de la ligne et de la colonne\n",
        "df.iat[i, j] | Sélectionner une valeur scalaire par la position de la ligne et de la colonne"
      ]
    },
    {
      "cell_type": "markdown",
      "metadata": {
        "id": "w-fYm32edb5R"
      },
      "source": [
        "**Arithmétique**\n",
        "\n",
        "Lors des opérations arithmétiques, si les Index des objets en questions sont différents, l'Index du résultat et l'union des deux Index.\n",
        "\n"
      ]
    },
    {
      "cell_type": "code",
      "metadata": {
        "id": "ZnZauGFHayoG"
      },
      "source": [
        "s1 = pd.Series([7.3, -2.5, 3.4, 1.5], index=['a', 'c', 'd', 'e'])"
      ],
      "execution_count": null,
      "outputs": []
    },
    {
      "cell_type": "code",
      "metadata": {
        "id": "EU7ptWwZdyIA"
      },
      "source": [
        "s2 = pd.Series([-2.1, 3.6, -1.5, 4, 3.1],\n",
        "               index=['a', 'c', 'e', 'f', 'g'])"
      ],
      "execution_count": null,
      "outputs": []
    },
    {
      "cell_type": "code",
      "metadata": {
        "id": "dMzAizbEdyt3",
        "colab": {
          "base_uri": "https://localhost:8080/"
        },
        "outputId": "a0e31edb-11d9-4fbd-bc60-5a8ae7a263fc"
      },
      "source": [
        "s1"
      ],
      "execution_count": null,
      "outputs": [
        {
          "output_type": "execute_result",
          "data": {
            "text/plain": [
              "a    7.3\n",
              "c   -2.5\n",
              "d    3.4\n",
              "e    1.5\n",
              "dtype: float64"
            ]
          },
          "metadata": {
            "tags": []
          },
          "execution_count": 88
        }
      ]
    },
    {
      "cell_type": "code",
      "metadata": {
        "id": "uUNAy4Q-d02u",
        "colab": {
          "base_uri": "https://localhost:8080/"
        },
        "outputId": "1a5c9175-860c-420f-da58-3fc814e9667e"
      },
      "source": [
        "s2"
      ],
      "execution_count": null,
      "outputs": [
        {
          "output_type": "execute_result",
          "data": {
            "text/plain": [
              "a   -2.1\n",
              "c    3.6\n",
              "e   -1.5\n",
              "f    4.0\n",
              "g    3.1\n",
              "dtype: float64"
            ]
          },
          "metadata": {
            "tags": []
          },
          "execution_count": 89
        }
      ]
    },
    {
      "cell_type": "code",
      "metadata": {
        "id": "6TVN6ZYUfECf",
        "colab": {
          "base_uri": "https://localhost:8080/"
        },
        "outputId": "f4ebf9f6-c5ab-4c47-b5fb-883a3a082f8a"
      },
      "source": [
        "s1 + s2"
      ],
      "execution_count": null,
      "outputs": [
        {
          "output_type": "execute_result",
          "data": {
            "text/plain": [
              "a    5.2\n",
              "c    1.1\n",
              "d    NaN\n",
              "e    0.0\n",
              "f    NaN\n",
              "g    NaN\n",
              "dtype: float64"
            ]
          },
          "metadata": {
            "tags": []
          },
          "execution_count": 90
        }
      ]
    },
    {
      "cell_type": "markdown",
      "metadata": {
        "id": "HQ6Jl5wGfPEh"
      },
      "source": [
        "Dans le cas des DataFrame, l'alignement est effectué pour les lignes et les colonnes."
      ]
    },
    {
      "cell_type": "code",
      "metadata": {
        "id": "TQxqAJZyfF0_"
      },
      "source": [
        "df1 = pd.DataFrame(np.arange(9.).reshape((3, 3)), columns=list('bcd'),\n",
        "                   index=['Ohio', 'Texas', 'Colorado'])"
      ],
      "execution_count": null,
      "outputs": []
    },
    {
      "cell_type": "code",
      "metadata": {
        "id": "F56bCg0Sfk8H"
      },
      "source": [
        "df2 = pd.DataFrame(np.arange(12.).reshape((4, 3)), columns=list('bde'),\n",
        "                   index=['Utah', 'Ohio', 'Texas', 'Oregon'])"
      ],
      "execution_count": null,
      "outputs": []
    },
    {
      "cell_type": "code",
      "metadata": {
        "id": "1MSKh1lXf0pH",
        "colab": {
          "base_uri": "https://localhost:8080/",
          "height": 143
        },
        "outputId": "aa047649-95f6-4826-d50b-29fff7167ece"
      },
      "source": [
        "df1"
      ],
      "execution_count": null,
      "outputs": [
        {
          "output_type": "execute_result",
          "data": {
            "text/html": [
              "<div>\n",
              "<style scoped>\n",
              "    .dataframe tbody tr th:only-of-type {\n",
              "        vertical-align: middle;\n",
              "    }\n",
              "\n",
              "    .dataframe tbody tr th {\n",
              "        vertical-align: top;\n",
              "    }\n",
              "\n",
              "    .dataframe thead th {\n",
              "        text-align: right;\n",
              "    }\n",
              "</style>\n",
              "<table border=\"1\" class=\"dataframe\">\n",
              "  <thead>\n",
              "    <tr style=\"text-align: right;\">\n",
              "      <th></th>\n",
              "      <th>b</th>\n",
              "      <th>c</th>\n",
              "      <th>d</th>\n",
              "    </tr>\n",
              "  </thead>\n",
              "  <tbody>\n",
              "    <tr>\n",
              "      <th>Ohio</th>\n",
              "      <td>0.0</td>\n",
              "      <td>1.0</td>\n",
              "      <td>2.0</td>\n",
              "    </tr>\n",
              "    <tr>\n",
              "      <th>Texas</th>\n",
              "      <td>3.0</td>\n",
              "      <td>4.0</td>\n",
              "      <td>5.0</td>\n",
              "    </tr>\n",
              "    <tr>\n",
              "      <th>Colorado</th>\n",
              "      <td>6.0</td>\n",
              "      <td>7.0</td>\n",
              "      <td>8.0</td>\n",
              "    </tr>\n",
              "  </tbody>\n",
              "</table>\n",
              "</div>"
            ],
            "text/plain": [
              "            b    c    d\n",
              "Ohio      0.0  1.0  2.0\n",
              "Texas     3.0  4.0  5.0\n",
              "Colorado  6.0  7.0  8.0"
            ]
          },
          "metadata": {
            "tags": []
          },
          "execution_count": 95
        }
      ]
    },
    {
      "cell_type": "code",
      "metadata": {
        "id": "L-Om3HaKf4IX",
        "colab": {
          "base_uri": "https://localhost:8080/",
          "height": 174
        },
        "outputId": "610942f3-49d1-4637-8c54-abd65f9a40c9"
      },
      "source": [
        "df2"
      ],
      "execution_count": null,
      "outputs": [
        {
          "output_type": "execute_result",
          "data": {
            "text/html": [
              "<div>\n",
              "<style scoped>\n",
              "    .dataframe tbody tr th:only-of-type {\n",
              "        vertical-align: middle;\n",
              "    }\n",
              "\n",
              "    .dataframe tbody tr th {\n",
              "        vertical-align: top;\n",
              "    }\n",
              "\n",
              "    .dataframe thead th {\n",
              "        text-align: right;\n",
              "    }\n",
              "</style>\n",
              "<table border=\"1\" class=\"dataframe\">\n",
              "  <thead>\n",
              "    <tr style=\"text-align: right;\">\n",
              "      <th></th>\n",
              "      <th>b</th>\n",
              "      <th>d</th>\n",
              "      <th>e</th>\n",
              "    </tr>\n",
              "  </thead>\n",
              "  <tbody>\n",
              "    <tr>\n",
              "      <th>Utah</th>\n",
              "      <td>0.0</td>\n",
              "      <td>1.0</td>\n",
              "      <td>2.0</td>\n",
              "    </tr>\n",
              "    <tr>\n",
              "      <th>Ohio</th>\n",
              "      <td>3.0</td>\n",
              "      <td>4.0</td>\n",
              "      <td>5.0</td>\n",
              "    </tr>\n",
              "    <tr>\n",
              "      <th>Texas</th>\n",
              "      <td>6.0</td>\n",
              "      <td>7.0</td>\n",
              "      <td>8.0</td>\n",
              "    </tr>\n",
              "    <tr>\n",
              "      <th>Oregon</th>\n",
              "      <td>9.0</td>\n",
              "      <td>10.0</td>\n",
              "      <td>11.0</td>\n",
              "    </tr>\n",
              "  </tbody>\n",
              "</table>\n",
              "</div>"
            ],
            "text/plain": [
              "          b     d     e\n",
              "Utah    0.0   1.0   2.0\n",
              "Ohio    3.0   4.0   5.0\n",
              "Texas   6.0   7.0   8.0\n",
              "Oregon  9.0  10.0  11.0"
            ]
          },
          "metadata": {
            "tags": []
          },
          "execution_count": 96
        }
      ]
    },
    {
      "cell_type": "code",
      "metadata": {
        "id": "a8Qf3YK8f5K_",
        "colab": {
          "base_uri": "https://localhost:8080/",
          "height": 206
        },
        "outputId": "9f64350b-a511-479f-9c11-1bd2f3a523f1"
      },
      "source": [
        "df1 + df2"
      ],
      "execution_count": null,
      "outputs": [
        {
          "output_type": "execute_result",
          "data": {
            "text/html": [
              "<div>\n",
              "<style scoped>\n",
              "    .dataframe tbody tr th:only-of-type {\n",
              "        vertical-align: middle;\n",
              "    }\n",
              "\n",
              "    .dataframe tbody tr th {\n",
              "        vertical-align: top;\n",
              "    }\n",
              "\n",
              "    .dataframe thead th {\n",
              "        text-align: right;\n",
              "    }\n",
              "</style>\n",
              "<table border=\"1\" class=\"dataframe\">\n",
              "  <thead>\n",
              "    <tr style=\"text-align: right;\">\n",
              "      <th></th>\n",
              "      <th>b</th>\n",
              "      <th>c</th>\n",
              "      <th>d</th>\n",
              "      <th>e</th>\n",
              "    </tr>\n",
              "  </thead>\n",
              "  <tbody>\n",
              "    <tr>\n",
              "      <th>Colorado</th>\n",
              "      <td>NaN</td>\n",
              "      <td>NaN</td>\n",
              "      <td>NaN</td>\n",
              "      <td>NaN</td>\n",
              "    </tr>\n",
              "    <tr>\n",
              "      <th>Ohio</th>\n",
              "      <td>3.0</td>\n",
              "      <td>NaN</td>\n",
              "      <td>6.0</td>\n",
              "      <td>NaN</td>\n",
              "    </tr>\n",
              "    <tr>\n",
              "      <th>Oregon</th>\n",
              "      <td>NaN</td>\n",
              "      <td>NaN</td>\n",
              "      <td>NaN</td>\n",
              "      <td>NaN</td>\n",
              "    </tr>\n",
              "    <tr>\n",
              "      <th>Texas</th>\n",
              "      <td>9.0</td>\n",
              "      <td>NaN</td>\n",
              "      <td>12.0</td>\n",
              "      <td>NaN</td>\n",
              "    </tr>\n",
              "    <tr>\n",
              "      <th>Utah</th>\n",
              "      <td>NaN</td>\n",
              "      <td>NaN</td>\n",
              "      <td>NaN</td>\n",
              "      <td>NaN</td>\n",
              "    </tr>\n",
              "  </tbody>\n",
              "</table>\n",
              "</div>"
            ],
            "text/plain": [
              "            b   c     d   e\n",
              "Colorado  NaN NaN   NaN NaN\n",
              "Ohio      3.0 NaN   6.0 NaN\n",
              "Oregon    NaN NaN   NaN NaN\n",
              "Texas     9.0 NaN  12.0 NaN\n",
              "Utah      NaN NaN   NaN NaN"
            ]
          },
          "metadata": {
            "tags": []
          },
          "execution_count": 97
        }
      ]
    },
    {
      "cell_type": "markdown",
      "metadata": {
        "id": "WzRJtBh6hNU6"
      },
      "source": [
        "Si on ajoute deux DataFrame qui n'ont pas de libellés de lignes et de colonnes en commun, le résultat va contenir que des nulls:"
      ]
    },
    {
      "cell_type": "code",
      "metadata": {
        "id": "TT3M-MkBf8cv"
      },
      "source": [
        "df1 = pd.DataFrame({'A': [1, 2]})"
      ],
      "execution_count": null,
      "outputs": []
    },
    {
      "cell_type": "code",
      "metadata": {
        "id": "Nd4BSb0ih_WI"
      },
      "source": [
        "df2 = pd.DataFrame({'B': [3, 4]})"
      ],
      "execution_count": null,
      "outputs": []
    },
    {
      "cell_type": "code",
      "metadata": {
        "id": "F8ak_-DQiEfH",
        "colab": {
          "base_uri": "https://localhost:8080/",
          "height": 112
        },
        "outputId": "508429c4-3238-4927-9c5d-28288e59e9a6"
      },
      "source": [
        "df1"
      ],
      "execution_count": null,
      "outputs": [
        {
          "output_type": "execute_result",
          "data": {
            "text/html": [
              "<div>\n",
              "<style scoped>\n",
              "    .dataframe tbody tr th:only-of-type {\n",
              "        vertical-align: middle;\n",
              "    }\n",
              "\n",
              "    .dataframe tbody tr th {\n",
              "        vertical-align: top;\n",
              "    }\n",
              "\n",
              "    .dataframe thead th {\n",
              "        text-align: right;\n",
              "    }\n",
              "</style>\n",
              "<table border=\"1\" class=\"dataframe\">\n",
              "  <thead>\n",
              "    <tr style=\"text-align: right;\">\n",
              "      <th></th>\n",
              "      <th>A</th>\n",
              "    </tr>\n",
              "  </thead>\n",
              "  <tbody>\n",
              "    <tr>\n",
              "      <th>0</th>\n",
              "      <td>1</td>\n",
              "    </tr>\n",
              "    <tr>\n",
              "      <th>1</th>\n",
              "      <td>2</td>\n",
              "    </tr>\n",
              "  </tbody>\n",
              "</table>\n",
              "</div>"
            ],
            "text/plain": [
              "   A\n",
              "0  1\n",
              "1  2"
            ]
          },
          "metadata": {
            "tags": []
          },
          "execution_count": 100
        }
      ]
    },
    {
      "cell_type": "code",
      "metadata": {
        "id": "l01gdqYFiFIf",
        "colab": {
          "base_uri": "https://localhost:8080/",
          "height": 112
        },
        "outputId": "f86b23b0-0f0a-46a0-ddb2-d1a48ae50a08"
      },
      "source": [
        "df2"
      ],
      "execution_count": null,
      "outputs": [
        {
          "output_type": "execute_result",
          "data": {
            "text/html": [
              "<div>\n",
              "<style scoped>\n",
              "    .dataframe tbody tr th:only-of-type {\n",
              "        vertical-align: middle;\n",
              "    }\n",
              "\n",
              "    .dataframe tbody tr th {\n",
              "        vertical-align: top;\n",
              "    }\n",
              "\n",
              "    .dataframe thead th {\n",
              "        text-align: right;\n",
              "    }\n",
              "</style>\n",
              "<table border=\"1\" class=\"dataframe\">\n",
              "  <thead>\n",
              "    <tr style=\"text-align: right;\">\n",
              "      <th></th>\n",
              "      <th>B</th>\n",
              "    </tr>\n",
              "  </thead>\n",
              "  <tbody>\n",
              "    <tr>\n",
              "      <th>0</th>\n",
              "      <td>3</td>\n",
              "    </tr>\n",
              "    <tr>\n",
              "      <th>1</th>\n",
              "      <td>4</td>\n",
              "    </tr>\n",
              "  </tbody>\n",
              "</table>\n",
              "</div>"
            ],
            "text/plain": [
              "   B\n",
              "0  3\n",
              "1  4"
            ]
          },
          "metadata": {
            "tags": []
          },
          "execution_count": 101
        }
      ]
    },
    {
      "cell_type": "code",
      "metadata": {
        "id": "YGO2ZiSqiGgu",
        "colab": {
          "base_uri": "https://localhost:8080/",
          "height": 112
        },
        "outputId": "d43f1099-7c34-475c-c6e4-951c056d28d7"
      },
      "source": [
        "df1 - df2"
      ],
      "execution_count": null,
      "outputs": [
        {
          "output_type": "execute_result",
          "data": {
            "text/html": [
              "<div>\n",
              "<style scoped>\n",
              "    .dataframe tbody tr th:only-of-type {\n",
              "        vertical-align: middle;\n",
              "    }\n",
              "\n",
              "    .dataframe tbody tr th {\n",
              "        vertical-align: top;\n",
              "    }\n",
              "\n",
              "    .dataframe thead th {\n",
              "        text-align: right;\n",
              "    }\n",
              "</style>\n",
              "<table border=\"1\" class=\"dataframe\">\n",
              "  <thead>\n",
              "    <tr style=\"text-align: right;\">\n",
              "      <th></th>\n",
              "      <th>A</th>\n",
              "      <th>B</th>\n",
              "    </tr>\n",
              "  </thead>\n",
              "  <tbody>\n",
              "    <tr>\n",
              "      <th>0</th>\n",
              "      <td>NaN</td>\n",
              "      <td>NaN</td>\n",
              "    </tr>\n",
              "    <tr>\n",
              "      <th>1</th>\n",
              "      <td>NaN</td>\n",
              "      <td>NaN</td>\n",
              "    </tr>\n",
              "  </tbody>\n",
              "</table>\n",
              "</div>"
            ],
            "text/plain": [
              "    A   B\n",
              "0 NaN NaN\n",
              "1 NaN NaN"
            ]
          },
          "metadata": {
            "tags": []
          },
          "execution_count": 102
        }
      ]
    },
    {
      "cell_type": "markdown",
      "metadata": {
        "id": "DEaQOKBAiXxp"
      },
      "source": [
        "**Les méthodes arithmétiques avec les valeurs de remplissage**\n",
        "\n",
        "Lors des opérations arithmétiques entre des objets indexés d'une manière différente, on peut utiliser une valeur spéciale pour le remplissage."
      ]
    },
    {
      "cell_type": "code",
      "metadata": {
        "id": "H-yQRedHiK1i"
      },
      "source": [
        "df1 = pd.DataFrame(np.arange(12.).reshape((3, 4)),\n",
        "                   columns=list('abcd'))"
      ],
      "execution_count": null,
      "outputs": []
    },
    {
      "cell_type": "code",
      "metadata": {
        "id": "wZe-fGP9i98R"
      },
      "source": [
        "df2 = pd.DataFrame(np.arange(20.).reshape((4, 5)),\n",
        "                   columns=list('abcde'))"
      ],
      "execution_count": null,
      "outputs": []
    },
    {
      "cell_type": "code",
      "metadata": {
        "id": "5_cyWYoYjMsA"
      },
      "source": [
        "df2.loc[1, 'b'] = np.nan"
      ],
      "execution_count": null,
      "outputs": []
    },
    {
      "cell_type": "code",
      "metadata": {
        "id": "4nLN_4FujQjo",
        "colab": {
          "base_uri": "https://localhost:8080/",
          "height": 143
        },
        "outputId": "c676edfb-4156-4e53-ba12-ef9d574e2236"
      },
      "source": [
        "df1"
      ],
      "execution_count": null,
      "outputs": [
        {
          "output_type": "execute_result",
          "data": {
            "text/html": [
              "<div>\n",
              "<style scoped>\n",
              "    .dataframe tbody tr th:only-of-type {\n",
              "        vertical-align: middle;\n",
              "    }\n",
              "\n",
              "    .dataframe tbody tr th {\n",
              "        vertical-align: top;\n",
              "    }\n",
              "\n",
              "    .dataframe thead th {\n",
              "        text-align: right;\n",
              "    }\n",
              "</style>\n",
              "<table border=\"1\" class=\"dataframe\">\n",
              "  <thead>\n",
              "    <tr style=\"text-align: right;\">\n",
              "      <th></th>\n",
              "      <th>a</th>\n",
              "      <th>b</th>\n",
              "      <th>c</th>\n",
              "      <th>d</th>\n",
              "    </tr>\n",
              "  </thead>\n",
              "  <tbody>\n",
              "    <tr>\n",
              "      <th>0</th>\n",
              "      <td>0.0</td>\n",
              "      <td>1.0</td>\n",
              "      <td>2.0</td>\n",
              "      <td>3.0</td>\n",
              "    </tr>\n",
              "    <tr>\n",
              "      <th>1</th>\n",
              "      <td>4.0</td>\n",
              "      <td>5.0</td>\n",
              "      <td>6.0</td>\n",
              "      <td>7.0</td>\n",
              "    </tr>\n",
              "    <tr>\n",
              "      <th>2</th>\n",
              "      <td>8.0</td>\n",
              "      <td>9.0</td>\n",
              "      <td>10.0</td>\n",
              "      <td>11.0</td>\n",
              "    </tr>\n",
              "  </tbody>\n",
              "</table>\n",
              "</div>"
            ],
            "text/plain": [
              "     a    b     c     d\n",
              "0  0.0  1.0   2.0   3.0\n",
              "1  4.0  5.0   6.0   7.0\n",
              "2  8.0  9.0  10.0  11.0"
            ]
          },
          "metadata": {
            "tags": []
          },
          "execution_count": 107
        }
      ]
    },
    {
      "cell_type": "code",
      "metadata": {
        "id": "8Sd9hUXKjR1I",
        "colab": {
          "base_uri": "https://localhost:8080/",
          "height": 174
        },
        "outputId": "2471a643-8831-44ad-c3a5-e1b02ee3ea18"
      },
      "source": [
        "df2"
      ],
      "execution_count": null,
      "outputs": [
        {
          "output_type": "execute_result",
          "data": {
            "text/html": [
              "<div>\n",
              "<style scoped>\n",
              "    .dataframe tbody tr th:only-of-type {\n",
              "        vertical-align: middle;\n",
              "    }\n",
              "\n",
              "    .dataframe tbody tr th {\n",
              "        vertical-align: top;\n",
              "    }\n",
              "\n",
              "    .dataframe thead th {\n",
              "        text-align: right;\n",
              "    }\n",
              "</style>\n",
              "<table border=\"1\" class=\"dataframe\">\n",
              "  <thead>\n",
              "    <tr style=\"text-align: right;\">\n",
              "      <th></th>\n",
              "      <th>a</th>\n",
              "      <th>b</th>\n",
              "      <th>c</th>\n",
              "      <th>d</th>\n",
              "      <th>e</th>\n",
              "    </tr>\n",
              "  </thead>\n",
              "  <tbody>\n",
              "    <tr>\n",
              "      <th>0</th>\n",
              "      <td>0.0</td>\n",
              "      <td>1.0</td>\n",
              "      <td>2.0</td>\n",
              "      <td>3.0</td>\n",
              "      <td>4.0</td>\n",
              "    </tr>\n",
              "    <tr>\n",
              "      <th>1</th>\n",
              "      <td>5.0</td>\n",
              "      <td>NaN</td>\n",
              "      <td>7.0</td>\n",
              "      <td>8.0</td>\n",
              "      <td>9.0</td>\n",
              "    </tr>\n",
              "    <tr>\n",
              "      <th>2</th>\n",
              "      <td>10.0</td>\n",
              "      <td>11.0</td>\n",
              "      <td>12.0</td>\n",
              "      <td>13.0</td>\n",
              "      <td>14.0</td>\n",
              "    </tr>\n",
              "    <tr>\n",
              "      <th>3</th>\n",
              "      <td>15.0</td>\n",
              "      <td>16.0</td>\n",
              "      <td>17.0</td>\n",
              "      <td>18.0</td>\n",
              "      <td>19.0</td>\n",
              "    </tr>\n",
              "  </tbody>\n",
              "</table>\n",
              "</div>"
            ],
            "text/plain": [
              "      a     b     c     d     e\n",
              "0   0.0   1.0   2.0   3.0   4.0\n",
              "1   5.0   NaN   7.0   8.0   9.0\n",
              "2  10.0  11.0  12.0  13.0  14.0\n",
              "3  15.0  16.0  17.0  18.0  19.0"
            ]
          },
          "metadata": {
            "tags": []
          },
          "execution_count": 108
        }
      ]
    },
    {
      "cell_type": "code",
      "metadata": {
        "id": "ijf_7ZofjSVM",
        "colab": {
          "base_uri": "https://localhost:8080/",
          "height": 174
        },
        "outputId": "19dfddb1-dccb-4091-ce4f-0548730bd0c8"
      },
      "source": [
        "df1 + df2"
      ],
      "execution_count": null,
      "outputs": [
        {
          "output_type": "execute_result",
          "data": {
            "text/html": [
              "<div>\n",
              "<style scoped>\n",
              "    .dataframe tbody tr th:only-of-type {\n",
              "        vertical-align: middle;\n",
              "    }\n",
              "\n",
              "    .dataframe tbody tr th {\n",
              "        vertical-align: top;\n",
              "    }\n",
              "\n",
              "    .dataframe thead th {\n",
              "        text-align: right;\n",
              "    }\n",
              "</style>\n",
              "<table border=\"1\" class=\"dataframe\">\n",
              "  <thead>\n",
              "    <tr style=\"text-align: right;\">\n",
              "      <th></th>\n",
              "      <th>a</th>\n",
              "      <th>b</th>\n",
              "      <th>c</th>\n",
              "      <th>d</th>\n",
              "      <th>e</th>\n",
              "    </tr>\n",
              "  </thead>\n",
              "  <tbody>\n",
              "    <tr>\n",
              "      <th>0</th>\n",
              "      <td>0.0</td>\n",
              "      <td>2.0</td>\n",
              "      <td>4.0</td>\n",
              "      <td>6.0</td>\n",
              "      <td>NaN</td>\n",
              "    </tr>\n",
              "    <tr>\n",
              "      <th>1</th>\n",
              "      <td>9.0</td>\n",
              "      <td>NaN</td>\n",
              "      <td>13.0</td>\n",
              "      <td>15.0</td>\n",
              "      <td>NaN</td>\n",
              "    </tr>\n",
              "    <tr>\n",
              "      <th>2</th>\n",
              "      <td>18.0</td>\n",
              "      <td>20.0</td>\n",
              "      <td>22.0</td>\n",
              "      <td>24.0</td>\n",
              "      <td>NaN</td>\n",
              "    </tr>\n",
              "    <tr>\n",
              "      <th>3</th>\n",
              "      <td>NaN</td>\n",
              "      <td>NaN</td>\n",
              "      <td>NaN</td>\n",
              "      <td>NaN</td>\n",
              "      <td>NaN</td>\n",
              "    </tr>\n",
              "  </tbody>\n",
              "</table>\n",
              "</div>"
            ],
            "text/plain": [
              "      a     b     c     d   e\n",
              "0   0.0   2.0   4.0   6.0 NaN\n",
              "1   9.0   NaN  13.0  15.0 NaN\n",
              "2  18.0  20.0  22.0  24.0 NaN\n",
              "3   NaN   NaN   NaN   NaN NaN"
            ]
          },
          "metadata": {
            "tags": []
          },
          "execution_count": 109
        }
      ]
    },
    {
      "cell_type": "code",
      "metadata": {
        "id": "GguveipfjY54",
        "colab": {
          "base_uri": "https://localhost:8080/",
          "height": 174
        },
        "outputId": "c0347d9c-f9fd-45d2-802e-aa821d095116"
      },
      "source": [
        "df1.add(df2, fill_value=0)"
      ],
      "execution_count": null,
      "outputs": [
        {
          "output_type": "execute_result",
          "data": {
            "text/html": [
              "<div>\n",
              "<style scoped>\n",
              "    .dataframe tbody tr th:only-of-type {\n",
              "        vertical-align: middle;\n",
              "    }\n",
              "\n",
              "    .dataframe tbody tr th {\n",
              "        vertical-align: top;\n",
              "    }\n",
              "\n",
              "    .dataframe thead th {\n",
              "        text-align: right;\n",
              "    }\n",
              "</style>\n",
              "<table border=\"1\" class=\"dataframe\">\n",
              "  <thead>\n",
              "    <tr style=\"text-align: right;\">\n",
              "      <th></th>\n",
              "      <th>a</th>\n",
              "      <th>b</th>\n",
              "      <th>c</th>\n",
              "      <th>d</th>\n",
              "      <th>e</th>\n",
              "    </tr>\n",
              "  </thead>\n",
              "  <tbody>\n",
              "    <tr>\n",
              "      <th>0</th>\n",
              "      <td>0.0</td>\n",
              "      <td>2.0</td>\n",
              "      <td>4.0</td>\n",
              "      <td>6.0</td>\n",
              "      <td>4.0</td>\n",
              "    </tr>\n",
              "    <tr>\n",
              "      <th>1</th>\n",
              "      <td>9.0</td>\n",
              "      <td>5.0</td>\n",
              "      <td>13.0</td>\n",
              "      <td>15.0</td>\n",
              "      <td>9.0</td>\n",
              "    </tr>\n",
              "    <tr>\n",
              "      <th>2</th>\n",
              "      <td>18.0</td>\n",
              "      <td>20.0</td>\n",
              "      <td>22.0</td>\n",
              "      <td>24.0</td>\n",
              "      <td>14.0</td>\n",
              "    </tr>\n",
              "    <tr>\n",
              "      <th>3</th>\n",
              "      <td>15.0</td>\n",
              "      <td>16.0</td>\n",
              "      <td>17.0</td>\n",
              "      <td>18.0</td>\n",
              "      <td>19.0</td>\n",
              "    </tr>\n",
              "  </tbody>\n",
              "</table>\n",
              "</div>"
            ],
            "text/plain": [
              "      a     b     c     d     e\n",
              "0   0.0   2.0   4.0   6.0   4.0\n",
              "1   9.0   5.0  13.0  15.0   9.0\n",
              "2  18.0  20.0  22.0  24.0  14.0\n",
              "3  15.0  16.0  17.0  18.0  19.0"
            ]
          },
          "metadata": {
            "tags": []
          },
          "execution_count": 110
        }
      ]
    },
    {
      "cell_type": "code",
      "metadata": {
        "id": "xjGhKa32jfV5",
        "colab": {
          "base_uri": "https://localhost:8080/",
          "height": 143
        },
        "outputId": "53909432-d266-4863-c2e5-98e1e41523da"
      },
      "source": [
        "1 / df1"
      ],
      "execution_count": null,
      "outputs": [
        {
          "output_type": "execute_result",
          "data": {
            "text/html": [
              "<div>\n",
              "<style scoped>\n",
              "    .dataframe tbody tr th:only-of-type {\n",
              "        vertical-align: middle;\n",
              "    }\n",
              "\n",
              "    .dataframe tbody tr th {\n",
              "        vertical-align: top;\n",
              "    }\n",
              "\n",
              "    .dataframe thead th {\n",
              "        text-align: right;\n",
              "    }\n",
              "</style>\n",
              "<table border=\"1\" class=\"dataframe\">\n",
              "  <thead>\n",
              "    <tr style=\"text-align: right;\">\n",
              "      <th></th>\n",
              "      <th>a</th>\n",
              "      <th>b</th>\n",
              "      <th>c</th>\n",
              "      <th>d</th>\n",
              "    </tr>\n",
              "  </thead>\n",
              "  <tbody>\n",
              "    <tr>\n",
              "      <th>0</th>\n",
              "      <td>inf</td>\n",
              "      <td>1.000000</td>\n",
              "      <td>0.500000</td>\n",
              "      <td>0.333333</td>\n",
              "    </tr>\n",
              "    <tr>\n",
              "      <th>1</th>\n",
              "      <td>0.250</td>\n",
              "      <td>0.200000</td>\n",
              "      <td>0.166667</td>\n",
              "      <td>0.142857</td>\n",
              "    </tr>\n",
              "    <tr>\n",
              "      <th>2</th>\n",
              "      <td>0.125</td>\n",
              "      <td>0.111111</td>\n",
              "      <td>0.100000</td>\n",
              "      <td>0.090909</td>\n",
              "    </tr>\n",
              "  </tbody>\n",
              "</table>\n",
              "</div>"
            ],
            "text/plain": [
              "       a         b         c         d\n",
              "0    inf  1.000000  0.500000  0.333333\n",
              "1  0.250  0.200000  0.166667  0.142857\n",
              "2  0.125  0.111111  0.100000  0.090909"
            ]
          },
          "metadata": {
            "tags": []
          },
          "execution_count": 111
        }
      ]
    },
    {
      "cell_type": "code",
      "metadata": {
        "id": "UFgUZ9Hvjqf_",
        "colab": {
          "base_uri": "https://localhost:8080/",
          "height": 143
        },
        "outputId": "94c45a7e-79b1-442e-f43b-e98538d7a148"
      },
      "source": [
        "df1.rdiv(1)"
      ],
      "execution_count": null,
      "outputs": [
        {
          "output_type": "execute_result",
          "data": {
            "text/html": [
              "<div>\n",
              "<style scoped>\n",
              "    .dataframe tbody tr th:only-of-type {\n",
              "        vertical-align: middle;\n",
              "    }\n",
              "\n",
              "    .dataframe tbody tr th {\n",
              "        vertical-align: top;\n",
              "    }\n",
              "\n",
              "    .dataframe thead th {\n",
              "        text-align: right;\n",
              "    }\n",
              "</style>\n",
              "<table border=\"1\" class=\"dataframe\">\n",
              "  <thead>\n",
              "    <tr style=\"text-align: right;\">\n",
              "      <th></th>\n",
              "      <th>a</th>\n",
              "      <th>b</th>\n",
              "      <th>c</th>\n",
              "      <th>d</th>\n",
              "    </tr>\n",
              "  </thead>\n",
              "  <tbody>\n",
              "    <tr>\n",
              "      <th>0</th>\n",
              "      <td>inf</td>\n",
              "      <td>1.000000</td>\n",
              "      <td>0.500000</td>\n",
              "      <td>0.333333</td>\n",
              "    </tr>\n",
              "    <tr>\n",
              "      <th>1</th>\n",
              "      <td>0.250</td>\n",
              "      <td>0.200000</td>\n",
              "      <td>0.166667</td>\n",
              "      <td>0.142857</td>\n",
              "    </tr>\n",
              "    <tr>\n",
              "      <th>2</th>\n",
              "      <td>0.125</td>\n",
              "      <td>0.111111</td>\n",
              "      <td>0.100000</td>\n",
              "      <td>0.090909</td>\n",
              "    </tr>\n",
              "  </tbody>\n",
              "</table>\n",
              "</div>"
            ],
            "text/plain": [
              "       a         b         c         d\n",
              "0    inf  1.000000  0.500000  0.333333\n",
              "1  0.250  0.200000  0.166667  0.142857\n",
              "2  0.125  0.111111  0.100000  0.090909"
            ]
          },
          "metadata": {
            "tags": []
          },
          "execution_count": 112
        }
      ]
    },
    {
      "cell_type": "markdown",
      "metadata": {
        "id": "eLF9c9KZj1Iw"
      },
      "source": [
        "Les méthodes arithmétiques:\n",
        "\n",
        "Méthode | Description\n",
        "-- | --\n",
        "add, radd | Méthodes pour l'addition\n",
        "sub, rsub | Méthodes pour la soustraction\n",
        "div, rdiv | Méthodes pour la division\n",
        "floordiv, rfloordiv | Méthodes pour la division entière\n",
        "mul, rmul | Méthodes pour la multiplication (*)\n",
        "pow, rpow | Méthodes pour la puissance (**)"
      ]
    },
    {
      "cell_type": "code",
      "metadata": {
        "id": "l7eeBFJVkW_n"
      },
      "source": [
        "import pandas as pd\n",
        "\n",
        "import numpy as np\n"
      ],
      "execution_count": 4,
      "outputs": []
    },
    {
      "cell_type": "code",
      "metadata": {
        "id": "-p8DZVutkFBg"
      },
      "source": [
        "df1 = pd.DataFrame(np.arange(1, 5).reshape(2, 2), columns=list('ab'))"
      ],
      "execution_count": 11,
      "outputs": []
    },
    {
      "cell_type": "code",
      "metadata": {
        "colab": {
          "base_uri": "https://localhost:8080/",
          "height": 111
        },
        "id": "h-YXav6Tkhm_",
        "outputId": "de567405-01d2-4573-e8a3-5f57fdecfb25"
      },
      "source": [
        "df1"
      ],
      "execution_count": 12,
      "outputs": [
        {
          "output_type": "execute_result",
          "data": {
            "text/html": [
              "<div>\n",
              "<style scoped>\n",
              "    .dataframe tbody tr th:only-of-type {\n",
              "        vertical-align: middle;\n",
              "    }\n",
              "\n",
              "    .dataframe tbody tr th {\n",
              "        vertical-align: top;\n",
              "    }\n",
              "\n",
              "    .dataframe thead th {\n",
              "        text-align: right;\n",
              "    }\n",
              "</style>\n",
              "<table border=\"1\" class=\"dataframe\">\n",
              "  <thead>\n",
              "    <tr style=\"text-align: right;\">\n",
              "      <th></th>\n",
              "      <th>a</th>\n",
              "      <th>b</th>\n",
              "    </tr>\n",
              "  </thead>\n",
              "  <tbody>\n",
              "    <tr>\n",
              "      <th>0</th>\n",
              "      <td>1</td>\n",
              "      <td>2</td>\n",
              "    </tr>\n",
              "    <tr>\n",
              "      <th>1</th>\n",
              "      <td>3</td>\n",
              "      <td>4</td>\n",
              "    </tr>\n",
              "  </tbody>\n",
              "</table>\n",
              "</div>"
            ],
            "text/plain": [
              "   a  b\n",
              "0  1  2\n",
              "1  3  4"
            ]
          },
          "metadata": {
            "tags": []
          },
          "execution_count": 12
        }
      ]
    },
    {
      "cell_type": "code",
      "metadata": {
        "id": "MmT3ixWVkVNc"
      },
      "source": [
        "df2 = pd.DataFrame(np.arange(1, 8, 2).reshape(2, 2), columns=list('ab'))"
      ],
      "execution_count": 15,
      "outputs": []
    },
    {
      "cell_type": "code",
      "metadata": {
        "colab": {
          "base_uri": "https://localhost:8080/",
          "height": 111
        },
        "id": "MGuFXxOQlJav",
        "outputId": "5c53b948-3184-4c3f-ca16-0b293b153709"
      },
      "source": [
        "df2"
      ],
      "execution_count": 16,
      "outputs": [
        {
          "output_type": "execute_result",
          "data": {
            "text/html": [
              "<div>\n",
              "<style scoped>\n",
              "    .dataframe tbody tr th:only-of-type {\n",
              "        vertical-align: middle;\n",
              "    }\n",
              "\n",
              "    .dataframe tbody tr th {\n",
              "        vertical-align: top;\n",
              "    }\n",
              "\n",
              "    .dataframe thead th {\n",
              "        text-align: right;\n",
              "    }\n",
              "</style>\n",
              "<table border=\"1\" class=\"dataframe\">\n",
              "  <thead>\n",
              "    <tr style=\"text-align: right;\">\n",
              "      <th></th>\n",
              "      <th>a</th>\n",
              "      <th>b</th>\n",
              "    </tr>\n",
              "  </thead>\n",
              "  <tbody>\n",
              "    <tr>\n",
              "      <th>0</th>\n",
              "      <td>1</td>\n",
              "      <td>3</td>\n",
              "    </tr>\n",
              "    <tr>\n",
              "      <th>1</th>\n",
              "      <td>5</td>\n",
              "      <td>7</td>\n",
              "    </tr>\n",
              "  </tbody>\n",
              "</table>\n",
              "</div>"
            ],
            "text/plain": [
              "   a  b\n",
              "0  1  3\n",
              "1  5  7"
            ]
          },
          "metadata": {
            "tags": []
          },
          "execution_count": 16
        }
      ]
    },
    {
      "cell_type": "code",
      "metadata": {
        "colab": {
          "base_uri": "https://localhost:8080/",
          "height": 111
        },
        "id": "pesAXIaylM4a",
        "outputId": "d488c905-1e24-4192-d2a1-769100971d54"
      },
      "source": [
        "df2 / 1"
      ],
      "execution_count": 17,
      "outputs": [
        {
          "output_type": "execute_result",
          "data": {
            "text/html": [
              "<div>\n",
              "<style scoped>\n",
              "    .dataframe tbody tr th:only-of-type {\n",
              "        vertical-align: middle;\n",
              "    }\n",
              "\n",
              "    .dataframe tbody tr th {\n",
              "        vertical-align: top;\n",
              "    }\n",
              "\n",
              "    .dataframe thead th {\n",
              "        text-align: right;\n",
              "    }\n",
              "</style>\n",
              "<table border=\"1\" class=\"dataframe\">\n",
              "  <thead>\n",
              "    <tr style=\"text-align: right;\">\n",
              "      <th></th>\n",
              "      <th>a</th>\n",
              "      <th>b</th>\n",
              "    </tr>\n",
              "  </thead>\n",
              "  <tbody>\n",
              "    <tr>\n",
              "      <th>0</th>\n",
              "      <td>1.0</td>\n",
              "      <td>3.0</td>\n",
              "    </tr>\n",
              "    <tr>\n",
              "      <th>1</th>\n",
              "      <td>5.0</td>\n",
              "      <td>7.0</td>\n",
              "    </tr>\n",
              "  </tbody>\n",
              "</table>\n",
              "</div>"
            ],
            "text/plain": [
              "     a    b\n",
              "0  1.0  3.0\n",
              "1  5.0  7.0"
            ]
          },
          "metadata": {
            "tags": []
          },
          "execution_count": 17
        }
      ]
    },
    {
      "cell_type": "code",
      "metadata": {
        "colab": {
          "base_uri": "https://localhost:8080/",
          "height": 111
        },
        "id": "FTlfOBDolXmf",
        "outputId": "97c3b9e8-ead7-40d6-86af-c2c6fc4d31f2"
      },
      "source": [
        "1 / df2"
      ],
      "execution_count": 18,
      "outputs": [
        {
          "output_type": "execute_result",
          "data": {
            "text/html": [
              "<div>\n",
              "<style scoped>\n",
              "    .dataframe tbody tr th:only-of-type {\n",
              "        vertical-align: middle;\n",
              "    }\n",
              "\n",
              "    .dataframe tbody tr th {\n",
              "        vertical-align: top;\n",
              "    }\n",
              "\n",
              "    .dataframe thead th {\n",
              "        text-align: right;\n",
              "    }\n",
              "</style>\n",
              "<table border=\"1\" class=\"dataframe\">\n",
              "  <thead>\n",
              "    <tr style=\"text-align: right;\">\n",
              "      <th></th>\n",
              "      <th>a</th>\n",
              "      <th>b</th>\n",
              "    </tr>\n",
              "  </thead>\n",
              "  <tbody>\n",
              "    <tr>\n",
              "      <th>0</th>\n",
              "      <td>1.0</td>\n",
              "      <td>0.333333</td>\n",
              "    </tr>\n",
              "    <tr>\n",
              "      <th>1</th>\n",
              "      <td>0.2</td>\n",
              "      <td>0.142857</td>\n",
              "    </tr>\n",
              "  </tbody>\n",
              "</table>\n",
              "</div>"
            ],
            "text/plain": [
              "     a         b\n",
              "0  1.0  0.333333\n",
              "1  0.2  0.142857"
            ]
          },
          "metadata": {
            "tags": []
          },
          "execution_count": 18
        }
      ]
    },
    {
      "cell_type": "code",
      "metadata": {
        "colab": {
          "base_uri": "https://localhost:8080/",
          "height": 111
        },
        "id": "2LdgWjd3lgPi",
        "outputId": "4c42c3b2-a52b-4347-8306-cbe4add87694"
      },
      "source": [
        "df2.div(1)"
      ],
      "execution_count": 19,
      "outputs": [
        {
          "output_type": "execute_result",
          "data": {
            "text/html": [
              "<div>\n",
              "<style scoped>\n",
              "    .dataframe tbody tr th:only-of-type {\n",
              "        vertical-align: middle;\n",
              "    }\n",
              "\n",
              "    .dataframe tbody tr th {\n",
              "        vertical-align: top;\n",
              "    }\n",
              "\n",
              "    .dataframe thead th {\n",
              "        text-align: right;\n",
              "    }\n",
              "</style>\n",
              "<table border=\"1\" class=\"dataframe\">\n",
              "  <thead>\n",
              "    <tr style=\"text-align: right;\">\n",
              "      <th></th>\n",
              "      <th>a</th>\n",
              "      <th>b</th>\n",
              "    </tr>\n",
              "  </thead>\n",
              "  <tbody>\n",
              "    <tr>\n",
              "      <th>0</th>\n",
              "      <td>1.0</td>\n",
              "      <td>3.0</td>\n",
              "    </tr>\n",
              "    <tr>\n",
              "      <th>1</th>\n",
              "      <td>5.0</td>\n",
              "      <td>7.0</td>\n",
              "    </tr>\n",
              "  </tbody>\n",
              "</table>\n",
              "</div>"
            ],
            "text/plain": [
              "     a    b\n",
              "0  1.0  3.0\n",
              "1  5.0  7.0"
            ]
          },
          "metadata": {
            "tags": []
          },
          "execution_count": 19
        }
      ]
    },
    {
      "cell_type": "code",
      "metadata": {
        "colab": {
          "base_uri": "https://localhost:8080/",
          "height": 111
        },
        "id": "8X289X74l10A",
        "outputId": "3b74e48a-1a83-4750-df81-64a0f745dc1d"
      },
      "source": [
        "1 / df2"
      ],
      "execution_count": 22,
      "outputs": [
        {
          "output_type": "execute_result",
          "data": {
            "text/html": [
              "<div>\n",
              "<style scoped>\n",
              "    .dataframe tbody tr th:only-of-type {\n",
              "        vertical-align: middle;\n",
              "    }\n",
              "\n",
              "    .dataframe tbody tr th {\n",
              "        vertical-align: top;\n",
              "    }\n",
              "\n",
              "    .dataframe thead th {\n",
              "        text-align: right;\n",
              "    }\n",
              "</style>\n",
              "<table border=\"1\" class=\"dataframe\">\n",
              "  <thead>\n",
              "    <tr style=\"text-align: right;\">\n",
              "      <th></th>\n",
              "      <th>a</th>\n",
              "      <th>b</th>\n",
              "    </tr>\n",
              "  </thead>\n",
              "  <tbody>\n",
              "    <tr>\n",
              "      <th>0</th>\n",
              "      <td>1.0</td>\n",
              "      <td>0.333333</td>\n",
              "    </tr>\n",
              "    <tr>\n",
              "      <th>1</th>\n",
              "      <td>0.2</td>\n",
              "      <td>0.142857</td>\n",
              "    </tr>\n",
              "  </tbody>\n",
              "</table>\n",
              "</div>"
            ],
            "text/plain": [
              "     a         b\n",
              "0  1.0  0.333333\n",
              "1  0.2  0.142857"
            ]
          },
          "metadata": {
            "tags": []
          },
          "execution_count": 22
        }
      ]
    },
    {
      "cell_type": "code",
      "metadata": {
        "colab": {
          "base_uri": "https://localhost:8080/",
          "height": 111
        },
        "id": "bVj6GFUFllnH",
        "outputId": "1d7b51d7-4514-4fc6-8044-7c3264bf0231"
      },
      "source": [
        "df2.rdiv(1)"
      ],
      "execution_count": 21,
      "outputs": [
        {
          "output_type": "execute_result",
          "data": {
            "text/html": [
              "<div>\n",
              "<style scoped>\n",
              "    .dataframe tbody tr th:only-of-type {\n",
              "        vertical-align: middle;\n",
              "    }\n",
              "\n",
              "    .dataframe tbody tr th {\n",
              "        vertical-align: top;\n",
              "    }\n",
              "\n",
              "    .dataframe thead th {\n",
              "        text-align: right;\n",
              "    }\n",
              "</style>\n",
              "<table border=\"1\" class=\"dataframe\">\n",
              "  <thead>\n",
              "    <tr style=\"text-align: right;\">\n",
              "      <th></th>\n",
              "      <th>a</th>\n",
              "      <th>b</th>\n",
              "    </tr>\n",
              "  </thead>\n",
              "  <tbody>\n",
              "    <tr>\n",
              "      <th>0</th>\n",
              "      <td>1.0</td>\n",
              "      <td>0.333333</td>\n",
              "    </tr>\n",
              "    <tr>\n",
              "      <th>1</th>\n",
              "      <td>0.2</td>\n",
              "      <td>0.142857</td>\n",
              "    </tr>\n",
              "  </tbody>\n",
              "</table>\n",
              "</div>"
            ],
            "text/plain": [
              "     a         b\n",
              "0  1.0  0.333333\n",
              "1  0.2  0.142857"
            ]
          },
          "metadata": {
            "tags": []
          },
          "execution_count": 21
        }
      ]
    },
    {
      "cell_type": "code",
      "metadata": {
        "id": "P3qP2igDlqyC"
      },
      "source": [
        ""
      ],
      "execution_count": null,
      "outputs": []
    },
    {
      "cell_type": "markdown",
      "metadata": {
        "id": "jnoqScltkmxk"
      },
      "source": [
        "**Opérations entre DataFrame et Series**\n",
        "\n",
        "Les opérations arithmétiques entre un DataFrame et une Series sont aussi bien définies:"
      ]
    },
    {
      "cell_type": "code",
      "metadata": {
        "id": "f0K3OC1mjtVb"
      },
      "source": [
        "frame = pd.DataFrame(np.arange(12.).reshape((4, 3)),\n",
        "                     columns=list('bde'),\n",
        "                     index=['Utah', 'Ohio', 'Texas', 'Oregon'])"
      ],
      "execution_count": 25,
      "outputs": []
    },
    {
      "cell_type": "code",
      "metadata": {
        "id": "enMAS5wHlGZJ"
      },
      "source": [
        "series = frame.iloc[0]"
      ],
      "execution_count": 26,
      "outputs": []
    },
    {
      "cell_type": "code",
      "metadata": {
        "id": "Ut9xsL3VlKG4",
        "colab": {
          "base_uri": "https://localhost:8080/",
          "height": 174
        },
        "outputId": "4a89c329-f89a-4769-96bf-78886a236c47"
      },
      "source": [
        "frame"
      ],
      "execution_count": null,
      "outputs": [
        {
          "output_type": "execute_result",
          "data": {
            "text/html": [
              "<div>\n",
              "<style scoped>\n",
              "    .dataframe tbody tr th:only-of-type {\n",
              "        vertical-align: middle;\n",
              "    }\n",
              "\n",
              "    .dataframe tbody tr th {\n",
              "        vertical-align: top;\n",
              "    }\n",
              "\n",
              "    .dataframe thead th {\n",
              "        text-align: right;\n",
              "    }\n",
              "</style>\n",
              "<table border=\"1\" class=\"dataframe\">\n",
              "  <thead>\n",
              "    <tr style=\"text-align: right;\">\n",
              "      <th></th>\n",
              "      <th>b</th>\n",
              "      <th>d</th>\n",
              "      <th>e</th>\n",
              "    </tr>\n",
              "  </thead>\n",
              "  <tbody>\n",
              "    <tr>\n",
              "      <th>Utah</th>\n",
              "      <td>0.0</td>\n",
              "      <td>1.0</td>\n",
              "      <td>2.0</td>\n",
              "    </tr>\n",
              "    <tr>\n",
              "      <th>Ohio</th>\n",
              "      <td>3.0</td>\n",
              "      <td>4.0</td>\n",
              "      <td>5.0</td>\n",
              "    </tr>\n",
              "    <tr>\n",
              "      <th>Texas</th>\n",
              "      <td>6.0</td>\n",
              "      <td>7.0</td>\n",
              "      <td>8.0</td>\n",
              "    </tr>\n",
              "    <tr>\n",
              "      <th>Oregon</th>\n",
              "      <td>9.0</td>\n",
              "      <td>10.0</td>\n",
              "      <td>11.0</td>\n",
              "    </tr>\n",
              "  </tbody>\n",
              "</table>\n",
              "</div>"
            ],
            "text/plain": [
              "          b     d     e\n",
              "Utah    0.0   1.0   2.0\n",
              "Ohio    3.0   4.0   5.0\n",
              "Texas   6.0   7.0   8.0\n",
              "Oregon  9.0  10.0  11.0"
            ]
          },
          "metadata": {
            "tags": []
          },
          "execution_count": 115
        }
      ]
    },
    {
      "cell_type": "code",
      "metadata": {
        "id": "8Y_AjMLZlLVA",
        "colab": {
          "base_uri": "https://localhost:8080/"
        },
        "outputId": "1f147092-6942-4102-9c8d-418aa0240f90"
      },
      "source": [
        "series"
      ],
      "execution_count": null,
      "outputs": [
        {
          "output_type": "execute_result",
          "data": {
            "text/plain": [
              "b    0.0\n",
              "d    1.0\n",
              "e    2.0\n",
              "Name: Utah, dtype: float64"
            ]
          },
          "metadata": {
            "tags": []
          },
          "execution_count": 116
        }
      ]
    },
    {
      "cell_type": "code",
      "metadata": {
        "id": "mKn0QbC_lN8y",
        "colab": {
          "base_uri": "https://localhost:8080/",
          "height": 174
        },
        "outputId": "46c90562-e052-4365-c22e-3e6abaa78233"
      },
      "source": [
        "frame - series"
      ],
      "execution_count": null,
      "outputs": [
        {
          "output_type": "execute_result",
          "data": {
            "text/html": [
              "<div>\n",
              "<style scoped>\n",
              "    .dataframe tbody tr th:only-of-type {\n",
              "        vertical-align: middle;\n",
              "    }\n",
              "\n",
              "    .dataframe tbody tr th {\n",
              "        vertical-align: top;\n",
              "    }\n",
              "\n",
              "    .dataframe thead th {\n",
              "        text-align: right;\n",
              "    }\n",
              "</style>\n",
              "<table border=\"1\" class=\"dataframe\">\n",
              "  <thead>\n",
              "    <tr style=\"text-align: right;\">\n",
              "      <th></th>\n",
              "      <th>b</th>\n",
              "      <th>d</th>\n",
              "      <th>e</th>\n",
              "    </tr>\n",
              "  </thead>\n",
              "  <tbody>\n",
              "    <tr>\n",
              "      <th>Utah</th>\n",
              "      <td>0.0</td>\n",
              "      <td>0.0</td>\n",
              "      <td>0.0</td>\n",
              "    </tr>\n",
              "    <tr>\n",
              "      <th>Ohio</th>\n",
              "      <td>3.0</td>\n",
              "      <td>3.0</td>\n",
              "      <td>3.0</td>\n",
              "    </tr>\n",
              "    <tr>\n",
              "      <th>Texas</th>\n",
              "      <td>6.0</td>\n",
              "      <td>6.0</td>\n",
              "      <td>6.0</td>\n",
              "    </tr>\n",
              "    <tr>\n",
              "      <th>Oregon</th>\n",
              "      <td>9.0</td>\n",
              "      <td>9.0</td>\n",
              "      <td>9.0</td>\n",
              "    </tr>\n",
              "  </tbody>\n",
              "</table>\n",
              "</div>"
            ],
            "text/plain": [
              "          b    d    e\n",
              "Utah    0.0  0.0  0.0\n",
              "Ohio    3.0  3.0  3.0\n",
              "Texas   6.0  6.0  6.0\n",
              "Oregon  9.0  9.0  9.0"
            ]
          },
          "metadata": {
            "tags": []
          },
          "execution_count": 117
        }
      ]
    },
    {
      "cell_type": "markdown",
      "metadata": {
        "id": "JqEBxi74lWMD"
      },
      "source": [
        "Si une valeur d'index n'est pas trouvée dans le DataFrame ou le Series, les deux objets vont être réindexés pour former l'union:"
      ]
    },
    {
      "cell_type": "code",
      "metadata": {
        "id": "NUMfZEUWlS1Q"
      },
      "source": [
        "series2 = pd.Series(range(3), index=['b', 'e', 'f'])"
      ],
      "execution_count": 24,
      "outputs": []
    },
    {
      "cell_type": "code",
      "metadata": {
        "id": "QH2Gws4elm1o",
        "colab": {
          "base_uri": "https://localhost:8080/",
          "height": 174
        },
        "outputId": "3a9f73e5-ba43-43d1-98ca-4552f706d615"
      },
      "source": [
        "frame + series2"
      ],
      "execution_count": null,
      "outputs": [
        {
          "output_type": "execute_result",
          "data": {
            "text/html": [
              "<div>\n",
              "<style scoped>\n",
              "    .dataframe tbody tr th:only-of-type {\n",
              "        vertical-align: middle;\n",
              "    }\n",
              "\n",
              "    .dataframe tbody tr th {\n",
              "        vertical-align: top;\n",
              "    }\n",
              "\n",
              "    .dataframe thead th {\n",
              "        text-align: right;\n",
              "    }\n",
              "</style>\n",
              "<table border=\"1\" class=\"dataframe\">\n",
              "  <thead>\n",
              "    <tr style=\"text-align: right;\">\n",
              "      <th></th>\n",
              "      <th>b</th>\n",
              "      <th>d</th>\n",
              "      <th>e</th>\n",
              "      <th>f</th>\n",
              "    </tr>\n",
              "  </thead>\n",
              "  <tbody>\n",
              "    <tr>\n",
              "      <th>Utah</th>\n",
              "      <td>0.0</td>\n",
              "      <td>NaN</td>\n",
              "      <td>3.0</td>\n",
              "      <td>NaN</td>\n",
              "    </tr>\n",
              "    <tr>\n",
              "      <th>Ohio</th>\n",
              "      <td>3.0</td>\n",
              "      <td>NaN</td>\n",
              "      <td>6.0</td>\n",
              "      <td>NaN</td>\n",
              "    </tr>\n",
              "    <tr>\n",
              "      <th>Texas</th>\n",
              "      <td>6.0</td>\n",
              "      <td>NaN</td>\n",
              "      <td>9.0</td>\n",
              "      <td>NaN</td>\n",
              "    </tr>\n",
              "    <tr>\n",
              "      <th>Oregon</th>\n",
              "      <td>9.0</td>\n",
              "      <td>NaN</td>\n",
              "      <td>12.0</td>\n",
              "      <td>NaN</td>\n",
              "    </tr>\n",
              "  </tbody>\n",
              "</table>\n",
              "</div>"
            ],
            "text/plain": [
              "          b   d     e   f\n",
              "Utah    0.0 NaN   3.0 NaN\n",
              "Ohio    3.0 NaN   6.0 NaN\n",
              "Texas   6.0 NaN   9.0 NaN\n",
              "Oregon  9.0 NaN  12.0 NaN"
            ]
          },
          "metadata": {
            "tags": []
          },
          "execution_count": 119
        }
      ]
    },
    {
      "cell_type": "markdown",
      "metadata": {
        "id": "LY-bivqDltTl"
      },
      "source": [
        "Si on peut propager \"broadcasting\" les valeurs selon les colonnes:"
      ]
    },
    {
      "cell_type": "code",
      "metadata": {
        "id": "duyzN_iyloYS"
      },
      "source": [
        "series3 = frame['d']"
      ],
      "execution_count": 28,
      "outputs": []
    },
    {
      "cell_type": "code",
      "metadata": {
        "id": "WnN4wdbNl5Kh",
        "colab": {
          "base_uri": "https://localhost:8080/",
          "height": 174
        },
        "outputId": "d614b38b-eafe-49c6-9d19-90716ec9ca02"
      },
      "source": [
        "frame"
      ],
      "execution_count": 29,
      "outputs": [
        {
          "output_type": "execute_result",
          "data": {
            "text/html": [
              "<div>\n",
              "<style scoped>\n",
              "    .dataframe tbody tr th:only-of-type {\n",
              "        vertical-align: middle;\n",
              "    }\n",
              "\n",
              "    .dataframe tbody tr th {\n",
              "        vertical-align: top;\n",
              "    }\n",
              "\n",
              "    .dataframe thead th {\n",
              "        text-align: right;\n",
              "    }\n",
              "</style>\n",
              "<table border=\"1\" class=\"dataframe\">\n",
              "  <thead>\n",
              "    <tr style=\"text-align: right;\">\n",
              "      <th></th>\n",
              "      <th>b</th>\n",
              "      <th>d</th>\n",
              "      <th>e</th>\n",
              "    </tr>\n",
              "  </thead>\n",
              "  <tbody>\n",
              "    <tr>\n",
              "      <th>Utah</th>\n",
              "      <td>0.0</td>\n",
              "      <td>1.0</td>\n",
              "      <td>2.0</td>\n",
              "    </tr>\n",
              "    <tr>\n",
              "      <th>Ohio</th>\n",
              "      <td>3.0</td>\n",
              "      <td>4.0</td>\n",
              "      <td>5.0</td>\n",
              "    </tr>\n",
              "    <tr>\n",
              "      <th>Texas</th>\n",
              "      <td>6.0</td>\n",
              "      <td>7.0</td>\n",
              "      <td>8.0</td>\n",
              "    </tr>\n",
              "    <tr>\n",
              "      <th>Oregon</th>\n",
              "      <td>9.0</td>\n",
              "      <td>10.0</td>\n",
              "      <td>11.0</td>\n",
              "    </tr>\n",
              "  </tbody>\n",
              "</table>\n",
              "</div>"
            ],
            "text/plain": [
              "          b     d     e\n",
              "Utah    0.0   1.0   2.0\n",
              "Ohio    3.0   4.0   5.0\n",
              "Texas   6.0   7.0   8.0\n",
              "Oregon  9.0  10.0  11.0"
            ]
          },
          "metadata": {
            "tags": []
          },
          "execution_count": 29
        }
      ]
    },
    {
      "cell_type": "code",
      "metadata": {
        "id": "QzdBlFSql6CG",
        "colab": {
          "base_uri": "https://localhost:8080/"
        },
        "outputId": "edd16820-065f-4029-e324-e8038d4385a3"
      },
      "source": [
        "series3"
      ],
      "execution_count": 30,
      "outputs": [
        {
          "output_type": "execute_result",
          "data": {
            "text/plain": [
              "Utah       1.0\n",
              "Ohio       4.0\n",
              "Texas      7.0\n",
              "Oregon    10.0\n",
              "Name: d, dtype: float64"
            ]
          },
          "metadata": {
            "tags": []
          },
          "execution_count": 30
        }
      ]
    },
    {
      "cell_type": "code",
      "metadata": {
        "id": "GJB_Jw_cl8-O",
        "colab": {
          "base_uri": "https://localhost:8080/",
          "height": 174
        },
        "outputId": "5d697912-da05-468a-d37d-7c156e52e75b"
      },
      "source": [
        "frame.sub(series3, axis=0)"
      ],
      "execution_count": 35,
      "outputs": [
        {
          "output_type": "execute_result",
          "data": {
            "text/html": [
              "<div>\n",
              "<style scoped>\n",
              "    .dataframe tbody tr th:only-of-type {\n",
              "        vertical-align: middle;\n",
              "    }\n",
              "\n",
              "    .dataframe tbody tr th {\n",
              "        vertical-align: top;\n",
              "    }\n",
              "\n",
              "    .dataframe thead th {\n",
              "        text-align: right;\n",
              "    }\n",
              "</style>\n",
              "<table border=\"1\" class=\"dataframe\">\n",
              "  <thead>\n",
              "    <tr style=\"text-align: right;\">\n",
              "      <th></th>\n",
              "      <th>b</th>\n",
              "      <th>d</th>\n",
              "      <th>e</th>\n",
              "    </tr>\n",
              "  </thead>\n",
              "  <tbody>\n",
              "    <tr>\n",
              "      <th>Utah</th>\n",
              "      <td>-1.0</td>\n",
              "      <td>0.0</td>\n",
              "      <td>1.0</td>\n",
              "    </tr>\n",
              "    <tr>\n",
              "      <th>Ohio</th>\n",
              "      <td>-1.0</td>\n",
              "      <td>0.0</td>\n",
              "      <td>1.0</td>\n",
              "    </tr>\n",
              "    <tr>\n",
              "      <th>Texas</th>\n",
              "      <td>-1.0</td>\n",
              "      <td>0.0</td>\n",
              "      <td>1.0</td>\n",
              "    </tr>\n",
              "    <tr>\n",
              "      <th>Oregon</th>\n",
              "      <td>-1.0</td>\n",
              "      <td>0.0</td>\n",
              "      <td>1.0</td>\n",
              "    </tr>\n",
              "  </tbody>\n",
              "</table>\n",
              "</div>"
            ],
            "text/plain": [
              "          b    d    e\n",
              "Utah   -1.0  0.0  1.0\n",
              "Ohio   -1.0  0.0  1.0\n",
              "Texas  -1.0  0.0  1.0\n",
              "Oregon -1.0  0.0  1.0"
            ]
          },
          "metadata": {
            "tags": []
          },
          "execution_count": 35
        }
      ]
    },
    {
      "cell_type": "markdown",
      "metadata": {
        "id": "CIxVPNacmKHJ"
      },
      "source": [
        "**Mapping**\n",
        "\n",
        "On peut appliquer une fonction à l'ensemble des éléments d'un DataFrame:"
      ]
    },
    {
      "cell_type": "code",
      "metadata": {
        "id": "aat78-oAmAHp"
      },
      "source": [
        "frame = pd.DataFrame(np.random.randn(4, 3), columns=list('bde'),\n",
        "                     index=['Utah', 'Ohio', 'Texas', 'Oregon'])"
      ],
      "execution_count": 37,
      "outputs": []
    },
    {
      "cell_type": "code",
      "metadata": {
        "id": "HP667DnImmOg",
        "colab": {
          "base_uri": "https://localhost:8080/",
          "height": 174
        },
        "outputId": "65def33e-bb69-463c-9e68-cbc8be5773d6"
      },
      "source": [
        "frame"
      ],
      "execution_count": 38,
      "outputs": [
        {
          "output_type": "execute_result",
          "data": {
            "text/html": [
              "<div>\n",
              "<style scoped>\n",
              "    .dataframe tbody tr th:only-of-type {\n",
              "        vertical-align: middle;\n",
              "    }\n",
              "\n",
              "    .dataframe tbody tr th {\n",
              "        vertical-align: top;\n",
              "    }\n",
              "\n",
              "    .dataframe thead th {\n",
              "        text-align: right;\n",
              "    }\n",
              "</style>\n",
              "<table border=\"1\" class=\"dataframe\">\n",
              "  <thead>\n",
              "    <tr style=\"text-align: right;\">\n",
              "      <th></th>\n",
              "      <th>b</th>\n",
              "      <th>d</th>\n",
              "      <th>e</th>\n",
              "    </tr>\n",
              "  </thead>\n",
              "  <tbody>\n",
              "    <tr>\n",
              "      <th>Utah</th>\n",
              "      <td>0.765126</td>\n",
              "      <td>-0.255286</td>\n",
              "      <td>0.234465</td>\n",
              "    </tr>\n",
              "    <tr>\n",
              "      <th>Ohio</th>\n",
              "      <td>0.889986</td>\n",
              "      <td>0.029849</td>\n",
              "      <td>0.168442</td>\n",
              "    </tr>\n",
              "    <tr>\n",
              "      <th>Texas</th>\n",
              "      <td>1.536293</td>\n",
              "      <td>1.158244</td>\n",
              "      <td>-1.293698</td>\n",
              "    </tr>\n",
              "    <tr>\n",
              "      <th>Oregon</th>\n",
              "      <td>-0.976465</td>\n",
              "      <td>-1.649021</td>\n",
              "      <td>-1.053667</td>\n",
              "    </tr>\n",
              "  </tbody>\n",
              "</table>\n",
              "</div>"
            ],
            "text/plain": [
              "               b         d         e\n",
              "Utah    0.765126 -0.255286  0.234465\n",
              "Ohio    0.889986  0.029849  0.168442\n",
              "Texas   1.536293  1.158244 -1.293698\n",
              "Oregon -0.976465 -1.649021 -1.053667"
            ]
          },
          "metadata": {
            "tags": []
          },
          "execution_count": 38
        }
      ]
    },
    {
      "cell_type": "code",
      "metadata": {
        "id": "kULPCSNRmnRQ",
        "colab": {
          "base_uri": "https://localhost:8080/",
          "height": 174
        },
        "outputId": "75ad70fb-b1ac-4da0-f625-335238b493d9"
      },
      "source": [
        "np.abs(frame)"
      ],
      "execution_count": 39,
      "outputs": [
        {
          "output_type": "execute_result",
          "data": {
            "text/html": [
              "<div>\n",
              "<style scoped>\n",
              "    .dataframe tbody tr th:only-of-type {\n",
              "        vertical-align: middle;\n",
              "    }\n",
              "\n",
              "    .dataframe tbody tr th {\n",
              "        vertical-align: top;\n",
              "    }\n",
              "\n",
              "    .dataframe thead th {\n",
              "        text-align: right;\n",
              "    }\n",
              "</style>\n",
              "<table border=\"1\" class=\"dataframe\">\n",
              "  <thead>\n",
              "    <tr style=\"text-align: right;\">\n",
              "      <th></th>\n",
              "      <th>b</th>\n",
              "      <th>d</th>\n",
              "      <th>e</th>\n",
              "    </tr>\n",
              "  </thead>\n",
              "  <tbody>\n",
              "    <tr>\n",
              "      <th>Utah</th>\n",
              "      <td>0.765126</td>\n",
              "      <td>0.255286</td>\n",
              "      <td>0.234465</td>\n",
              "    </tr>\n",
              "    <tr>\n",
              "      <th>Ohio</th>\n",
              "      <td>0.889986</td>\n",
              "      <td>0.029849</td>\n",
              "      <td>0.168442</td>\n",
              "    </tr>\n",
              "    <tr>\n",
              "      <th>Texas</th>\n",
              "      <td>1.536293</td>\n",
              "      <td>1.158244</td>\n",
              "      <td>1.293698</td>\n",
              "    </tr>\n",
              "    <tr>\n",
              "      <th>Oregon</th>\n",
              "      <td>0.976465</td>\n",
              "      <td>1.649021</td>\n",
              "      <td>1.053667</td>\n",
              "    </tr>\n",
              "  </tbody>\n",
              "</table>\n",
              "</div>"
            ],
            "text/plain": [
              "               b         d         e\n",
              "Utah    0.765126  0.255286  0.234465\n",
              "Ohio    0.889986  0.029849  0.168442\n",
              "Texas   1.536293  1.158244  1.293698\n",
              "Oregon  0.976465  1.649021  1.053667"
            ]
          },
          "metadata": {
            "tags": []
          },
          "execution_count": 39
        }
      ]
    },
    {
      "cell_type": "markdown",
      "metadata": {
        "id": "-23_-wF8myYq"
      },
      "source": [
        "La méthode **apply** permet d'appliquer une fonction à un tableau de valeurs:"
      ]
    },
    {
      "cell_type": "code",
      "metadata": {
        "id": "MdHIHwwXmq44"
      },
      "source": [
        "f = lambda x: x.max() - x.min()"
      ],
      "execution_count": 40,
      "outputs": []
    },
    {
      "cell_type": "markdown",
      "metadata": {
        "id": "9F1w9E4NoHhd"
      },
      "source": [
        "L'expression lambda précédente est équivalente à la fonction suivante:"
      ]
    },
    {
      "cell_type": "code",
      "metadata": {
        "id": "wb91U_mJnyG2"
      },
      "source": [
        "def f(x):\n",
        "  return x.max() - x.min()"
      ],
      "execution_count": 41,
      "outputs": []
    },
    {
      "cell_type": "code",
      "metadata": {
        "id": "-VdLeKBOnIwg",
        "colab": {
          "base_uri": "https://localhost:8080/"
        },
        "outputId": "87090415-98ea-4d85-e21b-d31b389a7865"
      },
      "source": [
        "frame.apply(f)"
      ],
      "execution_count": 42,
      "outputs": [
        {
          "output_type": "execute_result",
          "data": {
            "text/plain": [
              "b    2.512758\n",
              "d    2.807265\n",
              "e    1.528163\n",
              "dtype: float64"
            ]
          },
          "metadata": {
            "tags": []
          },
          "execution_count": 42
        }
      ]
    },
    {
      "cell_type": "markdown",
      "metadata": {
        "id": "-aLz1YheolTv"
      },
      "source": [
        "Comment on peut spécifier l'expression lambda directement à l'intérieur des fonctions qui acceptent des fonctions comme paramètres."
      ]
    },
    {
      "cell_type": "code",
      "metadata": {
        "colab": {
          "base_uri": "https://localhost:8080/"
        },
        "id": "0XyC0R08oez3",
        "outputId": "af884a40-3411-4633-f92f-6e5c00ae4cdb"
      },
      "source": [
        "frame.apply(lambda x: x.max() - x.min())"
      ],
      "execution_count": 43,
      "outputs": [
        {
          "output_type": "execute_result",
          "data": {
            "text/plain": [
              "b    2.512758\n",
              "d    2.807265\n",
              "e    1.528163\n",
              "dtype: float64"
            ]
          },
          "metadata": {
            "tags": []
          },
          "execution_count": 43
        }
      ]
    },
    {
      "cell_type": "markdown",
      "metadata": {
        "id": "xt46lJWLpava"
      },
      "source": [
        "On peut utiliser apply par exemple afin de normaliser ou de standariser notre dataset. Ces traitements sont souvent obligatoires pour certains algorithmes afin de mettre en placer un modèle de données convenable."
      ]
    },
    {
      "cell_type": "markdown",
      "metadata": {
        "id": "JxFc8XxSnRck"
      },
      "source": [
        "Si on passe axis='columns', la fonction sera invoquée par ligne;"
      ]
    },
    {
      "cell_type": "markdown",
      "metadata": {
        "id": "h4e7Osqgpum4"
      },
      "source": [
        "Exemple: Conversion d'une colonne contenant le montant de la devise $ vers €:"
      ]
    },
    {
      "cell_type": "code",
      "metadata": {
        "id": "PFYfEqyypuA6"
      },
      "source": [
        "df = np.abs(1000 * pd.DataFrame(np.random.randn(1000000).reshape(-1, 2), columns=['Montant HT', 'Montant TTC']))"
      ],
      "execution_count": 48,
      "outputs": []
    },
    {
      "cell_type": "code",
      "metadata": {
        "colab": {
          "base_uri": "https://localhost:8080/",
          "height": 421
        },
        "id": "LG3D0bQVqdH-",
        "outputId": "5059ab90-c9bb-4208-e8a3-732f3c4cd752"
      },
      "source": [
        "df"
      ],
      "execution_count": 49,
      "outputs": [
        {
          "output_type": "execute_result",
          "data": {
            "text/html": [
              "<div>\n",
              "<style scoped>\n",
              "    .dataframe tbody tr th:only-of-type {\n",
              "        vertical-align: middle;\n",
              "    }\n",
              "\n",
              "    .dataframe tbody tr th {\n",
              "        vertical-align: top;\n",
              "    }\n",
              "\n",
              "    .dataframe thead th {\n",
              "        text-align: right;\n",
              "    }\n",
              "</style>\n",
              "<table border=\"1\" class=\"dataframe\">\n",
              "  <thead>\n",
              "    <tr style=\"text-align: right;\">\n",
              "      <th></th>\n",
              "      <th>Montant HT</th>\n",
              "      <th>Montant TTC</th>\n",
              "    </tr>\n",
              "  </thead>\n",
              "  <tbody>\n",
              "    <tr>\n",
              "      <th>0</th>\n",
              "      <td>1460.226587</td>\n",
              "      <td>1022.245191</td>\n",
              "    </tr>\n",
              "    <tr>\n",
              "      <th>1</th>\n",
              "      <td>346.615111</td>\n",
              "      <td>7.545099</td>\n",
              "    </tr>\n",
              "    <tr>\n",
              "      <th>2</th>\n",
              "      <td>157.753711</td>\n",
              "      <td>593.524647</td>\n",
              "    </tr>\n",
              "    <tr>\n",
              "      <th>3</th>\n",
              "      <td>293.427352</td>\n",
              "      <td>16.808813</td>\n",
              "    </tr>\n",
              "    <tr>\n",
              "      <th>4</th>\n",
              "      <td>1099.932359</td>\n",
              "      <td>391.195252</td>\n",
              "    </tr>\n",
              "    <tr>\n",
              "      <th>...</th>\n",
              "      <td>...</td>\n",
              "      <td>...</td>\n",
              "    </tr>\n",
              "    <tr>\n",
              "      <th>499995</th>\n",
              "      <td>369.882556</td>\n",
              "      <td>1185.388858</td>\n",
              "    </tr>\n",
              "    <tr>\n",
              "      <th>499996</th>\n",
              "      <td>355.977495</td>\n",
              "      <td>400.903623</td>\n",
              "    </tr>\n",
              "    <tr>\n",
              "      <th>499997</th>\n",
              "      <td>1612.745264</td>\n",
              "      <td>672.448898</td>\n",
              "    </tr>\n",
              "    <tr>\n",
              "      <th>499998</th>\n",
              "      <td>89.704334</td>\n",
              "      <td>319.477214</td>\n",
              "    </tr>\n",
              "    <tr>\n",
              "      <th>499999</th>\n",
              "      <td>244.598117</td>\n",
              "      <td>73.043810</td>\n",
              "    </tr>\n",
              "  </tbody>\n",
              "</table>\n",
              "<p>500000 rows × 2 columns</p>\n",
              "</div>"
            ],
            "text/plain": [
              "         Montant HT  Montant TTC\n",
              "0       1460.226587  1022.245191\n",
              "1        346.615111     7.545099\n",
              "2        157.753711   593.524647\n",
              "3        293.427352    16.808813\n",
              "4       1099.932359   391.195252\n",
              "...             ...          ...\n",
              "499995   369.882556  1185.388858\n",
              "499996   355.977495   400.903623\n",
              "499997  1612.745264   672.448898\n",
              "499998    89.704334   319.477214\n",
              "499999   244.598117    73.043810\n",
              "\n",
              "[500000 rows x 2 columns]"
            ]
          },
          "metadata": {
            "tags": []
          },
          "execution_count": 49
        }
      ]
    },
    {
      "cell_type": "markdown",
      "metadata": {
        "id": "SJNfI-acrHpK"
      },
      "source": [
        "Pour convertir les montants du $ vers le €:"
      ]
    },
    {
      "cell_type": "code",
      "metadata": {
        "id": "1-3JeSWRrNT3"
      },
      "source": [
        "TAUX_CHANGE = 1.19"
      ],
      "execution_count": 50,
      "outputs": []
    },
    {
      "cell_type": "code",
      "metadata": {
        "id": "z0cFVgB-w_zI"
      },
      "source": [
        "x = df[['Montant HT']]"
      ],
      "execution_count": 99,
      "outputs": []
    },
    {
      "cell_type": "code",
      "metadata": {
        "colab": {
          "base_uri": "https://localhost:8080/",
          "height": 423
        },
        "id": "eJNID9fDxHXa",
        "outputId": "d67d46b4-49ca-48cb-d319-657322f02bb5"
      },
      "source": [
        "x"
      ],
      "execution_count": 100,
      "outputs": [
        {
          "output_type": "execute_result",
          "data": {
            "text/html": [
              "<div>\n",
              "<style scoped>\n",
              "    .dataframe tbody tr th:only-of-type {\n",
              "        vertical-align: middle;\n",
              "    }\n",
              "\n",
              "    .dataframe tbody tr th {\n",
              "        vertical-align: top;\n",
              "    }\n",
              "\n",
              "    .dataframe thead th {\n",
              "        text-align: right;\n",
              "    }\n",
              "</style>\n",
              "<table border=\"1\" class=\"dataframe\">\n",
              "  <thead>\n",
              "    <tr style=\"text-align: right;\">\n",
              "      <th></th>\n",
              "      <th>Montant HT</th>\n",
              "    </tr>\n",
              "  </thead>\n",
              "  <tbody>\n",
              "    <tr>\n",
              "      <th>0</th>\n",
              "      <td>1460.226587</td>\n",
              "    </tr>\n",
              "    <tr>\n",
              "      <th>1</th>\n",
              "      <td>346.615111</td>\n",
              "    </tr>\n",
              "    <tr>\n",
              "      <th>2</th>\n",
              "      <td>157.753711</td>\n",
              "    </tr>\n",
              "    <tr>\n",
              "      <th>3</th>\n",
              "      <td>293.427352</td>\n",
              "    </tr>\n",
              "    <tr>\n",
              "      <th>4</th>\n",
              "      <td>1099.932359</td>\n",
              "    </tr>\n",
              "    <tr>\n",
              "      <th>...</th>\n",
              "      <td>...</td>\n",
              "    </tr>\n",
              "    <tr>\n",
              "      <th>499995</th>\n",
              "      <td>369.882556</td>\n",
              "    </tr>\n",
              "    <tr>\n",
              "      <th>499996</th>\n",
              "      <td>355.977495</td>\n",
              "    </tr>\n",
              "    <tr>\n",
              "      <th>499997</th>\n",
              "      <td>1612.745264</td>\n",
              "    </tr>\n",
              "    <tr>\n",
              "      <th>499998</th>\n",
              "      <td>89.704334</td>\n",
              "    </tr>\n",
              "    <tr>\n",
              "      <th>499999</th>\n",
              "      <td>244.598117</td>\n",
              "    </tr>\n",
              "  </tbody>\n",
              "</table>\n",
              "<p>500000 rows × 1 columns</p>\n",
              "</div>"
            ],
            "text/plain": [
              "         Montant HT\n",
              "0       1460.226587\n",
              "1        346.615111\n",
              "2        157.753711\n",
              "3        293.427352\n",
              "4       1099.932359\n",
              "...             ...\n",
              "499995   369.882556\n",
              "499996   355.977495\n",
              "499997  1612.745264\n",
              "499998    89.704334\n",
              "499999   244.598117\n",
              "\n",
              "[500000 rows x 1 columns]"
            ]
          },
          "metadata": {
            "tags": []
          },
          "execution_count": 100
        }
      ]
    },
    {
      "cell_type": "code",
      "metadata": {
        "colab": {
          "base_uri": "https://localhost:8080/",
          "height": 423
        },
        "id": "2_YVDxR3rd2G",
        "outputId": "d2210588-9ab9-4264-f2d6-73165928bb75"
      },
      "source": [
        "df.apply(lambda x: x / TAUX_CHANGE)"
      ],
      "execution_count": 53,
      "outputs": [
        {
          "output_type": "execute_result",
          "data": {
            "text/html": [
              "<div>\n",
              "<style scoped>\n",
              "    .dataframe tbody tr th:only-of-type {\n",
              "        vertical-align: middle;\n",
              "    }\n",
              "\n",
              "    .dataframe tbody tr th {\n",
              "        vertical-align: top;\n",
              "    }\n",
              "\n",
              "    .dataframe thead th {\n",
              "        text-align: right;\n",
              "    }\n",
              "</style>\n",
              "<table border=\"1\" class=\"dataframe\">\n",
              "  <thead>\n",
              "    <tr style=\"text-align: right;\">\n",
              "      <th></th>\n",
              "      <th>Montant HT</th>\n",
              "      <th>Montant TTC</th>\n",
              "    </tr>\n",
              "  </thead>\n",
              "  <tbody>\n",
              "    <tr>\n",
              "      <th>0</th>\n",
              "      <td>1227.081166</td>\n",
              "      <td>859.029573</td>\n",
              "    </tr>\n",
              "    <tr>\n",
              "      <th>1</th>\n",
              "      <td>291.273202</td>\n",
              "      <td>6.340420</td>\n",
              "    </tr>\n",
              "    <tr>\n",
              "      <th>2</th>\n",
              "      <td>132.566144</td>\n",
              "      <td>498.760207</td>\n",
              "    </tr>\n",
              "    <tr>\n",
              "      <th>3</th>\n",
              "      <td>246.577606</td>\n",
              "      <td>14.125053</td>\n",
              "    </tr>\n",
              "    <tr>\n",
              "      <th>4</th>\n",
              "      <td>924.312907</td>\n",
              "      <td>328.735506</td>\n",
              "    </tr>\n",
              "    <tr>\n",
              "      <th>...</th>\n",
              "      <td>...</td>\n",
              "      <td>...</td>\n",
              "    </tr>\n",
              "    <tr>\n",
              "      <th>499995</th>\n",
              "      <td>310.825678</td>\n",
              "      <td>996.125090</td>\n",
              "    </tr>\n",
              "    <tr>\n",
              "      <th>499996</th>\n",
              "      <td>299.140752</td>\n",
              "      <td>336.893801</td>\n",
              "    </tr>\n",
              "    <tr>\n",
              "      <th>499997</th>\n",
              "      <td>1355.248121</td>\n",
              "      <td>565.083108</td>\n",
              "    </tr>\n",
              "    <tr>\n",
              "      <th>499998</th>\n",
              "      <td>75.381793</td>\n",
              "      <td>268.468247</td>\n",
              "    </tr>\n",
              "    <tr>\n",
              "      <th>499999</th>\n",
              "      <td>205.544636</td>\n",
              "      <td>61.381353</td>\n",
              "    </tr>\n",
              "  </tbody>\n",
              "</table>\n",
              "<p>500000 rows × 2 columns</p>\n",
              "</div>"
            ],
            "text/plain": [
              "         Montant HT  Montant TTC\n",
              "0       1227.081166   859.029573\n",
              "1        291.273202     6.340420\n",
              "2        132.566144   498.760207\n",
              "3        246.577606    14.125053\n",
              "4        924.312907   328.735506\n",
              "...             ...          ...\n",
              "499995   310.825678   996.125090\n",
              "499996   299.140752   336.893801\n",
              "499997  1355.248121   565.083108\n",
              "499998    75.381793   268.468247\n",
              "499999   205.544636    61.381353\n",
              "\n",
              "[500000 rows x 2 columns]"
            ]
          },
          "metadata": {
            "tags": []
          },
          "execution_count": 53
        }
      ]
    },
    {
      "cell_type": "markdown",
      "metadata": {
        "id": "KHxk0ZLMseyw"
      },
      "source": [
        "**Afficher les montant HT minimal et maximal**"
      ]
    },
    {
      "cell_type": "code",
      "metadata": {
        "id": "8QD7R5MHtnli"
      },
      "source": [
        "f = lambda x: (x.min(), x.max(), x.mean())"
      ],
      "execution_count": 86,
      "outputs": []
    },
    {
      "cell_type": "code",
      "metadata": {
        "colab": {
          "base_uri": "https://localhost:8080/"
        },
        "id": "D40Wk4k_vbyq",
        "outputId": "f98f0e3f-e0af-4abf-bd54-1e4257a378b5"
      },
      "source": [
        "type(df['Montant HT'])"
      ],
      "execution_count": 87,
      "outputs": [
        {
          "output_type": "execute_result",
          "data": {
            "text/plain": [
              "pandas.core.series.Series"
            ]
          },
          "metadata": {
            "tags": []
          },
          "execution_count": 87
        }
      ]
    },
    {
      "cell_type": "code",
      "metadata": {
        "colab": {
          "base_uri": "https://localhost:8080/"
        },
        "id": "XKINGS61vitT",
        "outputId": "0565eb41-64c5-4266-b08c-57b98494da98"
      },
      "source": [
        "type(df[['Montant HT']])"
      ],
      "execution_count": 92,
      "outputs": [
        {
          "output_type": "execute_result",
          "data": {
            "text/plain": [
              "pandas.core.frame.DataFrame"
            ]
          },
          "metadata": {
            "tags": []
          },
          "execution_count": 92
        }
      ]
    },
    {
      "cell_type": "code",
      "metadata": {
        "colab": {
          "base_uri": "https://localhost:8080/"
        },
        "id": "utLUAheMuLz2",
        "outputId": "8f8fd4fa-6a5d-495b-f967-e64f4339d912"
      },
      "source": [
        "df[['Montant HT']].apply(f, axis=1)"
      ],
      "execution_count": 137,
      "outputs": [
        {
          "output_type": "execute_result",
          "data": {
            "text/plain": [
              "0         (1460.2265873475346, 1460.2265873475346, 1460....\n",
              "1         (346.6151106638519, 346.6151106638519, 346.615...\n",
              "2         (157.75371117847752, 157.75371117847752, 157.7...\n",
              "3         (293.4273516905907, 293.4273516905907, 293.427...\n",
              "4         (1099.9323591324178, 1099.9323591324178, 1099....\n",
              "                                ...                        \n",
              "499995    (369.8825563578859, 369.8825563578859, 369.882...\n",
              "499996    (355.9774952921862, 355.9774952921862, 355.977...\n",
              "499997    (1612.7452635851078, 1612.7452635851078, 1612....\n",
              "499998    (89.70433418808103, 89.70433418808103, 89.7043...\n",
              "499999    (244.5981171520703, 244.5981171520703, 244.598...\n",
              "Length: 500000, dtype: object"
            ]
          },
          "metadata": {
            "tags": []
          },
          "execution_count": 137
        }
      ]
    },
    {
      "cell_type": "markdown",
      "metadata": {
        "id": "VhZo4gsW7Ggd"
      },
      "source": [
        "La commande magique \"Magic Command\" %timeit de IPython/Jupyter permet de nous donner une idée sur l'exécution d'une commande: le temps nécessaire pour compléter l'opération."
      ]
    },
    {
      "cell_type": "code",
      "metadata": {
        "colab": {
          "base_uri": "https://localhost:8080/"
        },
        "id": "HE_roYPY66Qp",
        "outputId": "8a226418-8581-4bf5-afcf-7a2e50320ec9"
      },
      "source": [
        "%timeit df[['Montant HT']].apply(f, axis=1)"
      ],
      "execution_count": 138,
      "outputs": [
        {
          "output_type": "stream",
          "text": [
            "1 loop, best of 3: 46.2 s per loop\n"
          ],
          "name": "stdout"
        }
      ]
    },
    {
      "cell_type": "code",
      "metadata": {
        "id": "oNxC5rnFnLn9",
        "colab": {
          "base_uri": "https://localhost:8080/"
        },
        "outputId": "8a2f6d2c-3713-4188-d1e6-d0451732b1c9"
      },
      "source": [
        "frame.apply(f, axis='columns')"
      ],
      "execution_count": 136,
      "outputs": [
        {
          "output_type": "execute_result",
          "data": {
            "text/plain": [
              "Utah      (-0.2552860374281795, 0.765126419041117, 0.248...\n",
              "Ohio      (0.029849496917487218, 0.8899861810242078, 0.3...\n",
              "Texas     (-1.2936979029343432, 1.5362927155519612, 0.46...\n",
              "Oregon    (-1.6490214523953632, -0.9764650847051042, -1....\n",
              "dtype: object"
            ]
          },
          "metadata": {
            "tags": []
          },
          "execution_count": 136
        }
      ]
    },
    {
      "cell_type": "markdown",
      "metadata": {
        "id": "eLFAFBETnwCq"
      },
      "source": [
        "On peut également retourner des Series:"
      ]
    },
    {
      "cell_type": "code",
      "metadata": {
        "id": "cIdO1hE7nfb1"
      },
      "source": [
        "def f(x):\n",
        "  return pd.Series([x.min(), x.max()], index=['min', 'max'])"
      ],
      "execution_count": null,
      "outputs": []
    },
    {
      "cell_type": "code",
      "metadata": {
        "id": "iZFZNS-Vn-_g",
        "colab": {
          "base_uri": "https://localhost:8080/",
          "height": 112
        },
        "outputId": "e7da6170-65eb-4baf-b621-688de79e54dd"
      },
      "source": [
        "frame.apply(f)"
      ],
      "execution_count": null,
      "outputs": [
        {
          "output_type": "execute_result",
          "data": {
            "text/html": [
              "<div>\n",
              "<style scoped>\n",
              "    .dataframe tbody tr th:only-of-type {\n",
              "        vertical-align: middle;\n",
              "    }\n",
              "\n",
              "    .dataframe tbody tr th {\n",
              "        vertical-align: top;\n",
              "    }\n",
              "\n",
              "    .dataframe thead th {\n",
              "        text-align: right;\n",
              "    }\n",
              "</style>\n",
              "<table border=\"1\" class=\"dataframe\">\n",
              "  <thead>\n",
              "    <tr style=\"text-align: right;\">\n",
              "      <th></th>\n",
              "      <th>b</th>\n",
              "      <th>d</th>\n",
              "      <th>e</th>\n",
              "    </tr>\n",
              "  </thead>\n",
              "  <tbody>\n",
              "    <tr>\n",
              "      <th>min</th>\n",
              "      <td>-2.80659</td>\n",
              "      <td>-1.001692</td>\n",
              "      <td>-1.069871</td>\n",
              "    </tr>\n",
              "    <tr>\n",
              "      <th>max</th>\n",
              "      <td>1.59574</td>\n",
              "      <td>1.554453</td>\n",
              "      <td>0.751681</td>\n",
              "    </tr>\n",
              "  </tbody>\n",
              "</table>\n",
              "</div>"
            ],
            "text/plain": [
              "           b         d         e\n",
              "min -2.80659 -1.001692 -1.069871\n",
              "max  1.59574  1.554453  0.751681"
            ]
          },
          "metadata": {
            "tags": []
          },
          "execution_count": 131
        }
      ]
    },
    {
      "cell_type": "markdown",
      "metadata": {
        "id": "HOsc5vi4oEhI"
      },
      "source": [
        "On peut également utiliser les fonctions \"element-wise\":"
      ]
    },
    {
      "cell_type": "code",
      "metadata": {
        "id": "NqxulTEOoAfx"
      },
      "source": [
        "format = lambda x: '%5.3f' % x"
      ],
      "execution_count": 96,
      "outputs": []
    },
    {
      "cell_type": "code",
      "metadata": {
        "colab": {
          "base_uri": "https://localhost:8080/",
          "height": 174
        },
        "id": "YdmM2vGYwpK-",
        "outputId": "06c00b7c-f81e-4415-c3e8-be2012d114fc"
      },
      "source": [
        "frame"
      ],
      "execution_count": 97,
      "outputs": [
        {
          "output_type": "execute_result",
          "data": {
            "text/html": [
              "<div>\n",
              "<style scoped>\n",
              "    .dataframe tbody tr th:only-of-type {\n",
              "        vertical-align: middle;\n",
              "    }\n",
              "\n",
              "    .dataframe tbody tr th {\n",
              "        vertical-align: top;\n",
              "    }\n",
              "\n",
              "    .dataframe thead th {\n",
              "        text-align: right;\n",
              "    }\n",
              "</style>\n",
              "<table border=\"1\" class=\"dataframe\">\n",
              "  <thead>\n",
              "    <tr style=\"text-align: right;\">\n",
              "      <th></th>\n",
              "      <th>b</th>\n",
              "      <th>d</th>\n",
              "      <th>e</th>\n",
              "    </tr>\n",
              "  </thead>\n",
              "  <tbody>\n",
              "    <tr>\n",
              "      <th>Utah</th>\n",
              "      <td>0.765126</td>\n",
              "      <td>-0.255286</td>\n",
              "      <td>0.234465</td>\n",
              "    </tr>\n",
              "    <tr>\n",
              "      <th>Ohio</th>\n",
              "      <td>0.889986</td>\n",
              "      <td>0.029849</td>\n",
              "      <td>0.168442</td>\n",
              "    </tr>\n",
              "    <tr>\n",
              "      <th>Texas</th>\n",
              "      <td>1.536293</td>\n",
              "      <td>1.158244</td>\n",
              "      <td>-1.293698</td>\n",
              "    </tr>\n",
              "    <tr>\n",
              "      <th>Oregon</th>\n",
              "      <td>-0.976465</td>\n",
              "      <td>-1.649021</td>\n",
              "      <td>-1.053667</td>\n",
              "    </tr>\n",
              "  </tbody>\n",
              "</table>\n",
              "</div>"
            ],
            "text/plain": [
              "               b         d         e\n",
              "Utah    0.765126 -0.255286  0.234465\n",
              "Ohio    0.889986  0.029849  0.168442\n",
              "Texas   1.536293  1.158244 -1.293698\n",
              "Oregon -0.976465 -1.649021 -1.053667"
            ]
          },
          "metadata": {
            "tags": []
          },
          "execution_count": 97
        }
      ]
    },
    {
      "cell_type": "code",
      "metadata": {
        "id": "luf2U2WJoe5M",
        "colab": {
          "base_uri": "https://localhost:8080/",
          "height": 174
        },
        "outputId": "522d3224-2804-4877-b34c-2dea8abbc568"
      },
      "source": [
        "frame.applymap(format)"
      ],
      "execution_count": 98,
      "outputs": [
        {
          "output_type": "execute_result",
          "data": {
            "text/html": [
              "<div>\n",
              "<style scoped>\n",
              "    .dataframe tbody tr th:only-of-type {\n",
              "        vertical-align: middle;\n",
              "    }\n",
              "\n",
              "    .dataframe tbody tr th {\n",
              "        vertical-align: top;\n",
              "    }\n",
              "\n",
              "    .dataframe thead th {\n",
              "        text-align: right;\n",
              "    }\n",
              "</style>\n",
              "<table border=\"1\" class=\"dataframe\">\n",
              "  <thead>\n",
              "    <tr style=\"text-align: right;\">\n",
              "      <th></th>\n",
              "      <th>b</th>\n",
              "      <th>d</th>\n",
              "      <th>e</th>\n",
              "    </tr>\n",
              "  </thead>\n",
              "  <tbody>\n",
              "    <tr>\n",
              "      <th>Utah</th>\n",
              "      <td>0.765</td>\n",
              "      <td>-0.255</td>\n",
              "      <td>0.234</td>\n",
              "    </tr>\n",
              "    <tr>\n",
              "      <th>Ohio</th>\n",
              "      <td>0.890</td>\n",
              "      <td>0.030</td>\n",
              "      <td>0.168</td>\n",
              "    </tr>\n",
              "    <tr>\n",
              "      <th>Texas</th>\n",
              "      <td>1.536</td>\n",
              "      <td>1.158</td>\n",
              "      <td>-1.294</td>\n",
              "    </tr>\n",
              "    <tr>\n",
              "      <th>Oregon</th>\n",
              "      <td>-0.976</td>\n",
              "      <td>-1.649</td>\n",
              "      <td>-1.054</td>\n",
              "    </tr>\n",
              "  </tbody>\n",
              "</table>\n",
              "</div>"
            ],
            "text/plain": [
              "             b       d       e\n",
              "Utah     0.765  -0.255   0.234\n",
              "Ohio     0.890   0.030   0.168\n",
              "Texas    1.536   1.158  -1.294\n",
              "Oregon  -0.976  -1.649  -1.054"
            ]
          },
          "metadata": {
            "tags": []
          },
          "execution_count": 98
        }
      ]
    },
    {
      "cell_type": "markdown",
      "metadata": {
        "id": "-7oD2LPvomKg"
      },
      "source": [
        "**Tri et classement**\n",
        "\n",
        "Le tri d'un jeux de données en utilisant certains critères est important, la méthode sort_index permet de trier d'une manière lexicographique par indexe de ligne ou de colonne:"
      ]
    },
    {
      "cell_type": "code",
      "metadata": {
        "id": "Zr7-QqF5ohDO"
      },
      "source": [
        "obj = pd.Series(range(4), index=['d', 'a', 'b', 'c'])"
      ],
      "execution_count": null,
      "outputs": []
    },
    {
      "cell_type": "code",
      "metadata": {
        "id": "9uLyY9jRpF_J",
        "colab": {
          "base_uri": "https://localhost:8080/"
        },
        "outputId": "14e625ae-474b-45f9-dc32-f18256da919d"
      },
      "source": [
        "obj.sort_index()"
      ],
      "execution_count": null,
      "outputs": [
        {
          "output_type": "execute_result",
          "data": {
            "text/plain": [
              "a    1\n",
              "b    2\n",
              "c    3\n",
              "d    0\n",
              "dtype: int64"
            ]
          },
          "metadata": {
            "tags": []
          },
          "execution_count": 135
        }
      ]
    },
    {
      "cell_type": "markdown",
      "metadata": {
        "id": "xWkJmOrmpLn6"
      },
      "source": [
        "Pour un DataFrame, le tri peut être effectué selon un axe précis:"
      ]
    },
    {
      "cell_type": "code",
      "metadata": {
        "id": "mXb1cpm-pIfp"
      },
      "source": [
        "frame = pd.DataFrame(np.arange(8).reshape((2, 4)),\n",
        "                     index=['three', 'one'],\n",
        "                     columns=['d', 'a', 'b', 'c'])"
      ],
      "execution_count": null,
      "outputs": []
    },
    {
      "cell_type": "code",
      "metadata": {
        "id": "VIbl1YX2pfiS",
        "colab": {
          "base_uri": "https://localhost:8080/",
          "height": 112
        },
        "outputId": "81487088-bd00-42f2-cca8-59f3422c7a07"
      },
      "source": [
        "frame.sort_index()"
      ],
      "execution_count": null,
      "outputs": [
        {
          "output_type": "execute_result",
          "data": {
            "text/html": [
              "<div>\n",
              "<style scoped>\n",
              "    .dataframe tbody tr th:only-of-type {\n",
              "        vertical-align: middle;\n",
              "    }\n",
              "\n",
              "    .dataframe tbody tr th {\n",
              "        vertical-align: top;\n",
              "    }\n",
              "\n",
              "    .dataframe thead th {\n",
              "        text-align: right;\n",
              "    }\n",
              "</style>\n",
              "<table border=\"1\" class=\"dataframe\">\n",
              "  <thead>\n",
              "    <tr style=\"text-align: right;\">\n",
              "      <th></th>\n",
              "      <th>d</th>\n",
              "      <th>a</th>\n",
              "      <th>b</th>\n",
              "      <th>c</th>\n",
              "    </tr>\n",
              "  </thead>\n",
              "  <tbody>\n",
              "    <tr>\n",
              "      <th>one</th>\n",
              "      <td>4</td>\n",
              "      <td>5</td>\n",
              "      <td>6</td>\n",
              "      <td>7</td>\n",
              "    </tr>\n",
              "    <tr>\n",
              "      <th>three</th>\n",
              "      <td>0</td>\n",
              "      <td>1</td>\n",
              "      <td>2</td>\n",
              "      <td>3</td>\n",
              "    </tr>\n",
              "  </tbody>\n",
              "</table>\n",
              "</div>"
            ],
            "text/plain": [
              "       d  a  b  c\n",
              "one    4  5  6  7\n",
              "three  0  1  2  3"
            ]
          },
          "metadata": {
            "tags": []
          },
          "execution_count": 137
        }
      ]
    },
    {
      "cell_type": "code",
      "metadata": {
        "id": "ychDCywnphoB",
        "colab": {
          "base_uri": "https://localhost:8080/",
          "height": 112
        },
        "outputId": "12b04708-47c7-43f5-efdf-79471e43929a"
      },
      "source": [
        "frame.sort_index(axis=1)"
      ],
      "execution_count": null,
      "outputs": [
        {
          "output_type": "execute_result",
          "data": {
            "text/html": [
              "<div>\n",
              "<style scoped>\n",
              "    .dataframe tbody tr th:only-of-type {\n",
              "        vertical-align: middle;\n",
              "    }\n",
              "\n",
              "    .dataframe tbody tr th {\n",
              "        vertical-align: top;\n",
              "    }\n",
              "\n",
              "    .dataframe thead th {\n",
              "        text-align: right;\n",
              "    }\n",
              "</style>\n",
              "<table border=\"1\" class=\"dataframe\">\n",
              "  <thead>\n",
              "    <tr style=\"text-align: right;\">\n",
              "      <th></th>\n",
              "      <th>a</th>\n",
              "      <th>b</th>\n",
              "      <th>c</th>\n",
              "      <th>d</th>\n",
              "    </tr>\n",
              "  </thead>\n",
              "  <tbody>\n",
              "    <tr>\n",
              "      <th>three</th>\n",
              "      <td>1</td>\n",
              "      <td>2</td>\n",
              "      <td>3</td>\n",
              "      <td>0</td>\n",
              "    </tr>\n",
              "    <tr>\n",
              "      <th>one</th>\n",
              "      <td>5</td>\n",
              "      <td>6</td>\n",
              "      <td>7</td>\n",
              "      <td>4</td>\n",
              "    </tr>\n",
              "  </tbody>\n",
              "</table>\n",
              "</div>"
            ],
            "text/plain": [
              "       a  b  c  d\n",
              "three  1  2  3  0\n",
              "one    5  6  7  4"
            ]
          },
          "metadata": {
            "tags": []
          },
          "execution_count": 138
        }
      ]
    },
    {
      "cell_type": "code",
      "metadata": {
        "id": "e3fVC1expk2C",
        "colab": {
          "base_uri": "https://localhost:8080/",
          "height": 112
        },
        "outputId": "d6c4cfe8-c1a7-41ba-b6c3-dc82b4510020"
      },
      "source": [
        "frame.sort_index(axis=1, ascending=False)"
      ],
      "execution_count": null,
      "outputs": [
        {
          "output_type": "execute_result",
          "data": {
            "text/html": [
              "<div>\n",
              "<style scoped>\n",
              "    .dataframe tbody tr th:only-of-type {\n",
              "        vertical-align: middle;\n",
              "    }\n",
              "\n",
              "    .dataframe tbody tr th {\n",
              "        vertical-align: top;\n",
              "    }\n",
              "\n",
              "    .dataframe thead th {\n",
              "        text-align: right;\n",
              "    }\n",
              "</style>\n",
              "<table border=\"1\" class=\"dataframe\">\n",
              "  <thead>\n",
              "    <tr style=\"text-align: right;\">\n",
              "      <th></th>\n",
              "      <th>d</th>\n",
              "      <th>c</th>\n",
              "      <th>b</th>\n",
              "      <th>a</th>\n",
              "    </tr>\n",
              "  </thead>\n",
              "  <tbody>\n",
              "    <tr>\n",
              "      <th>three</th>\n",
              "      <td>0</td>\n",
              "      <td>3</td>\n",
              "      <td>2</td>\n",
              "      <td>1</td>\n",
              "    </tr>\n",
              "    <tr>\n",
              "      <th>one</th>\n",
              "      <td>4</td>\n",
              "      <td>7</td>\n",
              "      <td>6</td>\n",
              "      <td>5</td>\n",
              "    </tr>\n",
              "  </tbody>\n",
              "</table>\n",
              "</div>"
            ],
            "text/plain": [
              "       d  c  b  a\n",
              "three  0  3  2  1\n",
              "one    4  7  6  5"
            ]
          },
          "metadata": {
            "tags": []
          },
          "execution_count": 139
        }
      ]
    },
    {
      "cell_type": "markdown",
      "metadata": {
        "id": "NS29T00Cp0kV"
      },
      "source": [
        "Pour trier une Series par valeurs, on peut utiliser sort_values:"
      ]
    },
    {
      "cell_type": "code",
      "metadata": {
        "id": "lLorVi35pw6h"
      },
      "source": [
        "obj = pd.Series([4, 7, -3, 2])"
      ],
      "execution_count": null,
      "outputs": []
    },
    {
      "cell_type": "code",
      "metadata": {
        "id": "6YQuqoEzqLGh",
        "colab": {
          "base_uri": "https://localhost:8080/"
        },
        "outputId": "13b34fac-06ca-475d-d4e0-cf8f12755e16"
      },
      "source": [
        "obj.sort_values()"
      ],
      "execution_count": null,
      "outputs": [
        {
          "output_type": "execute_result",
          "data": {
            "text/plain": [
              "2   -3\n",
              "3    2\n",
              "0    4\n",
              "1    7\n",
              "dtype: int64"
            ]
          },
          "metadata": {
            "tags": []
          },
          "execution_count": 141
        }
      ]
    },
    {
      "cell_type": "markdown",
      "metadata": {
        "id": "O6hc_xG2qYhu"
      },
      "source": [
        "Les valeurs manquantes sont triés à la fin:"
      ]
    },
    {
      "cell_type": "code",
      "metadata": {
        "id": "ewcVEhteqNwH"
      },
      "source": [
        "obj = pd.Series([4, np.nan, 7, np.nan, -3, 2])"
      ],
      "execution_count": null,
      "outputs": []
    },
    {
      "cell_type": "code",
      "metadata": {
        "id": "Lt8lK-ZKqjWa",
        "colab": {
          "base_uri": "https://localhost:8080/"
        },
        "outputId": "4072a419-de00-45ae-853a-c1a5bf0b7ae5"
      },
      "source": [
        "obj.sort_values()"
      ],
      "execution_count": null,
      "outputs": [
        {
          "output_type": "execute_result",
          "data": {
            "text/plain": [
              "4   -3.0\n",
              "5    2.0\n",
              "0    4.0\n",
              "2    7.0\n",
              "1    NaN\n",
              "3    NaN\n",
              "dtype: float64"
            ]
          },
          "metadata": {
            "tags": []
          },
          "execution_count": 143
        }
      ]
    },
    {
      "cell_type": "markdown",
      "metadata": {
        "id": "oQ5ylPW6rFdb"
      },
      "source": [
        "Pour les DataFrame, on peut utiliser une ou plusieurs colonnes comme clés de tri:"
      ]
    },
    {
      "cell_type": "code",
      "metadata": {
        "id": "DEJ6StkRqmGx"
      },
      "source": [
        "frame = pd.DataFrame({'b': [4, 7, -3, 2], 'a': [0, 1, 0, 1]})"
      ],
      "execution_count": null,
      "outputs": []
    },
    {
      "cell_type": "code",
      "metadata": {
        "id": "Vg-WBmiXre1x",
        "colab": {
          "base_uri": "https://localhost:8080/",
          "height": 174
        },
        "outputId": "7495aeab-8934-4557-9290-27e19a082976"
      },
      "source": [
        "frame"
      ],
      "execution_count": null,
      "outputs": [
        {
          "output_type": "execute_result",
          "data": {
            "text/html": [
              "<div>\n",
              "<style scoped>\n",
              "    .dataframe tbody tr th:only-of-type {\n",
              "        vertical-align: middle;\n",
              "    }\n",
              "\n",
              "    .dataframe tbody tr th {\n",
              "        vertical-align: top;\n",
              "    }\n",
              "\n",
              "    .dataframe thead th {\n",
              "        text-align: right;\n",
              "    }\n",
              "</style>\n",
              "<table border=\"1\" class=\"dataframe\">\n",
              "  <thead>\n",
              "    <tr style=\"text-align: right;\">\n",
              "      <th></th>\n",
              "      <th>b</th>\n",
              "      <th>a</th>\n",
              "    </tr>\n",
              "  </thead>\n",
              "  <tbody>\n",
              "    <tr>\n",
              "      <th>0</th>\n",
              "      <td>4</td>\n",
              "      <td>0</td>\n",
              "    </tr>\n",
              "    <tr>\n",
              "      <th>1</th>\n",
              "      <td>7</td>\n",
              "      <td>1</td>\n",
              "    </tr>\n",
              "    <tr>\n",
              "      <th>2</th>\n",
              "      <td>-3</td>\n",
              "      <td>0</td>\n",
              "    </tr>\n",
              "    <tr>\n",
              "      <th>3</th>\n",
              "      <td>2</td>\n",
              "      <td>1</td>\n",
              "    </tr>\n",
              "  </tbody>\n",
              "</table>\n",
              "</div>"
            ],
            "text/plain": [
              "   b  a\n",
              "0  4  0\n",
              "1  7  1\n",
              "2 -3  0\n",
              "3  2  1"
            ]
          },
          "metadata": {
            "tags": []
          },
          "execution_count": 145
        }
      ]
    },
    {
      "cell_type": "code",
      "metadata": {
        "id": "Ki_k0shprf4y",
        "colab": {
          "base_uri": "https://localhost:8080/",
          "height": 174
        },
        "outputId": "b2dc74a7-d125-4281-ba4e-e8169f87a724"
      },
      "source": [
        "frame.sort_values(by='b')"
      ],
      "execution_count": null,
      "outputs": [
        {
          "output_type": "execute_result",
          "data": {
            "text/html": [
              "<div>\n",
              "<style scoped>\n",
              "    .dataframe tbody tr th:only-of-type {\n",
              "        vertical-align: middle;\n",
              "    }\n",
              "\n",
              "    .dataframe tbody tr th {\n",
              "        vertical-align: top;\n",
              "    }\n",
              "\n",
              "    .dataframe thead th {\n",
              "        text-align: right;\n",
              "    }\n",
              "</style>\n",
              "<table border=\"1\" class=\"dataframe\">\n",
              "  <thead>\n",
              "    <tr style=\"text-align: right;\">\n",
              "      <th></th>\n",
              "      <th>b</th>\n",
              "      <th>a</th>\n",
              "    </tr>\n",
              "  </thead>\n",
              "  <tbody>\n",
              "    <tr>\n",
              "      <th>2</th>\n",
              "      <td>-3</td>\n",
              "      <td>0</td>\n",
              "    </tr>\n",
              "    <tr>\n",
              "      <th>3</th>\n",
              "      <td>2</td>\n",
              "      <td>1</td>\n",
              "    </tr>\n",
              "    <tr>\n",
              "      <th>0</th>\n",
              "      <td>4</td>\n",
              "      <td>0</td>\n",
              "    </tr>\n",
              "    <tr>\n",
              "      <th>1</th>\n",
              "      <td>7</td>\n",
              "      <td>1</td>\n",
              "    </tr>\n",
              "  </tbody>\n",
              "</table>\n",
              "</div>"
            ],
            "text/plain": [
              "   b  a\n",
              "2 -3  0\n",
              "3  2  1\n",
              "0  4  0\n",
              "1  7  1"
            ]
          },
          "metadata": {
            "tags": []
          },
          "execution_count": 146
        }
      ]
    },
    {
      "cell_type": "code",
      "metadata": {
        "id": "_1SrJTeZrjlS",
        "colab": {
          "base_uri": "https://localhost:8080/",
          "height": 174
        },
        "outputId": "45b187da-ef6f-47cd-fe91-a49c0b45ce2b"
      },
      "source": [
        "frame.sort_values(by=['a', 'b'])"
      ],
      "execution_count": null,
      "outputs": [
        {
          "output_type": "execute_result",
          "data": {
            "text/html": [
              "<div>\n",
              "<style scoped>\n",
              "    .dataframe tbody tr th:only-of-type {\n",
              "        vertical-align: middle;\n",
              "    }\n",
              "\n",
              "    .dataframe tbody tr th {\n",
              "        vertical-align: top;\n",
              "    }\n",
              "\n",
              "    .dataframe thead th {\n",
              "        text-align: right;\n",
              "    }\n",
              "</style>\n",
              "<table border=\"1\" class=\"dataframe\">\n",
              "  <thead>\n",
              "    <tr style=\"text-align: right;\">\n",
              "      <th></th>\n",
              "      <th>b</th>\n",
              "      <th>a</th>\n",
              "    </tr>\n",
              "  </thead>\n",
              "  <tbody>\n",
              "    <tr>\n",
              "      <th>2</th>\n",
              "      <td>-3</td>\n",
              "      <td>0</td>\n",
              "    </tr>\n",
              "    <tr>\n",
              "      <th>0</th>\n",
              "      <td>4</td>\n",
              "      <td>0</td>\n",
              "    </tr>\n",
              "    <tr>\n",
              "      <th>3</th>\n",
              "      <td>2</td>\n",
              "      <td>1</td>\n",
              "    </tr>\n",
              "    <tr>\n",
              "      <th>1</th>\n",
              "      <td>7</td>\n",
              "      <td>1</td>\n",
              "    </tr>\n",
              "  </tbody>\n",
              "</table>\n",
              "</div>"
            ],
            "text/plain": [
              "   b  a\n",
              "2 -3  0\n",
              "0  4  0\n",
              "3  2  1\n",
              "1  7  1"
            ]
          },
          "metadata": {
            "tags": []
          },
          "execution_count": 147
        }
      ]
    },
    {
      "cell_type": "markdown",
      "metadata": {
        "id": "k8QG_Azcrpdy"
      },
      "source": [
        "Le classement assigne des valeurs de 1 jusqu'au nombre d'éléments:"
      ]
    },
    {
      "cell_type": "code",
      "metadata": {
        "id": "bDPDEoxernnS"
      },
      "source": [
        "obj = pd.Series(7, -5, 7, 4, 2, 0, 4])"
      ],
      "execution_count": null,
      "outputs": []
    },
    {
      "cell_type": "code",
      "metadata": {
        "id": "6wFjHk-VzB36"
      },
      "source": [
        "notes = pd.DataFrame(pd.DataFrame({'Jeff': {'note': 13}, 'Alex': {'note': 10}, 'Manon': {'note': 18}, 'Willy': {'note': 20}, 'Smith': {'note': 10}}).T, columns=['note'])"
      ],
      "execution_count": 160,
      "outputs": []
    },
    {
      "cell_type": "code",
      "metadata": {
        "colab": {
          "base_uri": "https://localhost:8080/",
          "height": 205
        },
        "id": "UcWd0La-8O7V",
        "outputId": "71627737-7079-4ab0-9a57-a3eff0526305"
      },
      "source": [
        "notes"
      ],
      "execution_count": 161,
      "outputs": [
        {
          "output_type": "execute_result",
          "data": {
            "text/html": [
              "<div>\n",
              "<style scoped>\n",
              "    .dataframe tbody tr th:only-of-type {\n",
              "        vertical-align: middle;\n",
              "    }\n",
              "\n",
              "    .dataframe tbody tr th {\n",
              "        vertical-align: top;\n",
              "    }\n",
              "\n",
              "    .dataframe thead th {\n",
              "        text-align: right;\n",
              "    }\n",
              "</style>\n",
              "<table border=\"1\" class=\"dataframe\">\n",
              "  <thead>\n",
              "    <tr style=\"text-align: right;\">\n",
              "      <th></th>\n",
              "      <th>note</th>\n",
              "    </tr>\n",
              "  </thead>\n",
              "  <tbody>\n",
              "    <tr>\n",
              "      <th>Jeff</th>\n",
              "      <td>13</td>\n",
              "    </tr>\n",
              "    <tr>\n",
              "      <th>Alex</th>\n",
              "      <td>10</td>\n",
              "    </tr>\n",
              "    <tr>\n",
              "      <th>Manon</th>\n",
              "      <td>18</td>\n",
              "    </tr>\n",
              "    <tr>\n",
              "      <th>Willy</th>\n",
              "      <td>20</td>\n",
              "    </tr>\n",
              "    <tr>\n",
              "      <th>Smith</th>\n",
              "      <td>10</td>\n",
              "    </tr>\n",
              "  </tbody>\n",
              "</table>\n",
              "</div>"
            ],
            "text/plain": [
              "       note\n",
              "Jeff     13\n",
              "Alex     10\n",
              "Manon    18\n",
              "Willy    20\n",
              "Smith    10"
            ]
          },
          "metadata": {
            "tags": []
          },
          "execution_count": 161
        }
      ]
    },
    {
      "cell_type": "code",
      "metadata": {
        "id": "3gzYzq-5zJNJ"
      },
      "source": [
        "notes.rank?"
      ],
      "execution_count": 162,
      "outputs": []
    },
    {
      "cell_type": "code",
      "metadata": {
        "id": "0yGTW2F9sAuS"
      },
      "source": [
        "notes['rank'] = notes.rank(method='min', ascending=False)"
      ],
      "execution_count": 167,
      "outputs": []
    },
    {
      "cell_type": "code",
      "metadata": {
        "id": "pDnaU-ntsCRS",
        "colab": {
          "base_uri": "https://localhost:8080/",
          "height": 205
        },
        "outputId": "57bc695c-302a-453d-eff5-4a476244097a"
      },
      "source": [
        "notes"
      ],
      "execution_count": 168,
      "outputs": [
        {
          "output_type": "execute_result",
          "data": {
            "text/html": [
              "<div>\n",
              "<style scoped>\n",
              "    .dataframe tbody tr th:only-of-type {\n",
              "        vertical-align: middle;\n",
              "    }\n",
              "\n",
              "    .dataframe tbody tr th {\n",
              "        vertical-align: top;\n",
              "    }\n",
              "\n",
              "    .dataframe thead th {\n",
              "        text-align: right;\n",
              "    }\n",
              "</style>\n",
              "<table border=\"1\" class=\"dataframe\">\n",
              "  <thead>\n",
              "    <tr style=\"text-align: right;\">\n",
              "      <th></th>\n",
              "      <th>note</th>\n",
              "      <th>rank</th>\n",
              "    </tr>\n",
              "  </thead>\n",
              "  <tbody>\n",
              "    <tr>\n",
              "      <th>Jeff</th>\n",
              "      <td>13</td>\n",
              "      <td>3.0</td>\n",
              "    </tr>\n",
              "    <tr>\n",
              "      <th>Alex</th>\n",
              "      <td>10</td>\n",
              "      <td>4.0</td>\n",
              "    </tr>\n",
              "    <tr>\n",
              "      <th>Manon</th>\n",
              "      <td>18</td>\n",
              "      <td>2.0</td>\n",
              "    </tr>\n",
              "    <tr>\n",
              "      <th>Willy</th>\n",
              "      <td>20</td>\n",
              "      <td>1.0</td>\n",
              "    </tr>\n",
              "    <tr>\n",
              "      <th>Smith</th>\n",
              "      <td>10</td>\n",
              "      <td>4.0</td>\n",
              "    </tr>\n",
              "  </tbody>\n",
              "</table>\n",
              "</div>"
            ],
            "text/plain": [
              "       note  rank\n",
              "Jeff     13   3.0\n",
              "Alex     10   4.0\n",
              "Manon    18   2.0\n",
              "Willy    20   1.0\n",
              "Smith    10   4.0"
            ]
          },
          "metadata": {
            "tags": []
          },
          "execution_count": 168
        }
      ]
    },
    {
      "cell_type": "markdown",
      "metadata": {
        "id": "eIG-a2M4semK"
      },
      "source": [
        "Méthode | Description\n",
        "-- | --\n",
        "average | affecte la moyenne à chaque entrée des groupes égaux\n",
        "min | utilise le min pour l'ensemble du groupe\n",
        "max | utilise le max pour l'ensemble du groupe\n",
        "first | affecte le classement selon l'ordre dont lequel les données apparaissent\n",
        "dense | comme la méthode min mais le classement s'incrémente de 1 entre les groupes"
      ]
    },
    {
      "cell_type": "code",
      "metadata": {
        "id": "_AVoTc_AsJlq"
      },
      "source": [
        "names = ['Alexandra', 'Jennifer', 'Kim']"
      ],
      "execution_count": null,
      "outputs": []
    },
    {
      "cell_type": "code",
      "metadata": {
        "id": "I7Luj9CtUJUS",
        "colab": {
          "base_uri": "https://localhost:8080/"
        },
        "outputId": "ff564dc7-c49c-4495-bb4b-d3e15ed2e1b6"
      },
      "source": [
        "for name in names:\n",
        "  print(name)"
      ],
      "execution_count": null,
      "outputs": [
        {
          "output_type": "stream",
          "text": [
            "Alexandra\n",
            "Jennifer\n",
            "Kim\n"
          ],
          "name": "stdout"
        }
      ]
    },
    {
      "cell_type": "code",
      "metadata": {
        "id": "7PzZ3ryFULbI",
        "colab": {
          "base_uri": "https://localhost:8080/"
        },
        "outputId": "73ec9858-2027-4cb4-9e3c-a4a4d4cbb68d"
      },
      "source": [
        "for i in range(3):\n",
        "  print(i, names[i])"
      ],
      "execution_count": null,
      "outputs": [
        {
          "output_type": "stream",
          "text": [
            "0 Alexandra\n",
            "1 Jennifer\n",
            "2 Kim\n"
          ],
          "name": "stdout"
        }
      ]
    },
    {
      "cell_type": "code",
      "metadata": {
        "id": "bvwhjFmKUU_Q",
        "colab": {
          "base_uri": "https://localhost:8080/"
        },
        "outputId": "615e00dc-19f6-459c-a457-563e5a054196"
      },
      "source": [
        "[(i, name) for i, name in enumerate(names)]"
      ],
      "execution_count": null,
      "outputs": [
        {
          "output_type": "execute_result",
          "data": {
            "text/plain": [
              "[(0, 'Alexandra'), (1, 'Jennifer'), (2, 'Kim')]"
            ]
          },
          "metadata": {
            "tags": []
          },
          "execution_count": 5
        }
      ]
    },
    {
      "cell_type": "code",
      "metadata": {
        "id": "z16cjeMlUevE"
      },
      "source": [
        ""
      ],
      "execution_count": null,
      "outputs": []
    },
    {
      "cell_type": "markdown",
      "metadata": {
        "id": "2H0n_CxMoClU"
      },
      "source": [
        "# Statistiques descriptives"
      ]
    },
    {
      "cell_type": "markdown",
      "metadata": {
        "id": "Le-N9hQ-o2Fz"
      },
      "source": [
        "Méthode | Description\n",
        "-- | --\n",
        "count | Le nombre de valeurs non manquantes\n",
        "describe | Un sommaire de statistiques pour chaque Series ou le DataFrame\n",
        "min, max | Le minimum et le maximum\n",
        "argmin, argmax | L'indice de la valeur minimale/maximale\n",
        "idxmin, idxmax | L'étiquette des lignes contenant la valeur minimale/maximale\n",
        "quantile | \n",
        "sum | Somme des valeurs\n",
        "median | La valeur médiane\n",
        "mad | mean absolute deviation: La déviation moyenne absolue\n",
        "prod | Le produit de toutes les valeurs\n",
        "var | La variance des valeurs\n",
        "std | L'écart type: standard deviation\n",
        "skew | skewness: symétrie\n",
        "kurt | kurtosis: applatissement\n",
        "cumsum | La somme cumulative\n",
        "cummin, cummax | Le minimum/maximum cumulatif\n",
        "cumprod | Le produit cumulatif\n",
        "pct_change | Changement de pourcentage"
      ]
    },
    {
      "cell_type": "code",
      "metadata": {
        "id": "zlysXvIwoHu0"
      },
      "source": [
        ""
      ],
      "execution_count": null,
      "outputs": []
    }
  ]
}