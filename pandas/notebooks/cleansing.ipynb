{
  "nbformat": 4,
  "nbformat_minor": 0,
  "metadata": {
    "colab": {
      "name": "cleansing.ipynb",
      "provenance": [],
      "collapsed_sections": []
    },
    "kernelspec": {
      "name": "python3",
      "display_name": "Python 3"
    }
  },
  "cells": [
    {
      "cell_type": "markdown",
      "metadata": {
        "id": "WdTyw2JTQxbn"
      },
      "source": [
        "Avant de pouvoir analyser les données, ces dernières doivent être dans un format convenable. Le prétraitement ou preprocessing en Anglais permet le nettoyage, le remplacement des valeurs manquantes et la conversion de données et peut prendre jusqu'à 80% du temps nécessaire pour l'analyse."
      ]
    },
    {
      "cell_type": "markdown",
      "metadata": {
        "id": "-uD6_N3DcGdt"
      },
      "source": [
        "# Traitement des données manquantes"
      ]
    },
    {
      "cell_type": "markdown",
      "metadata": {
        "id": "dVXvQQ-dRq8I"
      },
      "source": [
        "**Manipulation des données manquantes**"
      ]
    },
    {
      "cell_type": "code",
      "metadata": {
        "id": "g-KuJCQfSXKO"
      },
      "source": [
        "import pandas as pd\n",
        "import numpy as np"
      ],
      "execution_count": 2,
      "outputs": []
    },
    {
      "cell_type": "code",
      "metadata": {
        "id": "saOqTxfFR0Xs"
      },
      "source": [
        "data = pd.Series(['Orange', 'Avocado', np.nan, 'Banana', 'Pawpaw'])"
      ],
      "execution_count": 3,
      "outputs": []
    },
    {
      "cell_type": "code",
      "metadata": {
        "colab": {
          "base_uri": "https://localhost:8080/"
        },
        "id": "YWUsyCYkSbaS",
        "outputId": "c897a3c8-1104-4741-9791-f6fcc19b42a9"
      },
      "source": [
        "data"
      ],
      "execution_count": 4,
      "outputs": [
        {
          "output_type": "execute_result",
          "data": {
            "text/plain": [
              "0     Orange\n",
              "1    Avocado\n",
              "2        NaN\n",
              "3     Banana\n",
              "4     Pawpaw\n",
              "dtype: object"
            ]
          },
          "metadata": {
            "tags": []
          },
          "execution_count": 4
        }
      ]
    },
    {
      "cell_type": "code",
      "metadata": {
        "colab": {
          "base_uri": "https://localhost:8080/"
        },
        "id": "-HksIO0KSWeW",
        "outputId": "3522ab45-42b3-471c-8755-12f1995b7d69"
      },
      "source": [
        "data.isnull()"
      ],
      "execution_count": 5,
      "outputs": [
        {
          "output_type": "execute_result",
          "data": {
            "text/plain": [
              "0    False\n",
              "1    False\n",
              "2     True\n",
              "3    False\n",
              "4    False\n",
              "dtype: bool"
            ]
          },
          "metadata": {
            "tags": []
          },
          "execution_count": 5
        }
      ]
    },
    {
      "cell_type": "code",
      "metadata": {
        "id": "Bd_W6PYaSgWu"
      },
      "source": [
        "data[0] = None"
      ],
      "execution_count": 6,
      "outputs": []
    },
    {
      "cell_type": "code",
      "metadata": {
        "colab": {
          "base_uri": "https://localhost:8080/"
        },
        "id": "R0eKxalMSl2p",
        "outputId": "e21e4865-dd02-49e0-df84-4c165b8bae87"
      },
      "source": [
        "data"
      ],
      "execution_count": 7,
      "outputs": [
        {
          "output_type": "execute_result",
          "data": {
            "text/plain": [
              "0       None\n",
              "1    Avocado\n",
              "2        NaN\n",
              "3     Banana\n",
              "4     Pawpaw\n",
              "dtype: object"
            ]
          },
          "metadata": {
            "tags": []
          },
          "execution_count": 7
        }
      ]
    },
    {
      "cell_type": "code",
      "metadata": {
        "colab": {
          "base_uri": "https://localhost:8080/"
        },
        "id": "SxoukRZqSnnO",
        "outputId": "f4ee9847-f965-402b-e01e-a5ea175d6781"
      },
      "source": [
        "data.isnull()"
      ],
      "execution_count": 8,
      "outputs": [
        {
          "output_type": "execute_result",
          "data": {
            "text/plain": [
              "0     True\n",
              "1    False\n",
              "2     True\n",
              "3    False\n",
              "4    False\n",
              "dtype: bool"
            ]
          },
          "metadata": {
            "tags": []
          },
          "execution_count": 8
        }
      ]
    },
    {
      "cell_type": "markdown",
      "metadata": {
        "id": "G1zUdPg1cMjX"
      },
      "source": [
        "Méthode | Description\n",
        "-- | --\n",
        "dropna | Filtrer les étiquettes de l'axe\n",
        "fillna | Remplir les valeurs manquantes en utilisant une méthode d'interpolation 'ffill' ou 'bfill'\n",
        "isnull | Retourner les valeurs booléennes pour les valeurs manquantes\n",
        "notnull | Négation de isnull\n"
      ]
    },
    {
      "cell_type": "markdown",
      "metadata": {
        "id": "VTDkVDlHcupU"
      },
      "source": [
        "**Filtrer les valeurs manquantes**"
      ]
    },
    {
      "cell_type": "code",
      "metadata": {
        "id": "ei2YZeTmRlDS"
      },
      "source": [
        "from numpy import nan as NA"
      ],
      "execution_count": 9,
      "outputs": []
    },
    {
      "cell_type": "code",
      "metadata": {
        "id": "pUFPSZelSxWF"
      },
      "source": [
        "data = pd.Series([1, NA, 3.5, NA, 7])"
      ],
      "execution_count": 10,
      "outputs": []
    },
    {
      "cell_type": "code",
      "metadata": {
        "colab": {
          "base_uri": "https://localhost:8080/"
        },
        "id": "gf_KxmVTS2Q7",
        "outputId": "db2c5a60-ed0a-42ea-db08-dc3b64cee42f"
      },
      "source": [
        "data.dropna()"
      ],
      "execution_count": 11,
      "outputs": [
        {
          "output_type": "execute_result",
          "data": {
            "text/plain": [
              "0    1.0\n",
              "2    3.5\n",
              "4    7.0\n",
              "dtype: float64"
            ]
          },
          "metadata": {
            "tags": []
          },
          "execution_count": 11
        }
      ]
    },
    {
      "cell_type": "code",
      "metadata": {
        "colab": {
          "base_uri": "https://localhost:8080/"
        },
        "id": "WYv7EeJbS49Q",
        "outputId": "347ffcbb-724f-4585-de4a-e670b0b4120d"
      },
      "source": [
        "data"
      ],
      "execution_count": 12,
      "outputs": [
        {
          "output_type": "execute_result",
          "data": {
            "text/plain": [
              "0    1.0\n",
              "1    NaN\n",
              "2    3.5\n",
              "3    NaN\n",
              "4    7.0\n",
              "dtype: float64"
            ]
          },
          "metadata": {
            "tags": []
          },
          "execution_count": 12
        }
      ]
    },
    {
      "cell_type": "markdown",
      "metadata": {
        "id": "ubVJKkVoS87U"
      },
      "source": [
        "Ce qui est équivalent à:"
      ]
    },
    {
      "cell_type": "code",
      "metadata": {
        "colab": {
          "base_uri": "https://localhost:8080/"
        },
        "id": "Rd2roUyxS_UX",
        "outputId": "91cf47e5-2632-485d-9b91-28d4aae9e42d"
      },
      "source": [
        "data[data.notnull()]"
      ],
      "execution_count": 14,
      "outputs": [
        {
          "output_type": "execute_result",
          "data": {
            "text/plain": [
              "0    1.0\n",
              "2    3.5\n",
              "4    7.0\n",
              "dtype: float64"
            ]
          },
          "metadata": {
            "tags": []
          },
          "execution_count": 14
        }
      ]
    },
    {
      "cell_type": "markdown",
      "metadata": {
        "id": "AhxulzzoTKaJ"
      },
      "source": [
        "Pour un DataFrame, il faut faire la distinction entre les lignes et les colonnes:"
      ]
    },
    {
      "cell_type": "code",
      "metadata": {
        "id": "cyFxRMwCTQEP"
      },
      "source": [
        "data = pd.DataFrame([\n",
        "                     [1., 6.5, 3.],\n",
        "                     [1., NA, NA],\n",
        "                     [NA, NA, NA],\n",
        "                     [NA, 6.5, 3.]])"
      ],
      "execution_count": 15,
      "outputs": []
    },
    {
      "cell_type": "code",
      "metadata": {
        "id": "IW42awZ1ThJv"
      },
      "source": [
        "cleaned = data.dropna()"
      ],
      "execution_count": 16,
      "outputs": []
    },
    {
      "cell_type": "code",
      "metadata": {
        "colab": {
          "base_uri": "https://localhost:8080/",
          "height": 174
        },
        "id": "ifwChUycTkt2",
        "outputId": "2b2f1818-44e4-4d36-8da0-4d95f0551379"
      },
      "source": [
        "data"
      ],
      "execution_count": 17,
      "outputs": [
        {
          "output_type": "execute_result",
          "data": {
            "text/html": [
              "<div>\n",
              "<style scoped>\n",
              "    .dataframe tbody tr th:only-of-type {\n",
              "        vertical-align: middle;\n",
              "    }\n",
              "\n",
              "    .dataframe tbody tr th {\n",
              "        vertical-align: top;\n",
              "    }\n",
              "\n",
              "    .dataframe thead th {\n",
              "        text-align: right;\n",
              "    }\n",
              "</style>\n",
              "<table border=\"1\" class=\"dataframe\">\n",
              "  <thead>\n",
              "    <tr style=\"text-align: right;\">\n",
              "      <th></th>\n",
              "      <th>0</th>\n",
              "      <th>1</th>\n",
              "      <th>2</th>\n",
              "    </tr>\n",
              "  </thead>\n",
              "  <tbody>\n",
              "    <tr>\n",
              "      <th>0</th>\n",
              "      <td>1.0</td>\n",
              "      <td>6.5</td>\n",
              "      <td>3.0</td>\n",
              "    </tr>\n",
              "    <tr>\n",
              "      <th>1</th>\n",
              "      <td>1.0</td>\n",
              "      <td>NaN</td>\n",
              "      <td>NaN</td>\n",
              "    </tr>\n",
              "    <tr>\n",
              "      <th>2</th>\n",
              "      <td>NaN</td>\n",
              "      <td>NaN</td>\n",
              "      <td>NaN</td>\n",
              "    </tr>\n",
              "    <tr>\n",
              "      <th>3</th>\n",
              "      <td>NaN</td>\n",
              "      <td>6.5</td>\n",
              "      <td>3.0</td>\n",
              "    </tr>\n",
              "  </tbody>\n",
              "</table>\n",
              "</div>"
            ],
            "text/plain": [
              "     0    1    2\n",
              "0  1.0  6.5  3.0\n",
              "1  1.0  NaN  NaN\n",
              "2  NaN  NaN  NaN\n",
              "3  NaN  6.5  3.0"
            ]
          },
          "metadata": {
            "tags": []
          },
          "execution_count": 17
        }
      ]
    },
    {
      "cell_type": "code",
      "metadata": {
        "colab": {
          "base_uri": "https://localhost:8080/",
          "height": 80
        },
        "id": "iEdiq5eBTmRu",
        "outputId": "edc01d55-e7b4-43dc-8978-8ac0fbc869a9"
      },
      "source": [
        "cleaned"
      ],
      "execution_count": 18,
      "outputs": [
        {
          "output_type": "execute_result",
          "data": {
            "text/html": [
              "<div>\n",
              "<style scoped>\n",
              "    .dataframe tbody tr th:only-of-type {\n",
              "        vertical-align: middle;\n",
              "    }\n",
              "\n",
              "    .dataframe tbody tr th {\n",
              "        vertical-align: top;\n",
              "    }\n",
              "\n",
              "    .dataframe thead th {\n",
              "        text-align: right;\n",
              "    }\n",
              "</style>\n",
              "<table border=\"1\" class=\"dataframe\">\n",
              "  <thead>\n",
              "    <tr style=\"text-align: right;\">\n",
              "      <th></th>\n",
              "      <th>0</th>\n",
              "      <th>1</th>\n",
              "      <th>2</th>\n",
              "    </tr>\n",
              "  </thead>\n",
              "  <tbody>\n",
              "    <tr>\n",
              "      <th>0</th>\n",
              "      <td>1.0</td>\n",
              "      <td>6.5</td>\n",
              "      <td>3.0</td>\n",
              "    </tr>\n",
              "  </tbody>\n",
              "</table>\n",
              "</div>"
            ],
            "text/plain": [
              "     0    1    2\n",
              "0  1.0  6.5  3.0"
            ]
          },
          "metadata": {
            "tags": []
          },
          "execution_count": 18
        }
      ]
    },
    {
      "cell_type": "markdown",
      "metadata": {
        "id": "ypUrHmJ4TrDt"
      },
      "source": [
        "En passant how='all', dropna va supprimer que les lignes qui ont des NA partout."
      ]
    },
    {
      "cell_type": "markdown",
      "metadata": {
        "id": "4dt8JOyNT4a0"
      },
      "source": [
        "Pour raisonner en terme de colonnes, il faut spécifier axis=1 ou axis='columns'"
      ]
    },
    {
      "cell_type": "code",
      "metadata": {
        "id": "HlMLVkJuT-_M"
      },
      "source": [
        "data[4] = NA"
      ],
      "execution_count": 19,
      "outputs": []
    },
    {
      "cell_type": "code",
      "metadata": {
        "colab": {
          "base_uri": "https://localhost:8080/",
          "height": 174
        },
        "id": "KqSu-MjkUCQ2",
        "outputId": "c7290010-bfd1-4680-e44b-5d6b64771ef9"
      },
      "source": [
        "data"
      ],
      "execution_count": 20,
      "outputs": [
        {
          "output_type": "execute_result",
          "data": {
            "text/html": [
              "<div>\n",
              "<style scoped>\n",
              "    .dataframe tbody tr th:only-of-type {\n",
              "        vertical-align: middle;\n",
              "    }\n",
              "\n",
              "    .dataframe tbody tr th {\n",
              "        vertical-align: top;\n",
              "    }\n",
              "\n",
              "    .dataframe thead th {\n",
              "        text-align: right;\n",
              "    }\n",
              "</style>\n",
              "<table border=\"1\" class=\"dataframe\">\n",
              "  <thead>\n",
              "    <tr style=\"text-align: right;\">\n",
              "      <th></th>\n",
              "      <th>0</th>\n",
              "      <th>1</th>\n",
              "      <th>2</th>\n",
              "      <th>4</th>\n",
              "    </tr>\n",
              "  </thead>\n",
              "  <tbody>\n",
              "    <tr>\n",
              "      <th>0</th>\n",
              "      <td>1.0</td>\n",
              "      <td>6.5</td>\n",
              "      <td>3.0</td>\n",
              "      <td>NaN</td>\n",
              "    </tr>\n",
              "    <tr>\n",
              "      <th>1</th>\n",
              "      <td>1.0</td>\n",
              "      <td>NaN</td>\n",
              "      <td>NaN</td>\n",
              "      <td>NaN</td>\n",
              "    </tr>\n",
              "    <tr>\n",
              "      <th>2</th>\n",
              "      <td>NaN</td>\n",
              "      <td>NaN</td>\n",
              "      <td>NaN</td>\n",
              "      <td>NaN</td>\n",
              "    </tr>\n",
              "    <tr>\n",
              "      <th>3</th>\n",
              "      <td>NaN</td>\n",
              "      <td>6.5</td>\n",
              "      <td>3.0</td>\n",
              "      <td>NaN</td>\n",
              "    </tr>\n",
              "  </tbody>\n",
              "</table>\n",
              "</div>"
            ],
            "text/plain": [
              "     0    1    2   4\n",
              "0  1.0  6.5  3.0 NaN\n",
              "1  1.0  NaN  NaN NaN\n",
              "2  NaN  NaN  NaN NaN\n",
              "3  NaN  6.5  3.0 NaN"
            ]
          },
          "metadata": {
            "tags": []
          },
          "execution_count": 20
        }
      ]
    },
    {
      "cell_type": "code",
      "metadata": {
        "colab": {
          "base_uri": "https://localhost:8080/",
          "height": 174
        },
        "id": "EZrq3WRTUEnP",
        "outputId": "b36acb12-8714-40f0-85d0-5cc9646230c7"
      },
      "source": [
        "data.dropna(axis=1, how='all')"
      ],
      "execution_count": 21,
      "outputs": [
        {
          "output_type": "execute_result",
          "data": {
            "text/html": [
              "<div>\n",
              "<style scoped>\n",
              "    .dataframe tbody tr th:only-of-type {\n",
              "        vertical-align: middle;\n",
              "    }\n",
              "\n",
              "    .dataframe tbody tr th {\n",
              "        vertical-align: top;\n",
              "    }\n",
              "\n",
              "    .dataframe thead th {\n",
              "        text-align: right;\n",
              "    }\n",
              "</style>\n",
              "<table border=\"1\" class=\"dataframe\">\n",
              "  <thead>\n",
              "    <tr style=\"text-align: right;\">\n",
              "      <th></th>\n",
              "      <th>0</th>\n",
              "      <th>1</th>\n",
              "      <th>2</th>\n",
              "    </tr>\n",
              "  </thead>\n",
              "  <tbody>\n",
              "    <tr>\n",
              "      <th>0</th>\n",
              "      <td>1.0</td>\n",
              "      <td>6.5</td>\n",
              "      <td>3.0</td>\n",
              "    </tr>\n",
              "    <tr>\n",
              "      <th>1</th>\n",
              "      <td>1.0</td>\n",
              "      <td>NaN</td>\n",
              "      <td>NaN</td>\n",
              "    </tr>\n",
              "    <tr>\n",
              "      <th>2</th>\n",
              "      <td>NaN</td>\n",
              "      <td>NaN</td>\n",
              "      <td>NaN</td>\n",
              "    </tr>\n",
              "    <tr>\n",
              "      <th>3</th>\n",
              "      <td>NaN</td>\n",
              "      <td>6.5</td>\n",
              "      <td>3.0</td>\n",
              "    </tr>\n",
              "  </tbody>\n",
              "</table>\n",
              "</div>"
            ],
            "text/plain": [
              "     0    1    2\n",
              "0  1.0  6.5  3.0\n",
              "1  1.0  NaN  NaN\n",
              "2  NaN  NaN  NaN\n",
              "3  NaN  6.5  3.0"
            ]
          },
          "metadata": {
            "tags": []
          },
          "execution_count": 21
        }
      ]
    },
    {
      "cell_type": "markdown",
      "metadata": {
        "id": "mvFjycPgUm3c"
      },
      "source": [
        "On peut aussi supprimer que les lignes qui ont un minimum de valeurs non manquantes:"
      ]
    },
    {
      "cell_type": "code",
      "metadata": {
        "id": "UDRAn3wpUmTA"
      },
      "source": [
        "df = pd.DataFrame(np.random.randn(7, 3))"
      ],
      "execution_count": 22,
      "outputs": []
    },
    {
      "cell_type": "code",
      "metadata": {
        "id": "o4s1RpNvUyZa"
      },
      "source": [
        "df.iloc[:4, 1] = NA"
      ],
      "execution_count": 23,
      "outputs": []
    },
    {
      "cell_type": "code",
      "metadata": {
        "id": "nb-pPqO-U1uK"
      },
      "source": [
        "df.iloc[:2, 2] = NA"
      ],
      "execution_count": 24,
      "outputs": []
    },
    {
      "cell_type": "code",
      "metadata": {
        "colab": {
          "base_uri": "https://localhost:8080/",
          "height": 267
        },
        "id": "GWqjfmtTU5vz",
        "outputId": "9d04f4c1-8696-48b3-cd7b-5a00426c8fe4"
      },
      "source": [
        "df"
      ],
      "execution_count": 25,
      "outputs": [
        {
          "output_type": "execute_result",
          "data": {
            "text/html": [
              "<div>\n",
              "<style scoped>\n",
              "    .dataframe tbody tr th:only-of-type {\n",
              "        vertical-align: middle;\n",
              "    }\n",
              "\n",
              "    .dataframe tbody tr th {\n",
              "        vertical-align: top;\n",
              "    }\n",
              "\n",
              "    .dataframe thead th {\n",
              "        text-align: right;\n",
              "    }\n",
              "</style>\n",
              "<table border=\"1\" class=\"dataframe\">\n",
              "  <thead>\n",
              "    <tr style=\"text-align: right;\">\n",
              "      <th></th>\n",
              "      <th>0</th>\n",
              "      <th>1</th>\n",
              "      <th>2</th>\n",
              "    </tr>\n",
              "  </thead>\n",
              "  <tbody>\n",
              "    <tr>\n",
              "      <th>0</th>\n",
              "      <td>0.046225</td>\n",
              "      <td>NaN</td>\n",
              "      <td>NaN</td>\n",
              "    </tr>\n",
              "    <tr>\n",
              "      <th>1</th>\n",
              "      <td>0.782643</td>\n",
              "      <td>NaN</td>\n",
              "      <td>NaN</td>\n",
              "    </tr>\n",
              "    <tr>\n",
              "      <th>2</th>\n",
              "      <td>0.471379</td>\n",
              "      <td>NaN</td>\n",
              "      <td>0.354862</td>\n",
              "    </tr>\n",
              "    <tr>\n",
              "      <th>3</th>\n",
              "      <td>-1.186059</td>\n",
              "      <td>NaN</td>\n",
              "      <td>1.429645</td>\n",
              "    </tr>\n",
              "    <tr>\n",
              "      <th>4</th>\n",
              "      <td>0.782406</td>\n",
              "      <td>-0.723274</td>\n",
              "      <td>0.973623</td>\n",
              "    </tr>\n",
              "    <tr>\n",
              "      <th>5</th>\n",
              "      <td>-0.169681</td>\n",
              "      <td>-0.513975</td>\n",
              "      <td>-0.348232</td>\n",
              "    </tr>\n",
              "    <tr>\n",
              "      <th>6</th>\n",
              "      <td>-0.232261</td>\n",
              "      <td>0.186887</td>\n",
              "      <td>1.322485</td>\n",
              "    </tr>\n",
              "  </tbody>\n",
              "</table>\n",
              "</div>"
            ],
            "text/plain": [
              "          0         1         2\n",
              "0  0.046225       NaN       NaN\n",
              "1  0.782643       NaN       NaN\n",
              "2  0.471379       NaN  0.354862\n",
              "3 -1.186059       NaN  1.429645\n",
              "4  0.782406 -0.723274  0.973623\n",
              "5 -0.169681 -0.513975 -0.348232\n",
              "6 -0.232261  0.186887  1.322485"
            ]
          },
          "metadata": {
            "tags": []
          },
          "execution_count": 25
        }
      ]
    },
    {
      "cell_type": "code",
      "metadata": {
        "colab": {
          "base_uri": "https://localhost:8080/",
          "height": 142
        },
        "id": "G2mRwUMwU67M",
        "outputId": "c9176702-e5da-4cb7-dfdd-1ae46ebb5150"
      },
      "source": [
        "df.dropna()"
      ],
      "execution_count": 26,
      "outputs": [
        {
          "output_type": "execute_result",
          "data": {
            "text/html": [
              "<div>\n",
              "<style scoped>\n",
              "    .dataframe tbody tr th:only-of-type {\n",
              "        vertical-align: middle;\n",
              "    }\n",
              "\n",
              "    .dataframe tbody tr th {\n",
              "        vertical-align: top;\n",
              "    }\n",
              "\n",
              "    .dataframe thead th {\n",
              "        text-align: right;\n",
              "    }\n",
              "</style>\n",
              "<table border=\"1\" class=\"dataframe\">\n",
              "  <thead>\n",
              "    <tr style=\"text-align: right;\">\n",
              "      <th></th>\n",
              "      <th>0</th>\n",
              "      <th>1</th>\n",
              "      <th>2</th>\n",
              "    </tr>\n",
              "  </thead>\n",
              "  <tbody>\n",
              "    <tr>\n",
              "      <th>4</th>\n",
              "      <td>0.782406</td>\n",
              "      <td>-0.723274</td>\n",
              "      <td>0.973623</td>\n",
              "    </tr>\n",
              "    <tr>\n",
              "      <th>5</th>\n",
              "      <td>-0.169681</td>\n",
              "      <td>-0.513975</td>\n",
              "      <td>-0.348232</td>\n",
              "    </tr>\n",
              "    <tr>\n",
              "      <th>6</th>\n",
              "      <td>-0.232261</td>\n",
              "      <td>0.186887</td>\n",
              "      <td>1.322485</td>\n",
              "    </tr>\n",
              "  </tbody>\n",
              "</table>\n",
              "</div>"
            ],
            "text/plain": [
              "          0         1         2\n",
              "4  0.782406 -0.723274  0.973623\n",
              "5 -0.169681 -0.513975 -0.348232\n",
              "6 -0.232261  0.186887  1.322485"
            ]
          },
          "metadata": {
            "tags": []
          },
          "execution_count": 26
        }
      ]
    },
    {
      "cell_type": "code",
      "metadata": {
        "colab": {
          "base_uri": "https://localhost:8080/",
          "height": 205
        },
        "id": "dbCJu34FU9IG",
        "outputId": "867d0b14-b7db-45d9-8721-9e09f99fc47d"
      },
      "source": [
        "df.dropna(thresh=2)"
      ],
      "execution_count": 27,
      "outputs": [
        {
          "output_type": "execute_result",
          "data": {
            "text/html": [
              "<div>\n",
              "<style scoped>\n",
              "    .dataframe tbody tr th:only-of-type {\n",
              "        vertical-align: middle;\n",
              "    }\n",
              "\n",
              "    .dataframe tbody tr th {\n",
              "        vertical-align: top;\n",
              "    }\n",
              "\n",
              "    .dataframe thead th {\n",
              "        text-align: right;\n",
              "    }\n",
              "</style>\n",
              "<table border=\"1\" class=\"dataframe\">\n",
              "  <thead>\n",
              "    <tr style=\"text-align: right;\">\n",
              "      <th></th>\n",
              "      <th>0</th>\n",
              "      <th>1</th>\n",
              "      <th>2</th>\n",
              "    </tr>\n",
              "  </thead>\n",
              "  <tbody>\n",
              "    <tr>\n",
              "      <th>2</th>\n",
              "      <td>0.471379</td>\n",
              "      <td>NaN</td>\n",
              "      <td>0.354862</td>\n",
              "    </tr>\n",
              "    <tr>\n",
              "      <th>3</th>\n",
              "      <td>-1.186059</td>\n",
              "      <td>NaN</td>\n",
              "      <td>1.429645</td>\n",
              "    </tr>\n",
              "    <tr>\n",
              "      <th>4</th>\n",
              "      <td>0.782406</td>\n",
              "      <td>-0.723274</td>\n",
              "      <td>0.973623</td>\n",
              "    </tr>\n",
              "    <tr>\n",
              "      <th>5</th>\n",
              "      <td>-0.169681</td>\n",
              "      <td>-0.513975</td>\n",
              "      <td>-0.348232</td>\n",
              "    </tr>\n",
              "    <tr>\n",
              "      <th>6</th>\n",
              "      <td>-0.232261</td>\n",
              "      <td>0.186887</td>\n",
              "      <td>1.322485</td>\n",
              "    </tr>\n",
              "  </tbody>\n",
              "</table>\n",
              "</div>"
            ],
            "text/plain": [
              "          0         1         2\n",
              "2  0.471379       NaN  0.354862\n",
              "3 -1.186059       NaN  1.429645\n",
              "4  0.782406 -0.723274  0.973623\n",
              "5 -0.169681 -0.513975 -0.348232\n",
              "6 -0.232261  0.186887  1.322485"
            ]
          },
          "metadata": {
            "tags": []
          },
          "execution_count": 27
        }
      ]
    },
    {
      "cell_type": "markdown",
      "metadata": {
        "id": "pPC_2vH9c5il"
      },
      "source": [
        "**Remplissage des valeurs manquantes**"
      ]
    },
    {
      "cell_type": "code",
      "metadata": {
        "colab": {
          "base_uri": "https://localhost:8080/",
          "height": 267
        },
        "id": "C3nQv_BqcJg7",
        "outputId": "609a0c83-22c1-4cb9-efa0-dca565fc1790"
      },
      "source": [
        "df.fillna(0)"
      ],
      "execution_count": 28,
      "outputs": [
        {
          "output_type": "execute_result",
          "data": {
            "text/html": [
              "<div>\n",
              "<style scoped>\n",
              "    .dataframe tbody tr th:only-of-type {\n",
              "        vertical-align: middle;\n",
              "    }\n",
              "\n",
              "    .dataframe tbody tr th {\n",
              "        vertical-align: top;\n",
              "    }\n",
              "\n",
              "    .dataframe thead th {\n",
              "        text-align: right;\n",
              "    }\n",
              "</style>\n",
              "<table border=\"1\" class=\"dataframe\">\n",
              "  <thead>\n",
              "    <tr style=\"text-align: right;\">\n",
              "      <th></th>\n",
              "      <th>0</th>\n",
              "      <th>1</th>\n",
              "      <th>2</th>\n",
              "    </tr>\n",
              "  </thead>\n",
              "  <tbody>\n",
              "    <tr>\n",
              "      <th>0</th>\n",
              "      <td>0.046225</td>\n",
              "      <td>0.000000</td>\n",
              "      <td>0.000000</td>\n",
              "    </tr>\n",
              "    <tr>\n",
              "      <th>1</th>\n",
              "      <td>0.782643</td>\n",
              "      <td>0.000000</td>\n",
              "      <td>0.000000</td>\n",
              "    </tr>\n",
              "    <tr>\n",
              "      <th>2</th>\n",
              "      <td>0.471379</td>\n",
              "      <td>0.000000</td>\n",
              "      <td>0.354862</td>\n",
              "    </tr>\n",
              "    <tr>\n",
              "      <th>3</th>\n",
              "      <td>-1.186059</td>\n",
              "      <td>0.000000</td>\n",
              "      <td>1.429645</td>\n",
              "    </tr>\n",
              "    <tr>\n",
              "      <th>4</th>\n",
              "      <td>0.782406</td>\n",
              "      <td>-0.723274</td>\n",
              "      <td>0.973623</td>\n",
              "    </tr>\n",
              "    <tr>\n",
              "      <th>5</th>\n",
              "      <td>-0.169681</td>\n",
              "      <td>-0.513975</td>\n",
              "      <td>-0.348232</td>\n",
              "    </tr>\n",
              "    <tr>\n",
              "      <th>6</th>\n",
              "      <td>-0.232261</td>\n",
              "      <td>0.186887</td>\n",
              "      <td>1.322485</td>\n",
              "    </tr>\n",
              "  </tbody>\n",
              "</table>\n",
              "</div>"
            ],
            "text/plain": [
              "          0         1         2\n",
              "0  0.046225  0.000000  0.000000\n",
              "1  0.782643  0.000000  0.000000\n",
              "2  0.471379  0.000000  0.354862\n",
              "3 -1.186059  0.000000  1.429645\n",
              "4  0.782406 -0.723274  0.973623\n",
              "5 -0.169681 -0.513975 -0.348232\n",
              "6 -0.232261  0.186887  1.322485"
            ]
          },
          "metadata": {
            "tags": []
          },
          "execution_count": 28
        }
      ]
    },
    {
      "cell_type": "markdown",
      "metadata": {
        "id": "wTAt68IkVb1c"
      },
      "source": [
        "On peut spécifier la valeur de remplissage par colonne:"
      ]
    },
    {
      "cell_type": "code",
      "metadata": {
        "colab": {
          "base_uri": "https://localhost:8080/",
          "height": 267
        },
        "id": "gCsUHBmMVafp",
        "outputId": "11521935-9a59-4ba2-aafd-a462befd600b"
      },
      "source": [
        "df.fillna({1: 0.5, 2: 0})"
      ],
      "execution_count": 29,
      "outputs": [
        {
          "output_type": "execute_result",
          "data": {
            "text/html": [
              "<div>\n",
              "<style scoped>\n",
              "    .dataframe tbody tr th:only-of-type {\n",
              "        vertical-align: middle;\n",
              "    }\n",
              "\n",
              "    .dataframe tbody tr th {\n",
              "        vertical-align: top;\n",
              "    }\n",
              "\n",
              "    .dataframe thead th {\n",
              "        text-align: right;\n",
              "    }\n",
              "</style>\n",
              "<table border=\"1\" class=\"dataframe\">\n",
              "  <thead>\n",
              "    <tr style=\"text-align: right;\">\n",
              "      <th></th>\n",
              "      <th>0</th>\n",
              "      <th>1</th>\n",
              "      <th>2</th>\n",
              "    </tr>\n",
              "  </thead>\n",
              "  <tbody>\n",
              "    <tr>\n",
              "      <th>0</th>\n",
              "      <td>0.046225</td>\n",
              "      <td>0.500000</td>\n",
              "      <td>0.000000</td>\n",
              "    </tr>\n",
              "    <tr>\n",
              "      <th>1</th>\n",
              "      <td>0.782643</td>\n",
              "      <td>0.500000</td>\n",
              "      <td>0.000000</td>\n",
              "    </tr>\n",
              "    <tr>\n",
              "      <th>2</th>\n",
              "      <td>0.471379</td>\n",
              "      <td>0.500000</td>\n",
              "      <td>0.354862</td>\n",
              "    </tr>\n",
              "    <tr>\n",
              "      <th>3</th>\n",
              "      <td>-1.186059</td>\n",
              "      <td>0.500000</td>\n",
              "      <td>1.429645</td>\n",
              "    </tr>\n",
              "    <tr>\n",
              "      <th>4</th>\n",
              "      <td>0.782406</td>\n",
              "      <td>-0.723274</td>\n",
              "      <td>0.973623</td>\n",
              "    </tr>\n",
              "    <tr>\n",
              "      <th>5</th>\n",
              "      <td>-0.169681</td>\n",
              "      <td>-0.513975</td>\n",
              "      <td>-0.348232</td>\n",
              "    </tr>\n",
              "    <tr>\n",
              "      <th>6</th>\n",
              "      <td>-0.232261</td>\n",
              "      <td>0.186887</td>\n",
              "      <td>1.322485</td>\n",
              "    </tr>\n",
              "  </tbody>\n",
              "</table>\n",
              "</div>"
            ],
            "text/plain": [
              "          0         1         2\n",
              "0  0.046225  0.500000  0.000000\n",
              "1  0.782643  0.500000  0.000000\n",
              "2  0.471379  0.500000  0.354862\n",
              "3 -1.186059  0.500000  1.429645\n",
              "4  0.782406 -0.723274  0.973623\n",
              "5 -0.169681 -0.513975 -0.348232\n",
              "6 -0.232261  0.186887  1.322485"
            ]
          },
          "metadata": {
            "tags": []
          },
          "execution_count": 29
        }
      ]
    },
    {
      "cell_type": "markdown",
      "metadata": {
        "id": "cxyab287Vpm-"
      },
      "source": [
        "On peut utiliser inplace pour remplacer l'objet initial au lieu de le retourner."
      ]
    },
    {
      "cell_type": "code",
      "metadata": {
        "id": "pyys8MqPV0r-"
      },
      "source": [
        "df.fillna(0, inplace=True)"
      ],
      "execution_count": 30,
      "outputs": []
    },
    {
      "cell_type": "code",
      "metadata": {
        "colab": {
          "base_uri": "https://localhost:8080/",
          "height": 267
        },
        "id": "OC7bMQBBV46R",
        "outputId": "c00d1b4a-18d1-4c43-d55b-d64b6695c3f1"
      },
      "source": [
        "df"
      ],
      "execution_count": 31,
      "outputs": [
        {
          "output_type": "execute_result",
          "data": {
            "text/html": [
              "<div>\n",
              "<style scoped>\n",
              "    .dataframe tbody tr th:only-of-type {\n",
              "        vertical-align: middle;\n",
              "    }\n",
              "\n",
              "    .dataframe tbody tr th {\n",
              "        vertical-align: top;\n",
              "    }\n",
              "\n",
              "    .dataframe thead th {\n",
              "        text-align: right;\n",
              "    }\n",
              "</style>\n",
              "<table border=\"1\" class=\"dataframe\">\n",
              "  <thead>\n",
              "    <tr style=\"text-align: right;\">\n",
              "      <th></th>\n",
              "      <th>0</th>\n",
              "      <th>1</th>\n",
              "      <th>2</th>\n",
              "    </tr>\n",
              "  </thead>\n",
              "  <tbody>\n",
              "    <tr>\n",
              "      <th>0</th>\n",
              "      <td>0.046225</td>\n",
              "      <td>0.000000</td>\n",
              "      <td>0.000000</td>\n",
              "    </tr>\n",
              "    <tr>\n",
              "      <th>1</th>\n",
              "      <td>0.782643</td>\n",
              "      <td>0.000000</td>\n",
              "      <td>0.000000</td>\n",
              "    </tr>\n",
              "    <tr>\n",
              "      <th>2</th>\n",
              "      <td>0.471379</td>\n",
              "      <td>0.000000</td>\n",
              "      <td>0.354862</td>\n",
              "    </tr>\n",
              "    <tr>\n",
              "      <th>3</th>\n",
              "      <td>-1.186059</td>\n",
              "      <td>0.000000</td>\n",
              "      <td>1.429645</td>\n",
              "    </tr>\n",
              "    <tr>\n",
              "      <th>4</th>\n",
              "      <td>0.782406</td>\n",
              "      <td>-0.723274</td>\n",
              "      <td>0.973623</td>\n",
              "    </tr>\n",
              "    <tr>\n",
              "      <th>5</th>\n",
              "      <td>-0.169681</td>\n",
              "      <td>-0.513975</td>\n",
              "      <td>-0.348232</td>\n",
              "    </tr>\n",
              "    <tr>\n",
              "      <th>6</th>\n",
              "      <td>-0.232261</td>\n",
              "      <td>0.186887</td>\n",
              "      <td>1.322485</td>\n",
              "    </tr>\n",
              "  </tbody>\n",
              "</table>\n",
              "</div>"
            ],
            "text/plain": [
              "          0         1         2\n",
              "0  0.046225  0.000000  0.000000\n",
              "1  0.782643  0.000000  0.000000\n",
              "2  0.471379  0.000000  0.354862\n",
              "3 -1.186059  0.000000  1.429645\n",
              "4  0.782406 -0.723274  0.973623\n",
              "5 -0.169681 -0.513975 -0.348232\n",
              "6 -0.232261  0.186887  1.322485"
            ]
          },
          "metadata": {
            "tags": []
          },
          "execution_count": 31
        }
      ]
    },
    {
      "cell_type": "markdown",
      "metadata": {
        "id": "LyHj7cWTV7nb"
      },
      "source": [
        "Les mêmes méthodes d'interpolation disponibles pour la réindexation peuvent être utilisées pour le remplissage des valeurs manquantes:"
      ]
    },
    {
      "cell_type": "code",
      "metadata": {
        "id": "LW6YAsRuANbw"
      },
      "source": [
        "import pandas as pd\n",
        "import numpy as np"
      ],
      "execution_count": 10,
      "outputs": []
    },
    {
      "cell_type": "code",
      "metadata": {
        "id": "OtqkgzQwAgn3"
      },
      "source": [
        "from numpy import nan as NA"
      ],
      "execution_count": 13,
      "outputs": []
    },
    {
      "cell_type": "code",
      "metadata": {
        "id": "QDNRMHYjWGQQ"
      },
      "source": [
        "df = pd.DataFrame(np.random.randn(6, 3))"
      ],
      "execution_count": 14,
      "outputs": []
    },
    {
      "cell_type": "code",
      "metadata": {
        "id": "UQm_krLeWLEK"
      },
      "source": [
        "df.iloc[2:, 1] = NA"
      ],
      "execution_count": 15,
      "outputs": []
    },
    {
      "cell_type": "code",
      "metadata": {
        "id": "QT1vJWp0WO2-"
      },
      "source": [
        "df.iloc[4:, 1] = NA"
      ],
      "execution_count": 16,
      "outputs": []
    },
    {
      "cell_type": "code",
      "metadata": {
        "colab": {
          "base_uri": "https://localhost:8080/",
          "height": 236
        },
        "id": "0c1vwlqzWRZo",
        "outputId": "28771ec3-22fb-4051-aa69-053cadf5c321"
      },
      "source": [
        "df"
      ],
      "execution_count": 20,
      "outputs": [
        {
          "output_type": "execute_result",
          "data": {
            "text/html": [
              "<div>\n",
              "<style scoped>\n",
              "    .dataframe tbody tr th:only-of-type {\n",
              "        vertical-align: middle;\n",
              "    }\n",
              "\n",
              "    .dataframe tbody tr th {\n",
              "        vertical-align: top;\n",
              "    }\n",
              "\n",
              "    .dataframe thead th {\n",
              "        text-align: right;\n",
              "    }\n",
              "</style>\n",
              "<table border=\"1\" class=\"dataframe\">\n",
              "  <thead>\n",
              "    <tr style=\"text-align: right;\">\n",
              "      <th></th>\n",
              "      <th>0</th>\n",
              "      <th>1</th>\n",
              "      <th>2</th>\n",
              "    </tr>\n",
              "  </thead>\n",
              "  <tbody>\n",
              "    <tr>\n",
              "      <th>0</th>\n",
              "      <td>1.150541</td>\n",
              "      <td>-0.724689</td>\n",
              "      <td>2.144020</td>\n",
              "    </tr>\n",
              "    <tr>\n",
              "      <th>1</th>\n",
              "      <td>-1.029568</td>\n",
              "      <td>-0.005683</td>\n",
              "      <td>0.129208</td>\n",
              "    </tr>\n",
              "    <tr>\n",
              "      <th>2</th>\n",
              "      <td>0.614146</td>\n",
              "      <td>NaN</td>\n",
              "      <td>1.018599</td>\n",
              "    </tr>\n",
              "    <tr>\n",
              "      <th>3</th>\n",
              "      <td>-0.555666</td>\n",
              "      <td>NaN</td>\n",
              "      <td>0.847277</td>\n",
              "    </tr>\n",
              "    <tr>\n",
              "      <th>4</th>\n",
              "      <td>1.514245</td>\n",
              "      <td>NaN</td>\n",
              "      <td>-0.336998</td>\n",
              "    </tr>\n",
              "    <tr>\n",
              "      <th>5</th>\n",
              "      <td>-0.839376</td>\n",
              "      <td>NaN</td>\n",
              "      <td>1.467783</td>\n",
              "    </tr>\n",
              "  </tbody>\n",
              "</table>\n",
              "</div>"
            ],
            "text/plain": [
              "          0         1         2\n",
              "0  1.150541 -0.724689  2.144020\n",
              "1 -1.029568 -0.005683  0.129208\n",
              "2  0.614146       NaN  1.018599\n",
              "3 -0.555666       NaN  0.847277\n",
              "4  1.514245       NaN -0.336998\n",
              "5 -0.839376       NaN  1.467783"
            ]
          },
          "metadata": {
            "tags": []
          },
          "execution_count": 20
        }
      ]
    },
    {
      "cell_type": "code",
      "metadata": {
        "colab": {
          "base_uri": "https://localhost:8080/",
          "height": 236
        },
        "id": "-cUjhd4WWlwl",
        "outputId": "7bf71127-57c5-44a1-c2d0-b986c50e4dcb"
      },
      "source": [
        "df.fillna(method='ffill')"
      ],
      "execution_count": 18,
      "outputs": [
        {
          "output_type": "execute_result",
          "data": {
            "text/html": [
              "<div>\n",
              "<style scoped>\n",
              "    .dataframe tbody tr th:only-of-type {\n",
              "        vertical-align: middle;\n",
              "    }\n",
              "\n",
              "    .dataframe tbody tr th {\n",
              "        vertical-align: top;\n",
              "    }\n",
              "\n",
              "    .dataframe thead th {\n",
              "        text-align: right;\n",
              "    }\n",
              "</style>\n",
              "<table border=\"1\" class=\"dataframe\">\n",
              "  <thead>\n",
              "    <tr style=\"text-align: right;\">\n",
              "      <th></th>\n",
              "      <th>0</th>\n",
              "      <th>1</th>\n",
              "      <th>2</th>\n",
              "    </tr>\n",
              "  </thead>\n",
              "  <tbody>\n",
              "    <tr>\n",
              "      <th>0</th>\n",
              "      <td>1.150541</td>\n",
              "      <td>-0.724689</td>\n",
              "      <td>2.144020</td>\n",
              "    </tr>\n",
              "    <tr>\n",
              "      <th>1</th>\n",
              "      <td>-1.029568</td>\n",
              "      <td>-0.005683</td>\n",
              "      <td>0.129208</td>\n",
              "    </tr>\n",
              "    <tr>\n",
              "      <th>2</th>\n",
              "      <td>0.614146</td>\n",
              "      <td>NaN</td>\n",
              "      <td>1.018599</td>\n",
              "    </tr>\n",
              "    <tr>\n",
              "      <th>3</th>\n",
              "      <td>-0.555666</td>\n",
              "      <td>NaN</td>\n",
              "      <td>0.847277</td>\n",
              "    </tr>\n",
              "    <tr>\n",
              "      <th>4</th>\n",
              "      <td>1.514245</td>\n",
              "      <td>NaN</td>\n",
              "      <td>-0.336998</td>\n",
              "    </tr>\n",
              "    <tr>\n",
              "      <th>5</th>\n",
              "      <td>-0.839376</td>\n",
              "      <td>NaN</td>\n",
              "      <td>1.467783</td>\n",
              "    </tr>\n",
              "  </tbody>\n",
              "</table>\n",
              "</div>"
            ],
            "text/plain": [
              "          0         1         2\n",
              "0  1.150541 -0.724689  2.144020\n",
              "1 -1.029568 -0.005683  0.129208\n",
              "2  0.614146       NaN  1.018599\n",
              "3 -0.555666       NaN  0.847277\n",
              "4  1.514245       NaN -0.336998\n",
              "5 -0.839376       NaN  1.467783"
            ]
          },
          "metadata": {
            "tags": []
          },
          "execution_count": 18
        }
      ]
    },
    {
      "cell_type": "code",
      "metadata": {
        "colab": {
          "base_uri": "https://localhost:8080/",
          "height": 236
        },
        "id": "uAGi9sNQWsB-",
        "outputId": "b5d09e0f-52db-44dd-fcbd-6088e555beea"
      },
      "source": [
        "df.fillna(method='ffill', limit=2)"
      ],
      "execution_count": 37,
      "outputs": [
        {
          "output_type": "execute_result",
          "data": {
            "text/html": [
              "<div>\n",
              "<style scoped>\n",
              "    .dataframe tbody tr th:only-of-type {\n",
              "        vertical-align: middle;\n",
              "    }\n",
              "\n",
              "    .dataframe tbody tr th {\n",
              "        vertical-align: top;\n",
              "    }\n",
              "\n",
              "    .dataframe thead th {\n",
              "        text-align: right;\n",
              "    }\n",
              "</style>\n",
              "<table border=\"1\" class=\"dataframe\">\n",
              "  <thead>\n",
              "    <tr style=\"text-align: right;\">\n",
              "      <th></th>\n",
              "      <th>0</th>\n",
              "      <th>1</th>\n",
              "      <th>2</th>\n",
              "    </tr>\n",
              "  </thead>\n",
              "  <tbody>\n",
              "    <tr>\n",
              "      <th>0</th>\n",
              "      <td>-2.012694</td>\n",
              "      <td>-1.455680</td>\n",
              "      <td>3.008077</td>\n",
              "    </tr>\n",
              "    <tr>\n",
              "      <th>1</th>\n",
              "      <td>1.340872</td>\n",
              "      <td>1.597419</td>\n",
              "      <td>1.155669</td>\n",
              "    </tr>\n",
              "    <tr>\n",
              "      <th>2</th>\n",
              "      <td>0.632951</td>\n",
              "      <td>1.597419</td>\n",
              "      <td>-1.061043</td>\n",
              "    </tr>\n",
              "    <tr>\n",
              "      <th>3</th>\n",
              "      <td>0.818095</td>\n",
              "      <td>1.597419</td>\n",
              "      <td>1.370115</td>\n",
              "    </tr>\n",
              "    <tr>\n",
              "      <th>4</th>\n",
              "      <td>0.344029</td>\n",
              "      <td>NaN</td>\n",
              "      <td>-0.537469</td>\n",
              "    </tr>\n",
              "    <tr>\n",
              "      <th>5</th>\n",
              "      <td>-1.000739</td>\n",
              "      <td>NaN</td>\n",
              "      <td>-1.769673</td>\n",
              "    </tr>\n",
              "  </tbody>\n",
              "</table>\n",
              "</div>"
            ],
            "text/plain": [
              "          0         1         2\n",
              "0 -2.012694 -1.455680  3.008077\n",
              "1  1.340872  1.597419  1.155669\n",
              "2  0.632951  1.597419 -1.061043\n",
              "3  0.818095  1.597419  1.370115\n",
              "4  0.344029       NaN -0.537469\n",
              "5 -1.000739       NaN -1.769673"
            ]
          },
          "metadata": {
            "tags": []
          },
          "execution_count": 37
        }
      ]
    },
    {
      "cell_type": "markdown",
      "metadata": {
        "id": "NAPyeQvWW3K5"
      },
      "source": [
        "On peut utiliser les fonctions pour imputer les valeurs manquantes:"
      ]
    },
    {
      "cell_type": "code",
      "metadata": {
        "id": "b04Xk3OAW2qn"
      },
      "source": [
        "data = pd.Series([1., NA, 3.5, NA, 7])"
      ],
      "execution_count": 22,
      "outputs": []
    },
    {
      "cell_type": "code",
      "metadata": {
        "colab": {
          "base_uri": "https://localhost:8080/"
        },
        "id": "lDK8g5BOXB9G",
        "outputId": "dfad3229-306d-4510-e6f9-49a03073f406"
      },
      "source": [
        "data.fillna(data.mean())"
      ],
      "execution_count": 23,
      "outputs": [
        {
          "output_type": "execute_result",
          "data": {
            "text/plain": [
              "0    1.0\n",
              "1    3.5\n",
              "2    3.5\n",
              "3    NaN\n",
              "4    7.0\n",
              "dtype: float64"
            ]
          },
          "metadata": {
            "tags": []
          },
          "execution_count": 23
        }
      ]
    },
    {
      "cell_type": "markdown",
      "metadata": {
        "id": "ZzTezglqXHQn"
      },
      "source": [
        "Argument | Description\n",
        "-- | --\n",
        "value | Valeur scalaire ou sous forme de dictionnaire à utiliser pour le remplissage\n",
        "method | Interpolation, par défaut 'ffill'\n",
        "axis | L'axe à utiliser, par défaut axis=0 \n",
        "inplace | Modifier l'objet sans faire une copie\n",
        "limit | Maximum nombre de valeurs à remplir"
      ]
    },
    {
      "cell_type": "markdown",
      "metadata": {
        "id": "NuBEMV8Dc96B"
      },
      "source": [
        "# Transormation de données"
      ]
    },
    {
      "cell_type": "markdown",
      "metadata": {
        "id": "KCd7UHXAdC4j"
      },
      "source": [
        "**Supprimer les doublons**"
      ]
    },
    {
      "cell_type": "code",
      "metadata": {
        "id": "hmvvegHtYBpv"
      },
      "source": [
        "data = pd.DataFrame({'k1': ['one', 'two'] * 3 + ['two'],\n",
        "                     'k2': [1, 1, 2, 3, 3, 4, 4]})"
      ],
      "execution_count": 40,
      "outputs": []
    },
    {
      "cell_type": "code",
      "metadata": {
        "colab": {
          "base_uri": "https://localhost:8080/",
          "height": 267
        },
        "id": "W1BFfZwfYTRY",
        "outputId": "8e4b6040-dfc7-4bed-e324-62399b71594a"
      },
      "source": [
        "data"
      ],
      "execution_count": 41,
      "outputs": [
        {
          "output_type": "execute_result",
          "data": {
            "text/html": [
              "<div>\n",
              "<style scoped>\n",
              "    .dataframe tbody tr th:only-of-type {\n",
              "        vertical-align: middle;\n",
              "    }\n",
              "\n",
              "    .dataframe tbody tr th {\n",
              "        vertical-align: top;\n",
              "    }\n",
              "\n",
              "    .dataframe thead th {\n",
              "        text-align: right;\n",
              "    }\n",
              "</style>\n",
              "<table border=\"1\" class=\"dataframe\">\n",
              "  <thead>\n",
              "    <tr style=\"text-align: right;\">\n",
              "      <th></th>\n",
              "      <th>k1</th>\n",
              "      <th>k2</th>\n",
              "    </tr>\n",
              "  </thead>\n",
              "  <tbody>\n",
              "    <tr>\n",
              "      <th>0</th>\n",
              "      <td>one</td>\n",
              "      <td>1</td>\n",
              "    </tr>\n",
              "    <tr>\n",
              "      <th>1</th>\n",
              "      <td>two</td>\n",
              "      <td>1</td>\n",
              "    </tr>\n",
              "    <tr>\n",
              "      <th>2</th>\n",
              "      <td>one</td>\n",
              "      <td>2</td>\n",
              "    </tr>\n",
              "    <tr>\n",
              "      <th>3</th>\n",
              "      <td>two</td>\n",
              "      <td>3</td>\n",
              "    </tr>\n",
              "    <tr>\n",
              "      <th>4</th>\n",
              "      <td>one</td>\n",
              "      <td>3</td>\n",
              "    </tr>\n",
              "    <tr>\n",
              "      <th>5</th>\n",
              "      <td>two</td>\n",
              "      <td>4</td>\n",
              "    </tr>\n",
              "    <tr>\n",
              "      <th>6</th>\n",
              "      <td>two</td>\n",
              "      <td>4</td>\n",
              "    </tr>\n",
              "  </tbody>\n",
              "</table>\n",
              "</div>"
            ],
            "text/plain": [
              "    k1  k2\n",
              "0  one   1\n",
              "1  two   1\n",
              "2  one   2\n",
              "3  two   3\n",
              "4  one   3\n",
              "5  two   4\n",
              "6  two   4"
            ]
          },
          "metadata": {
            "tags": []
          },
          "execution_count": 41
        }
      ]
    },
    {
      "cell_type": "code",
      "metadata": {
        "colab": {
          "base_uri": "https://localhost:8080/"
        },
        "id": "OeOwoRcGYWSO",
        "outputId": "481a0b0d-dd1e-4876-f008-d0dd877a1442"
      },
      "source": [
        "data.duplicated()"
      ],
      "execution_count": 42,
      "outputs": [
        {
          "output_type": "execute_result",
          "data": {
            "text/plain": [
              "0    False\n",
              "1    False\n",
              "2    False\n",
              "3    False\n",
              "4    False\n",
              "5    False\n",
              "6     True\n",
              "dtype: bool"
            ]
          },
          "metadata": {
            "tags": []
          },
          "execution_count": 42
        }
      ]
    },
    {
      "cell_type": "code",
      "metadata": {
        "colab": {
          "base_uri": "https://localhost:8080/",
          "height": 236
        },
        "id": "gTHuYlG2YlOV",
        "outputId": "8b7f3976-045f-451a-d3e3-68215ef19234"
      },
      "source": [
        "data.drop_duplicates()"
      ],
      "execution_count": 43,
      "outputs": [
        {
          "output_type": "execute_result",
          "data": {
            "text/html": [
              "<div>\n",
              "<style scoped>\n",
              "    .dataframe tbody tr th:only-of-type {\n",
              "        vertical-align: middle;\n",
              "    }\n",
              "\n",
              "    .dataframe tbody tr th {\n",
              "        vertical-align: top;\n",
              "    }\n",
              "\n",
              "    .dataframe thead th {\n",
              "        text-align: right;\n",
              "    }\n",
              "</style>\n",
              "<table border=\"1\" class=\"dataframe\">\n",
              "  <thead>\n",
              "    <tr style=\"text-align: right;\">\n",
              "      <th></th>\n",
              "      <th>k1</th>\n",
              "      <th>k2</th>\n",
              "    </tr>\n",
              "  </thead>\n",
              "  <tbody>\n",
              "    <tr>\n",
              "      <th>0</th>\n",
              "      <td>one</td>\n",
              "      <td>1</td>\n",
              "    </tr>\n",
              "    <tr>\n",
              "      <th>1</th>\n",
              "      <td>two</td>\n",
              "      <td>1</td>\n",
              "    </tr>\n",
              "    <tr>\n",
              "      <th>2</th>\n",
              "      <td>one</td>\n",
              "      <td>2</td>\n",
              "    </tr>\n",
              "    <tr>\n",
              "      <th>3</th>\n",
              "      <td>two</td>\n",
              "      <td>3</td>\n",
              "    </tr>\n",
              "    <tr>\n",
              "      <th>4</th>\n",
              "      <td>one</td>\n",
              "      <td>3</td>\n",
              "    </tr>\n",
              "    <tr>\n",
              "      <th>5</th>\n",
              "      <td>two</td>\n",
              "      <td>4</td>\n",
              "    </tr>\n",
              "  </tbody>\n",
              "</table>\n",
              "</div>"
            ],
            "text/plain": [
              "    k1  k2\n",
              "0  one   1\n",
              "1  two   1\n",
              "2  one   2\n",
              "3  two   3\n",
              "4  one   3\n",
              "5  two   4"
            ]
          },
          "metadata": {
            "tags": []
          },
          "execution_count": 43
        }
      ]
    },
    {
      "cell_type": "markdown",
      "metadata": {
        "id": "Gv11kENUdINX"
      },
      "source": [
        "**Transofrmation en utilisant une fonction ou le mapping**"
      ]
    },
    {
      "cell_type": "markdown",
      "metadata": {
        "id": "HlpRKRjYdOGw"
      },
      "source": [
        "**Remplacer les valeurs**"
      ]
    },
    {
      "cell_type": "markdown",
      "metadata": {
        "id": "JznNPF8rdS4F"
      },
      "source": [
        "**Renommer les Index des axes**"
      ]
    },
    {
      "cell_type": "markdown",
      "metadata": {
        "id": "je-FeNVzddDH"
      },
      "source": [
        "**Discrétisation et regroupement par classes: binning**"
      ]
    },
    {
      "cell_type": "markdown",
      "metadata": {
        "id": "EAdWKijrduhV"
      },
      "source": [
        "**Détection et filtrage des valeurs extrêmes**"
      ]
    },
    {
      "cell_type": "markdown",
      "metadata": {
        "id": "OclgDh_-d0Pt"
      },
      "source": [
        "**Permutation et échantillonnage**"
      ]
    },
    {
      "cell_type": "markdown",
      "metadata": {
        "id": "yxj54nuyd65j"
      },
      "source": [
        "**Les variables dummy**"
      ]
    },
    {
      "cell_type": "code",
      "metadata": {
        "id": "M8i_BJGbdA0S"
      },
      "source": [
        ""
      ],
      "execution_count": null,
      "outputs": []
    },
    {
      "cell_type": "markdown",
      "metadata": {
        "id": "sxFptEWWeAUu"
      },
      "source": [
        "# Manipulation des chaînes de caractères**"
      ]
    },
    {
      "cell_type": "markdown",
      "metadata": {
        "id": "eVxtbJU_eEhh"
      },
      "source": [
        "**Méthodes String**"
      ]
    },
    {
      "cell_type": "markdown",
      "metadata": {
        "id": "lG4t5a-41nSU"
      },
      "source": [
        "Argument | Description\n",
        "-- | --\n",
        "count | Nombre d'occurrences de sous chaînes dans la chaîne de caractères\n",
        "endswith | Retourne True si la chaîne se termine avec un suffixe spécifié.\n",
        "startswith | Retourne True si la chaîne commence avec le préfixe spécifié.\n",
        "join | Concaténer une séquence de chaînes de caractères en utilisant le délimiteur spécifié\n",
        "index | Retourne la position du premier caractère de la sous chaîne trouvé dans la chaîne de caractères, l'exception ValueError si non trouvé\n",
        "find | Retourne la position du premier caractère de la sous chaîne trouvé dans la chaîne de caracères, -1 sinon\n",
        "rfind | Retourne la position de la dernière occurrence, -1 sinon\n",
        "replace | Remplacer les occurrences de la chaîne par une autre chaîne\n",
        "strip | Enlever les espaces de la chaîne\n",
        "rstrip | Enlever les espaces à droite\n",
        "lstrip | Enlever les espaces à gauche\n",
        "split | casser la chaîne de caractères en plusieurs sous chaînes en utilisant le délimiteur spécifié\n",
        "lower | Convertir la chaîne en minuscules\n",
        "upper | Convertir la chaîne en majuscules\n",
        "ljust | Justification à gauche\n",
        "rjust | Justification à droite\n"
      ]
    },
    {
      "cell_type": "markdown",
      "metadata": {
        "id": "evEBGYpYeIkl"
      },
      "source": [
        "**Expressions régulières**"
      ]
    },
    {
      "cell_type": "markdown",
      "metadata": {
        "id": "YZHNWf9v3uMm"
      },
      "source": [
        "Méthodes | Description\n",
        "-- | --\n",
        "findall | Trouver toutes les occurrences\n",
        "finditer | Trouver toutes les occurrences et retourner un itérateur\n",
        "match | Matcher un pattern\n",
        "search | Scan la chaîne pour trouver un pattern\n",
        "split | casser la chaîne en utilisant l'expression régulière\n",
        "sub, subn | Remplacer en utilisant l'expression régulière"
      ]
    },
    {
      "cell_type": "markdown",
      "metadata": {
        "id": "26ApD1vCeMtb"
      },
      "source": [
        "**Vectorisation**"
      ]
    },
    {
      "cell_type": "code",
      "metadata": {
        "id": "SlyXwVlieDSi"
      },
      "source": [
        ""
      ],
      "execution_count": null,
      "outputs": []
    }
  ]
}