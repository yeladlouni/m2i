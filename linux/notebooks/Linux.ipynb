{
  "nbformat": 4,
  "nbformat_minor": 0,
  "metadata": {
    "colab": {
      "name": "Linux.ipynb",
      "provenance": [],
      "collapsed_sections": [],
      "toc_visible": true
    },
    "kernelspec": {
      "name": "python3",
      "display_name": "Python 3"
    }
  },
  "cells": [
    {
      "cell_type": "markdown",
      "metadata": {
        "id": "4Xc73PhdFR0d"
      },
      "source": [
        "![m2i.png](data:image/png;base64,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)"
      ]
    },
    {
      "cell_type": "markdown",
      "metadata": {
        "id": "iJqy-r1rfQre"
      },
      "source": [
        "# Introduction"
      ]
    },
    {
      "cell_type": "markdown",
      "metadata": {
        "id": "eLmT1-pPecsc"
      },
      "source": [
        "Linux est un système d'exploitation qui a conçu à base de Unix par Linux Torvalds en 1991.\n",
        "On peut accéder au système à travers deux interfaces:\n",
        "\n",
        "1.   CLI: Command Line Interface\n",
        "2.   GUI: Graphical User Interface\n",
        "\n",
        "Plusieurs distributions de Linux existement, notamment:\n",
        "\n",
        "*   Ubuntu\n",
        "*   Redhat\n",
        "*   CentOS\n",
        "*   OpenSuse\n",
        "\n",
        "\n",
        "\n",
        "\n",
        "\n",
        "\n",
        "\n"
      ]
    },
    {
      "cell_type": "markdown",
      "metadata": {
        "id": "aQ_vDXSRcf3s"
      },
      "source": [
        "# Shell"
      ]
    },
    {
      "cell_type": "markdown",
      "metadata": {
        "id": "QsH0d-v9fihK"
      },
      "source": [
        "A l'ouverture d'une fenêtre shell \"Terminal\", un invite de commande \"Shell prompt\" est affiché composé du nom de l'utilisateur, de la machine et de \"$\" pour un utilisateur normal ou \"#\" pour un superuser/root afin d'indique que le système est prêt à exécuter d'autres commandes.\n",
        "\n",
        "username@machinename$\n",
        "\n",
        "Exemple: yassine@DESKTOP-HUGSROG:~$"
      ]
    },
    {
      "cell_type": "markdown",
      "metadata": {
        "id": "WMOyGciUtCvK"
      },
      "source": [
        "Si la commande saisie est erronée, un message d'erreur s'affiche pour indique que la commande n'existe pas"
      ]
    },
    {
      "cell_type": "code",
      "metadata": {
        "id": "vUuUxpWMtMSz"
      },
      "source": [
        "!tttf"
      ],
      "execution_count": null,
      "outputs": []
    },
    {
      "cell_type": "markdown",
      "metadata": {
        "id": "_ciHgN72te1a"
      },
      "source": [
        "On peut parcourir l'historique des commandes saisie à travers les flèches du clavier (Arrow up, Arrow down)"
      ]
    },
    {
      "cell_type": "markdown",
      "metadata": {
        "id": "d0Jkapt2t9uX"
      },
      "source": [
        "La commande **date** permet d'afficher la date et l'heure actuelle."
      ]
    },
    {
      "cell_type": "code",
      "metadata": {
        "id": "vxs57AgkuGZg"
      },
      "source": [
        "!date"
      ],
      "execution_count": null,
      "outputs": []
    },
    {
      "cell_type": "markdown",
      "metadata": {
        "id": "HAqu5CwJuIGp"
      },
      "source": [
        "La commande **cal** permet d'afficher le calendrier"
      ]
    },
    {
      "cell_type": "code",
      "metadata": {
        "id": "ZKKzQn3xbw1-"
      },
      "source": [
        "!cal"
      ],
      "execution_count": null,
      "outputs": []
    },
    {
      "cell_type": "markdown",
      "metadata": {
        "id": "HeAdY43huW-1"
      },
      "source": [
        "La commande **df** permet d'afficher l'espace libre sur le disque"
      ]
    },
    {
      "cell_type": "code",
      "metadata": {
        "id": "SaRf6ystupl9"
      },
      "source": [
        "!df"
      ],
      "execution_count": null,
      "outputs": []
    },
    {
      "cell_type": "markdown",
      "metadata": {
        "id": "gt3cOCO0u4PA"
      },
      "source": [
        "La commande **free** permet d'afficher l'espace libre sur la mémoire"
      ]
    },
    {
      "cell_type": "code",
      "metadata": {
        "id": "JGNpg2EVu7y4"
      },
      "source": [
        "!free"
      ],
      "execution_count": null,
      "outputs": []
    },
    {
      "cell_type": "markdown",
      "metadata": {
        "id": "qyQgqtcevHV9"
      },
      "source": [
        "Pour terminer la session, il suffit d'exécuter la commande **exit**"
      ]
    },
    {
      "cell_type": "code",
      "metadata": {
        "id": "oe8yQ6wNvPiA"
      },
      "source": [
        "!exit"
      ],
      "execution_count": null,
      "outputs": []
    },
    {
      "cell_type": "markdown",
      "metadata": {
        "id": "_nxSdIh6vfX9"
      },
      "source": [
        "# Navigation"
      ]
    },
    {
      "cell_type": "markdown",
      "metadata": {
        "id": "4LCAX8Gbv_i3"
      },
      "source": [
        "Les commandes de navigation permettent d'intéragir avec le système de fichier afin de changer de répertoire, d'afficher son contenu ou le chemin du répertoire actuel.\n",
        "\n",
        "*   **pwd** permet d'aficher le chemin actuel\n",
        "*   **cd** permet de changer de répertoire\n",
        "*   **ls** permet d'afficher la liste des fichiers et dossiers contenus dans le répertoire actuel\n",
        "\n"
      ]
    },
    {
      "cell_type": "code",
      "metadata": {
        "id": "pgxX7Lu8vQkz"
      },
      "source": [
        "!pwd"
      ],
      "execution_count": null,
      "outputs": []
    },
    {
      "cell_type": "code",
      "metadata": {
        "id": "PI96oypPwQYi"
      },
      "source": [
        "!ls"
      ],
      "execution_count": null,
      "outputs": []
    },
    {
      "cell_type": "code",
      "metadata": {
        "id": "Xc3CuiX5wnD8"
      },
      "source": [
        "!cd /"
      ],
      "execution_count": null,
      "outputs": []
    },
    {
      "cell_type": "markdown",
      "metadata": {
        "id": "ofamEu_-wwpm"
      },
      "source": [
        "Le système de fichier est une arborescence de répertoire/dossiers et de fichiers, la racine de cette arborescence est nommée la racine ou répertoire racine et dénoté /\n",
        "A l'opposé de windows où on peut avoir plusieurs systèmes de fichiers, Linux ne possède qu'un seul système de fichier pourvu du nombre de lecteur ou de disques montés."
      ]
    },
    {
      "cell_type": "markdown",
      "metadata": {
        "id": "D48MAYkvyNGL"
      },
      "source": [
        "Une fois le terminal est ouvert, le dossier initial est le répertoire de l'utilisateur connecté dénoté avec un tilde **~** avant la fin de l'invite de commande."
      ]
    },
    {
      "cell_type": "markdown",
      "metadata": {
        "id": "bp1E1QIQ0q0d"
      },
      "source": [
        "La commande **cd** qui signifie \"change directory\" permet de changer le répertoire actuel, elle peut être suivie du chemin du répertoire vers lequel on veut se déplacer. Le chemin peut être de deux types:\n",
        "\n",
        "*   Chemins absolus indiquant l'arborescence depuis la racine (exemple: cd /usr/bin)\n",
        "*   Chemin relatifs indiquant l'arborescence depuis le répertoire actuel (exemple: cd ../usr/bin), on utilise **..** pour indiquer le répertoire parent et **.** pour indiquer le répertoire en cours\n",
        "\n",
        "L'invite de commande est automatiquement mis à jour afin d'indiquer le répertoire actuel.\n",
        "\n"
      ]
    },
    {
      "cell_type": "code",
      "metadata": {
        "id": "jUiRhnC5wqGD"
      },
      "source": [
        "!cd /usr/bin"
      ],
      "execution_count": null,
      "outputs": []
    },
    {
      "cell_type": "code",
      "metadata": {
        "id": "x66QTypJ2ddF"
      },
      "source": [
        "!cd ../../content/"
      ],
      "execution_count": null,
      "outputs": []
    },
    {
      "cell_type": "code",
      "metadata": {
        "id": "eWQ1SfvX2i20"
      },
      "source": [
        "!pwd"
      ],
      "execution_count": null,
      "outputs": []
    },
    {
      "cell_type": "markdown",
      "metadata": {
        "id": "Cg5hA2J83kbc"
      },
      "source": [
        "* Certains fichiers sont cachés, pour les afficher il suffit d'utiliser la commande **ls -a**\n",
        "* La casse doit être respectée pour le nom des fichiers à l'oposée de Windows\n",
        "* De préférence, éviter les espaces et les caractères spéciaux lors de la nomenclature des fichiers, utiliser **.**, **-** et **_**\n",
        "* Il n'y a pas de notion d'extension de fichier sur Linux"
      ]
    },
    {
      "cell_type": "markdown",
      "metadata": {
        "id": "itfL8z_r4tKz"
      },
      "source": [
        "Quelques raccourcis pour la commande **cd**:\n",
        "\n",
        "*   **cd** permet de se déplacer au dossier home de l'utilisateur actuel\n",
        "*   **cd -** permet de se déplacer vers le répertoire précédent\n",
        "*   **cd ~username** permet de se déplacer vers le répertoire home de l'utilisateur mentionné\n",
        "\n"
      ]
    },
    {
      "cell_type": "code",
      "metadata": {
        "id": "802qtKI42j-z"
      },
      "source": [
        "!cd"
      ],
      "execution_count": null,
      "outputs": []
    },
    {
      "cell_type": "code",
      "metadata": {
        "id": "YXQyEcr15JmE"
      },
      "source": [
        "!cd -"
      ],
      "execution_count": null,
      "outputs": []
    },
    {
      "cell_type": "code",
      "metadata": {
        "id": "BTUgtyJg5MO2"
      },
      "source": [
        "!who"
      ],
      "execution_count": null,
      "outputs": []
    },
    {
      "cell_type": "markdown",
      "metadata": {
        "id": "hS2gsOSLGe8-"
      },
      "source": [
        "# Explorer le système"
      ]
    },
    {
      "cell_type": "markdown",
      "metadata": {
        "id": "S9A8UtJlGlen"
      },
      "source": [
        "\n",
        "\n",
        "*   **ls** Permet de lister le contenu d'un répertoire\n",
        "*   **file** Permet de déterminer le type d'un fichier\n",
        "*   **less** Permet d'afficher le contenu d'un fichier\n",
        "\n",
        "\n"
      ]
    },
    {
      "cell_type": "markdown",
      "metadata": {
        "id": "Z48nGOPZHHTb"
      },
      "source": [
        "La commande **ls** est la plus utilisée, elle permet de lister le contenu d'un répertoire ainsi que les différents attributs des fichiers et des dossiers, elle peut utilisée seule ou suivie d'un ou plusieurs chemins relatifs ou absolus. Des paramètres peuvent être ajoutée à la fin afin afficher plus de détails comme **ls -l** ou afficher les dossiers/fichiers cachés **ls -a**"
      ]
    },
    {
      "cell_type": "code",
      "metadata": {
        "id": "WP7muSg-HiGS"
      },
      "source": [
        "!ls"
      ],
      "execution_count": null,
      "outputs": []
    },
    {
      "cell_type": "code",
      "metadata": {
        "id": "XFQxwFTuHjHM"
      },
      "source": [
        "!ls ./sample_data"
      ],
      "execution_count": null,
      "outputs": []
    },
    {
      "cell_type": "code",
      "metadata": {
        "id": "ecBnT0JcHmjC"
      },
      "source": [
        "!ls /content"
      ],
      "execution_count": null,
      "outputs": []
    },
    {
      "cell_type": "code",
      "metadata": {
        "id": "Ilm7xV3XIEQj"
      },
      "source": [
        "!ls /content ~ sample_data"
      ],
      "execution_count": null,
      "outputs": []
    },
    {
      "cell_type": "code",
      "metadata": {
        "id": "w2rHT7miIIVa"
      },
      "source": [
        "!ls -l"
      ],
      "execution_count": null,
      "outputs": []
    },
    {
      "cell_type": "code",
      "metadata": {
        "id": "jHxPSccMIWSL"
      },
      "source": [
        "ls -l sample_data/"
      ],
      "execution_count": null,
      "outputs": []
    },
    {
      "cell_type": "markdown",
      "metadata": {
        "id": "RIKdtrC9NtjC"
      },
      "source": [
        "Les commandes sont souvent suivies d'une ou plusieurs **options** qui permettent de modifier le comportement de la commande. Les options peuvent à leur tours être suivies d'un ou plusieurs **arguments**.\n",
        "La syntaxe générale d'une commande est la suivante:\n",
        "\n",
        "**command -options arguments**"
      ]
    },
    {
      "cell_type": "markdown",
      "metadata": {
        "id": "Fz_TGrd7P3gl"
      },
      "source": [
        "Les options consistent en général en un tiret \"dash: -\" suivi d'une lettre, deux options peuvent être combinées et des options longues peuvent être utilisées en utilisant deux tirets \"--\"."
      ]
    },
    {
      "cell_type": "code",
      "metadata": {
        "id": "24Tzp6jeIqVr"
      },
      "source": [
        "!ls -lt"
      ],
      "execution_count": null,
      "outputs": []
    },
    {
      "cell_type": "code",
      "metadata": {
        "id": "Aa_1rHFPQLAl"
      },
      "source": [
        "!ls ./sample_data -lt"
      ],
      "execution_count": null,
      "outputs": []
    },
    {
      "cell_type": "code",
      "metadata": {
        "id": "ONz6rWUvQQlK"
      },
      "source": [
        "!ls ./sample_data -lt --reverse"
      ],
      "execution_count": null,
      "outputs": []
    },
    {
      "cell_type": "markdown",
      "metadata": {
        "id": "-j2PasYnRAtC"
      },
      "source": [
        ">Option | Longue | Description\n",
        ">--- | --- | ---\n",
        ">-a | --all | Lister l'ensemble des fichiers, même les fichiers/dossiers cachés\n",
        ">-A | --almost-all | La même chose que -a sauf qu'elle n'affiche pas les dossiers . et ..\n",
        ">-d | --directory | Permet d'afficher juste le détail d'un répertoire\n",
        ">-F | --classify | Permet d'ajouter un caractère à la fin (/ si le nom est un répertoire)\n",
        ">-h | --human-readable | Permet d'afficher la taille du fichier en Ko, Mo ou Go au lieu des octets\n",
        ">-l | | Afficher les résultats selon un long format\n",
        ">-r | --reverse | Afficher les résultats dans l'ordre décroissant\n",
        ">-S | | Trier les résultats par taille de fichier\n",
        ">-t | | Trier les résultats par date de modification "
      ]
    },
    {
      "cell_type": "code",
      "metadata": {
        "id": "oMpZKDj3QZ8K"
      },
      "source": [
        "!ls sample_data/ -lh"
      ],
      "execution_count": null,
      "outputs": []
    },
    {
      "cell_type": "markdown",
      "metadata": {
        "id": "GAucelxyWPcB"
      },
      "source": [
        "Le format long permet d'afficher plusieurs informations telles que les droits sur les fichiers, la taille, la date de la dernière modification, etc.\n",
        "\n",
        "> Champ | Description\n",
        ">--- | ---\n",
        "> -rw-r--r-- | Les droits d'accès au fichier ou au répertoire\n",
        "> 1 | Spécifier le nombre de liens physiques pour le fichier\n",
        "> root | Le nom d'utilisateur du propriétaire du fichier\n",
        "> root | Le nom du groupe auquel appartient le propriétaire du fichier\n",
        "> 1.7K | La taille du fichier\n",
        "> Oct 14 16:31 | Date et heure de dernière modification du fichier\n",
        "> california_housing_test.csv | Nom du fichier\n",
        "\n",
        "Pour les droits d'accès, le premier caractère indique le type de fichier **-** pour un fichier et **d** pour un répertoire, les 3 caractères suivants précisants les droits d'accès au fichier/dossier pour le propriétaire du fichier, les trois suivant pour les droits d'accès au groupe auquel appartient le propriétaire du fichier et les trois suivant pour n'importe quel utilisateur"
      ]
    },
    {
      "cell_type": "markdown",
      "metadata": {
        "id": "NM3hJauBZSGa"
      },
      "source": [
        "En explorant le système, on aura besoin de connaître le contenu des fichiers, la commande **file** permet de déterminer le type du fichier."
      ]
    },
    {
      "cell_type": "code",
      "metadata": {
        "id": "hZwRQsbCTwR-"
      },
      "source": [
        "!file ./sample_data/california_housing_train.csv"
      ],
      "execution_count": null,
      "outputs": []
    },
    {
      "cell_type": "markdown",
      "metadata": {
        "id": "9HNQZ7p3bsuN"
      },
      "source": [
        "La commande **less** Permet d'afficher le contenu des fichiers, si le fichier est long, le contenu peut être visualiser à l'aider commandes suivantes:\n",
        "\n",
        "> Commande | Action\n",
        "> -- | --\n",
        "> Page Up ou b | Remonter d'une page\n",
        "> Page Down ou espace | Descendre d'une page\n",
        "> Arrow Up | Remonter d'une ligne\n",
        "> Arrow Down | Descendre d'une ligne\n",
        "> G | Se déplacer vers la fin du fichier\n",
        "> 1G ou g | Se déplacer vers le début du fichier\n",
        "> /mot | Chercher la prochaine occurrence du mot\n",
        "> n | Chercher la prochaine occurrence du mot de la dernière recherche\n",
        "> h | Afficher l'écran d'aide\n",
        "> q | Quitter less"
      ]
    },
    {
      "cell_type": "code",
      "metadata": {
        "id": "88xSxAiAbtu4"
      },
      "source": [
        "!less ./sample_data/california_housing_train.csv"
      ],
      "execution_count": null,
      "outputs": []
    },
    {
      "cell_type": "markdown",
      "metadata": {
        "id": "Wrir4utOe7WP"
      },
      "source": [
        "Ci-dessous une liste de répertoire Linux les plus utilisés:\n",
        "\n",
        "> Répertoire | Description\n",
        "> -- | --\n",
        "> / | Le répertoire racine du système de fichiers\n",
        "> /bin | Le répertoire contenant les différents programmes ou binaires nécessaires pour le bon fonctionnement du système\n",
        "> /boot | Contient le kernel /boot/vmlinuz, les drivers nécessaires lors du démarrage\n",
        "> /dev | Contient les différents périphériques\n",
        "> /etc | Contient les différents fichiers de configuration et les différents scripts nécessaires pour le démarrage des services.\n",
        "> /home | Répertoire attribué à l'utilisateur\n",
        "> /lib | Contient les bibliothèques partagées, l'équivalent des DLLs pour Windows\n",
        "> /lost+found | Répertoire crée lors du formattage d'une partition ext3 par exemple\n",
        "> /media | Contient les points de montage pour les différents périphériques amovibles\n",
        "> /mnt | L'équivalent du répertoire /media pour les anciennes versions linux\n",
        "> /opt | Utilisé afin d'installer des logiciels optionnels\n",
        "> /root | Le répertoire home pour le superuser\n",
        "> /sbin | Répertoire contenant des programmes binaires utilisés par le superuser\n",
        "> /tmp | Pour le stockage des fichiers temporaires, il est vidé à chaque redémarrage\n",
        "> /usr/bin | Contient les programmes installés par la distribution linux\n",
        "> /usr/lib | Contient les bibliothèques partagées utilisées par les programmes contenus dans /usr/bin\n",
        "> /usr/sbin | Contient les programmes d'administration système\n",
        "> /usr/share | Contient les données partagées utilisées par les programmes /usr/bin\n",
        "> /var | Contient les données dynamiques telles que les bases de données, les fichiers spool, les mails, etc.\n",
        "> /var/log | Contient les fichiers logs"
      ]
    },
    {
      "cell_type": "markdown",
      "metadata": {
        "id": "1Ai-8MfVkJdX"
      },
      "source": [
        "# Manipulation des fichiers et des répertoires"
      ]
    },
    {
      "cell_type": "markdown",
      "metadata": {
        "id": "G5UFMLOAkQ_B"
      },
      "source": [
        "Les commandes suivantes sont utilisées afin de manipuler les fichiers et les répertoires:\n",
        "\n",
        "*   **cp** Permet de copier les fichiers et les répertoires\n",
        "*   **mv** Permet de déplacer ou de renommer les fichiers et les répertoires\n",
        "*   **mkdir** Permet de créer des répertoires\n",
        "*   **rm** Permet de supprimer des fichiers et des répertoires\n",
        "*   **ln** Permet de créer des liens symboliques et physiques\n"
      ]
    },
    {
      "cell_type": "markdown",
      "metadata": {
        "id": "lpZHKr7gpRIr"
      },
      "source": [
        "Afin d'agir sur un ensemble de fichier ou répertoires en groupe, on utilise les métacaractères ou les wildcards:\n",
        "\n",
        "> Wildcard | Description\n",
        "> -- | --\n",
        "> * | Correspond à un ou plusieurs caractères\n",
        "> ? | Correspond à un seul caractère\n",
        "> [caractères] | Correspond à l'ensemble des caractères spécifiés [ ]\n",
        "> [!caractères] | Correspond à tous les caractères sauf ceux spécifiés entre [ ]\n",
        "> [[:class:]] | Correspond à tous les caractères appartenant à la classe mentionné\n",
        "\n",
        "Les classes les plus utilisée sont:\n",
        "\n",
        "> Classe | Description\n",
        "> -- | -- \n",
        "> [:alnum:] | Correspond aux caractères alphanumériques\n",
        "> [:alpha:] | Correspond aux caractères alphabétiques\n",
        "> [:digit:] | Correspond aux numériques\n",
        "> [:lower:] | Correspond aux caractères en minuscules\n",
        "> [:upper:] | Correspond aux caractères en majuscules\n",
        "\n",
        "Exemples de métacaractères:\n",
        "\n",
        "> Pattern | Description\n",
        "> -- | --\n",
        "> * | Tous les fichiers\n",
        "> g* | Tous les fichiers commençant par un g\n",
        "> b*.txt | Tous les fichiers commençant par un b et se terminant avec .txt\n",
        "> Data??? | Tous les fichiers commençant par Data suivie d'exactement trois caractères\n",
        "> [abc]* | Tous les fichiers commençant par un a, b ou c\n",
        "> BACKUP.[0-9][0-9][0-9] | Tous les fichiers commençant par BACKUP suivie de trois chiffres\n",
        "> [[:upper:]]* | Tous les fichiers commençant par une lettre majuscule "
      ]
    },
    {
      "cell_type": "markdown",
      "metadata": {
        "id": "hIoE4pDatXaw"
      },
      "source": [
        "**mkdir** permet de créer des répertoires en spécifiant le nom du répertoire à créer et éventuellement son chemin"
      ]
    },
    {
      "cell_type": "code",
      "metadata": {
        "id": "ZNrUzd0Vtlqh"
      },
      "source": [
        "!mkdir ./sample_data/example"
      ],
      "execution_count": null,
      "outputs": []
    },
    {
      "cell_type": "code",
      "metadata": {
        "id": "U6t9Bj1ptr4S"
      },
      "source": [
        "!ls ./sample_data/"
      ],
      "execution_count": null,
      "outputs": []
    },
    {
      "cell_type": "markdown",
      "metadata": {
        "id": "lwNSwNJEuImf"
      },
      "source": [
        "**cp** permet de copier des fichiers ou des répertoires, elle peut être utilisée de deux manières:\n",
        "\n",
        "* cp item1 item2\n",
        "* cp item... directory\n",
        "\n",
        "Les options suivantes peuvent être utilisées:\n",
        "\n",
        "> Option | Description\n",
        "> -- | -- \n",
        "> -a, --archive | Copier les fichiers et les répertoires en incluant les différents attributs tels que les permissions\n",
        "> -i, --interactive | Affiche un message à l'utilisateur avant d'écraser un fichier\n",
        "> -r, --recursive | Copier d'une manière récursive les répertoires et leurs contenus\n",
        "> -u, --update | Copier que les fichiers non existents ou plus récents en cas d'existence\n",
        "> -v, --verbose | Afficher des messages lors de la copie \n",
        "\n",
        "Exemples:\n",
        "\n",
        "> Commande | Description\n",
        "> -- | -- \n",
        "> cp file1 file2 | Copier file1 vers file2, si file2 existe il est écrasé sinon il sera crée\n",
        "> cp -i file1 file2 | La même chose que la commande d'avant, sauf si file2 existe, un message de confirmation va être affiché\n",
        "> cp file1 file2 dir1 | Copier les fichiers file1 et file2 vers le répertoire dir1\n",
        "> cp dir1/* dir2 | Copier tous les fichiers du répertoire dir1 vers le répertoire dir2\n",
        "> cp -r dir1 dir2 | Copier d'une manière récrusive le contenu de dir1 vers dir2\n"
      ]
    },
    {
      "cell_type": "markdown",
      "metadata": {
        "id": "uXZvpM-Oxm7Z"
      },
      "source": [
        "**mv** permet de déplacer ou de renommer des fichiers, elle est utilisée de la même manière que **cp** sauf que le fichier initial est supprimé à la fin d'exécution."
      ]
    },
    {
      "cell_type": "markdown",
      "metadata": {
        "id": "k3YdVKkayLiH"
      },
      "source": [
        "**rm** permet de supprimer des fichiers et des répertoires:\n",
        "\n",
        "rm item...\n",
        "\n",
        "> Option | Description\n",
        "> -- | --\n",
        "> -i, --interactive | Afficher un message de confirmation avant la suppression\n",
        "> -r, --recursive | Supprimer les fichiers et les répertoires d'une manière récursive\n",
        "> -f, --force | Ignorer les fichiers non existants et ne pas afficher une confirmation\n",
        "> -v, --verbose | Afficher des messages d'information lors de la suppression\n"
      ]
    },
    {
      "cell_type": "markdown",
      "metadata": {
        "id": "N7RRuKLczLLy"
      },
      "source": [
        "**ln** permet de créer des liens symboliques ou physiques vers les fichiers:\n",
        "\n",
        "*   ln -s item link    permet de créer un lien symbolique\n",
        "*   ln file link       permet de créer un lien physique\n",
        "\n",
        "\n"
      ]
    },
    {
      "cell_type": "code",
      "metadata": {
        "id": "nGcNlSkL0C33"
      },
      "source": [
        "%cd"
      ],
      "execution_count": null,
      "outputs": []
    },
    {
      "cell_type": "code",
      "metadata": {
        "id": "FTLoNWxS0IZz"
      },
      "source": [
        "%mkdir playground"
      ],
      "execution_count": null,
      "outputs": []
    },
    {
      "cell_type": "code",
      "metadata": {
        "id": "HBrwVNDB0NfO"
      },
      "source": [
        "!ls"
      ],
      "execution_count": null,
      "outputs": []
    },
    {
      "cell_type": "code",
      "metadata": {
        "id": "e4dg5PxJ0Rik"
      },
      "source": [
        "%cd playground/"
      ],
      "execution_count": null,
      "outputs": []
    },
    {
      "cell_type": "code",
      "metadata": {
        "id": "j7Nmon5c0VRb"
      },
      "source": [
        "%mkdir dir1 dir2"
      ],
      "execution_count": null,
      "outputs": []
    },
    {
      "cell_type": "code",
      "metadata": {
        "id": "_a2f6Kkd0ZP-"
      },
      "source": [
        "!ls"
      ],
      "execution_count": null,
      "outputs": []
    },
    {
      "cell_type": "code",
      "metadata": {
        "id": "3VBRQbNN0duZ"
      },
      "source": [
        "!cp /etc/passwd ."
      ],
      "execution_count": null,
      "outputs": []
    },
    {
      "cell_type": "code",
      "metadata": {
        "id": "s-mGLNRm0jKc"
      },
      "source": [
        "!ls -l"
      ],
      "execution_count": null,
      "outputs": []
    },
    {
      "cell_type": "code",
      "metadata": {
        "id": "PHGwLJor0n4m"
      },
      "source": [
        "!cp -v /etc/passwd ."
      ],
      "execution_count": null,
      "outputs": []
    },
    {
      "cell_type": "code",
      "metadata": {
        "id": "i3ypWKks0z53"
      },
      "source": [
        "!cp -i /etc/passwd ."
      ],
      "execution_count": null,
      "outputs": []
    },
    {
      "cell_type": "markdown",
      "metadata": {
        "id": "OhxR8btnKVms"
      },
      "source": [
        "**Manipulation des fichiers et répertoires**"
      ]
    },
    {
      "cell_type": "code",
      "metadata": {
        "id": "y8dCB_IT1F04"
      },
      "source": [
        "!mv passwd fun"
      ],
      "execution_count": null,
      "outputs": []
    },
    {
      "cell_type": "code",
      "metadata": {
        "id": "EFPi8cgw1J7F"
      },
      "source": [
        "!mv fun dir1"
      ],
      "execution_count": null,
      "outputs": []
    },
    {
      "cell_type": "code",
      "metadata": {
        "id": "5avev8lI1NIj"
      },
      "source": [
        "!mv dir1/fun dir2"
      ],
      "execution_count": null,
      "outputs": []
    },
    {
      "cell_type": "code",
      "metadata": {
        "id": "lCjnXOD21UPw"
      },
      "source": [
        "!mv dir2/fun ."
      ],
      "execution_count": null,
      "outputs": []
    },
    {
      "cell_type": "code",
      "metadata": {
        "id": "KytXd8JJ1ZiP"
      },
      "source": [
        "!mv fun dir1"
      ],
      "execution_count": null,
      "outputs": []
    },
    {
      "cell_type": "code",
      "metadata": {
        "id": "_eAtutqS1ebO"
      },
      "source": [
        "!mv dir1 dir2"
      ],
      "execution_count": null,
      "outputs": []
    },
    {
      "cell_type": "code",
      "metadata": {
        "id": "SzltNMbpFDnB"
      },
      "source": [
        "!ls -l dir2"
      ],
      "execution_count": null,
      "outputs": []
    },
    {
      "cell_type": "code",
      "metadata": {
        "id": "NjNU2IZ1FIsa"
      },
      "source": [
        "!ls -l dir2/dir1"
      ],
      "execution_count": null,
      "outputs": []
    },
    {
      "cell_type": "code",
      "metadata": {
        "id": "yJPZglUJFOtv"
      },
      "source": [
        "!mv dir2/dir1"
      ],
      "execution_count": null,
      "outputs": []
    },
    {
      "cell_type": "code",
      "metadata": {
        "id": "gRr-_ShaFYOK"
      },
      "source": [
        "!mv dir1/fun ."
      ],
      "execution_count": null,
      "outputs": []
    },
    {
      "cell_type": "markdown",
      "metadata": {
        "id": "-pr6Vn-hJ8xX"
      },
      "source": [
        "**Création des liens physiques**"
      ]
    },
    {
      "cell_type": "code",
      "metadata": {
        "id": "azeMYInZFkg-"
      },
      "source": [
        "!ln fun fun-hard"
      ],
      "execution_count": null,
      "outputs": []
    },
    {
      "cell_type": "code",
      "metadata": {
        "id": "O14VyeR4FqJe"
      },
      "source": [
        "!ln fun dir1/fun-hard"
      ],
      "execution_count": null,
      "outputs": []
    },
    {
      "cell_type": "code",
      "metadata": {
        "id": "2ejeClDXI2VJ"
      },
      "source": [
        "!ln fun dir2/fun-hard"
      ],
      "execution_count": null,
      "outputs": []
    },
    {
      "cell_type": "code",
      "metadata": {
        "id": "L64sRU6SI9rl"
      },
      "source": [
        "!ls -l"
      ],
      "execution_count": null,
      "outputs": []
    },
    {
      "cell_type": "markdown",
      "metadata": {
        "id": "u1Z_j7nfKFft"
      },
      "source": [
        "**Création des liens symboliques**"
      ]
    },
    {
      "cell_type": "code",
      "metadata": {
        "id": "Uc7trB4CKLbC"
      },
      "source": [
        "!ln -s fun fun-sym\n",
        "!ln -s ../fun dir1/fun-sym\n",
        "!ln -s ../fun dir2/fun-sym"
      ],
      "execution_count": null,
      "outputs": []
    },
    {
      "cell_type": "code",
      "metadata": {
        "id": "0UwsVmIJKz2F"
      },
      "source": [
        "!ls -l dir1"
      ],
      "execution_count": null,
      "outputs": []
    },
    {
      "cell_type": "markdown",
      "metadata": {
        "id": "cxNx-C-etkyW"
      },
      "source": [
        ""
      ]
    },
    {
      "cell_type": "markdown",
      "metadata": {
        "id": "lN4x6SCcLD7V"
      },
      "source": [
        "**Création des liens symboliques en utilisant des chemins absolus**"
      ]
    },
    {
      "cell_type": "code",
      "metadata": {
        "id": "Fg-H0ZI_LK8C"
      },
      "source": [
        "!ln -s /home/yassine/playground/fun dir1/fun-sym"
      ],
      "execution_count": null,
      "outputs": []
    },
    {
      "cell_type": "markdown",
      "metadata": {
        "id": "7NtK47AMLbQ9"
      },
      "source": [
        "**Création des liens symboliques pour les répertoires**"
      ]
    },
    {
      "cell_type": "code",
      "metadata": {
        "id": "kmxfI52WLOsO",
        "outputId": "f79930b6-0456-4a01-b802-515969d1dabd",
        "colab": {
          "base_uri": "https://localhost:8080/",
          "height": 69
        }
      },
      "source": [
        "!ln -s dir1 dir1-sym\n",
        "!ls -l"
      ],
      "execution_count": null,
      "outputs": [
        {
          "output_type": "stream",
          "text": [
            "total 4\n",
            "lrwxrwxrwx 1 root root    4 Oct 22 21:19 dir1-sym -> dir1\n",
            "drwxr-xr-x 1 root root 4096 Oct 14 16:31 sample_data\n"
          ],
          "name": "stdout"
        }
      ]
    },
    {
      "cell_type": "markdown",
      "metadata": {
        "id": "ZAAQLZRiOEGC"
      },
      "source": [
        "**Supprimer les fichiers et les répertoires**"
      ]
    },
    {
      "cell_type": "code",
      "metadata": {
        "id": "DBkdkcEsOHlW"
      },
      "source": [
        "!rm fun-hard\n",
        "!ls -l"
      ],
      "execution_count": null,
      "outputs": []
    },
    {
      "cell_type": "code",
      "metadata": {
        "id": "DLSgPWIgONNs"
      },
      "source": [
        "!rm -i fun"
      ],
      "execution_count": null,
      "outputs": []
    },
    {
      "cell_type": "code",
      "metadata": {
        "id": "dN6DZpRYLmKn"
      },
      "source": [
        "!ls -i"
      ],
      "execution_count": null,
      "outputs": []
    },
    {
      "cell_type": "code",
      "metadata": {
        "id": "Y5Xh-8iCOThT"
      },
      "source": [
        "!less fun-sym"
      ],
      "execution_count": null,
      "outputs": []
    },
    {
      "cell_type": "code",
      "metadata": {
        "id": "eioKHXcpOXwV"
      },
      "source": [
        "!rm fun-sym dir1-sym"
      ],
      "execution_count": null,
      "outputs": []
    },
    {
      "cell_type": "code",
      "metadata": {
        "id": "hsDvuENFOskl"
      },
      "source": [
        "%cd\n",
        "!rm -r playground"
      ],
      "execution_count": null,
      "outputs": []
    },
    {
      "cell_type": "markdown",
      "metadata": {
        "id": "jZ3TKuBMO3Dc"
      },
      "source": [
        "# Commandes"
      ]
    },
    {
      "cell_type": "markdown",
      "metadata": {
        "id": "i8LQEbIKP3Os"
      },
      "source": [
        "**type** indique comment une commande est interpretée\n",
        "**which** affiche quel exécutable sera lancé\n",
        "**help** affiche l'aide pour les commandes shell \n",
        "**man** affiche le manuel d'une commande\n",
        "**apropos** affiche une liste appropriée de commandes\n",
        "**info** affiche la section d'information d'une commande\n",
        "**whatis** affiche les discriptions du manuel en une seule ligne\n",
        "**alias** crée un alias pour une commande"
      ]
    },
    {
      "cell_type": "markdown",
      "metadata": {
        "id": "T52FNnA8RBhi"
      },
      "source": [
        "Une commande peut être:\n",
        "\n",
        "*   Un exécutable: pareil à ceux existants dans le répertoire /usr/bin compilés comme C/C++ ou des scripts écrits en shell, Ruby, Python...\n",
        "*   Une commande intégrée du shell: comme la commande **cd**\n",
        "*   Une fonction shell: incorporées dans l'environnement\n",
        "*   Alias: qu'on peut définir à partir d'autres commandes \n",
        "\n"
      ]
    },
    {
      "cell_type": "markdown",
      "metadata": {
        "id": "RRx-5JKhSZXk"
      },
      "source": [
        "**Identifier les commandes**"
      ]
    },
    {
      "cell_type": "markdown",
      "metadata": {
        "id": "lc51oDx3Sd9x"
      },
      "source": [
        "**type** commande"
      ]
    },
    {
      "cell_type": "code",
      "metadata": {
        "id": "-UShx4VAO8vY"
      },
      "source": [
        "!type type"
      ],
      "execution_count": null,
      "outputs": []
    },
    {
      "cell_type": "code",
      "metadata": {
        "id": "cHZzGBMgSpVw"
      },
      "source": [
        "!type ls"
      ],
      "execution_count": null,
      "outputs": []
    },
    {
      "cell_type": "code",
      "metadata": {
        "id": "VLLutNHMSsLs"
      },
      "source": [
        "!type cp"
      ],
      "execution_count": null,
      "outputs": []
    },
    {
      "cell_type": "markdown",
      "metadata": {
        "id": "cnxWJ3EyTi01"
      },
      "source": [
        "**Afficher le chemin d'un exécutable**"
      ]
    },
    {
      "cell_type": "markdown",
      "metadata": {
        "id": "TzCPYIiKTq-4"
      },
      "source": [
        "Des fois, plusieurs versions d'un même exécutable sont installées sur le même système, afin d'afficher laquelle des versions est utilisé, on utilise la commande **which**"
      ]
    },
    {
      "cell_type": "code",
      "metadata": {
        "id": "2Jedn6wkULVe"
      },
      "source": [
        "!which ls"
      ],
      "execution_count": null,
      "outputs": []
    },
    {
      "cell_type": "markdown",
      "metadata": {
        "id": "kzus7IFqWe_u"
      },
      "source": [
        "**Obtenir la documentation d'une commande**"
      ]
    },
    {
      "cell_type": "markdown",
      "metadata": {
        "id": "KHbff3tgWi5H"
      },
      "source": [
        "Si la commande est de type intégrée i.e builtin, on peut utiliser **help** pour afficher la documentation"
      ]
    },
    {
      "cell_type": "code",
      "metadata": {
        "id": "ck1YkAtxWzN5"
      },
      "source": [
        "!help cd"
      ],
      "execution_count": null,
      "outputs": []
    },
    {
      "cell_type": "markdown",
      "metadata": {
        "id": "kVWR6P3PW1D7"
      },
      "source": [
        "Plusieurs exécutables supportent l'option **--help** pour l'affichage de l'aide"
      ]
    },
    {
      "cell_type": "code",
      "metadata": {
        "id": "awMNSmbdXCJO"
      },
      "source": [
        "!mkdir --help"
      ],
      "execution_count": null,
      "outputs": []
    },
    {
      "cell_type": "markdown",
      "metadata": {
        "id": "Nczaw5niXFig"
      },
      "source": [
        "La plupart des programmes destinés pour la ligne de commande CLI possède une documentation ou manuel qui peut être affiché à l'aide de **man**"
      ]
    },
    {
      "cell_type": "code",
      "metadata": {
        "id": "suupwX5pXn-n"
      },
      "source": [
        "!man ls"
      ],
      "execution_count": null,
      "outputs": []
    },
    {
      "cell_type": "markdown",
      "metadata": {
        "id": "82-VdXmUXtVf"
      },
      "source": [
        "**whatis** permet d'afficher une description sur une seule ligne"
      ]
    },
    {
      "cell_type": "code",
      "metadata": {
        "id": "pDGYm2y1YJOx"
      },
      "source": [
        "!whatis ls"
      ],
      "execution_count": null,
      "outputs": []
    },
    {
      "cell_type": "markdown",
      "metadata": {
        "id": "3eescKt2Yad5"
      },
      "source": [
        "**Création des alias**"
      ]
    },
    {
      "cell_type": "markdown",
      "metadata": {
        "id": "yn_WJ-luZQfu"
      },
      "source": [
        "Les alias permettent de créer des commandes en combinant d'autres commandes et options:\n",
        "alias name='....'"
      ]
    },
    {
      "cell_type": "code",
      "metadata": {
        "id": "wuo-ULutYLge"
      },
      "source": [
        "!alias foo='cd /usr; ls; cd -'"
      ],
      "execution_count": null,
      "outputs": []
    },
    {
      "cell_type": "markdown",
      "metadata": {
        "id": "bykFCeDMZoZI"
      },
      "source": [
        "Afin d'afficher la liste complètes des alias définis sur le système, on utilise la commande **alias**"
      ]
    },
    {
      "cell_type": "code",
      "metadata": {
        "id": "O3Pg0NpVZm44"
      },
      "source": [
        "!alias"
      ],
      "execution_count": null,
      "outputs": []
    },
    {
      "cell_type": "markdown",
      "metadata": {
        "id": "Q83wHpZuZ5G5"
      },
      "source": [
        "Afin de supprimer un alias auparavant crée, on utilise la commande **unalias**"
      ]
    },
    {
      "cell_type": "code",
      "metadata": {
        "id": "r5Jrahv8aAZk"
      },
      "source": [
        "!unalias foo"
      ],
      "execution_count": null,
      "outputs": []
    },
    {
      "cell_type": "markdown",
      "metadata": {
        "id": "-kui59rgcFx4"
      },
      "source": [
        "# Redirections"
      ]
    },
    {
      "cell_type": "markdown",
      "metadata": {
        "id": "P5BphUTzcJrr"
      },
      "source": [
        "Les redirections permettent de passer le résultat d'une commande comme argument à une autre commande, elles sont dénotées I/O redirections.\n",
        "\n",
        "On va introduire les commandes suivantes:\n",
        "\n",
        "* cat qui permet de concaténer des fichiers\n",
        "* sort qui permet de trier un fichier\n",
        "* uniq qui permet de dédoublonner un fichier\n",
        "* grep qui permet de faire des recherches dans un fichier\n",
        "* wc qui permet d'afficher le nombre de lignes, mots et caractères d'un fichier\n",
        "* head permet d'afficher les premières lignes d'un fichier\n",
        "* tail permet d'afficher les dernières lignes d'un fichier\n",
        "* tee permet de lire de l'entrée principale et d'écrire sur la sortie principale ou sur un fichier"
      ]
    },
    {
      "cell_type": "markdown",
      "metadata": {
        "id": "7N7pLaiTe5Ux"
      },
      "source": [
        "**Entrée principale, Sortie principale et Erreur principale**"
      ]
    },
    {
      "cell_type": "markdown",
      "metadata": {
        "id": "RufMyLTpgCHu"
      },
      "source": [
        "Les programmes produisent en général deux types de sorties:\n",
        "\n",
        "*  Les résultats du programme\n",
        "*  Le statut et le message d'erreur \n",
        "\n",
        "Unix modélise tout sous forme de fichier, la sortie d'un programme ainsi que le statut/erreur sont redirigés vers **stdout** qui est l'écran par défaut.\n",
        "\n",
        "Les redirections I/O permettent de changer la provenance des inputs ainsi que la destination des outputs qui sont par défaut le clavier et l'écran respectivement."
      ]
    },
    {
      "cell_type": "code",
      "metadata": {
        "id": "TAMLfDQ6iBa3"
      },
      "source": [
        "!ls -l /usr/bin > ls-output.txt\n",
        "!ls -l ls-output.txt\n",
        "!less ls-output.txt"
      ],
      "execution_count": null,
      "outputs": []
    },
    {
      "cell_type": "markdown",
      "metadata": {
        "id": "9ZUuSDTOi7KH"
      },
      "source": [
        "On va essayer de provoquer une erreur afin de voir le comportement de la redirection"
      ]
    },
    {
      "cell_type": "code",
      "metadata": {
        "id": "UF080dPNiy_o"
      },
      "source": [
        "!ls -l /bin/usr > ls-output.txt"
      ],
      "execution_count": null,
      "outputs": []
    },
    {
      "cell_type": "markdown",
      "metadata": {
        "id": "5ys7_WUFjBcR"
      },
      "source": [
        "Le fichier a été écrasé avec du vide comme la commande n'a produit aucune sortie"
      ]
    },
    {
      "cell_type": "code",
      "metadata": {
        "id": "uLLCDRxujLXc"
      },
      "source": [
        "!ls -l ls-output.txt"
      ],
      "execution_count": null,
      "outputs": []
    },
    {
      "cell_type": "markdown",
      "metadata": {
        "id": "61mwx7lyjP_y"
      },
      "source": [
        "Afin d'éviter que le fichier soit écrasé, on peut coller le résultat de la 2ème commande à la fin du fichier en utilisant l'opérateur \"append\" **>>** au lieu de l'opérateur de la redirection **>**"
      ]
    },
    {
      "cell_type": "markdown",
      "metadata": {
        "id": "NQYIYuKBkRCL"
      },
      "source": [
        "Afin de rediriger l'erreur vers un fichier, on combine le descripteur de fichier \"2\" avec l'opérateur de redirection"
      ]
    },
    {
      "cell_type": "code",
      "metadata": {
        "id": "Av6u1sYxku3S"
      },
      "source": [
        "!ls -l /bin/usr 2> ls-error.txt"
      ],
      "execution_count": null,
      "outputs": []
    },
    {
      "cell_type": "markdown",
      "metadata": {
        "id": "0kzJArXAk2uE"
      },
      "source": [
        "On peut combiner la sortie avec l'erreur sur le même fichier en utilisant:"
      ]
    },
    {
      "cell_type": "code",
      "metadata": {
        "id": "r-RTb6xdk72M"
      },
      "source": [
        "!ls -l /bin/usr > ls-output.txt 2>&1"
      ],
      "execution_count": null,
      "outputs": []
    },
    {
      "cell_type": "markdown",
      "metadata": {
        "id": "dQ3R4r1JlGDu"
      },
      "source": [
        "Ou alors la syntaxe pour les versions les plus récentes de bash"
      ]
    },
    {
      "cell_type": "code",
      "metadata": {
        "id": "JJsv59hpjPls"
      },
      "source": [
        "!ls -l /bin/usr &> ls-output.txt"
      ],
      "execution_count": null,
      "outputs": []
    },
    {
      "cell_type": "markdown",
      "metadata": {
        "id": "SX1S88_7lcKc"
      },
      "source": [
        "On peut purger les erreurs ou les sorties en général en utilisant le device /dev/null qui est appelé **bit bucket**"
      ]
    },
    {
      "cell_type": "markdown",
      "metadata": {
        "id": "V5wPxJZli6QA"
      },
      "source": [
        ""
      ]
    },
    {
      "cell_type": "code",
      "metadata": {
        "id": "N01grMUjln2A"
      },
      "source": [
        "!ls -l /bin/usr 2> /dev/null"
      ],
      "execution_count": null,
      "outputs": []
    },
    {
      "cell_type": "markdown",
      "metadata": {
        "id": "xdEOhJifm0MR"
      },
      "source": [
        "**Concaténation de fichiers**"
      ]
    },
    {
      "cell_type": "markdown",
      "metadata": {
        "id": "fHFVX36dm4v5"
      },
      "source": [
        "**cat** permet de concaténer un ou plusieurs fichiers"
      ]
    },
    {
      "cell_type": "code",
      "metadata": {
        "id": "0tOgiHYPm88e"
      },
      "source": [
        "!cat test*.txt > test.txt  #permet de concaténer tous les fichiers commençant avec test vers le fichier test.txt"
      ],
      "execution_count": null,
      "outputs": []
    },
    {
      "cell_type": "markdown",
      "metadata": {
        "id": "MU0zmsGrnXtF"
      },
      "source": [
        "Si aucun argument n'a été précisé pour cat, la commande lit les données depuis l'entrée principale **stdin** ou depuis un fichier"
      ]
    },
    {
      "cell_type": "code",
      "metadata": {
        "id": "Y4w2CXGInho2"
      },
      "source": [
        "!cat > example.txt"
      ],
      "execution_count": null,
      "outputs": []
    },
    {
      "cell_type": "code",
      "metadata": {
        "id": "XtoXHnt3nVfE"
      },
      "source": [
        "!cat < data.txt"
      ],
      "execution_count": null,
      "outputs": []
    },
    {
      "cell_type": "markdown",
      "metadata": {
        "id": "eWZX2668oNPR"
      },
      "source": [
        "**Pipelines**"
      ]
    },
    {
      "cell_type": "markdown",
      "metadata": {
        "id": "2NNDfGo2oPJS"
      },
      "source": [
        "Les pipelines permettent de combiner deux commandes à l'aide de l'opérateur **|**"
      ]
    },
    {
      "cell_type": "code",
      "metadata": {
        "id": "2xm-tXdVoZLD"
      },
      "source": [
        "!ls -l /usr/bin | less"
      ],
      "execution_count": null,
      "outputs": []
    },
    {
      "cell_type": "markdown",
      "metadata": {
        "id": "mDAXdZymo1LK"
      },
      "source": [
        "**Filtres**"
      ]
    },
    {
      "cell_type": "markdown",
      "metadata": {
        "id": "a1suy_FFo3Ur"
      },
      "source": [
        "Quand plusieurs commandes sont combinées à l'aide de l'opérateur pipeline **|**, l'opération est appelée filtre"
      ]
    },
    {
      "cell_type": "code",
      "metadata": {
        "id": "Hu_Y1JmGpC9n"
      },
      "source": [
        "!ls /bin /usr/bin | sort | less"
      ],
      "execution_count": null,
      "outputs": []
    },
    {
      "cell_type": "markdown",
      "metadata": {
        "id": "WZHwIXB0pPnd"
      },
      "source": [
        "**Suppression des doublons**"
      ]
    },
    {
      "cell_type": "markdown",
      "metadata": {
        "id": "Jjf7sm9GpXdJ"
      },
      "source": [
        "La commande **uniq** permet de reporter ou de supprimer les doublons"
      ]
    },
    {
      "cell_type": "code",
      "metadata": {
        "id": "kPRBGfsFpvN4"
      },
      "source": [
        "!ls /bin /usr/bin | sort | uniq | less  # suppression des doublons"
      ],
      "execution_count": null,
      "outputs": []
    },
    {
      "cell_type": "code",
      "metadata": {
        "id": "iz2GOdnqp3y0"
      },
      "source": [
        "!ls /bin /usr/bin | sort | uniq -d | less"
      ],
      "execution_count": null,
      "outputs": []
    },
    {
      "cell_type": "markdown",
      "metadata": {
        "id": "VKnYvmcxqTli"
      },
      "source": [
        "** Compter les lignes, les mots et les caractères **"
      ]
    },
    {
      "cell_type": "markdown",
      "metadata": {
        "id": "2jsG6S5gqepA"
      },
      "source": [
        "**wc** permet de compter les lignes, les mots et les carcatères de son argument:"
      ]
    },
    {
      "cell_type": "code",
      "metadata": {
        "id": "3bEIqAdOqRqX"
      },
      "source": [
        "!ls /bin /usr/bin | sort | uniq | wc -l"
      ],
      "execution_count": null,
      "outputs": []
    },
    {
      "cell_type": "markdown",
      "metadata": {
        "id": "G4QX39ZEqu1G"
      },
      "source": [
        "** Afficher les lignes correspondant à un pattern **"
      ]
    },
    {
      "cell_type": "markdown",
      "metadata": {
        "id": "_-MBiGBQsxml"
      },
      "source": [
        "**grep** est utilisée pour afficher les lignes correspondantes à un certain pattern, l'option -i permet d'ignorer la casse et -v permet d'afficher les lignes qui ne correspondent pas"
      ]
    },
    {
      "cell_type": "code",
      "metadata": {
        "id": "gEG5U2JgtCkV"
      },
      "source": [
        "!ls /bin /usr/bin | sort | uniq | grep zip"
      ],
      "execution_count": null,
      "outputs": []
    },
    {
      "cell_type": "markdown",
      "metadata": {
        "id": "DPwtH8rCtJmX"
      },
      "source": [
        "** Afficher le début ou la fin d'un fichier **"
      ]
    },
    {
      "cell_type": "markdown",
      "metadata": {
        "id": "bQIuDaVCtT8B"
      },
      "source": [
        "**head** et **tail** permettent d'afficher le début ou la fin d'un fichier respectivement, l'option -n permet de changer le nombre de ligne à afficher par défaut et -f permet de mettre à jour la sortie si un changement surgit, cette dernière est surtout utilisée pour superviser les logs"
      ]
    },
    {
      "cell_type": "code",
      "metadata": {
        "id": "6EZdLblJtavI"
      },
      "source": [
        "!head -n 5 example.txt  # afficher les 5 premières lignes du fichier example.txt"
      ],
      "execution_count": null,
      "outputs": []
    },
    {
      "cell_type": "code",
      "metadata": {
        "id": "w0_R3yCCtgBY"
      },
      "source": [
        "!tail -n 5 example.txt  # afficher les 5 dernières lignes du fichier example.txt"
      ],
      "execution_count": null,
      "outputs": []
    },
    {
      "cell_type": "markdown",
      "metadata": {
        "id": "y5fZnU8YuF-D"
      },
      "source": [
        "** Lire de stdin et écrire dans stdout et les fichiers **"
      ]
    },
    {
      "cell_type": "markdown",
      "metadata": {
        "id": "G2iNvPhQvM-6"
      },
      "source": [
        "**tee** permet de lire à partir de **stdin** et d'écrire dans **stdout** et dans des fichiers en même temps"
      ]
    },
    {
      "cell_type": "code",
      "metadata": {
        "id": "XmNsO_u-vW6i"
      },
      "source": [
        "!ls /usr/bin | tee ls.txt | grep zip"
      ],
      "execution_count": null,
      "outputs": []
    },
    {
      "cell_type": "markdown",
      "metadata": {
        "id": "i6mO7qF3vjya"
      },
      "source": [
        "# Permissions"
      ]
    },
    {
      "cell_type": "markdown",
      "metadata": {
        "id": "IslJzT-CvmH6"
      },
      "source": [
        "Les commandes qui sont en relation avec les droits et permissions sont:\n",
        "\n",
        "* **id** permet d'afficher l'identité de l'utilisateur\n",
        "* **chmod** permet les permissions d'un fichier ou répertoire\n",
        "* **umask** permet d'appliquer les permissions par défaut à un fichier\n",
        "* **su** permet d'exécuter le shell en utilisant un autre utilisateur\n",
        "* **sudo** permet d'exécuter une commande en utilisant un autre utilisateur\n",
        "* **chown** permet de changer le propriétaire d'un fichier ou répertoire\n",
        "* **chgrp** permet de changer le groupe d'un fichier ou répertoire\n",
        "* **passwd** permet de changer le mot de passe d'un utilisateur\n"
      ]
    },
    {
      "cell_type": "markdown",
      "metadata": {
        "id": "qmna1scQ5ZAL"
      },
      "source": [
        "Selon le modèle de sécurité Unix, un utilisateur peut détenir des fichiers et des dossiers. Quand un utilisateur est propriétaire \"owner\" d'un fichier ou un dossier, il a le contrôle sur son accès. Les utilisateurs peuvent appartenir à un groupe contenant un ou plusieurs utilisateurs qui ont les droits d'accès assignés par leurs propriétaires. En plus d'accorder les droits à un groupe, un propriétaire peut aussi accorder un certain ensemble de droits à tout le monde, qui sont dénotés \"world\" par Unix."
      ]
    },
    {
      "cell_type": "markdown",
      "metadata": {
        "id": "1M51cjeB69JY"
      },
      "source": [
        "Pour connaître les informations à propos de l'utilisateur, il suffit d'utiliser la commande **id**:"
      ]
    },
    {
      "cell_type": "code",
      "metadata": {
        "id": "ce9M0ngJ7JCx",
        "outputId": "a6fba7cb-8e8c-4bf7-a8ac-e1843f33a045",
        "colab": {
          "base_uri": "https://localhost:8080/",
          "height": 34
        }
      },
      "source": [
        "!id"
      ],
      "execution_count": null,
      "outputs": [
        {
          "output_type": "stream",
          "text": [
            "uid=0(root) gid=0(root) groups=0(root)\n"
          ],
          "name": "stdout"
        }
      ]
    },
    {
      "cell_type": "markdown",
      "metadata": {
        "id": "SgxV1iOc7Rqd"
      },
      "source": [
        "Quand les comptes utilisateurs sont crées, le système assigne un numéro à chaque utilisateur dénoté user ID (uid) qui correspond au nom d'utilisateur \"username\". Le système affecte aussi l'utilisateur à un groupe identifié par group ID (gid) et peut appartenir à d'autres groupes.\n"
      ]
    },
    {
      "cell_type": "markdown",
      "metadata": {
        "id": "UR7bIaPm-kRT"
      },
      "source": [
        "Les comptes utilisateurs sont définis dans le fichier /etc/passwd et les groupes sont définis dans le fichier /etc/group.\n",
        "Quand les comptes utilisateurs et les groupes sont crées, ces fichiers sont modifiés en parallèle avec /etc/shawdow qui contient l'information relative au mot de passe des utilisateurs.\n",
        "Pour chaque compte utilisateur, le fichier /etc/passwd défini l'utilisateur \"login\", uid, gid, le nom réel de l'utilisateur et le répertoire d'acceuil \"home\" et le shell par défaut.\n",
        "A part les utilisateurs et les groupes réguliers, d'autres comptes sont contenus dans ces fichiers tels que le super-utilisateur \"superuser\" dont l'uid est 0.\n",
        "Alors que les systèmes Unix affectent les utilisateurs réguliers à un groupe tel que \"users\", les systèmes Linux modernes créent un groupe unique, contenant un seul utilisateur et portant son nom. Cette pratique facilite l'attribution de certaines permissions. "
      ]
    },
    {
      "cell_type": "markdown",
      "metadata": {
        "id": "QPEtOE5uBe2l"
      },
      "source": [
        "**Lecture, Ecriture et Exécution**"
      ]
    },
    {
      "cell_type": "markdown",
      "metadata": {
        "id": "p0IVpaW_BjcA"
      },
      "source": [
        "Les droits d'accès pour les fichiers et le répertoires sont définis en terme de lecture, écriture et exécution.\n",
        "Les premiers 10 caractères de la sortie de **ls -l** sont les attributs du fichier. Le premier caractère étant le type du fichier.\n",
        "La table suivant présente les types de fichiers les plus utilisés:\n",
        "\n",
        "> Type | Description\n",
        "> -- | --\n",
        "> -| Fichier régulier\n",
        "> d| Répertoire\n",
        "> l| Lien symbolique\n",
        "> c| Fichier caractère. Il correspond à un périphérique qui manipule les données sous forme de caractères tel que le terminal ou /dev/null\n",
        "> b| Fichier bloc. Il correspond à un périphérique qui manipule les données sous forme de blocs tel que le disque dur ou un lecteur DVD."
      ]
    },
    {
      "cell_type": "markdown",
      "metadata": {
        "id": "I1SrSTiADdnC"
      },
      "source": [
        "Les 9 caractères restants des attributs du fichiers sont dénommés le **mode du fichier** ou **file mode** et représents les permissions de lecture, écriture et exécution pour le propriétaire **owner**, le groupe **group** et le reste **world**.\n",
        "\n",
        "> Attribut | Fichiers | Répertoires\n",
        "> -- | -- | --\n",
        "> r| Permet au fichier d'être ouvert et lu | Permet au contenu du répertoire d'être listé si l'attribut **x** est aussi activé\n",
        "> w| Permet au fichier d'être édité ou tronqué | Permet la création, la suppression et le renommage des fichiers du répertoire si l'attribut **x** est également activé\n",
        "> x| Permet au fichier d'être exécutable | Permet d'accéder au répertoire"
      ]
    },
    {
      "cell_type": "markdown",
      "metadata": {
        "id": "2s7xOuKFG4rQ"
      },
      "source": [
        "**Changer le mode des fichiers**"
      ]
    },
    {
      "cell_type": "markdown",
      "metadata": {
        "id": "S4odmUywHBbX"
      },
      "source": [
        "Afin de pouvoir changer le mode d'un fichier (Les permissions), la commande **chmod** peut-être utilisée. Seul le propriétaire ou le superuser peuvent changer le mode d'un fichier ou un répertoire. **chmod** supporte deux manières pour spécifier le mode pour un fichier:\n",
        "* La représentation octale\n",
        "* La représentation symbolique\n",
        "\n",
        "La table suivante spécifie la représentation octale, binaire et le mode du fichier correspondant:\n",
        "\n",
        "> Ocatale | Binaire | Mode\n",
        "> -- | -- | --\n",
        "> 0| 000 | ---\n",
        "> 1| 001 | --x\n",
        "> 2| 010 | -w-\n",
        "> 3| 011 | -wx\n",
        "> 4| 100 | r--\n",
        "> 5| 101 | r-x\n",
        "> 6| 110 | rw-\n",
        "> 6| 111 | rwx\n",
        "\n",
        "En utilisant la représentation octale, on peut changer le mode d'un fichier pour le propriétaire, le groupe et le reste \"world\"."
      ]
    },
    {
      "cell_type": "code",
      "metadata": {
        "id": "ytKEHk9dKmeE"
      },
      "source": [
        "!chmod 600 foo.txt"
      ],
      "execution_count": null,
      "outputs": []
    },
    {
      "cell_type": "markdown",
      "metadata": {
        "id": "2lFLABxNKsQX"
      },
      "source": [
        "En passant 600 à la commande **chmod**, on a pu changer les permissions du propriétaire pour lire et écrire tout en révoquant les permissions du groupe et du reste."
      ]
    },
    {
      "cell_type": "markdown",
      "metadata": {
        "id": "kutxDt8CLaKj"
      },
      "source": [
        "**chmod** supporte aussi la notation symbolique pour la spécification du mode. La notation symbolique est divisée en trois parties:\n",
        "* **Qui** le changement va affecter\n",
        "* **Quelle** opération sera exécutée\n",
        "* **Quelle** permission sera activée\n",
        "\n",
        "Afin de spécifier qui le changement va affecter, une combinaison des caractères u, g, o et a est utilisée comme spécifié sur la table suivante:\n",
        "\n",
        "> Symbole | Description\n",
        "> -- | --\n",
        "> u | \"user\", le propriétaire du fichier ou répertoire\n",
        "> g | \"group\", le groupe propriétaire\n",
        "> o | \"others\", le reste\n",
        "> a | \"all\", une combinaison de u, g et o\n",
        "\n",
        "Si aucun caractère n'est spécifié, la valeur \"a\" sera utilisée par défaut. L'opération peut être \"+\" indiquant que la permission sera activée ou \"-\" indiquant que la permission sera révoquée ou \"=\" indiquant que seule la permission spécifiée sera activée et que les autres permissions seront révoquées.\n",
        "Les permissions sont spécifiées en utilisant les caractères r, w et x.\n"
      ]
    },
    {
      "cell_type": "markdown",
      "metadata": {
        "id": "nQ1D8uCoQDRr"
      },
      "source": [
        "**Appliquer les permissions par défaut**"
      ]
    },
    {
      "cell_type": "markdown",
      "metadata": {
        "id": "WbDOqy6eQHyH"
      },
      "source": [
        "La commande **umask** permet de contrôler les permissions par défaut octroyées à un fichier quand il est crée. Elle utilise la notation octale pour indiquer le masque de bits à supprimer du mode du fichier."
      ]
    },
    {
      "cell_type": "markdown",
      "metadata": {
        "id": "MVb_MxQ8SGIK"
      },
      "source": [
        "**Changement des identités**"
      ]
    },
    {
      "cell_type": "markdown",
      "metadata": {
        "id": "LSUjLERXSI1M"
      },
      "source": [
        "A plusieurs reprises, on a besoin de se connecter en tant qu'autre utilisateur ou superuser afin de mener certaines tâches administratives\n",
        "\n",
        "1. Se déconnecter et se connecter avec le username en question\n",
        "2. Utiliser la commande **su** \"Subtitute User\"\n",
        "3. Utiliser la commande **sudo**\n",
        "\n",
        "La commande **su** permet d'assumer l'identité d'un autre utilisateur et d'ouvrir une nouvelle session shell avec le user ID ou alors exécuter une seule commande comme étant cet utilisateur.\n",
        "La commande **sudo** permet à un administrateur d'activer un fichier de configuration /etc/sudoers et spécifier les différentes commandes que des utilisateurs spécifiques ont le droit d'exécuter."
      ]
    },
    {
      "cell_type": "markdown",
      "metadata": {
        "id": "RxFZfcl8UagG"
      },
      "source": [
        "**Exécuter le shell avec su**"
      ]
    },
    {
      "cell_type": "markdown",
      "metadata": {
        "id": "Kp500BmVUsE4"
      },
      "source": [
        "La commande **su** est utilisée pour démarrer le shell en tant qu'autre utilisateur. La syntaxe de la commande est la suivante:\n",
        "\n",
        "su [-[l]] [user]\n",
        "\n",
        "Si l'option -l est incluse, la session en question est un login shell pour l'utilisateur spécifié.\n",
        "\n",
        "La commande peut être souvent abrégée:\n",
        "\n",
        "su -\n",
        "\n",
        "Une fois la commande est exécutée, le mot de passe du superuser est exigé. Une fois le mot de passe entrée, le prompt change de **$** vers **#** pour indique que la session a des pouvoirs de superuse, cette session peut être fermée à l'aide de la commande **exit**.\n",
        "\n",
        "Il est également possible d'exécuter une seule commande en utilisant la syntaxe suivante:\n",
        "\n",
        "su -c 'command'\n",
        "\n",
        "il est impératif d'entourer la commande en utilisant les quotes.\n",
        "\n",
        "Exemple: su -c 'ls -l /root/*'"
      ]
    },
    {
      "cell_type": "markdown",
      "metadata": {
        "id": "BCXY-Lc1WUDw"
      },
      "source": [
        "**Exécuter une commande en tant qu'autre utilisateur**"
      ]
    },
    {
      "cell_type": "markdown",
      "metadata": {
        "id": "GLt69fhWWfXS"
      },
      "source": [
        "La commande **sudo** est semblable à la commande **su** mais possède d'autres fonctionnalités.\n",
        "L'administrateur peut configurer sudo afin de permettre à un utilisateur normal d'exécuter les commandes comme étant un autre utilisateur d'une manière contrôlée. Un utilisateur peut être aussi limité à une ou plusieurs commandes. La commande **sudo** ne nécéssite pas aussi l'accès au mot de passe du superuser.\n",
        "Afin de visualiser les privilèges accordés par sudo, l'option -l peut être utilisée."
      ]
    },
    {
      "cell_type": "code",
      "metadata": {
        "id": "UwIsLJdSX50m",
        "outputId": "ab8312ee-caab-4a65-fcca-e1600081fa0b",
        "colab": {
          "base_uri": "https://localhost:8080/",
          "height": 120
        }
      },
      "source": [
        "!sudo -l"
      ],
      "execution_count": null,
      "outputs": [
        {
          "output_type": "stream",
          "text": [
            "Matching Defaults entries for root on b9af922c1d82:\n",
            "    env_reset, mail_badpass,\n",
            "    secure_path=/usr/local/sbin\\:/usr/local/bin\\:/usr/sbin\\:/usr/bin\\:/sbin\\:/bin\\:/snap/bin\n",
            "\n",
            "User root may run the following commands on b9af922c1d82:\n",
            "    (ALL : ALL) ALL\n"
          ],
          "name": "stdout"
        }
      ]
    },
    {
      "cell_type": "markdown",
      "metadata": {
        "id": "yhrjzicOX-ly"
      },
      "source": [
        "**Changer le propriétaire du fichier et le groupe**"
      ]
    },
    {
      "cell_type": "markdown",
      "metadata": {
        "id": "JDe3kcoHYEya"
      },
      "source": [
        "La commande **chown** est utilisée pour changer le propriétaire et le groupe d'un fichier ou un répertoire. Les droits superuser sont nécessaire afin d'utiliser cette commande.\n",
        "\n",
        "chown [owner][:[group]] file..."
      ]
    },
    {
      "cell_type": "markdown",
      "metadata": {
        "id": "2-vnhTu9b8RF"
      },
      "source": [
        "Lors des anciennes versions Linux, **chown** ne permettant pas de changer le groupe, cette opération était possible en utilisant **chgrp**"
      ]
    },
    {
      "cell_type": "markdown",
      "metadata": {
        "id": "Mt52j1l_cnZo"
      },
      "source": [
        "**Changement du mot de passe**"
      ]
    },
    {
      "cell_type": "markdown",
      "metadata": {
        "id": "4w_eCIFac3Cy"
      },
      "source": [
        "La commande **passwd** permet d'appliquer ou de changer un mot de passe.\n",
        "\n",
        "passwd [user]"
      ]
    },
    {
      "cell_type": "markdown",
      "metadata": {
        "id": "vkpnHO0yy4oN"
      },
      "source": [
        "# Processus"
      ]
    },
    {
      "cell_type": "markdown",
      "metadata": {
        "id": "gIHQ-Mtny_Il"
      },
      "source": [
        "Les nouveaux systèmes d'exploitation sont en général multitâches, ce qui permet de lancer plusieurs programmes en parallèle sous forme de processus et threads.\n",
        "Les commandes suivantes permettent d'agir sur le déroulement de ces programmes:\n",
        "\n",
        "* **ps** permet d'afficher l'ensemble des processus qui sont en cours\n",
        "* **top** permet d'afficher les tâches en cours\n",
        "* **jobs** permet d'afficher les jobs en cours\n",
        "* **bg** permet de placer un programme dans l'arrière-plan: background\n",
        "* **fg** permet de placer un programme dans l'avant-plan: foreground\n",
        "* **kill** permet d'envoyer un signal à un processus\n",
        "* **kill** permet de tuer un process par nom\n",
        "* **shutdown** permet d'arrêter ou redémarrer le système\n"
      ]
    },
    {
      "cell_type": "markdown",
      "metadata": {
        "id": "7c5fbj50dNhf"
      },
      "source": [
        "**Comment un processus fonctionne**"
      ]
    },
    {
      "cell_type": "markdown",
      "metadata": {
        "id": "BY40bG4EdUim"
      },
      "source": [
        "Quand le système démarre, le noyeau \"kernel\" initie quelques-uns de ses activités comme processus et lance un programme nommé **init**. Ce dernier lance à son tour une série de scripts shell situés dans le dossier /etc nommés \"init scripts\" permettant de démarrer tous les services du système. Plusieurs d'entre eux sont implémentés comme des démons \"daemon programs\" qui restent dans l'arrière plan et ne possédant aucune interface utilisateur.\n",
        "Un programme capable de lancer d'autres programmes est appelé \"process parent\".\n",
        "Le noyeau maintient des informations à propos de chaque processus. Chaque processus a un process ID (PID). Ces PIDs sont auto-incrémentés où **init** a le PID 1. Le noyeau est aussi capable de suivre la mémoire utilisée par chaque processus. Comme les fichiers, les processus ont aussi un propriétaire."
      ]
    },
    {
      "cell_type": "markdown",
      "metadata": {
        "id": "XJtQjW42fkTD"
      },
      "source": [
        "**Visualiser les processus**"
      ]
    },
    {
      "cell_type": "markdown",
      "metadata": {
        "id": "XKhmV3Mefm8d"
      },
      "source": [
        "La commande la plus utilisée pour visualiser les processus est **ps**.\n",
        "Son exécution liste deux processus, **bash** et **ps**.\n",
        "Les deux sont des processus associés avec la session shell actuelle.\n",
        "La commande affiche le PID du processus, le TTY ou \"teletype\" qui refère au terminal de contrôle. TIME est la quantité du temps CPU consommé par le processus."
      ]
    },
    {
      "cell_type": "code",
      "metadata": {
        "id": "9CMJcdQFhGCB",
        "outputId": "20bad417-9f7e-4f09-be72-c10bec20ebdf",
        "colab": {
          "base_uri": "https://localhost:8080/",
          "height": 138
        }
      },
      "source": [
        "!ps"
      ],
      "execution_count": null,
      "outputs": [
        {
          "output_type": "stream",
          "text": [
            "    PID TTY          TIME CMD\n",
            "      1 ?        00:00:00 run.sh\n",
            "      8 ?        00:00:05 node\n",
            "     24 ?        00:00:06 jupyter-noteboo\n",
            "     93 ?        00:00:01 tail\n",
            "    101 ?        00:00:03 python3\n",
            "    970 ?        00:00:00 ps\n"
          ],
          "name": "stdout"
        }
      ]
    },
    {
      "cell_type": "markdown",
      "metadata": {
        "id": "-7Zwor3KhrFn"
      },
      "source": [
        "En ajoutant l'option permet d'afficher tous les processus quelque soit le terminal qui les contrôle. La présence de \"?\" pour la colonne TTY indique l'absence d'un terminal de contrôle, l'utilisation de cette commande permet d'afficher tous les processus que détient l'utilisateur en cours.\n",
        "Comme la commande **ps** produit une longue liste de processus, elle souvent combinée avec la commande **less** afin de faciliter la visualisation.\n",
        "La colonne STAT \"state\" permet d'afficher l'état actuel du processus.\n",
        "\n",
        "> Etat | Description\n",
        "> -- | --\n",
        "> R | Running: en cours d'exécution\n",
        "> S | Sleeping: le processus n'est pas en cours d'exécution, il est en attente d'un événement tel que l'enfoncement d'une touche du clavier ou un paquet réseau.\n",
        "> D | Uninterruptible sleep, le processus est en attente d'un E/S \"I/O\" comme un lecteur de disque\n",
        "> T | Stopped, le processus a été arrêté.\n",
        "> Z | Défunt ou Zombie, le processus enfant a été terminé mais non nettoyé par son parent \n",
        "> < | High Priority, le temps CPU accordé au processus est plus important\n",
        "> N | Low Priority, le processus n'est pas prioritaire"
      ]
    },
    {
      "cell_type": "markdown",
      "metadata": {
        "id": "XqDDFr9zkd5o"
      },
      "source": [
        "Parmi les options importantes, on trouve **aux** qui retourne plus d'informations. Les colonnes affichée sont:\n",
        "\n",
        "> Colonne | Description\n",
        "> -- | --\n",
        "> USER | User ID, le propriétaire du processus\n",
        "> %CPU | L'utilisation CPU en %\n",
        "> %MEM | L'utilisation Mémoire en %\n",
        "> VSZ | La taille de la mémoire virtuelle\n",
        "> RSS | Resident Set Size, La quantité de mémoire physique (RAM) utilisée par le processus \n",
        "> START | Le temps de démarrage du processus"
      ]
    },
    {
      "cell_type": "code",
      "metadata": {
        "id": "2DGMKN4qmUad",
        "outputId": "e05bf2b0-c4fb-49dd-ca03-097785ee3c92",
        "colab": {
          "base_uri": "https://localhost:8080/",
          "height": 138
        }
      },
      "source": [
        "!ps aux"
      ],
      "execution_count": null,
      "outputs": [
        {
          "output_type": "stream",
          "text": [
            "USER         PID %CPU %MEM    VSZ   RSS TTY      STAT START   TIME COMMAND\n",
            "root           1  0.0  0.0  39192  6368 ?        Ss   Oct25   0:00 /bin/bash -e \n",
            "root           8  0.0  0.4 310232 56904 ?        Sl   Oct25   0:05 /tools/node/b\n",
            "root          24  0.0  0.4 195212 60848 ?        Sl   Oct25   0:07 /usr/bin/pyth\n",
            "root          93  0.0  0.0  35884  4792 ?        Ss   Oct25   0:01 tail -n +0 -F\n",
            "root         101  0.0  0.8 516264 110684 ?       Ssl  Oct25   0:03 /usr/bin/pyth\n",
            "root        1162  0.0  0.0  59036  6324 ?        R    01:50   0:00 ps aux\n"
          ],
          "name": "stdout"
        }
      ]
    },
    {
      "cell_type": "markdown",
      "metadata": {
        "id": "e65w9BMUlt2i"
      },
      "source": [
        "**Visualisation dynamique des processus**"
      ]
    },
    {
      "cell_type": "markdown",
      "metadata": {
        "id": "9sB2NL6Wlw0O"
      },
      "source": [
        "La commande **ps** permet de révéler l'activité de la machine d'une manière statique. Afin de visualiser l'état de la machine d'une manière dynamique, la commande **top** est utilisée (chaque 3s)."
      ]
    },
    {
      "cell_type": "code",
      "metadata": {
        "id": "NjDFzIsdmQqT",
        "outputId": "1e592d54-fdd7-4c4c-cac3-b1043ad97348",
        "colab": {
          "base_uri": "https://localhost:8080/",
          "height": 485
        }
      },
      "source": [
        "!top"
      ],
      "execution_count": null,
      "outputs": [
        {
          "output_type": "stream",
          "text": [
            "\u001b[?1h\u001b=\u001b[H\u001b[2J\u001b[mtop - 01:50:02 up  3:19,  0 users,  load average: 0.08, 0.03, 0.00\u001b[m\u001b[m\u001b[m\u001b[m\u001b[K\n",
            "Tasks:\u001b[m\u001b[m\u001b[1m   6 \u001b[m\u001b[mtotal,\u001b[m\u001b[m\u001b[1m   1 \u001b[m\u001b[mrunning,\u001b[m\u001b[m\u001b[1m   5 \u001b[m\u001b[msleeping,\u001b[m\u001b[m\u001b[1m   0 \u001b[m\u001b[mstopped,\u001b[m\u001b[m\u001b[1m   0 \u001b[m\u001b[mzombie\u001b[m\u001b[m\u001b[m\u001b[m\u001b[K\n",
            "%Cpu(s):\u001b[m\u001b[m\u001b[1m  0.5 \u001b[m\u001b[mus,\u001b[m\u001b[m\u001b[1m  0.9 \u001b[m\u001b[msy,\u001b[m\u001b[m\u001b[1m  0.0 \u001b[m\u001b[mni,\u001b[m\u001b[m\u001b[1m 98.5 \u001b[m\u001b[mid,\u001b[m\u001b[m\u001b[1m  0.1 \u001b[m\u001b[mwa,\u001b[m\u001b[m\u001b[1m  0.0 \u001b[m\u001b[mhi,\u001b[m\u001b[m\u001b[1m  0.0 \u001b[m\u001b[msi,\u001b[m\u001b[m\u001b[1m  0.0 \u001b[m\u001b[mst\u001b[m\u001b[m\u001b[m\u001b[m\u001b[K\n",
            "KiB Mem :\u001b[m\u001b[m\u001b[1m 13333552 \u001b[m\u001b[mtotal,\u001b[m\u001b[m\u001b[1m 10840036 \u001b[m\u001b[mfree,\u001b[m\u001b[m\u001b[1m   522732 \u001b[m\u001b[mused,\u001b[m\u001b[m\u001b[1m  1970784 \u001b[m\u001b[mbuff/cache\u001b[m\u001b[m\u001b[m\u001b[m\u001b[K\n",
            "KiB Swap:\u001b[m\u001b[m\u001b[1m        0 \u001b[m\u001b[mtotal,\u001b[m\u001b[m\u001b[1m        0 \u001b[m\u001b[mfree,\u001b[m\u001b[m\u001b[1m        0 \u001b[m\u001b[mused.\u001b[m\u001b[m\u001b[1m 12547488 \u001b[m\u001b[mavail Mem \u001b[m\u001b[m\u001b[m\u001b[m\u001b[K\n",
            "\u001b[K\n",
            "\u001b[7m    PID USER      PR  NI    VIRT    RES    SHR S  %CPU %MEM     TIME+ COMMAND   \u001b[m\u001b[m\u001b[K\n",
            "\u001b[m      8 root      20   0  310232  56628  31364 S   6.7  0.4   0:05.78 node      \u001b[m\u001b[m\u001b[K\n",
            "\u001b[m      1 root      20   0   39192   6368   4860 S   0.0  0.0   0:00.32 run.sh    \u001b[m\u001b[m\u001b[K\n",
            "\u001b[m     24 root      20   0  195212  60820  13612 S   0.0  0.5   0:07.74 jupyter-+ \u001b[m\u001b[m\u001b[K\n",
            "\u001b[m     93 root      20   0   35884   4792   3684 S   0.0  0.0   0:01.11 tail      \u001b[m\u001b[m\u001b[K\n",
            "\u001b[m    101 root      20   0  516264 110652  31608 S   0.0  0.8   0:03.44 python3   \u001b[m\u001b[m\u001b[K\n",
            "\u001b[m\u001b[1m   1157 root      20   0   63184   6768   5044 R   0.0  0.1   0:00.00 top       \u001b[m\u001b[m\u001b[K\n",
            "\u001b[J\u001b[H\u001b[mtop - 01:50:05 up  3:19,  0 users,  load average: 0.08, 0.03, 0.00\u001b[m\u001b[m\u001b[m\u001b[m\u001b[K\n",
            "Tasks:\u001b[m\u001b[m\u001b[1m   6 \u001b[m\u001b[mtotal,\u001b[m\u001b[m\u001b[1m   1 \u001b[m\u001b[mrunning,\u001b[m\u001b[m\u001b[1m   5 \u001b[m\u001b[msleeping,\u001b[m\u001b[m\u001b[1m   0 \u001b[m\u001b[mstopped,\u001b[m\u001b[m\u001b[1m   0 \u001b[m\u001b[mzombie\u001b[m\u001b[m\u001b[m\u001b[m\u001b[K\n",
            "%Cpu(s):\u001b[m\u001b[m\u001b[1m  1.0 \u001b[m\u001b[mus,\u001b[m\u001b[m\u001b[1m  1.0 \u001b[m\u001b[msy,\u001b[m\u001b[m\u001b[1m  0.0 \u001b[m\u001b[mni,\u001b[m\u001b[m\u001b[1m 97.8 \u001b[m\u001b[mid,\u001b[m\u001b[m\u001b[1m  0.0 \u001b[m\u001b[mwa,\u001b[m\u001b[m\u001b[1m  0.0 \u001b[m\u001b[mhi,\u001b[m\u001b[m\u001b[1m  0.2 \u001b[m\u001b[msi,\u001b[m\u001b[m\u001b[1m  0.0 \u001b[m\u001b[mst\u001b[m\u001b[m\u001b[m\u001b[m\u001b[K\n",
            "KiB Mem :\u001b[m\u001b[m\u001b[1m 13333552 \u001b[m\u001b[mtotal,\u001b[m\u001b[m\u001b[1m 10839852 \u001b[m\u001b[mfree,\u001b[m\u001b[m\u001b[1m   522720 \u001b[m\u001b[mused,\u001b[m\u001b[m\u001b[1m  1970980 \u001b[m\u001b[mbuff/cache\u001b[m\u001b[m\u001b[m\u001b[m\u001b[K\n",
            "KiB Swap:\u001b[m\u001b[m\u001b[1m        0 \u001b[m\u001b[mtotal,\u001b[m\u001b[m\u001b[1m        0 \u001b[m\u001b[mfree,\u001b[m\u001b[m\u001b[1m        0 \u001b[m\u001b[mused.\u001b[m\u001b[m\u001b[1m 12547520 \u001b[m\u001b[mavail Mem \u001b[m\u001b[m\u001b[m\u001b[m\u001b[K\n",
            "\u001b[K\n",
            "\n",
            "\u001b[m      8 root      20   0  310232  56892  31364 S   0.3  0.4   0:05.79 node      \u001b[m\u001b[m\u001b[K\n",
            "\u001b[m     24 root      20   0  195212  60824  13612 S   0.3  0.5   0:07.75 jupyter-+ \u001b[m\u001b[m\u001b[K\n",
            "\u001b[m    101 root      20   0  516264 110652  31608 S   0.3  0.8   0:03.45 python3   \u001b[m\u001b[m\u001b[K\n",
            "\u001b[m      1 root      20   0   39192   6368   4860 S   0.0  0.0   0:00.32 run.sh    \u001b[m\u001b[m\u001b[K\n",
            "\u001b[m     93 root      20   0   35884   4792   3684 S   0.0  0.0   0:01.11 tail      \u001b[m\u001b[m\u001b[K\n",
            "\n",
            "\u001b[J\u001b[?1l\u001b>\u001b[25;1H\n",
            "\u001b[K"
          ],
          "name": "stdout"
        }
      ]
    },
    {
      "cell_type": "markdown",
      "metadata": {
        "id": "J3s7v9u8pA9S"
      },
      "source": [
        "**Contrôle des processus**"
      ]
    },
    {
      "cell_type": "markdown",
      "metadata": {
        "id": "cTWjMaI-pFFw"
      },
      "source": [
        "**Interruption des processus**"
      ]
    },
    {
      "cell_type": "markdown",
      "metadata": {
        "id": "9q_JKRRJo0Xz"
      },
      "source": [
        "Afin d'interrompre un programme, il suffit d'utiliser la combinaison Ctrl+C"
      ]
    },
    {
      "cell_type": "code",
      "metadata": {
        "id": "9WTSMrQry8Ju"
      },
      "source": [
        "!xlogo"
      ],
      "execution_count": null,
      "outputs": []
    },
    {
      "cell_type": "markdown",
      "metadata": {
        "id": "Wt5LBxmOpJeB"
      },
      "source": [
        "**Mettre un processus en arrière plan**"
      ]
    },
    {
      "cell_type": "markdown",
      "metadata": {
        "id": "5waa5otWpcbe"
      },
      "source": [
        "Un processus peut être mis en arrière plan en ajoutant \"&\" lors de son lancement, la liste des jobs peut être affichée à l'aide de la commande **jobs**."
      ]
    },
    {
      "cell_type": "code",
      "metadata": {
        "id": "eoSEUy7hR-Zf"
      },
      "source": [
        "!xlogo &\n",
        "!ps"
      ],
      "execution_count": null,
      "outputs": []
    },
    {
      "cell_type": "markdown",
      "metadata": {
        "id": "L3ki7W7hpuPu"
      },
      "source": [
        "**Retourner un processus en avant plan**"
      ]
    },
    {
      "cell_type": "markdown",
      "metadata": {
        "id": "L8ymTOCvp1iF"
      },
      "source": [
        "Un processus en arrière plan est protégé des erreurs qui peuvent l'impacter (Ctrl+C), afin de le retourner en avant plan, il suffit d'utiliser la commande **fg %1** où 1 est le numéro du job."
      ]
    },
    {
      "cell_type": "markdown",
      "metadata": {
        "id": "OdmO2_YiqfzU"
      },
      "source": [
        "**Arrêter un processus**"
      ]
    },
    {
      "cell_type": "markdown",
      "metadata": {
        "id": "UwJQePQJqisS"
      },
      "source": [
        "Parfois, on a besoin d'arrêter un processus sans le terminer. Ceci est souvent utilisé lors du déplacement d'un processus de l'avant vers l'arrière plan.\n",
        "Exemple:\n",
        "* Lancer xlogo\n",
        "* Arrêter le programme en utilisant Ctrl+Z afin de le déplacer vers l'arrière plan\n",
        "* Utiliser fg %1 pour continuer l'exécution en avant plan\n",
        "* Utiliser bg %1 pour continuer l'exécution en arrière plan"
      ]
    },
    {
      "cell_type": "markdown",
      "metadata": {
        "id": "-0NW9GhCrum2"
      },
      "source": [
        "**Signaux**"
      ]
    },
    {
      "cell_type": "markdown",
      "metadata": {
        "id": "67TrAW8yrwZZ"
      },
      "source": [
        "La commande **kill** permet de tuer les processus.\n",
        "\n",
        "kill PID\n",
        "\n",
        "La commmade envoie des signaux qui permettent la communication du système avec les programmes.\n",
        "Exemples: Ctrl+C et Ctrl+Z sont des exemples de signaux, le premier permet d'interrompre un processus en envoyant le signal INT \"interrupt\", le deuxième est TSTP \"terminal stop\"."
      ]
    },
    {
      "cell_type": "markdown",
      "metadata": {
        "id": "mzk4VCpktJVO"
      },
      "source": [
        "**Envoi des signaux aux processus à travers kill**"
      ]
    },
    {
      "cell_type": "markdown",
      "metadata": {
        "id": "Fu7ILFngtPgf"
      },
      "source": [
        "La commande **kill** est utilisée pour l'envoi des signaux aux programmes:\n",
        "kill -signal PID\n",
        "Si aucun signal n'est spécifié, TERM est envoyé par défaut.\n",
        "La commande kill -l permet d'afficher la liste exhaustive des signaux.\n",
        "\n",
        "> Nombre | Nom | Description\n",
        "> -- | -- | --\n",
        "> 1 | HUP | Hang up, permet d'indiquer une réinitialisation\n",
        "> 2 | INT | Interrupt, exécute la même opération que Ctrl+C\n",
        "> 3 | QUIT | Quit, quitter\n",
        "> 9 | KILL | Kill, le noyeau termine le processus immédiatement\n",
        "> 11 | SEGV | Segmentation Violation, envoyé si le processus utilise la mémoire d'une manière illégale\n",
        "> 15 | TERM | Terminate, le signal par défaut envoyé par kill\n",
        "> 18 | CONT | Continue, permet de restaurer un processus après STOP ou TSTP\n",
        "> 19 | STOP | Stop, permet d'interrompre un processus sans l'arrêter\n",
        "> 20 | TSTP | Terminal Stop, envoyé la combinaison Ctrl+Z est utilisée\n",
        "> 28 | WINCH | Window Change, envoyé par le système quand une fenêtre est redimensionnée\n"
      ]
    },
    {
      "cell_type": "code",
      "metadata": {
        "id": "Aws4ZKwVxW4W",
        "outputId": "07d74c4b-0b79-4fa6-81f6-7f52386a1065",
        "colab": {
          "base_uri": "https://localhost:8080/",
          "height": 242
        }
      },
      "source": [
        "!kill -l"
      ],
      "execution_count": null,
      "outputs": [
        {
          "output_type": "stream",
          "text": [
            " 1) SIGHUP\t 2) SIGINT\t 3) SIGQUIT\t 4) SIGILL\t 5) SIGTRAP\n",
            " 6) SIGABRT\t 7) SIGBUS\t 8) SIGFPE\t 9) SIGKILL\t10) SIGUSR1\n",
            "11) SIGSEGV\t12) SIGUSR2\t13) SIGPIPE\t14) SIGALRM\t15) SIGTERM\n",
            "16) SIGSTKFLT\t17) SIGCHLD\t18) SIGCONT\t19) SIGSTOP\t20) SIGTSTP\n",
            "21) SIGTTIN\t22) SIGTTOU\t23) SIGURG\t24) SIGXCPU\t25) SIGXFSZ\n",
            "26) SIGVTALRM\t27) SIGPROF\t28) SIGWINCH\t29) SIGIO\t30) SIGPWR\n",
            "31) SIGSYS\t34) SIGRTMIN\t35) SIGRTMIN+1\t36) SIGRTMIN+2\t37) SIGRTMIN+3\n",
            "38) SIGRTMIN+4\t39) SIGRTMIN+5\t40) SIGRTMIN+6\t41) SIGRTMIN+7\t42) SIGRTMIN+8\n",
            "43) SIGRTMIN+9\t44) SIGRTMIN+10\t45) SIGRTMIN+11\t46) SIGRTMIN+12\t47) SIGRTMIN+13\n",
            "48) SIGRTMIN+14\t49) SIGRTMIN+15\t50) SIGRTMAX-14\t51) SIGRTMAX-13\t52) SIGRTMAX-12\n",
            "53) SIGRTMAX-11\t54) SIGRTMAX-10\t55) SIGRTMAX-9\t56) SIGRTMAX-8\t57) SIGRTMAX-7\n",
            "58) SIGRTMAX-6\t59) SIGRTMAX-5\t60) SIGRTMAX-4\t61) SIGRTMAX-3\t62) SIGRTMAX-2\n",
            "63) SIGRTMAX-1\t64) SIGRTMAX\t\n"
          ],
          "name": "stdout"
        }
      ]
    },
    {
      "cell_type": "markdown",
      "metadata": {
        "id": "mA5GeFpixeQc"
      },
      "source": [
        "**Envoi de signaux à plusieurs processus**"
      ]
    },
    {
      "cell_type": "markdown",
      "metadata": {
        "id": "e8rzwDqkxjga"
      },
      "source": [
        "Il est possible d'envoyer les signaux à plusieurs processus correspondant à programme spécifique ou nom d'utilisateur en utilisant la commande **killall**:\n",
        "killall [-u user] [-signal] name...\n",
        "\n",
        "* xlogo\n",
        "* xlogo\n",
        "* killall xlogo"
      ]
    },
    {
      "cell_type": "markdown",
      "metadata": {
        "id": "N0IKOQu-yGm7"
      },
      "source": [
        "**Arrêt du système**"
      ]
    },
    {
      "cell_type": "markdown",
      "metadata": {
        "id": "yhL7ar2ByJEZ"
      },
      "source": [
        "Les commandes suivantes permettent d'arrêter le système:\n",
        "* halt\n",
        "* poweroff\n",
        "* reboot\n",
        "* shutdown"
      ]
    },
    {
      "cell_type": "markdown",
      "metadata": {
        "id": "R1g58Em9y2Zi"
      },
      "source": [
        "# Environnement"
      ]
    },
    {
      "cell_type": "markdown",
      "metadata": {
        "id": "DPXvIPlwy59w"
      },
      "source": [
        "Le shell maintient un ensemble d'informations durant la session dénotés l'environnement.\n",
        "Les programmes utilisent ces informations afin de déterminer la configuration du système.\n",
        "La plupart des programmes utilisent les fichiers pour stocker leurs paramètres, d'autres utilisent l'environnement pour ajuter leurs comportements.\n",
        "\n",
        "**printenv** affiche une partie ou l'intégralité de l'environnement\n",
        "**set** modifie les options du shell\n",
        "**export** exporte l'environnement pour les programmes en exécution\n",
        "**alias** crée un alias pour une commande"
      ]
    },
    {
      "cell_type": "markdown",
      "metadata": {
        "id": "ZWJVU6yu0Vcm"
      },
      "source": [
        "**Informations stockées**"
      ]
    },
    {
      "cell_type": "markdown",
      "metadata": {
        "id": "W3sMzLUv0vji"
      },
      "source": [
        "Le shell stocke deux types d'informations:\n",
        "* Variables d'environnement\n",
        "* Variables shell\n",
        "En plus des variables, le shell stocke les alias et les fonctions shell.\n",
        "\n",
        "Pour afficher les informations stockées, on peut utiliser **set** ou **printenv**:\n"
      ]
    },
    {
      "cell_type": "code",
      "metadata": {
        "id": "7OGEws0P1kro",
        "outputId": "33725c4b-1d0a-4cf4-89ea-25b89845f9f4",
        "colab": {
          "base_uri": "https://localhost:8080/",
          "height": 759
        }
      },
      "source": [
        "!printenv | less"
      ],
      "execution_count": null,
      "outputs": [
        {
          "output_type": "stream",
          "text": [
            "\u001b7\u001b[?47h\u001b[?1h\u001b=\rCUDNN_VERSION=7.6.5.32\r\n",
            "LD_LIBRARY_PATH=/usr/local/nvidia/lib:/usr/local/nvidia/lib64\r\n",
            "CLOUDSDK_PYTHON=python3\r\n",
            "_=/usr/bin/printenv\r\n",
            "LANG=en_US.UTF-8\r\n",
            "HOSTNAME=b9af922c1d82\r\n",
            "OLDPWD=/\r\n",
            "CLOUDSDK_CONFIG=/content/.config\r\n",
            "NVIDIA_VISIBLE_DEVICES=all\r\n",
            "DATALAB_SETTINGS_OVERRIDES={\"kernelManagerProxyPort\":6000,\"kernelManagerProxyHos \bt\":\"172.28.0.3\",\"jupyterArgs\":[\"--ip=\\\"172.28.0.2\\\"\"]}\r\n",
            "ENV=/root/.bashrc\r\n",
            "PAGER=cat\r\n",
            "NCCL_VERSION=2.7.8\r\n",
            "TF_FORCE_GPU_ALLOW_GROWTH=true\r\n",
            "JPY_PARENT_PID=24\r\n",
            "NO_GCE_CHECK=True\r\n",
            "PWD=/content\r\n",
            "HOME=/root\r\n",
            "LAST_FORCED_REBUILD=20201013\r\n",
            "CLICOLOR=1\r\n",
            "DEBIAN_FRONTEND=noninteractive\r\n",
            "LIBRARY_PATH=/usr/local/cuda/lib64/stubs\n",
            "\u001b[K:\u001b[K"
          ],
          "name": "stdout"
        },
        {
          "output_type": "error",
          "ename": "KeyboardInterrupt",
          "evalue": "ignored",
          "traceback": [
            "\u001b[0;31m---------------------------------------------------------------------------\u001b[0m",
            "\u001b[0;31mKeyboardInterrupt\u001b[0m                         Traceback (most recent call last)",
            "\u001b[0;32m<ipython-input-9-088eb4d2ea35>\u001b[0m in \u001b[0;36m<module>\u001b[0;34m()\u001b[0m\n\u001b[0;32m----> 1\u001b[0;31m \u001b[0mget_ipython\u001b[0m\u001b[0;34m(\u001b[0m\u001b[0;34m)\u001b[0m\u001b[0;34m.\u001b[0m\u001b[0msystem\u001b[0m\u001b[0;34m(\u001b[0m\u001b[0;34m'printenv | less'\u001b[0m\u001b[0;34m)\u001b[0m\u001b[0;34m\u001b[0m\u001b[0;34m\u001b[0m\u001b[0m\n\u001b[0m",
            "\u001b[0;32m/usr/local/lib/python3.6/dist-packages/google/colab/_shell.py\u001b[0m in \u001b[0;36msystem\u001b[0;34m(self, *args, **kwargs)\u001b[0m\n\u001b[1;32m    100\u001b[0m       \u001b[0mkwargs\u001b[0m\u001b[0;34m.\u001b[0m\u001b[0mupdate\u001b[0m\u001b[0;34m(\u001b[0m\u001b[0;34m{\u001b[0m\u001b[0;34m'also_return_output'\u001b[0m\u001b[0;34m:\u001b[0m \u001b[0;32mTrue\u001b[0m\u001b[0;34m}\u001b[0m\u001b[0;34m)\u001b[0m\u001b[0;34m\u001b[0m\u001b[0;34m\u001b[0m\u001b[0m\n\u001b[1;32m    101\u001b[0m \u001b[0;34m\u001b[0m\u001b[0m\n\u001b[0;32m--> 102\u001b[0;31m     \u001b[0moutput\u001b[0m \u001b[0;34m=\u001b[0m \u001b[0m_system_commands\u001b[0m\u001b[0;34m.\u001b[0m\u001b[0m_system_compat\u001b[0m\u001b[0;34m(\u001b[0m\u001b[0mself\u001b[0m\u001b[0;34m,\u001b[0m \u001b[0;34m*\u001b[0m\u001b[0margs\u001b[0m\u001b[0;34m,\u001b[0m \u001b[0;34m**\u001b[0m\u001b[0mkwargs\u001b[0m\u001b[0;34m)\u001b[0m  \u001b[0;31m# pylint:disable=protected-access\u001b[0m\u001b[0;34m\u001b[0m\u001b[0;34m\u001b[0m\u001b[0m\n\u001b[0m\u001b[1;32m    103\u001b[0m \u001b[0;34m\u001b[0m\u001b[0m\n\u001b[1;32m    104\u001b[0m     \u001b[0;32mif\u001b[0m \u001b[0mpip_warn\u001b[0m\u001b[0;34m:\u001b[0m\u001b[0;34m\u001b[0m\u001b[0;34m\u001b[0m\u001b[0m\n",
            "\u001b[0;32m/usr/local/lib/python3.6/dist-packages/google/colab/_system_commands.py\u001b[0m in \u001b[0;36m_system_compat\u001b[0;34m(shell, cmd, also_return_output)\u001b[0m\n\u001b[1;32m    438\u001b[0m   \u001b[0;31m# stack.\u001b[0m\u001b[0;34m\u001b[0m\u001b[0;34m\u001b[0m\u001b[0;34m\u001b[0m\u001b[0m\n\u001b[1;32m    439\u001b[0m   result = _run_command(\n\u001b[0;32m--> 440\u001b[0;31m       shell.var_expand(cmd, depth=2), clear_streamed_output=False)\n\u001b[0m\u001b[1;32m    441\u001b[0m   \u001b[0mshell\u001b[0m\u001b[0;34m.\u001b[0m\u001b[0muser_ns\u001b[0m\u001b[0;34m[\u001b[0m\u001b[0;34m'_exit_code'\u001b[0m\u001b[0;34m]\u001b[0m \u001b[0;34m=\u001b[0m \u001b[0mresult\u001b[0m\u001b[0;34m.\u001b[0m\u001b[0mreturncode\u001b[0m\u001b[0;34m\u001b[0m\u001b[0;34m\u001b[0m\u001b[0m\n\u001b[1;32m    442\u001b[0m   \u001b[0;32mif\u001b[0m \u001b[0;34m-\u001b[0m\u001b[0mresult\u001b[0m\u001b[0;34m.\u001b[0m\u001b[0mreturncode\u001b[0m \u001b[0;32min\u001b[0m \u001b[0m_INTERRUPTED_SIGNALS\u001b[0m\u001b[0;34m:\u001b[0m\u001b[0;34m\u001b[0m\u001b[0;34m\u001b[0m\u001b[0m\n",
            "\u001b[0;32m/usr/local/lib/python3.6/dist-packages/google/colab/_system_commands.py\u001b[0m in \u001b[0;36m_run_command\u001b[0;34m(cmd, clear_streamed_output)\u001b[0m\n\u001b[1;32m    193\u001b[0m       \u001b[0mos\u001b[0m\u001b[0;34m.\u001b[0m\u001b[0mclose\u001b[0m\u001b[0;34m(\u001b[0m\u001b[0mchild_pty\u001b[0m\u001b[0;34m)\u001b[0m\u001b[0;34m\u001b[0m\u001b[0;34m\u001b[0m\u001b[0m\n\u001b[1;32m    194\u001b[0m \u001b[0;34m\u001b[0m\u001b[0m\n\u001b[0;32m--> 195\u001b[0;31m       \u001b[0;32mreturn\u001b[0m \u001b[0m_monitor_process\u001b[0m\u001b[0;34m(\u001b[0m\u001b[0mparent_pty\u001b[0m\u001b[0;34m,\u001b[0m \u001b[0mepoll\u001b[0m\u001b[0;34m,\u001b[0m \u001b[0mp\u001b[0m\u001b[0;34m,\u001b[0m \u001b[0mcmd\u001b[0m\u001b[0;34m,\u001b[0m \u001b[0mupdate_stdin_widget\u001b[0m\u001b[0;34m)\u001b[0m\u001b[0;34m\u001b[0m\u001b[0;34m\u001b[0m\u001b[0m\n\u001b[0m\u001b[1;32m    196\u001b[0m   \u001b[0;32mfinally\u001b[0m\u001b[0;34m:\u001b[0m\u001b[0;34m\u001b[0m\u001b[0;34m\u001b[0m\u001b[0m\n\u001b[1;32m    197\u001b[0m     \u001b[0mepoll\u001b[0m\u001b[0;34m.\u001b[0m\u001b[0mclose\u001b[0m\u001b[0;34m(\u001b[0m\u001b[0;34m)\u001b[0m\u001b[0;34m\u001b[0m\u001b[0;34m\u001b[0m\u001b[0m\n",
            "\u001b[0;32m/usr/local/lib/python3.6/dist-packages/google/colab/_system_commands.py\u001b[0m in \u001b[0;36m_monitor_process\u001b[0;34m(parent_pty, epoll, p, cmd, update_stdin_widget)\u001b[0m\n\u001b[1;32m    220\u001b[0m   \u001b[0;32mwhile\u001b[0m \u001b[0;32mTrue\u001b[0m\u001b[0;34m:\u001b[0m\u001b[0;34m\u001b[0m\u001b[0;34m\u001b[0m\u001b[0m\n\u001b[1;32m    221\u001b[0m     \u001b[0;32mtry\u001b[0m\u001b[0;34m:\u001b[0m\u001b[0;34m\u001b[0m\u001b[0;34m\u001b[0m\u001b[0m\n\u001b[0;32m--> 222\u001b[0;31m       \u001b[0mresult\u001b[0m \u001b[0;34m=\u001b[0m \u001b[0m_poll_process\u001b[0m\u001b[0;34m(\u001b[0m\u001b[0mparent_pty\u001b[0m\u001b[0;34m,\u001b[0m \u001b[0mepoll\u001b[0m\u001b[0;34m,\u001b[0m \u001b[0mp\u001b[0m\u001b[0;34m,\u001b[0m \u001b[0mcmd\u001b[0m\u001b[0;34m,\u001b[0m \u001b[0mdecoder\u001b[0m\u001b[0;34m,\u001b[0m \u001b[0mstate\u001b[0m\u001b[0;34m)\u001b[0m\u001b[0;34m\u001b[0m\u001b[0;34m\u001b[0m\u001b[0m\n\u001b[0m\u001b[1;32m    223\u001b[0m       \u001b[0;32mif\u001b[0m \u001b[0mresult\u001b[0m \u001b[0;32mis\u001b[0m \u001b[0;32mnot\u001b[0m \u001b[0;32mNone\u001b[0m\u001b[0;34m:\u001b[0m\u001b[0;34m\u001b[0m\u001b[0;34m\u001b[0m\u001b[0m\n\u001b[1;32m    224\u001b[0m         \u001b[0;32mreturn\u001b[0m \u001b[0mresult\u001b[0m\u001b[0;34m\u001b[0m\u001b[0;34m\u001b[0m\u001b[0m\n",
            "\u001b[0;32m/usr/local/lib/python3.6/dist-packages/google/colab/_system_commands.py\u001b[0m in \u001b[0;36m_poll_process\u001b[0;34m(parent_pty, epoll, p, cmd, decoder, state)\u001b[0m\n\u001b[1;32m    267\u001b[0m   \u001b[0moutput_available\u001b[0m \u001b[0;34m=\u001b[0m \u001b[0;32mFalse\u001b[0m\u001b[0;34m\u001b[0m\u001b[0;34m\u001b[0m\u001b[0m\n\u001b[1;32m    268\u001b[0m \u001b[0;34m\u001b[0m\u001b[0m\n\u001b[0;32m--> 269\u001b[0;31m   \u001b[0mevents\u001b[0m \u001b[0;34m=\u001b[0m \u001b[0mepoll\u001b[0m\u001b[0;34m.\u001b[0m\u001b[0mpoll\u001b[0m\u001b[0;34m(\u001b[0m\u001b[0;34m)\u001b[0m\u001b[0;34m\u001b[0m\u001b[0;34m\u001b[0m\u001b[0m\n\u001b[0m\u001b[1;32m    270\u001b[0m   \u001b[0minput_events\u001b[0m \u001b[0;34m=\u001b[0m \u001b[0;34m[\u001b[0m\u001b[0;34m]\u001b[0m\u001b[0;34m\u001b[0m\u001b[0;34m\u001b[0m\u001b[0m\n\u001b[1;32m    271\u001b[0m   \u001b[0;32mfor\u001b[0m \u001b[0m_\u001b[0m\u001b[0;34m,\u001b[0m \u001b[0mevent\u001b[0m \u001b[0;32min\u001b[0m \u001b[0mevents\u001b[0m\u001b[0;34m:\u001b[0m\u001b[0;34m\u001b[0m\u001b[0;34m\u001b[0m\u001b[0m\n",
            "\u001b[0;31mKeyboardInterrupt\u001b[0m: "
          ]
        }
      ]
    },
    {
      "cell_type": "markdown",
      "metadata": {
        "id": "IpnC-v_W1z_1"
      },
      "source": [
        "Pour visualiser une variable spécifique, on peut utiliser printenv variable"
      ]
    },
    {
      "cell_type": "code",
      "metadata": {
        "id": "R_KkfQ8l1-FW"
      },
      "source": [
        "!printenv USER"
      ],
      "execution_count": null,
      "outputs": []
    },
    {
      "cell_type": "markdown",
      "metadata": {
        "id": "n898VG4_2EKW"
      },
      "source": [
        "La commande **set** permet d'afficher l'ensemble des variables shell et d'environnement ainsi que les fonctions shell"
      ]
    },
    {
      "cell_type": "code",
      "metadata": {
        "id": "Le0Cp-JDxXwL",
        "outputId": "b68a20bb-76b7-4bc9-fa5a-398205331e7e",
        "colab": {
          "base_uri": "https://localhost:8080/",
          "height": 1000
        }
      },
      "source": [
        "!set"
      ],
      "execution_count": null,
      "outputs": [
        {
          "output_type": "stream",
          "text": [
            "BASH=/bin/bash\n",
            "BASHOPTS=cmdhist:complete_fullquote:extquote:force_fignore:hostcomplete:interactive_comments:progcomp:promptvars:sourcepath\n",
            "BASH_ALIASES=()\n",
            "BASH_ARGC=()\n",
            "BASH_ARGV=()\n",
            "BASH_CMDS=()\n",
            "BASH_EXECUTION_STRING=set\n",
            "BASH_LINENO=()\n",
            "BASH_SOURCE=()\n",
            "BASH_VERSINFO=([0]=\"4\" [1]=\"4\" [2]=\"20\" [3]=\"1\" [4]=\"release\" [5]=\"x86_64-pc-linux-gnu\")\n",
            "BASH_VERSION='4.4.20(1)-release'\n",
            "CLICOLOR=1\n",
            "CLOUDSDK_CONFIG=/content/.config\n",
            "CLOUDSDK_PYTHON=python3\n",
            "COLAB_GPU=0\n",
            "CUDA_PKG_VERSION=10-1=10.1.243-1\n",
            "CUDA_VERSION=10.1.243\n",
            "CUDNN_VERSION=7.6.5.32\n",
            "DATALAB_SETTINGS_OVERRIDES='{\"kernelManagerProxyPort\":6000,\"kernelManagerProxyHost\":\"172.28.0.3\",\"jupyterArgs\":[\"--ip=\\\"172.28.0.2\\\"\"]}'\n",
            "DEBIAN_FRONTEND=noninteractive\n",
            "DIRSTACK=()\n",
            "ENV=/root/.bashrc\n",
            "EUID=0\n",
            "GCE_METADATA_TIMEOUT=0\n",
            "GCS_READ_CACHE_BLOCK_SIZE_MB=16\n",
            "GIT_PAGER=cat\n",
            "GLIBCPP_FORCE_NEW=1\n",
            "GLIBCXX_FORCE_NEW=1\n",
            "GROUPS=()\n",
            "HOME=/root\n",
            "HOSTNAME=b9af922c1d82\n",
            "HOSTTYPE=x86_64\n",
            "IFS=$' \\t\\n'\n",
            "JPY_PARENT_PID=24\n",
            "LANG=en_US.UTF-8\n",
            "LAST_FORCED_REBUILD=20201013\n",
            "LD_LIBRARY_PATH=/usr/local/nvidia/lib:/usr/local/nvidia/lib64\n",
            "LD_PRELOAD=/usr/lib/x86_64-linux-gnu/libtcmalloc.so.4\n",
            "LIBRARY_PATH=/usr/local/cuda/lib64/stubs\n",
            "MACHTYPE=x86_64-pc-linux-gnu\n",
            "MPLBACKEND=module://ipykernel.pylab.backend_inline\n",
            "NCCL_VERSION=2.7.8\n",
            "NO_GCE_CHECK=True\n",
            "NVIDIA_DRIVER_CAPABILITIES=compute,utility\n",
            "NVIDIA_REQUIRE_CUDA='cuda>=10.1 brand=tesla,driver>=396,driver<397 brand=tesla,driver>=410,driver<411 brand=tesla,driver>=418,driver<419'\n",
            "NVIDIA_VISIBLE_DEVICES=all\n",
            "OLDPWD=/\n",
            "OPTERR=1\n",
            "OPTIND=1\n",
            "OSTYPE=linux-gnu\n",
            "PAGER=cat\n",
            "PATH=/usr/local/nvidia/bin:/usr/local/cuda/bin:/usr/local/sbin:/usr/local/bin:/usr/sbin:/usr/bin:/sbin:/bin:/tools/node/bin:/tools/google-cloud-sdk/bin:/opt/bin\n",
            "PPID=101\n",
            "PS4='+ '\n",
            "PWD=/content\n",
            "PYTHONPATH=/env/python\n",
            "PYTHONWARNINGS=ignore:::pip._internal.cli.base_command\n",
            "SHELL=/bin/bash\n",
            "SHELLOPTS=braceexpand:hashall:interactive-comments\n",
            "SHLVL=2\n",
            "TBE_CREDS_ADDR=172.28.0.1:8008\n",
            "TERM=xterm-color\n",
            "TF_FORCE_GPU_ALLOW_GROWTH=true\n",
            "UID=0\n",
            "_=/tools/node/bin/node\n"
          ],
          "name": "stdout"
        }
      ]
    },
    {
      "cell_type": "markdown",
      "metadata": {
        "id": "fu6wDr5J2TYW"
      },
      "source": [
        "On peut aussi afficher la valeur d'une variable à l'aide de la commande **echo**"
      ]
    },
    {
      "cell_type": "code",
      "metadata": {
        "id": "Nvp-Q2Bk2ZFS",
        "outputId": "ae494f72-a6ee-415e-909f-0ddf38d8be4f",
        "colab": {
          "base_uri": "https://localhost:8080/",
          "height": 34
        }
      },
      "source": [
        "!echo $HOME"
      ],
      "execution_count": null,
      "outputs": [
        {
          "output_type": "stream",
          "text": [
            "/root\n"
          ],
          "name": "stdout"
        }
      ]
    },
    {
      "cell_type": "markdown",
      "metadata": {
        "id": "gG6yRetT2odD"
      },
      "source": [
        "Voici quelques variables intéressantes:\n",
        "\n",
        "> Variable | Contenu\n",
        "> -- | --\n",
        "> DISPLAY | Le nom de la carte graphique\n",
        "> EDITOR | Le nom du programme utilisé pour l'édition des fichiers\n",
        "> SHELL | Le nom du shell\n",
        "> HOME | Le chemin du répertoire principal\n",
        "> LANG | Le language par défaut\n",
        "> PATH | La liste des répertoires utilisés pour chercher le programme à utilisé\n",
        "> PS1 | L'invite de commande\n",
        "> PWD | Le répertoire de travail\n",
        "> USER | Le nom d'utilisateur"
      ]
    },
    {
      "cell_type": "markdown",
      "metadata": {
        "id": "FF_xzHHX24P4"
      },
      "source": [
        ""
      ]
    },
    {
      "cell_type": "markdown",
      "metadata": {
        "id": "5fCdpkIB24Mn"
      },
      "source": [
        ""
      ]
    },
    {
      "cell_type": "markdown",
      "metadata": {
        "id": "o9HWUk3F4Gsh"
      },
      "source": [
        "**Comment l'environnement est établi**"
      ]
    },
    {
      "cell_type": "markdown",
      "metadata": {
        "id": "UQezVUGp4Jsp"
      },
      "source": [
        "Quand on se connecte sur le système, le programme bash démarre et lit un ensemble de scripts de configuration \"startup files\" qui définissent l'environnement par défaut partagé par les différents utilisateurs suivi des scripts de personnalisation de l'environnement. Deux types de scripts existent:\n",
        "* Session Login\n",
        "* Session Non Login\n",
        "\n",
        "> File | Contenu\n",
        "> -- | --\n",
        "> /etc/profile | Fichier de configuration global pour tous les utilisateur\n",
        "> ~/.bash_profile | Fichier de démarrage propre à l'utilisateur\n",
        "> ~/.bash_login | bash lit ce fichier si bash_profile est introuvable\n",
        "> ~/.profile | si les deux derniers fichiers n'existent pas, ce fichier est utilisé\n",
        "\n",
        "> File | Contenu\n",
        "> -- | --\n",
        "> /etc/bash.bashrc | Fichier de configuration global\n",
        "> ~/.bashrc | Fichier de démarrage propre à l'utilisateur\n"
      ]
    },
    {
      "cell_type": "markdown",
      "metadata": {
        "id": "m6zILIE96tvS"
      },
      "source": [
        "# Gestionnaire de packages"
      ]
    },
    {
      "cell_type": "markdown",
      "metadata": {
        "id": "fLwrjmo1hHYv"
      },
      "source": [
        "Chaque distribution utilise un système de packaging différent. La plupart des distributions, sauf quelques exceptions (Gentoo, Slackware et Arch) utilisent l'un des deux gestionnaires de packages: Debian .deb et RedHat .rpm.\n",
        "\n",
        "> Système de packaging | Distributions\n",
        "> -- | --\n",
        "> Debian (.deb) | Debian, Ubuntu, Linux Mint, Raspbian\n",
        "> Red Hat | Fedora, CentOS, Red Hat Enterprise, OpenSuse"
      ]
    },
    {
      "cell_type": "markdown",
      "metadata": {
        "id": "q2cjHt7ljwyj"
      },
      "source": [
        "**Système de packaging**\n",
        "\n",
        "La distribution des logiciels pour Linux se fait à travers Internet. Elle se fait à travers des fichiers package."
      ]
    },
    {
      "cell_type": "markdown",
      "metadata": {
        "id": "bF-w66YkkLca"
      },
      "source": [
        "**Fichiers Package**\n",
        "\n",
        "L'unité basique d'un logiciel dans un système de packaging est le fichier package. Il s'agit d'une collection de fichiers. Un package consiste en un ensemble de programmes et de données qui supportent le programme. En plus des fichiers à installer, le fichier package comprend des méta-données à propos du package comme la description du package et son contenu. Plusieurs packages peuvent aussi contenir des scripts de pré-installation et de post-installation."
      ]
    },
    {
      "cell_type": "markdown",
      "metadata": {
        "id": "4VoZ5dwalSi2"
      },
      "source": [
        "**Repositories**\n",
        "\n",
        "Alors que plusieurs projets choisissent leurs propres système de packaging et de distribution, la plupart des packages sont crées par les vendeurs de distributions. Les packages sont mis à disposition aux utilisateurs de la distribution dans des repositories centrales qui contiennent des milliers de packages."
      ]
    },
    {
      "cell_type": "markdown",
      "metadata": {
        "id": "pfEaHcQQmf_5"
      },
      "source": [
        "**Dépendances**\n",
        "\n",
        "Les programmes sont rarement autonomes, ils se basent souvent sur d'autres composants afin de mener à bien leur travail. Les tâches communes telles que les entrées sorties (E/S) sont assurées par des programmes partagés, ces programmes sont stockés dans des bibliothèques partagées (shared librairies)."
      ]
    },
    {
      "cell_type": "markdown",
      "metadata": {
        "id": "5-CVru7JnvWD"
      },
      "source": [
        "**Les outils de packaging**\n",
        "\n",
        "Les gestionnaires de packaging consistent en deux types d'outils:\n",
        "* Bas-niveau qui installent et désintallent les packages\n",
        "* Haut-niveau qui permettent de chercher les métadonnées et la résolution des dépendances\n",
        "\n",
        "> Distributions | Bas-niveau | Haut-niveau\n",
        "> -- | -- | --\n",
        "> Debian | dpkg | apt-get, apt, aptitude\n",
        "> Fedora, Red Hat, CentOS | rpm | yum, dnf\n"
      ]
    },
    {
      "cell_type": "markdown",
      "metadata": {
        "id": "VTybeK7_qYPd"
      },
      "source": [
        "**Opérations communes**\n",
        "\n",
        "La plupart des opérations peuvent être effectuées à travers la ligne de commande des gestionnaires de packaging."
      ]
    },
    {
      "cell_type": "markdown",
      "metadata": {
        "id": "62Y2It2Sq0r5"
      },
      "source": [
        "**Chercher un package**\n",
        "\n",
        "En utilisant les outils haut-niveau pour chercher les métadonnées de la repository, un package peut être localisé en utilisant son nom ou sa description.\n",
        "\n",
        "> Style | Commande\n",
        "> -- | --\n",
        "> Debian | apt-cache search search_string\n",
        "> Red Hat | yum search search_string\n",
        "\n",
        "Par exemple:\n",
        "\n",
        "yum search emacs"
      ]
    },
    {
      "cell_type": "markdown",
      "metadata": {
        "id": "5VO6qo1lrz3G"
      },
      "source": [
        "**Installation des packages**\n",
        "\n",
        "Les outils haut-niveau permettent de télécharger un package de la repository et de l'installer.\n",
        "\n",
        "> Style | Commande\n",
        "> -- | --\n",
        "> Debian | apt-get update; apt-get install package_name\n",
        "> Red Hat | yum install package_name\n",
        "\n",
        "Par exemple:\n",
        "\n",
        "apt-get update; apt-get install emacs"
      ]
    },
    {
      "cell_type": "markdown",
      "metadata": {
        "id": "H6RM8ne0sfeR"
      },
      "source": [
        "**Installation d'un package depuis un fichier**\n",
        "\n",
        "Si un package a été téléchargé depuis une autre sources, il peut être installé directement en utilisant un outil bas-niveau.\n",
        "\n",
        "> Style | Commande\n",
        "> -- | --\n",
        "> Debian | dpkg -i package_file\n",
        "> Red Hat | rpm -i package_file\n",
        "\n",
        "Par exemple, si emacs-22.1-7.fc7-i386.rpm est le fichier du package téléchargé, il peut être installé en utilisant la commande:\n",
        "\n",
        "rpm -i emacs-22.1-7.fc7-i386.rpm"
      ]
    },
    {
      "cell_type": "markdown",
      "metadata": {
        "id": "2-kv-UpLthrg"
      },
      "source": [
        "**Supprimer un package**\n",
        "\n",
        "Les packages peuvent être installés en utilisant des outils bas-niveau ou hauts-niveau.\n",
        "\n",
        "> Style | Commande\n",
        "> -- | --\n",
        "> Debian | apt-get remove package_name\n",
        "> Red Hat | yum erase package_name\n",
        "\n",
        "Par exemple, pour désintaller emacs, on peut utiliser la commande:\n",
        "\n",
        "apt-get remove emacs"
      ]
    },
    {
      "cell_type": "markdown",
      "metadata": {
        "id": "-A0IKikhuphz"
      },
      "source": [
        "**Mise à jour des packages**\n",
        "\n",
        "La tâche de gestion la plus commune est de garder le système à jour.\n",
        "\n",
        "> Style | Commande\n",
        "> -- | --\n",
        "> Debian | apt-get update; apt-get upgrade\n",
        "> Red Hat | yum update\n",
        "\n",
        "Pour la mise à jour d'un package depuis un fichier:\n",
        "\n",
        "> Style | Commande\n",
        "> -- | --\n",
        "> Debian | dpkg -i package_file\n",
        "> Red Hat | rpm -U package_file\n",
        "\n"
      ]
    },
    {
      "cell_type": "markdown",
      "metadata": {
        "id": "VkUJ69C3wBH2"
      },
      "source": [
        "**Lister les packages installés**\n",
        "\n",
        "> Style | Commande\n",
        "> -- | --\n",
        "> Debian | dpkg -l\n",
        "> Red Hat | rpm -qa\n"
      ]
    },
    {
      "cell_type": "markdown",
      "metadata": {
        "id": "WCY9aQHPwQzs"
      },
      "source": [
        "**Déterminer si un package est installé**\n",
        "\n",
        "> Style | Commande\n",
        "> -- | --\n",
        "> Debian | dpkg -s package_name\n",
        "> Red Hat | rpm -q package_name\n"
      ]
    },
    {
      "cell_type": "markdown",
      "metadata": {
        "id": "aQbjb0vfwcEh"
      },
      "source": [
        "**Afficher les informations d'un package installé**\n",
        "\n",
        "> Style | Commande\n",
        "> -- | --\n",
        "> Debian | apt-cache show package_name\n",
        "> Red Hat | yum info package_name\n"
      ]
    },
    {
      "cell_type": "markdown",
      "metadata": {
        "id": "F8xMZAGhwoQr"
      },
      "source": [
        "**Chercher le package qui a installé un fichier**\n",
        "\n",
        "> Style | Commande\n",
        "> -- | --\n",
        "> Debian | dpkg -S file_name\n",
        "> Red Hat | rpm -qf file_name\n"
      ]
    },
    {
      "cell_type": "markdown",
      "metadata": {
        "id": "gj2csaCg60NB"
      },
      "source": [
        "# Stockage"
      ]
    },
    {
      "cell_type": "markdown",
      "metadata": {
        "id": "ByTBlv69xNva"
      },
      "source": [
        "Linux a des capacités importantes pour la gestion des périphériques de stockage que ça soit physiques tels que les disques durs, le stockage réseau ou les périphéques de stockage réseau comme le RAID (Redundant Array of Independant Disks) et LVM (Logical Volume Manager)."
      ]
    },
    {
      "cell_type": "markdown",
      "metadata": {
        "id": "FUkYafXf8fKY"
      },
      "source": [
        "\n",
        "\n",
        "* **mount** monte un système de fichier\n",
        "* **unmount** l'opération inverse de mount\n",
        "* **fsck** vérifie le système de fichier et le répare\n",
        "* **fdisk** manipulation de la table de partitions\n",
        "* **mkfs** création d'un système de fichiers\n",
        "* **dd** conversion et copie d'un fichier\n",
        "* **genisoimage** créer un fichier image ISO\n",
        "* **wodim** écriture des données sur un disque optique\n",
        "* **md5sum** calcule les MD5 d'un fichier"
      ]
    },
    {
      "cell_type": "markdown",
      "metadata": {
        "id": "5sl1bxwBx6NK"
      },
      "source": [
        "**Montage et démontage des périphériques de stockage**\n",
        "\n",
        "La gestion des périphériques de stockage est devenue plus simple graçe aux dernières avancées dans les sytèmes Linux. Il suffit d'attacher un périphérique à notre système pour qu'il soit fonctionnel.\n",
        "\n",
        "La première étape dans la gestion des périphériques de stockage est d'attacher le périphérique au système de fichiers. Ce processus est appelé le montage et permet au périphérique d'interagir avec le système d'exploitation.\n",
        "\n",
        "Le fichier /etc/fstab (file system table) liste les périphériques (les partitions disques durs) qui sont à monter lors du démarrage."
      ]
    },
    {
      "cell_type": "markdown",
      "metadata": {
        "id": "vj8VowtD0vS3"
      },
      "source": [
        "**Afficher les systèmes de fichiers montés**\n",
        "\n",
        "La commande **mount** est utlisée pour monter un système de fichiers."
      ]
    },
    {
      "cell_type": "code",
      "metadata": {
        "id": "Z_2L35TH07t4",
        "outputId": "52646d86-22ea-4f15-e8fc-b8cc4a12d4fe",
        "colab": {
          "base_uri": "https://localhost:8080/"
        }
      },
      "source": [
        "!mount"
      ],
      "execution_count": 4,
      "outputs": [
        {
          "output_type": "stream",
          "text": [
            "overlay on / type overlay (rw,relatime,lowerdir=/var/lib/docker/overlay2/l/E2AY2DNBKWHLERRRFTCLM46E7Q:/var/lib/docker/overlay2/l/PIODSZ6RNBIGGHWF7QBM4ZBGND:/var/lib/docker/overlay2/l/C2T43IQBFB5GE2AXSYUYV4JHT5:/var/lib/docker/overlay2/l/AY3MUF5FSX3YE4XZANZ3QVEPEZ:/var/lib/docker/overlay2/l/BZVD3M62NX2URDLOODPN6D5FII:/var/lib/docker/overlay2/l/FYP62XZVQ32RDDB7FR5QOFQXYA:/var/lib/docker/overlay2/l/BN5LLDK6QCPQOA3EW6KWRUF2GJ:/var/lib/docker/overlay2/l/ZH7632BFCCDBYTGRTHCUY6S7SC:/var/lib/docker/overlay2/l/3YSYTPHZXEQK3SJ4U5J5AKRF3C:/var/lib/docker/overlay2/l/TSYMYQZ4ZITRCVIVL7CGWDMQF4:/var/lib/docker/overlay2/l/LQSMBPFAPYN3RJUNMOTVYIXKK7:/var/lib/docker/overlay2/l/VKUJKHNHKTVXWIB3BGVETG7YVU:/var/lib/docker/overlay2/l/ZFK7RM66O3UHLZY5RK4M66HCN4:/var/lib/docker/overlay2/l/N7FHH7IKD6TLARPLMVO54B564V:/var/lib/docker/overlay2/l/RQBV35D6EAPUB6UHNWVOOWGPY6:/var/lib/docker/overlay2/l/OYGWM57VGHOWI5PUJL2XZRU43U:/var/lib/docker/overlay2/l/HAQOJWR53PSM5GLYANVL3EELEU:/var/lib/docker/overlay2/l/5LCM3HVOK57GGY4KURRX4XZER3:/var/lib/docker/overlay2/l/ZFXDWG53YI6GAGIAEQ77UTDWM3:/var/lib/docker/overlay2/l/SCCZNYLSRFOUUWORFIF6DDSPQB:/var/lib/docker/overlay2/l/7YINAG4DPRAUHK6H3YW7XWTFDE:/var/lib/docker/overlay2/l/AOS2PLTFHWHWF4ND6LAHDNMBUI:/var/lib/docker/overlay2/l/4PSRWRQM4KGXITT3EJJWWOEV7A:/var/lib/docker/overlay2/l/IU4G45VPI7H4CGYVA5GGU7X2Q5:/var/lib/docker/overlay2/l/MQPYCDFFQP5W7O2JRHV7SKLPJW:/var/lib/docker/overlay2/l/62N5PGH3OVBYHEUHFEASCPUPIK:/var/lib/docker/overlay2/l/KVQIN6PBKDFK3FOQX7MVR4UJI2:/var/lib/docker/overlay2/l/DS42PYTFFIHWXHYPXGJSG2KU3Y:/var/lib/docker/overlay2/l/NRUYI4WIBLMJEMBUJBUVWCS5L6:/var/lib/docker/overlay2/l/6R2GYJDBUWPJSRK54HO6AQX2GL:/var/lib/docker/overlay2/l/UBI3Y4TLSQZ2SAG75C7DFLJYFG:/var/lib/docker/overlay2/l/SF2QCFL5AZ5VZFIBDPNJ7NB6JD:/var/lib/docker/overlay2/l/C5EC3F4OIE3EXZYH4GTKC5SRDI:/var/lib/docker/overlay2/l/NB6B7FATYY6D53OSXHLJPQMQEJ:/var/lib/docker/overlay2/l/352VZUYV3NKHFHCHA3ODMUZKOG:/var/lib/docker/overlay2/l/BHALX2A4V742DSGVFK62FDG3Y2:/var/lib/docker/overlay2/l/TUBW2DJUPV3B25KFLC3OLTRXST:/var/lib/docker/overlay2/l/5IOY2NYW34SX63YJWXGIDEALQD:/var/lib/docker/overlay2/l/XNOGF6SFXLPD5546N4LE5FBZPO:/var/lib/docker/overlay2/l/3HPYNUA3RUSNSE2WA6EG6Z6ANU:/var/lib/docker/overlay2/l/2BGPHFSCDNK3JM47GC3WTZ7GWW:/var/lib/docker/overlay2/l/RAOOL6DXYQYGXY4L2XK3CSG7UX:/var/lib/docker/overlay2/l/D6GALI66OAYPSRSQV2HMK47BUA,upperdir=/var/lib/docker/overlay2/d83b25718d386e27cacfb83f4119eb2a324b10969c0df75cccd118f1d7273b8c/diff,workdir=/var/lib/docker/overlay2/d83b25718d386e27cacfb83f4119eb2a324b10969c0df75cccd118f1d7273b8c/work)\n",
            "proc on /proc type proc (rw,nosuid,nodev,noexec,relatime)\n",
            "tmpfs on /dev type tmpfs (rw,nosuid,size=65536k,mode=755)\n",
            "devpts on /dev/pts type devpts (rw,nosuid,noexec,relatime,gid=5,mode=620,ptmxmode=666)\n",
            "sysfs on /sys type sysfs (ro,nosuid,nodev,noexec,relatime)\n",
            "tmpfs on /sys/fs/cgroup type tmpfs (ro,nosuid,nodev,noexec,relatime,mode=755)\n",
            "cgroup on /sys/fs/cgroup/systemd type cgroup (ro,nosuid,nodev,noexec,relatime,xattr,name=systemd)\n",
            "cgroup on /sys/fs/cgroup/net_cls,net_prio type cgroup (ro,nosuid,nodev,noexec,relatime,net_cls,net_prio)\n",
            "cgroup on /sys/fs/cgroup/pids type cgroup (ro,nosuid,nodev,noexec,relatime,pids)\n",
            "cgroup on /sys/fs/cgroup/devices type cgroup (ro,nosuid,nodev,noexec,relatime,devices)\n",
            "cgroup on /sys/fs/cgroup/cpu,cpuacct type cgroup (ro,nosuid,nodev,noexec,relatime,cpu,cpuacct)\n",
            "cgroup on /sys/fs/cgroup/rdma type cgroup (ro,nosuid,nodev,noexec,relatime,rdma)\n",
            "cgroup on /sys/fs/cgroup/perf_event type cgroup (ro,nosuid,nodev,noexec,relatime,perf_event)\n",
            "cgroup on /sys/fs/cgroup/memory type cgroup (ro,nosuid,nodev,noexec,relatime,memory)\n",
            "cgroup on /sys/fs/cgroup/cpuset type cgroup (ro,nosuid,nodev,noexec,relatime,cpuset)\n",
            "cgroup on /sys/fs/cgroup/blkio type cgroup (ro,nosuid,nodev,noexec,relatime,blkio)\n",
            "cgroup on /sys/fs/cgroup/freezer type cgroup (ro,nosuid,nodev,noexec,relatime,freezer)\n",
            "cgroup on /sys/fs/cgroup/hugetlb type cgroup (ro,nosuid,nodev,noexec,relatime,hugetlb)\n",
            "mqueue on /dev/mqueue type mqueue (rw,nosuid,nodev,noexec,relatime)\n",
            "shm on /dev/shm type tmpfs (rw,nosuid,nodev,noexec,relatime,size=6160384k)\n",
            "tmpfs on /var/colab type tmpfs (rw,nosuid,nodev,noexec)\n",
            "/dev/sda1 on /etc/resolv.conf type ext4 (rw,nosuid,nodev,relatime,commit=30)\n",
            "/dev/sda1 on /etc/hostname type ext4 (rw,nosuid,nodev,relatime,commit=30)\n",
            "/dev/sda1 on /etc/hosts type ext4 (rw,nosuid,nodev,relatime,commit=30)\n",
            "tmpfs on /var/colab/shared type tmpfs (rw,nosuid,nodev,noexec)\n",
            "proc on /proc/bus type proc (ro,relatime)\n",
            "proc on /proc/fs type proc (ro,relatime)\n",
            "proc on /proc/irq type proc (ro,relatime)\n",
            "proc on /proc/sys type proc (ro,relatime)\n",
            "proc on /proc/sysrq-trigger type proc (ro,relatime)\n",
            "tmpfs on /proc/acpi type tmpfs (ro,relatime)\n",
            "tmpfs on /proc/kcore type tmpfs (rw,nosuid,size=65536k,mode=755)\n",
            "tmpfs on /proc/keys type tmpfs (rw,nosuid,size=65536k,mode=755)\n",
            "tmpfs on /proc/timer_list type tmpfs (rw,nosuid,size=65536k,mode=755)\n",
            "tmpfs on /proc/scsi type tmpfs (ro,relatime)\n",
            "tmpfs on /sys/firmware type tmpfs (ro,relatime)\n"
          ],
          "name": "stdout"
        }
      ]
    },
    {
      "cell_type": "markdown",
      "metadata": {
        "id": "_x2V3zQs1fcF"
      },
      "source": [
        "Afin de monter un périphérique dans un autre répertoire, on doit tout d'abord devenir superuser:\n",
        "\n",
        "su -\n",
        "unmount /dev/sdc\n",
        "\n",
        "Créer un nouveau point de montage pour le périphérique qui est un répertoire dans le système de fichiers.\n",
        "\n",
        "mkdir /mnt/cdrom\n",
        "\n",
        "Et enfin:\n",
        "\n",
        "mount -t iso9660 /dev/sdc /mnt/cdrom"
      ]
    },
    {
      "cell_type": "markdown",
      "metadata": {
        "id": "fk1x4BDt2nLu"
      },
      "source": [
        "**Déterminer les noms de périphériques**\n",
        "\n"
      ]
    },
    {
      "cell_type": "markdown",
      "metadata": {
        "id": "UbiFJd3_66Im"
      },
      "source": [
        "# Réseaux"
      ]
    },
    {
      "cell_type": "markdown",
      "metadata": {
        "id": "9sY14MxZ7AQe"
      },
      "source": [
        "Linux est utilisé tout type de systèmes réseaux, firewalls, routeurs, serveurs de noms, disques attachés au réseau \"NAS\"...\n",
        "\n",
        "* **ping** envoie ICMP ECHO_REQUEST aux hôtes réseaux\n",
        "* **traceroute** affiche le route des packets\n",
        "* **ip** affiche et manipule le routage, les équipements, les stratégies de routage et les tunnels\n",
        "* **netstat** affiche les connexions réseau, les tables de routage, les statistiques de l'interface,...\n",
        "* **ftp**\n",
        "* **wget** télécharge les fichiers d'une manière qui n'est pas interactive\n",
        "* **ssh** client OpenSSH SSH (login à distance)\n",
        " "
      ]
    },
    {
      "cell_type": "code",
      "metadata": {
        "id": "-99tb5j72O49"
      },
      "source": [
        ""
      ],
      "execution_count": null,
      "outputs": []
    },
    {
      "cell_type": "markdown",
      "metadata": {
        "id": "HUkiMNv21Mur"
      },
      "source": [
        "# "
      ]
    },
    {
      "cell_type": "markdown",
      "metadata": {
        "id": "cfqzkzyi1r-3"
      },
      "source": [
        "# Traitement du texte"
      ]
    },
    {
      "cell_type": "markdown",
      "metadata": {
        "id": "0sHqGPtC8-nf"
      },
      "source": [
        "Tous les systèmes d'exploitation se basent sur les fichiers textes pour le stockage. Plusieurs commandes existent pour manipuler ces fichiers."
      ]
    },
    {
      "cell_type": "markdown",
      "metadata": {
        "id": "fi5dN04b2DwE"
      },
      "source": [
        "Les commandes de traitement du texte sont:\n",
        "\n",
        "* **cat** Concaténer les fichiers et imprimer sur la sortie standard\n",
        "* **sort** Trier les lignes des fichiers textes\n",
        "* **uniq** Reporter ou omettre les lignes en double\n",
        "* **cut** Supprimer des sections de chaque ligne des fichiers\n",
        "* **paste** Fusioner les lignes des fichiers\n",
        "* **join** Joindre les lignes des fichiers selon un champ en commun\n",
        "* **comm** Comparer deux fichiers triés\n",
        "* **diff** Comparer deux fichiers ligne par ligne\n",
        "* **patch** Appliquer un fichier diff à un fichier original\n",
        "* **tr** Traduire ou supprimer des caractères\n",
        "* **sed** Filtrer ou transformer le texte\n",
        "\n"
      ]
    },
    {
      "cell_type": "markdown",
      "metadata": {
        "id": "qcBnjhlvZt0a"
      },
      "source": [
        "**cat**\n",
        "\n",
        "Le programme **cat** a plusieurs options intéressantes, la plupart sont utilisées pour mieux visualiser le contenu du texte. Parfois, on a besoin de connaître si le texte contient des caractères de contrôle, les plus communs sont la tabulation, les retour chariot."
      ]
    },
    {
      "cell_type": "code",
      "metadata": {
        "id": "eRf09T63a5CP"
      },
      "source": [
        "!echo -e \"\\tThe quick brown fox jumped over the lazy dog.\\t\" > foo.txt"
      ],
      "execution_count": 20,
      "outputs": []
    },
    {
      "cell_type": "code",
      "metadata": {
        "id": "rQdeMNjTbJvx",
        "outputId": "0a8cbf75-e6bc-483a-a7cd-0a7b5d9b1f73",
        "colab": {
          "base_uri": "https://localhost:8080/"
        }
      },
      "source": [
        "!cat foo.txt"
      ],
      "execution_count": 21,
      "outputs": [
        {
          "output_type": "stream",
          "text": [
            "\tThe quick brown fox jumped over the lazy dog.\t\n"
          ],
          "name": "stdout"
        }
      ]
    },
    {
      "cell_type": "markdown",
      "metadata": {
        "id": "TkZhziJFbjQt"
      },
      "source": [
        "L'option -A permet d'afficher la tabulation ajoutée à la du fichier foo.txt"
      ]
    },
    {
      "cell_type": "code",
      "metadata": {
        "id": "lgOharGHbTLC",
        "outputId": "798f8cdf-5d77-4b31-ca10-03d2b1c9cf67",
        "colab": {
          "base_uri": "https://localhost:8080/"
        }
      },
      "source": [
        "!cat -A foo.txt"
      ],
      "execution_count": 22,
      "outputs": [
        {
          "output_type": "stream",
          "text": [
            "^IThe quick brown fox jumped over the lazy dog.^I$\n"
          ],
          "name": "stdout"
        }
      ]
    },
    {
      "cell_type": "markdown",
      "metadata": {
        "id": "ipY9Ob9LcA_h"
      },
      "source": [
        "**cat** a aussi des options pour modifier le texte. -n pour numéroter les lignes et -s pour supprimer les lignes vides."
      ]
    },
    {
      "cell_type": "code",
      "metadata": {
        "id": "aCwb2ijTcrm8"
      },
      "source": [
        "!echo -e \"The quick brown fox\\n\\n\\njumped over the lazy dog.\" > foo.txt"
      ],
      "execution_count": 23,
      "outputs": []
    },
    {
      "cell_type": "code",
      "metadata": {
        "id": "QJ0mGkAwdX2G",
        "outputId": "2837a983-8146-4c2f-d283-8bff3b09629f",
        "colab": {
          "base_uri": "https://localhost:8080/"
        }
      },
      "source": [
        "!cat -ns foo.txt"
      ],
      "execution_count": 24,
      "outputs": [
        {
          "output_type": "stream",
          "text": [
            "     1\tThe quick brown fox\n",
            "     2\t\n",
            "     3\tjumped over the lazy dog.\n"
          ],
          "name": "stdout"
        }
      ]
    },
    {
      "cell_type": "markdown",
      "metadata": {
        "id": "RMk87sV9df_r"
      },
      "source": [
        "**sort**\n",
        "\n",
        "Le programme **sort** permet de trier l'entrée principale (clavier) ou un ou plusieurs fichiers spécifiés en ligne de commande et envoie les résultats à la sortie principale."
      ]
    },
    {
      "cell_type": "code",
      "metadata": {
        "id": "7scjI7jWd7OD"
      },
      "source": [
        "!echo -e \"c\\nb\\na\" | sort > foo.txt"
      ],
      "execution_count": 25,
      "outputs": []
    },
    {
      "cell_type": "code",
      "metadata": {
        "id": "ESX3IU_geToe",
        "outputId": "8a6851dd-60be-47e0-b14c-b95b820cb60f",
        "colab": {
          "base_uri": "https://localhost:8080/"
        }
      },
      "source": [
        "cat foo.txt"
      ],
      "execution_count": 26,
      "outputs": [
        {
          "output_type": "stream",
          "text": [
            "a\n",
            "b\n",
            "c\n"
          ],
          "name": "stdout"
        }
      ]
    },
    {
      "cell_type": "markdown",
      "metadata": {
        "id": "uV3PFXlGeZ00"
      },
      "source": [
        "Comme **cat** accepte plusieurs fichiers en entrée comme arguments, il est possible de fusionner plusieurs fichiers dans un seul fichier trié.\n",
        "\n",
        "Exemple:\n",
        "\n",
        "sort file1.txt file2.txt file3.txt > final_sorted_list.txt\n",
        "\n",
        "Les options les communes de **sort** sont:\n",
        "\n",
        "> Option | Option longue | Description\n",
        "> -- | -- | --\n",
        "> -b | --ignore-leading-blanks | Le tri est effectué sur la ligne entière, en commençant avec le premier caractère de la ligne. Cette option permet d'ignorer les espaces au début.\n",
        "> -f | --ignore-case | Ne pas respecter la casse lors du tri.\n",
        "> -n | --numeric-sort | Permet d'effectuer le tri numérique\n",
        "> -r | --reverse | permet d'inverser l'ordre du tri\n",
        "> -k | --key=field1[,field2] | Permet d'effectuer le tri en se basant sur une partie de la ligne entre field1 et field2\n",
        "> -m | --merge | Effectuer un tri de chacun des fichiers sans effectuer d'autres tri\n",
        "> -o | --output=file | Envoyer la sortie principale à un fichier au lieu de la sortie principale\n",
        "> -t | --field-seperator=char | Définir le séparateur des champs, par défaut le séparateur est la tabulation ou plusieurs espaces.\n"
      ]
    },
    {
      "cell_type": "code",
      "metadata": {
        "id": "VkpisNkBhzmm",
        "outputId": "43c5686b-b2fa-4b41-cb16-6115928f5a3f",
        "colab": {
          "base_uri": "https://localhost:8080/"
        }
      },
      "source": [
        "!du -s /usr/share/* | head"
      ],
      "execution_count": 27,
      "outputs": [
        {
          "output_type": "stream",
          "text": [
            "260\t/usr/share/aclocal\n",
            "8\t/usr/share/adduser\n",
            "1056\t/usr/share/alsa\n",
            "8\t/usr/share/application-registry\n",
            "40\t/usr/share/applications\n",
            "52\t/usr/share/apport\n",
            "12\t/usr/share/apps\n",
            "40\t/usr/share/base-files\n",
            "12\t/usr/share/base-passwd\n",
            "568\t/usr/share/bash-completion\n"
          ],
          "name": "stdout"
        }
      ]
    },
    {
      "cell_type": "code",
      "metadata": {
        "id": "n2K2RlwWh527",
        "outputId": "2de8bdfd-deb6-4982-8263-cc482f6f485d",
        "colab": {
          "base_uri": "https://localhost:8080/"
        }
      },
      "source": [
        "!du -s /usr/share/* | sort -nr | head"
      ],
      "execution_count": 28,
      "outputs": [
        {
          "output_type": "stream",
          "text": [
            "50352\t/usr/share/doc\n",
            "40996\t/usr/share/icons\n",
            "21084\t/usr/share/man\n",
            "21036\t/usr/share/perl\n",
            "17452\t/usr/share/locale\n",
            "14804\t/usr/share/proj\n",
            "13600\t/usr/share/i18n\n",
            "12256\t/usr/share/cmake-3.10\n",
            "5820\t/usr/share/X11\n",
            "5712\t/usr/share/mime\n"
          ],
          "name": "stdout"
        }
      ]
    },
    {
      "cell_type": "code",
      "metadata": {
        "id": "p-FOApfJiApl",
        "outputId": "8c3c8770-8a48-4502-9ea0-24335374e10d",
        "colab": {
          "base_uri": "https://localhost:8080/"
        }
      },
      "source": [
        "!ls -l /usr/bin | head"
      ],
      "execution_count": 29,
      "outputs": [
        {
          "output_type": "stream",
          "text": [
            "total 145748\n",
            "-rwxr-xr-x 1 root root      51384 Jan 18  2018 [\n",
            "-rwxr-xr-x 1 root root         96 Sep 30 13:38 2to3-2.7\n",
            "-rwxr-xr-x 1 root root         39 Feb  5  2018 7z\n",
            "-rwxr-xr-x 1 root root         40 Feb  5  2018 7za\n",
            "-rwxr-xr-x 1 root root         40 Feb  5  2018 7zr\n",
            "-rwxr-xr-x 1 root root      10240 Mar 24  2018 acyclic\n",
            "-rwxr-xr-x 1 root root       7415 Aug  7 14:07 add-apt-repository\n",
            "-rwxr-xr-x 1 root root      22608 Sep 16 18:43 addpart\n",
            "lrwxrwxrwx 1 root root         26 Jun 18 11:03 addr2line -> x86_64-linux-gnu-addr2line\n"
          ],
          "name": "stdout"
        }
      ]
    },
    {
      "cell_type": "code",
      "metadata": {
        "id": "nqB3VraBiGNT",
        "outputId": "49f0c95d-a5e1-49be-81e4-3f13f797a13c",
        "colab": {
          "base_uri": "https://localhost:8080/"
        }
      },
      "source": [
        "!ls -l /usr/bin | sort -nrk 5 | head"
      ],
      "execution_count": 30,
      "outputs": [
        {
          "output_type": "stream",
          "text": [
            "-rwxr-xr-x 1 root root   51859776 Jan 26  2018 pandoc\n",
            "-rwxr-xr-x 1 root root    6518192 Jul 13  2019 ctest\n",
            "-rwxr-xr-x 1 root root    5566864 Jul 13  2019 cpack\n",
            "-rwxr-xr-x 1 root root    5325648 Jul 13  2019 cmake\n",
            "-rwxr-xr-x 2 root root    4526456 Oct  8 12:12 python3.6m\n",
            "-rwxr-xr-x 2 root root    4526456 Oct  8 12:12 python3.6\n",
            "-rwxr-xr-x 1 root root    3628976 Sep 30 13:38 python2.7\n",
            "-rwxr-xr-x 1 root root    3111952 Jun 18 11:03 x86_64-linux-gnu-ld.gold\n",
            "-rwxr-xr-x 1 root root    2886928 Jun 18 11:03 x86_64-linux-gnu-dwp\n",
            "-rwxr-xr-x 1 root root    2351792 Apr 20  2020 git\n"
          ],
          "name": "stdout"
        }
      ]
    },
    {
      "cell_type": "code",
      "metadata": {
        "id": "QZt-NoGwiaTE",
        "outputId": "cdc63faa-cf40-47ee-8757-6b598682cc2c",
        "colab": {
          "base_uri": "https://localhost:8080/"
        }
      },
      "source": [
        "!sort -t ':' -k 7 /etc/passwd | head"
      ],
      "execution_count": 31,
      "outputs": [
        {
          "output_type": "stream",
          "text": [
            "root:x:0:0:root:/root:/bin/bash\n",
            "sync:x:4:65534:sync:/bin:/bin/sync\n",
            "_apt:x:100:65534::/nonexistent:/usr/sbin/nologin\n",
            "backup:x:34:34:backup:/var/backups:/usr/sbin/nologin\n",
            "bin:x:2:2:bin:/bin:/usr/sbin/nologin\n",
            "daemon:x:1:1:daemon:/usr/sbin:/usr/sbin/nologin\n",
            "games:x:5:60:games:/usr/games:/usr/sbin/nologin\n",
            "gnats:x:41:41:Gnats Bug-Reporting System (admin):/var/lib/gnats:/usr/sbin/nologin\n",
            "irc:x:39:39:ircd:/var/run/ircd:/usr/sbin/nologin\n",
            "list:x:38:38:Mailing List Manager:/var/list:/usr/sbin/nologin\n"
          ],
          "name": "stdout"
        }
      ]
    },
    {
      "cell_type": "markdown",
      "metadata": {
        "id": "JsnofHpSim94"
      },
      "source": [
        "**uniq**\n",
        "\n",
        "Permet d'enlever les lignes dupliquées et envoie le résultat à la sortie principale. Elle est souvent utilisée avec sort pour nettoyer les doublons."
      ]
    },
    {
      "cell_type": "code",
      "metadata": {
        "id": "wht7vs7ui4bS"
      },
      "source": [
        "!echo -e \"a\\nb\\nc\\na\\nb\\n\\c\" > foo.txt"
      ],
      "execution_count": 32,
      "outputs": []
    },
    {
      "cell_type": "code",
      "metadata": {
        "id": "IuPLE_GDi_Zm",
        "outputId": "dd918074-0fb8-4eea-9156-754358b543be",
        "colab": {
          "base_uri": "https://localhost:8080/"
        }
      },
      "source": [
        "!uniq foo.txt"
      ],
      "execution_count": 33,
      "outputs": [
        {
          "output_type": "stream",
          "text": [
            "a\n",
            "b\n",
            "c\n",
            "a\n",
            "b\n"
          ],
          "name": "stdout"
        }
      ]
    },
    {
      "cell_type": "code",
      "metadata": {
        "id": "LxOaj3FqjFBW",
        "outputId": "69e03553-1e59-49d5-e520-c070c652b97f",
        "colab": {
          "base_uri": "https://localhost:8080/"
        }
      },
      "source": [
        "!sort foo.txt | uniq"
      ],
      "execution_count": 35,
      "outputs": [
        {
          "output_type": "stream",
          "text": [
            "a\n",
            "b\n",
            "c\n"
          ],
          "name": "stdout"
        }
      ]
    },
    {
      "cell_type": "markdown",
      "metadata": {
        "id": "DDdAWw97jQ72"
      },
      "source": [
        "> Option | Option longue | Description\n",
        "> -- | -- | --\n",
        "> -c | --count | Affiche la liste des doublons précédée du nombre de doublons.\n",
        "> -d | --repeated | Affiche que les lignes dupliquées.\n",
        "> -f n | --skip-fields=n | Ignore les n premiers champs de chaque ligne.\n",
        "> -i | --ignore-case | Ignore la casse durant la comparaison des lignes\n",
        "> -s n | --skip-chars=n | Ignorer les n premiers caractères de chaque ligne\n",
        "> -u | --unique | Affiche juste les lignes uniques.\n"
      ]
    },
    {
      "cell_type": "markdown",
      "metadata": {
        "id": "7KPqBXGU4WHn"
      },
      "source": [
        "# Archivage et sauvegarde"
      ]
    },
    {
      "cell_type": "markdown",
      "metadata": {
        "id": "JM8fdI-b4fu-"
      },
      "source": [
        "Afin de garder les données sécurisées, des compressions/archivages réguliers doivent être effectués en utilisant les commandes suivantes pour la compression:\n",
        "\n",
        "* **gzip**\n",
        "* **bzip2**\n",
        "\n",
        "et les commandes suivantes pour l'archivage:\n",
        "\n",
        "* **tar**\n",
        "* **zip**\n"
      ]
    },
    {
      "cell_type": "markdown",
      "metadata": {
        "id": "Y_d_J-085Zla"
      },
      "source": [
        "# Recherche de fichiers"
      ]
    },
    {
      "cell_type": "markdown",
      "metadata": {
        "id": "MhY73Hk45ePJ"
      },
      "source": [
        "Les commandes qui permettent de rechercher des fichiers sont:\n",
        "\n",
        "* **locate** Chercher les fichiers par nom\n",
        "* **find** Chercher des fichiers dans des arborescence de fichiers et répertoires\n",
        "* **xargs** permet de traiter les fichiers trouvés\n"
      ]
    },
    {
      "cell_type": "markdown",
      "metadata": {
        "id": "Q5vqoc2Y96Kw"
      },
      "source": [
        "La commande **paste** permet de faire l'inverse de **cut**, au lieu d'extraire une colonne d'un fichier, elle ajoute une ou plusieurs colonnes à un fichier à travers la lecture de plusieurs fichiers et la combinaison de leurs champs dans un seul fichier ou sur la sortie standard **stdout**."
      ]
    },
    {
      "cell_type": "code",
      "metadata": {
        "id": "d9tAWTBC-lsa"
      },
      "source": [
        "!sort -k 3.7nbr -k 3.1nbr -k 3.4nbr input.txt > output.txt"
      ],
      "execution_count": null,
      "outputs": []
    },
    {
      "cell_type": "code",
      "metadata": {
        "id": "2vV01f6X79mF"
      },
      "source": [
        "find ~ -type f -name '*.bak' -print"
      ],
      "execution_count": null,
      "outputs": []
    },
    {
      "cell_type": "code",
      "metadata": {
        "id": "TxgfVEzZ9iJj"
      },
      "source": [
        "find ~ -type f -name \"*.JPG\" -size +1M | wc -l"
      ],
      "execution_count": null,
      "outputs": []
    },
    {
      "cell_type": "code",
      "metadata": {
        "id": "LSR5CUal8_o-"
      },
      "source": [
        "find ~ -type f -and -name '*.bak' -and -print"
      ],
      "execution_count": null,
      "outputs": []
    },
    {
      "cell_type": "code",
      "metadata": {
        "id": "6GgUoPTr9Ccs"
      },
      "source": [
        "find ~ -type f -name 'foo*' -ok ls -l '{}' ';'"
      ],
      "execution_count": null,
      "outputs": []
    },
    {
      "cell_type": "code",
      "metadata": {
        "id": "U_STPENU9QqX"
      },
      "source": [
        "find ~ -type f -name 'foo*' -exec ls -l '{}' ';'"
      ],
      "execution_count": null,
      "outputs": []
    },
    {
      "cell_type": "code",
      "metadata": {
        "id": "JCIHmiT69R9_"
      },
      "source": [
        "find ~ -type f -name 'foo*' -print | xargs ls -l"
      ],
      "execution_count": null,
      "outputs": []
    }
  ]
}