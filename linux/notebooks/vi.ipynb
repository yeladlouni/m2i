{
  "nbformat": 4,
  "nbformat_minor": 0,
  "metadata": {
    "colab": {
      "name": "vi.ipynb",
      "provenance": [],
      "collapsed_sections": []
    },
    "kernelspec": {
      "name": "python3",
      "display_name": "Python 3"
    }
  },
  "cells": [
    {
      "cell_type": "markdown",
      "metadata": {
        "id": "JTLbFOLcn3vU"
      },
      "source": [
        "**Pourquoi apprendre à utiliser vi**\n",
        "\n",
        "Dans un monde moderne où les éditeurs graphiques comme nano, gedit et emac existent, il y a deux raisons d'utiliser vi:\n",
        "\n",
        "* L'éditeur vi est toujours disponible, si on a un système sans interface graphique comme un serveur distant, ceci peut nous aider à éditer les fichiers textes\n",
        "* vi est léger et rapide, pour plusieurs tâches, il est facile d'ouvrir vi au lieu de chercher sur le menu l'éditeur graphique et attendre son chargement"
      ]
    },
    {
      "cell_type": "markdown",
      "metadata": {
        "id": "RD-1KiA_pavw"
      },
      "source": [
        "**Démarrer et arrêter vi**\n",
        "\n",
        "Pour démarrer vi, il suffit d'entrer la commande suivante:\n",
        "\n",
        "```vi```\n",
        "\n",
        "Pour quitter vi, il suffit d'entrer la commande suivante:\n",
        "\n",
        "```:q```\n",
        "\n",
        "Le prompt shell sera de retour, et si pour une raison ou une autre vi ne quitte pas, après un changement dans le fichier, on peut ajouter un point d'excalamation à la fin pour forcer la sortie:\n",
        "\n",
        "```:q!```"
      ]
    },
    {
      "cell_type": "markdown",
      "metadata": {
        "id": "RLVvEOFhqOFE"
      },
      "source": [
        "# Modes d'édition"
      ]
    },
    {
      "cell_type": "markdown",
      "metadata": {
        "id": "dh1Fs9Gh6RSb"
      },
      "source": [
        "Pour créer un nouveau fichier, il suffit de passer le nom de fichier à vi:\n",
        "\n",
        "```vi foo.txt```\n",
        "\n",
        "Un écran avec des tildes est affichée, un tilde ~ dénote une ligne vide."
      ]
    },
    {
      "cell_type": "markdown",
      "metadata": {
        "id": "MnuhqMOx7BJb"
      },
      "source": [
        "**Mode d'insértion**\n",
        "\n",
        "Pour ajouter du texte au fichier, on doit d'abord entrer dans le mode d'insértion en appuyant sur la touche \"i\".\n",
        "\n",
        "Pour sortir du mode d'insértion, il suffit de tapper ESC \"Echappe/Escape\"."
      ]
    },
    {
      "cell_type": "markdown",
      "metadata": {
        "id": "Hh28H1UL7sAr"
      },
      "source": [
        "**Sauvegarder**\n",
        "\n",
        "Afin de sauvegarder le contenu du fichier, il suffit d'appuyer sur \":\" suivi de la touche \"w\":\n",
        "\n",
        "```:w```\n",
        "\n",
        "Le fichier sera écrit sur le disque dur et un message de confirmation est affiché."
      ]
    },
    {
      "cell_type": "markdown",
      "metadata": {
        "id": "OaCL2az0AlPV"
      },
      "source": [
        "**Déplacer le curseur**\n",
        "\n",
        "Lors du mode commande, vi offre plusieurs commandes pour se déplacer dans le fichier:\n",
        "\n",
        "Bouton | Effet\n",
        "-- | --\n",
        "l ou curseur droit | Déplacer vers la droite d'un seul caractère\n",
        "h ou curseur gauche | Déplacer vers la gauche d'un seul caractère\n",
        "j ou curseur bas | Déplacer vers le bas d'une seule ligne\n",
        "k ou curseur haut | Déplacer vers le haut d'une seule ligne\n",
        "0 | Déplacer vers le début de la ligne en cours\n",
        "^ | Déplacer vers le premier caractère non blanc \"whitespace character\" de la ligne en cours\n",
        "$ | Déplacer vers la fin de la ligne en cours\n",
        "w | Déplacer vers le début du prochain mot ou caractère de ponctuation\n",
        "W | Déplacer vers le début du prochain mot en ignorant les caractères de ponctuation\n",
        "b | Déplacer vers le début du mot précédent ou le caractère de ponctuation\n",
        "B | Déplacer vers le début du mot précédent en ignorant les caractères de ponctuation\n",
        "CTRL+F ou PAGE DOWN | Déplacer une page vers le bas\n",
        "CTRL+B ou PAGE UP | Déplacer une page vers le haut\n",
        "nombreG | Déplacer vers la ligne dont l'indice est number, par exemple 1G déplace vers la première ligne\n",
        "G | Déplacer vers la dernière ligne du fichier"
      ]
    },
    {
      "cell_type": "markdown",
      "metadata": {
        "id": "HE2P_fJvDKoL"
      },
      "source": [
        "Plusieurs commandes peuvent être préfixées avec un nombre comme c'est le cas pour la commande G, en préfixant une commande avec un nombre, ceci permet de spécifier combien de fois la commande doit être exécutée. Par exemple 5j signifie \"déplacer le curseur 5 lignes vers le bas\"."
      ]
    },
    {
      "cell_type": "markdown",
      "metadata": {
        "id": "A3odTTV8EChf"
      },
      "source": [
        "# Edition"
      ]
    },
    {
      "cell_type": "markdown",
      "metadata": {
        "id": "khyoQaMDEI38"
      },
      "source": [
        "L'édition permet d'insérer, supprimer ou déplacer le texte en utiliser couper/coller. La commande ```u``` permet d'annuler les dernières opérations effectuées."
      ]
    },
    {
      "cell_type": "markdown",
      "metadata": {
        "id": "qKikGXOkEtub"
      },
      "source": [
        "**Ajouter du texte**\n",
        "\n",
        "vi possède plusieurs méthodes pour entrer dans le mode d'édition. Pour ajouter du texte à la fin de la ligne en cours, il suffit d'utiliser la commande ```a``` après avoir déplacer le curseur à la position souhaitée. Pour basculer du mode édition vers le mode commande, il suffit d'appuyer sur le bouton ESC.\n",
        "\n",
        "La commande ```A``` permet de déplacer le curseurs à la fin de la ligne en cours et d'entrer dans le monde insértion en même temps."
      ]
    },
    {
      "cell_type": "markdown",
      "metadata": {
        "id": "AG-1kKclGbSt"
      },
      "source": [
        "**Insérer une ligne**\n",
        "\n",
        "Pour insérer une ligne entre deux lignes, on peut utilise la commande `` o``` pour effectuer l'insértion en bas de la ligne en cours et ```O``` pour l'insérer avant la ligne en cours."
      ]
    },
    {
      "cell_type": "markdown",
      "metadata": {
        "id": "oyH-sBQWG3Gc"
      },
      "source": [
        "**Supprimer le texte**\n",
        "\n",
        "vi offre plusieurs méthodes pour la suppression du texte. La commande ```x``` permet de supprimer le caractère en cours, elle peut être préfixée avec un nombre pour spécifier le nombre de caractères à supprimer.\n",
        "\n",
        "Comme la commande ```x```, la commande ```d``` peut être préfixée avec un nombre pour indiquer le nombre de suppressions à effectuer, en plus, elle peut être suivie avec une commande de mouvement pour contrôler la taille de suppression.\n",
        "\n",
        "Commande | Utilité\n",
        "-- | --\n",
        "x | Caractère en cours\n",
        "3x | Le caractère en cours et les deux caractères suivants\n",
        "dd | La ligne en cours\n",
        "5dd | La ligne en cours et les 4 lignes suivantes\n",
        "dW | Du caractère en cours jusqu'au début du mot suivant\n",
        "d$ | Du caractère en cours jusqu'à la fin de la ligne en cours\n",
        "d0 | Du caractère en cours jusqu'au début de la ligne\n",
        "d^ | Du caractère en cours juqu'à le premier caractère non blanc de la ligne\n",
        "dG | De la ligne en cours jusqu'à la fin du fichier\n",
        "d20G | De la ligne en cours jusqu'à la ligne 20 du fichier\n"
      ]
    },
    {
      "cell_type": "markdown",
      "metadata": {
        "id": "Xq0ZCl2pJK6n"
      },
      "source": [
        "**Couper, Copier et Coller**\n",
        "\n",
        "La commande ```d``` permet en plus de la suppression du texte de le couper en le mettant dans le presse-papier. Le contenu peut être collé en utilisant la commande ```p```.\n",
        "\n",
        "La commande ```y``` est utilisée pour copier \"yank\" le texte de la même manière que ```d``` est utilisée pour le couper.\n",
        "\n",
        "Commande | Utilité\n",
        "-- | --\n",
        "yy | La ligne en cours\n",
        "5yy | La ligne en cours et les 4 lignes suivantes\n",
        "yW | De la position du curseur jusqu'au début du mot prochain\n",
        "y$ | De la position du curseur jusqu'à la fin de la ligne en cours\n",
        "y0 | De la position du curseur jusqu'au début de la ligne\n",
        "y^ | De la position du curseur jusqu'au premier caractère non blanc de la ligne\n",
        "yG | De la position du curseur jusqu'à la fin du fichier\n",
        "y20G | De la position du curseur jusqu'à la ligne 20 du fichier"
      ]
    },
    {
      "cell_type": "markdown",
      "metadata": {
        "id": "CnHxSG8gLgi2"
      },
      "source": [
        "**Jointure des lignes**\n",
        "\n",
        "La commande ```J``` permet de joindre les lignes."
      ]
    },
    {
      "cell_type": "markdown",
      "metadata": {
        "id": "ZTICF266Lwdl"
      },
      "source": [
        "# Rechercher et remplacer"
      ]
    },
    {
      "cell_type": "markdown",
      "metadata": {
        "id": "wOR4ZX7bMAkU"
      },
      "source": [
        "**Recherche dans une ligne**\n",
        "\n",
        "Pour déplacer le curseur à la prochaine occurrence d'un mot ou une phrase, la commande ```/``` peut être utilisée suivie du mot ou de la phrase à rechercher. La commande ```n``` peut être utilisée pour chercher l'occurrence suivante."
      ]
    },
    {
      "cell_type": "markdown",
      "metadata": {
        "id": "xB0YzEk9MrE6"
      },
      "source": [
        "**Recherche et remplacement**\n",
        "\n",
        "La commande suivante permet de chercher un mot ou une phrase et de la remplacer avec un autre mot ou phrase.\n",
        "\n",
        "```\n",
        ":%s/Line/line/g\n",
        "```\n",
        "\n",
        "On peut demander la confirmation avant chaque substitution de l'utilisateur en ajoutant \"c\":\n",
        "\n",
        "```\n",
        ":%s/Line/line/gc\n",
        "```\n",
        "\n",
        "Clé | Action\n",
        "-- | --\n",
        "y | Effectuer une substitution\n",
        "n | Ignorer l'instance \n",
        "a | Effectuer la substitution et toutes les substitutions suivantes\n",
        "q | Sortir du mode substitution\n",
        "l | Effectuer la substitution et quitter\n",
        "CTRL+E et CTRL+Y | Pour parcourir les différentes substitutions\n",
        "\n"
      ]
    },
    {
      "cell_type": "markdown",
      "metadata": {
        "id": "OPHoq4GNOxNb"
      },
      "source": [
        "# Edition multiple"
      ]
    },
    {
      "cell_type": "markdown",
      "metadata": {
        "id": "kCIOMRsMO_2Z"
      },
      "source": [
        "On a souvent besoin d'éditer plusieurs fichiers en parallèle pour copier par exemple à partir d'un premier fichier et coller dans un deuxième.\n",
        "\n",
        "```\n",
        "vi file1 file2 file3...\n",
        "```"
      ]
    },
    {
      "cell_type": "markdown",
      "metadata": {
        "id": "ro2w6sCUPZLH"
      },
      "source": [
        "**Basculer entre les fichiers**\n",
        "\n",
        "Pour basculer entre les fichiers, on peut utiliser la commande suivante:\n",
        "\n",
        "```\n",
        ":bn\n",
        "```\n",
        "\n",
        "Pour se déplacer vers le fichier d'avant:\n",
        "\n",
        "```\n",
        ":bp\n",
        "```\n",
        "\n",
        "Le point d'exclamation permet de forcer le basculement en cas de changements du contenu.\n",
        "\n",
        "La liste des fichiers en cours peut être affichée en utilisant la commande:\n",
        "\n",
        "```\n",
        ":buffers\n",
        "```\n",
        "\n",
        "Pour basculer à un autre fichier, on peut spécifier son numéro \n",
        "\n",
        "```\n",
        ":buffer 2\n",
        "```"
      ]
    },
    {
      "cell_type": "markdown",
      "metadata": {
        "id": "18aH4ZlOQWX1"
      },
      "source": [
        "**Ouvrir des fichiers additionnels**\n",
        "\n",
        "La commande suivante permet d'ouvrir un fichier additionnel:\n",
        "\n",
        "```\n",
        ":e file2\n",
        "```"
      ]
    },
    {
      "cell_type": "markdown",
      "metadata": {
        "id": "ZwEVRFT7QqWT"
      },
      "source": [
        "**Insérer un fichier entier dans un autre**\n",
        "\n",
        "Pour insérer un fichier entier dans un autre, il suffit d'utiliser la commande suivante:\n",
        "\n",
        "```\n",
        ":r file\n",
        "```"
      ]
    },
    {
      "cell_type": "code",
      "metadata": {
        "id": "8XoUtNybL2hX"
      },
      "source": [
        ""
      ],
      "execution_count": null,
      "outputs": []
    }
  ]
}