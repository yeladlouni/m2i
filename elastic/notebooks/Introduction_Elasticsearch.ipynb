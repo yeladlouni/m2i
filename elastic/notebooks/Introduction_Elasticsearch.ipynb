{
  "nbformat": 4,
  "nbformat_minor": 0,
  "metadata": {
    "colab": {
      "name": "Introduction Elasticsearch.ipynb",
      "provenance": [],
      "collapsed_sections": [],
      "toc_visible": true
    },
    "kernelspec": {
      "name": "python3",
      "display_name": "Python 3"
    }
  },
  "cells": [
    {
      "cell_type": "markdown",
      "metadata": {
        "id": "Z8jYvy8ilJ8U"
      },
      "source": [
        "![m2i.png](data:image/png;base64,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)"
      ]
    },
    {
      "cell_type": "markdown",
      "metadata": {
        "id": "nq9KsesXlJGa"
      },
      "source": [
        "Elasticsearch est le moteur de recherche et d'analytiques de la stack Elastic.\r\n",
        "\r\n",
        "La console Kibana a un éditeur qui est capable d'utiliser les REST API et supportant l'autocomplétion et le formatage des requêtes, elle est accessible à travers l'URL: http://localhost:5601"
      ]
    },
    {
      "cell_type": "markdown",
      "metadata": {
        "id": "roAcA4Weo1eT"
      },
      "source": [
        "# Concepts de base"
      ]
    },
    {
      "cell_type": "markdown",
      "metadata": {
        "id": "AkgWd8PZbVtV"
      },
      "source": [
        "Les bases de données sont organisées autour des enregistrements, colonnes, tables et schémas. Elasticsearch et les autres bases de données orientées documents sont basées sur d'autres abstractions. Elasticsearch est une base de données orientée document, les documents JSON sont des éléments de premier ordre dans Elasticsearch. Ces documents JSON sont organisés selon plusieurs types et indexes, parmi les abstractions de Elasticsearch, on trouve:\r\n",
        "\r\n",
        "* Indexes\r\n",
        "* Types\r\n",
        "* Documents\r\n",
        "* Clusters\r\n",
        "* Noeuds\r\n",
        "* Shards et réplicats\r\n",
        "* Mappings et types\r\n",
        "* Indexes inversées"
      ]
    },
    {
      "cell_type": "code",
      "metadata": {
        "colab": {
          "base_uri": "https://localhost:8080/"
        },
        "id": "kwNJRvYscYst",
        "outputId": "5e6b43bd-67a9-425c-962a-18f7627294ce"
      },
      "source": [
        "!wget https://artifacts.elastic.co/downloads/elasticsearch/elasticsearch-7.10.1-linux-x86_64.tar.gz"
      ],
      "execution_count": null,
      "outputs": [
        {
          "output_type": "stream",
          "text": [
            "--2020-12-13 09:41:38--  https://artifacts.elastic.co/downloads/elasticsearch/elasticsearch-7.10.1-linux-x86_64.tar.gz\n",
            "Resolving artifacts.elastic.co (artifacts.elastic.co)... 151.101.2.222, 151.101.66.222, 151.101.130.222, ...\n",
            "Connecting to artifacts.elastic.co (artifacts.elastic.co)|151.101.2.222|:443... connected.\n",
            "HTTP request sent, awaiting response... 200 OK\n",
            "Length: 318801277 (304M) [application/x-gzip]\n",
            "Saving to: ‘elasticsearch-7.10.1-linux-x86_64.tar.gz’\n",
            "\n",
            "elasticsearch-7.10. 100%[===================>] 304.03M   186MB/s    in 1.6s    \n",
            "\n",
            "2020-12-13 09:41:40 (186 MB/s) - ‘elasticsearch-7.10.1-linux-x86_64.tar.gz’ saved [318801277/318801277]\n",
            "\n"
          ],
          "name": "stdout"
        }
      ]
    },
    {
      "cell_type": "markdown",
      "metadata": {
        "id": "bh7la7BofBIU"
      },
      "source": [
        "**Installation**"
      ]
    },
    {
      "cell_type": "code",
      "metadata": {
        "id": "sTRi1Ttiefe-"
      },
      "source": [
        "!tar -xzf elasticsearch-7.10.1-linux-x86_64.tar.gz"
      ],
      "execution_count": null,
      "outputs": []
    },
    {
      "cell_type": "code",
      "metadata": {
        "id": "Zlc4z_reekJN"
      },
      "source": [
        "!rm elasticsearch-7.10.1-linux-x86_64.tar.gz"
      ],
      "execution_count": null,
      "outputs": []
    },
    {
      "cell_type": "code",
      "metadata": {
        "colab": {
          "base_uri": "https://localhost:8080/"
        },
        "id": "dQTf3FLpeoZt",
        "outputId": "506a20cb-4df1-46b1-8c8b-3f340b80a6f4"
      },
      "source": [
        "%cd elasticsearch-7.10.1/"
      ],
      "execution_count": null,
      "outputs": [
        {
          "output_type": "stream",
          "text": [
            "/content/elasticsearch-7.10.1\n"
          ],
          "name": "stdout"
        }
      ]
    },
    {
      "cell_type": "code",
      "metadata": {
        "id": "1l43DKfPeqJF"
      },
      "source": [
        "!bin/elasticsearch"
      ],
      "execution_count": null,
      "outputs": []
    },
    {
      "cell_type": "markdown",
      "metadata": {
        "id": "oAfDwfYRjz2V"
      },
      "source": [
        "```\r\n",
        "PUT /catalog/_doc/1\r\n",
        "{\r\n",
        "  \"sku\": \"SP000001\",\r\n",
        "  \"title\": \"Elasticsearch, the definitive guide\",\r\n",
        "  \"description\": \"Elasticsearch is a real-time, distributed search and analytics engine\",\r\n",
        "  \"authors\": [\" Clinton Gormley\", \"Zachary Tong\"],\r\n",
        "  \"ISBN\": \"978-1449358549\",\r\n",
        "  \"price\": \"40.00\"\r\n",
        "}\r\n",
        "```"
      ]
    },
    {
      "cell_type": "markdown",
      "metadata": {
        "id": "o2wdXqNjlSoy"
      },
      "source": [
        "La méthode PUT permet d'indexer le document qui représente un produit du catalogue de produits, il peut être converti en une commande `curl` et exécuté en ligne de commande:"
      ]
    },
    {
      "cell_type": "markdown",
      "metadata": {
        "id": "2t0AgMTWlxmK"
      },
      "source": [
        "```\r\n",
        "curl -XPUT http://localhost:9000/catalog/_doc/1 -d '{\r\n",
        "  \"sku\": \"SP000001\",\r\n",
        "  \"title\": \"Elasticsearch, the definitive guide\",\r\n",
        "  \"description\": \"Elasticsearch is a real-time, distributed search and analytics engine\",\r\n",
        "  \"authors\": [\" Clinton Gormley\", \"Zachary Tong\"],\r\n",
        "  \"ISBN\": \"978-1449358549\",\r\n",
        "  \"price\": \"40.00\"\r\n",
        "}'\r\n",
        "```"
      ]
    },
    {
      "cell_type": "markdown",
      "metadata": {
        "id": "fLHklb2mmSI3"
      },
      "source": [
        "La première ligne `PUT /catalog/_doc/1` est suivie du document JSON.\r\n",
        "\r\n",
        "\r\n",
        "\r\n",
        "1.   `PUT` est la méthode http qui est utilisée pour indexer un nouveau document.\r\n",
        "2.   `catalog` est le nom de l'indexe.\r\n",
        "3.    `_doc` est le nom du type où le document sera indexé.\r\n",
        "4.     1 est l'ID à affecter au document après son indexation.\r\n",
        "\r\n",
        "\r\n"
      ]
    },
    {
      "cell_type": "markdown",
      "metadata": {
        "id": "Z_Cfqt5onVVR"
      },
      "source": [
        "**Indexes**\r\n",
        "\r\n",
        "Une **indexe** est un conteneur qui stocke et gère les documents d'un seul type dans Elasticsearch. Une indexe peut contenir les documents d'un seul type comme indiqué dans le schéma suivant.\r\n",
        "\r\n",
        "Une indexe est un conteneur logique d'un type. Certains paramètres de configuration sont définis au niveau de l'indexe alors que d'autres sont définis au niveau du type.\r\n",
        "\r\n",
        "Le concept d'indexe est équivalent à un schéma des bases de données relationnelles, un type est l'équivalent d'une table."
      ]
    },
    {
      "cell_type": "markdown",
      "metadata": {
        "id": "s2gT9SLiqtcW"
      },
      "source": [
        "![index.png](data:image/png;base64,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)"
      ]
    },
    {
      "cell_type": "markdown",
      "metadata": {
        "id": "Bv1v_yhvlSlu"
      },
      "source": [
        "**Types**\r\n",
        "\r\n",
        "Dans l'exemple du produit du catalogue, le document indexé est de type produit. Chaque document stocké dans le type produit représente un seul produit. Puisque la même indexe ne peut pas contenir d'autres types comme les clients, les commandes et les lignes de commande, le type permet de regrouper logiquement ou d'organiser la même famille de documents dans une indexe.\r\n",
        "\r\n",
        "Typiquement, les documents avec des champs communs sont regroupés dans un même type. Elasticsearch ne possède pas de schéma, permettant de stocker n'importe quel document JSON avec un ensemble de champs dans un type. En pratique, il faut éviter de mélanger différentes entités comme les clients et les produits dans un même type, il est logique de les stocker dans des types différents dans des indexes séparées."
      ]
    },
    {
      "cell_type": "markdown",
      "metadata": {
        "id": "DP8CD9uNtv6B"
      },
      "source": [
        "```\r\n",
        "PUT /customers/_doc/1\r\n",
        "{\r\n",
        "  \"firstName\": \"John\",\r\n",
        "  \"lastName\": \"Smith\",\r\n",
        "  \"contact\": {\r\n",
        "  \"mobile\": \"212-xxx-yyyy\"\r\n",
        " },\r\n",
        " ...\r\n",
        "}\r\n",
        "```"
      ]
    },
    {
      "cell_type": "markdown",
      "metadata": {
        "id": "4Z1UTK03t3L-"
      },
      "source": [
        "```\r\n",
        "PUT /products/_doc/1\r\n",
        "{\r\n",
        "  \"title\": \"Apple iPhone Xs (Gold, 4GB RAM, 64GB Storage, 12 MP Dual Camera, 458 PPI Display)\",\r\n",
        "  \"price\": 999.99,\r\n",
        "  ...\r\n",
        "}\r\n",
        "```"
      ]
    },
    {
      "cell_type": "markdown",
      "metadata": {
        "id": "_XQfvYDnuBir"
      },
      "source": [
        "**Documents**\r\n",
        "\r\n",
        "Les documents JSON sont des entités de premier ordre dans Elasticsearch. Un document est composé de plusieurs champs et est l'unité basique de stockage des informations dans Elasticsearch. Par exemple, on peut stocker un seul produit, un seul client, une seule ligne de commande...\r\n",
        "\r\n",
        "Comme indiqué dans le schéma précédent, qui montre la relation entre les indexes, les types et les documents, ces derniers sont contenus dans des indexes et des types.\r\n",
        "\r\n",
        "Les documents contiennent plusieurs champs, chacun d'un type particulier, dans l'exemple précédent, les champs étaient `sku`, `title`, `description` et `price`. Chaque champs et sa valeur peuvent être perçus comme des clés et des valeurs dans le document."
      ]
    },
    {
      "cell_type": "markdown",
      "metadata": {
        "id": "rIzl76cLw5yz"
      },
      "source": [
        "**Noeuds**\r\n",
        "\r\n",
        "Elasticsearch est un système distribué, il consiste en plusieurs processus exécutés à travers plusieurs machines dans un réseau et qui communiquent avec d'autres processus.\r\n",
        "\r\n",
        "Un noeud Elasticsearch est un seul serveur et qui peut faire partie d'un cluster de noeuds. Il participe dans l'indexation, la recherche et l'exécution d'autres opérations supportées par Elasticsearch. Chaque noeud Elasticsearch a un ID unique et un nom quand il est démarré. On peut également affecter un nom statique à un noeud à travers le paramètre node,name dans le fichier de configuration YAML config/elasticsearch.yml où on peut changer également les valeurs par défaut d'autres paramètres comme le nom du noeud, le port et le nom du cluster. \r\n",
        "\r\n",
        "Au niveau inférieur, un noeud correspond à une seule instance du processus Elasticsearch, il est responsable de la gestion de sa part de données."
      ]
    },
    {
      "cell_type": "markdown",
      "metadata": {
        "id": "c1oPgUS0z4pq"
      },
      "source": [
        "**Shards et Replicats**\r\n",
        "\r\n",
        "Une indexe contient les documents d'un ou plusieurs types, les shards aident dans la distribution d'une indexe dans un cluster. Les shards contribuent dans la subdivision des documents d'une seule indexe à travers plusieurs noeuds. Il existe une limite pour le volume de données qui peuvent être stockées dans un seul noeud, cette limite est imposée par le stockage, la mémoire, et les capacités de traitement d'un noeud. Les shards contribuent à la subdivision de données d'une seule indexe dans un cluster et permettent par conséquence l'utilisation du stockage, mémoire et processeur.\r\n",
        "\r\n",
        "Le processus de la subdivision de données est appelé **sharding**. Le sharding permet la mise en échelle et la parallélisation:\r\n",
        "* Il aide à l'utilisation du stockage à travers plusieurs noeuds d'un cluster.\r\n",
        "* Il aide à l'utilisation du processeur des différents noeuds d'un cluster\r\n",
        "\r\n",
        "Par défaut, chaque indexe est configurée pour avoir 5 shards dans Elasticsearch. Lors de la création d'une indexe, il est possible de spécifier le nombre de shards à partir desquels les données vont être subdivisées pour l'indexe. Une fois l'indexe est crée, le nombre de shards ne peut pas être modifié."
      ]
    },
    {
      "cell_type": "markdown",
      "metadata": {
        "id": "kIGk2-fVHX6d"
      },
      "source": [
        "![shards (1).png](data:image/png;base64,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)"
      ]
    },
    {
      "cell_type": "markdown",
      "metadata": {
        "id": "ArCNZNp3LufB"
      },
      "source": [
        "Les shards sont nommés de P1 à P5 dans le diagramme précédent, chacun contient presque 1/5 du total de données stockées dans l'indexe. Quand une requête est exécutée sur une indexe, Elasticsearch parcourt l'ensemble des shards pour consolider le résultat.\r\n",
        "\r\n",
        "Si l'un des noeuds (Node1) s'arrête, les parts de données stockées dans les deux shards P1 et P2 sont perdues"
      ]
    },
    {
      "cell_type": "markdown",
      "metadata": {
        "id": "zyHKM8XUNNz5"
      },
      "source": [
        "![shards (2).png](data:image/png;base64,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)"
      ]
    },
    {
      "cell_type": "markdown",
      "metadata": {
        "id": "E9cUPkcDQZr4"
      },
      "source": [
        "Les systèmes distribués tels que Elasticsearch sont supposés continuer à s'exécuter en dépit d'une défaillance matérielle. Ces problèmes sont contournés par les réplicats. Chaque shard dans une indexe peut être configuré pour avoir 0 ou plusieurs réplicats qui sont des copies additionnelles du shard primaire et fournissent la haute disponibilité de données.\r\n",
        "\r\n",
        "Par exemple, avec un seul réplicat de chaque shard, on aura une copie additionnelle pour chaque shard."
      ]
    },
    {
      "cell_type": "markdown",
      "metadata": {
        "id": "QQhIgNgdUARx"
      },
      "source": [
        "![shards (3).png](data:image/png;base64,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)"
      ]
    },
    {
      "cell_type": "markdown",
      "metadata": {
        "id": "JfHphczfUQtT"
      },
      "source": [
        "Les shards primaires sont présentés en vert et les shards réplicats en jaune. Si le noeud Node1 s'arrête, on peut retrouver tous les shards dans Node2 et Node3, les shards réplicats peuvent être promus vers des shards primaires une fois un noeud s'arrête.\r\n",
        "\r\n",
        "A part la haute disponibilité et le failover, les shards réplicats permettent à une requête d'être exécutée à travers les réplicats. Les opérations de lecture telles que la recherche, les requêtes et les aggrégations peuvent être exécutées sur les réplicats également. Elasticsearch ditribue d'une manière transparente l'exécution des requêtes à travers les noeuds du cluster où les shards ou les réplicats sont localisés.\r\n",
        "\r\n",
        "Pour résumer, les noeuds s'unissent pour former un cluster, ce dernier fournit une couche physique de services sur laquelle plusieurs indexes peuvent être crées. Une indexe peut contenir un ou plusieurs types où chacun peut contenir à son tours des millions voire des milliards de documents. Les indexes sont splités sur des shards qui sont des partitions des données d'une indexe. Les shards sont distribués à travers les noeuds d'un cluster. Les réplicats sont des copies des shards primaires et fournissent la haute disponibilité et le failover."
      ]
    },
    {
      "cell_type": "markdown",
      "metadata": {
        "id": "Re3fGvL5cpnL"
      },
      "source": [
        "# Mapping et types de données"
      ]
    },
    {
      "cell_type": "markdown",
      "metadata": {
        "id": "aG2KIeOScywm"
      },
      "source": [
        "Elasticsearch ne défini pas des schémas, on peut stocker les données avec n'importe quel nombre et types de champs. Dans un scénario réel, les données ne sont jamais complètement unstructurées, il existe toujours un ensemble de champs qui sont communs entre plusieurs documents dans un type. Les types dans les indexes doivent être crées à bases des champs en commun. Typiquement, un seul type de document dans une indexe partage des champs en commun.\r\n",
        "\r\n",
        "Les bases de données relationnelles imposent une structure stricte, on doit définir la structure de la table avec les noms de colonnes et les types de données pour chaque colonne au moment de la création de la table. On ne peut pas créer un nouvel enregistrement avec une nouvelle colonne ou un type de données différent lors de l'exécution."
      ]
    },
    {
      "cell_type": "markdown",
      "metadata": {
        "id": "eUuo6nPjctYF"
      },
      "source": [
        "**Types de données**\r\n",
        "\r\n",
        "Les types de données de base sont:\r\n",
        "\r\n",
        "* Chaînes de caractères\r\n",
        "  - text: le type text est utile pour supporter la recherche du texte pour les champs qui contiennent une description ou des valeurs textuelles longues. Ces champs sont analysés avant l'indexation.\r\n",
        "  - keyword: le type keyword permet de supporter les analytiques sur les champs string, ils supportent le tri, les filtres et les aggrégations\r\n",
        "\r\n",
        "* Numériques\r\n",
        " - byte, short, integer et long: entiers signés avec des précisions de 8, 16, 32 et 64 bits \r\n",
        " - float et double: valeurs décimales avec des précisions de 32 et 64 bits respectivement\r\n",
        " - half_float: valeurs décimales avec des précisions de 16 bits\r\n",
        "\r\n",
        " * Localisation: Permet le stockage de la longitude et de la latitude\r\n",
        " * Formes: Permettent de stocker les formes géométriques comme les polygones, les cartes... elles permettent d'écrire des requêtes comme la recherche de tous les éléments situés dans un certain contour.\r\n",
        " * IP: Permet de stocker les IPv4 et IPv6"
      ]
    },
    {
      "cell_type": "markdown",
      "metadata": {
        "id": "lENvA9q0ijxa"
      },
      "source": [
        "**Mapping**\r\n",
        "\r\n",
        "Quand le premier produit a été indexé dans Elasticsearch, ces opérations ont été effectuées:\r\n",
        "\r\n",
        "* Création de l'indexe avec le nom `catalog`\r\n",
        "* Définition des mappings \"correspondances\" pour le type de documents qui vont être stockés dans le type par défaut de l'indexe `_doc`"
      ]
    },
    {
      "cell_type": "markdown",
      "metadata": {
        "id": "1gZrG4M9j3g8"
      },
      "source": [
        "**Création de l'indexe**\r\n",
        "\r\n",
        "La première étape implique la création de l'indexe puisqu'elle n'existait pas. L'indexe est crée en utilisant le nombre par défaut des shards. On peut également créer des templates pour les nouvelles indexes ce qui permet de définir les valeurs par défaut pour certain paramètres comme le nombre de shards."
      ]
    },
    {
      "cell_type": "markdown",
      "metadata": {
        "id": "iw0YAqITlUOV"
      },
      "source": [
        "**Définition des mappings**\r\n",
        "\r\n",
        "La deuxième étape permet la définition des mappings pour le type produit. Cette étape est exécutée puisque le type produit n'existait pas.\r\n",
        "\r\n",
        "Quand le premier document est indexé au sein d'un type qui n'existait pas, Elasticsearch essaie d'inférer les types de données pour les différents champs, c'est ce qu'on appelle le mapping dynamique des types. Afin d'afficher les mappings du type produit, il suffit d'exécuter la commande suivante:\r\n",
        "\r\n",
        "```\r\n",
        "GET /catalog/_mapping\r\n",
        "```\r\n",
        "\r\n",
        "On peut afficher les mappings pour tous les types d'une indexe ou de plusieurs indexes.\r\n",
        "\r\n",
        "```\r\n",
        "{\r\n",
        "  \"catalog\" : {\r\n",
        "    \"mappings\" : {\r\n",
        "      \"properties\" : {\r\n",
        "        \"ISBN\" : {\r\n",
        "          \"type\" : \"text\",\r\n",
        "          \"fields\" : {\r\n",
        "            \"keyword\" : {\r\n",
        "              \"type\" : \"keyword\",\r\n",
        "              \"ignore_above\" : 256\r\n",
        "            }\r\n",
        "          }\r\n",
        "        },\r\n",
        "        \"author\" : {\r\n",
        "          \"type\" : \"text\",\r\n",
        "          \"fields\" : {\r\n",
        "            \"keyword\" : {\r\n",
        "              \"type\" : \"keyword\",\r\n",
        "              \"ignore_above\" : 256\r\n",
        "            }\r\n",
        "          }\r\n",
        "        },\r\n",
        "        \"description\" : {\r\n",
        "          \"type\" : \"text\",\r\n",
        "          \"fields\" : {\r\n",
        "            \"keyword\" : {\r\n",
        "              \"type\" : \"keyword\",\r\n",
        "              \"ignore_above\" : 256\r\n",
        "            }\r\n",
        "          }\r\n",
        "        },\r\n",
        "        \"os\" : {\r\n",
        "          \"type\" : \"text\",\r\n",
        "          \"fields\" : {\r\n",
        "            \"keyword\" : {\r\n",
        "              \"type\" : \"keyword\",\r\n",
        "                            \"ignore_above\" : 256\r\n",
        "            }\r\n",
        "          }\r\n",
        "        },\r\n",
        "        \"price\" : {\r\n",
        "          \"type\" : \"float\"\r\n",
        "        },\r\n",
        "        \"resolution\" : {\r\n",
        "          \"type\" : \"text\",\r\n",
        "          \"fields\" : {\r\n",
        "            \"keyword\" : {\r\n",
        "              \"type\" : \"keyword\",\r\n",
        "              \"ignore_above\" : 256\r\n",
        "            }\r\n",
        "          }\r\n",
        "        },\r\n",
        "        \"sku\" : {\r\n",
        "          \"type\" : \"text\",\r\n",
        "          \"fields\" : {\r\n",
        "            \"keyword\" : {\r\n",
        "              \"type\" : \"keyword\",\r\n",
        "              \"ignore_above\" : 256\r\n",
        "            }\r\n",
        "          }\r\n",
        "        },\r\n",
        "        \"title\" : {\r\n",
        "          \"type\" : \"text\",\r\n",
        "          \"fields\" : {\r\n",
        "            \"keyword\" : {\r\n",
        "              \"type\" : \"keyword\",\r\n",
        "              \"ignore_above\" : 256\r\n",
        "            }\r\n",
        "          }\r\n",
        "        }\r\n",
        "      }\r\n",
        "    }\r\n",
        "  }\r\n",
        "}\r\n",
        "```"
      ]
    },
    {
      "cell_type": "markdown",
      "metadata": {
        "id": "wqqHhW1DnDPU"
      },
      "source": [
        "En haut de la réponse JSON, catalog est l'indexe pour laquelle on a affiché les mappings, l'élément mappings refère au type produit, les types de données pour chaque champs sont spécifiées dans l'éléments properties.\r\n",
        "\r\n",
        "Le type de données text permet la recherche textuelle, en plus, chaque champs est stocké dans un champs composé et dans le type keyword qui permet d'effectuer le tri, les aggrégations et le filtrage."
      ]
    },
    {
      "cell_type": "markdown",
      "metadata": {
        "id": "lyKeuMD_otDg"
      },
      "source": [
        "**Indexes inversées**\r\n",
        "\r\n",
        "L'indexe inversée est la structure de données principale de Elasticsearch, elle est similaire à l'indexe qui se trouve à la fin des livres.\r\n",
        "\r\n",
        "Terme | Fréquence | Documents (postings list)\r\n",
        "-- | -- | --\r\n",
        "choice | 1 | 3\r\n",
        "day | 1 | 2\r\n",
        "is | 3 | 1,2,3"
      ]
    },
    {
      "cell_type": "markdown",
      "metadata": {
        "id": "CZHlGbjGplpi"
      },
      "source": [
        "# Opération CRUD"
      ]
    },
    {
      "cell_type": "markdown",
      "metadata": {
        "id": "un41f09LpqKC"
      },
      "source": [
        "Les opérations CRUD sont les opérations fondamentales de toutes les bases de données. Elles permettent d'ajouter des documents à travers l'indexation en analysant tous les champs du document et en construisant l'indexe inversée.\r\n",
        "\r\n",
        "Il existe deux manières pour indexer un document:\r\n",
        "\r\n",
        "* En fournissant un ID\r\n",
        "* Sans fournir l'ID"
      ]
    },
    {
      "cell_type": "markdown",
      "metadata": {
        "id": "iaDViS39qTsv"
      },
      "source": [
        "**Avec ID**\r\n",
        "\r\n",
        "Le format de la requête est en utilisant\r\n",
        "\r\n",
        "```\r\n",
        "PUT /<index>/<type>/<id>\r\n",
        "```\r\n",
        "\r\n",
        "```\r\n",
        "PUT /catalog/_doc/1\r\n",
        "{\r\n",
        "  \"sku\": \"SP000001\",\r\n",
        "  \"title\": \"Hadoop the definitive guide\",\r\n",
        "  \"author\": \"Doug Cutting\",\r\n",
        "  \"ISBN\": \"183773738\",\r\n",
        "  \"price\": 45.22\r\n",
        "}\r\n",
        "```"
      ]
    },
    {
      "cell_type": "markdown",
      "metadata": {
        "id": "uW0QE07krpB3"
      },
      "source": [
        "**Sans ID**\r\n",
        "\r\n",
        "Si on veut pas contrôler la génération des ID pour les documents, on peut utiliser la méthode POST. Le format de cette commande est:\r\n",
        "\r\n",
        "```\r\n",
        "POST /<index>/<type>\r\n",
        "```\r\n",
        "\r\n",
        "```\r\n",
        "POST /catalog/_doc\r\n",
        "{\r\n",
        "  \"sku\": \"SP000003\", \r\n",
        "  \"title\": \"Mastering Elastic\",\r\n",
        "  \"description\": \"Mastering Elastic Stack\",\r\n",
        "  \"author\": \"Dixit Bhaj\",\r\n",
        "  \"price\": 55.43\r\n",
        "}\r\n",
        "```"
      ]
    },
    {
      "cell_type": "markdown",
      "metadata": {
        "id": "xKgEeSI3sWmq"
      },
      "source": [
        "L'ID dans ce cas sera généré par Elasticsearch sous format d'une clé de hashage."
      ]
    },
    {
      "cell_type": "markdown",
      "metadata": {
        "id": "9XsrVpSyu-hY"
      },
      "source": [
        "**GET**\r\n",
        "\r\n",
        "L'API GET est utile pour retrouver un document quand on connait son ID.\r\n",
        "\r\n",
        "```\r\n",
        "GET /catalog/_doc/1ZFFDSS93838\r\n",
        "```"
      ]
    },
    {
      "cell_type": "markdown",
      "metadata": {
        "id": "agx9PaN8vS_i"
      },
      "source": [
        "**UPDATE**\r\n",
        "\r\n",
        "L'API UPDATE est utilisée pour mettre à jour un document existant en utilisant son ID.\r\n",
        "\r\n",
        "```\r\n",
        "POST <index>/<type>/<id>/_update <body>\r\n",
        "```\r\n",
        "\r\n",
        "```\r\n",
        "POST /catalog/_update/1\r\n",
        "{\r\n",
        "  \"doc\": {\r\n",
        "    \"price\": 32.11\r\n",
        "  }\r\n",
        "}\r\n",
        "```\r\n",
        "\r\n",
        "Les propriétés sont spécifiées dans l'élément doc sont fusionnées dans le document existant."
      ]
    },
    {
      "cell_type": "markdown",
      "metadata": {
        "id": "rxdAjMpmwjnZ"
      },
      "source": [
        "**DELETE**\r\n",
        "\r\n",
        "L'API DELETE permet de supprimer un document par ID:\r\n",
        "\r\n",
        "```\r\n",
        "DELETE /catalog/_doc/1Zjklzjkljezl\r\n",
        "```"
      ]
    },
    {
      "cell_type": "markdown",
      "metadata": {
        "id": "O3kvRg8bw0B4"
      },
      "source": [
        "# Création d'indexes et mapping"
      ]
    },
    {
      "cell_type": "markdown",
      "metadata": {
        "id": "NTeHplHnw54w"
      },
      "source": [
        "**Création du mapping dans une indexe existante**\r\n",
        "\r\n",
        "Dans Elasticsearch 7.0, les indexes contiennent strictement un seul type, le type par défaut est ```doc```.\r\n",
        "\r\n",
        "Dans les version précédentes, il était possible de définir une indexe et ajouter plusieurs types par la suite. Le mapping du type peut être défini de cette manière:\r\n",
        "\r\n",
        "```\r\n",
        "PUT /catalog/_mapping \r\n",
        "{\r\n",
        "  \"properties\": {\r\n",
        "    \"name\": {\r\n",
        "      \"type\": \"text\"\r\n",
        "    }\r\n",
        "  }\r\n",
        "}\r\n",
        "```"
      ]
    },
    {
      "cell_type": "markdown",
      "metadata": {
        "id": "uVm69ByWxy-z"
      },
      "source": [
        "**Mise à jour du mapping**\r\n",
        "\r\n",
        "Le mapping des nouveaux champs peut être ajouté après la création d'un type, le mapping peut être mis à jour en utilisant PUT:\r\n",
        "\r\n",
        "```\r\n",
        "PUT /catalog/_mapping\r\n",
        "{\r\n",
        "  \"properties\": {\r\n",
        "    \"code\": {\r\n",
        "      \"type\": \"keyword\"\r\n",
        "    }\r\n",
        "  }\r\n",
        "}\r\n",
        "```"
      ]
    },
    {
      "cell_type": "markdown",
      "metadata": {
        "id": "yIBd3I9OyQ5W"
      },
      "source": [
        "# Vue globale de la REST API"
      ]
    },
    {
      "cell_type": "markdown",
      "metadata": {
        "id": "-LPayYjGyUXj"
      },
      "source": [
        "Elasticsearch supporte un grand nombre de types d'opérations. Certaines s'appliquent sur les documents, par exemple la création, la lecture, la mise à jour, la suppression... D'autres fournissent la recherche et l'aggrégation tandis que d'autres fournissent des opérations qui s'appliquent sur le cluster comme la supervision de l'état de santé du cluster. Les APIs d'Elasticsearch peuvent être catégorisées selon les types suivants:\r\n",
        "* Documents\r\n",
        "* Recherche\r\n",
        "* Aggrégation\r\n",
        "* Indexes\r\n",
        "* Cluster\r\n",
        "* cat"
      ]
    },
    {
      "cell_type": "markdown",
      "metadata": {
        "id": "5_EFrlZ9zSDu"
      },
      "source": [
        "**Conventions**\r\n",
        "\r\n",
        "Toutes les APIs Elasticsearch partagent certaines fonctionnalités communes:\r\n",
        "* Formatage des réponses JSON\r\n",
        "* Traiter les indexes multiples\r\n"
      ]
    },
    {
      "cell_type": "markdown",
      "metadata": {
        "id": "iEAf0wy8zxJi"
      },
      "source": [
        "**Formatage des réponses JSON**\r\n",
        "\r\n",
        "Par défaut, la réponse de toutes les requêtes n'est pas formatée, on peut passer pretty=true pour la formater.\r\n",
        "\r\n",
        "```\r\n",
        "curl -XGET http://localhost:9200/catalog/_doc/1?pretty=true\r\n",
        "{\r\n",
        "  \"_index\" : \"catalog\",\r\n",
        "  \"_type\" : \"product\",\r\n",
        "  \"_id\" : \"1\", \r\n",
        "  \"_version\" : 3, \r\n",
        "  \"found\" : true, \r\n",
        "  \"_source\" : {\r\n",
        "    \"sku\" : \"SP000001\", \r\n",
        "    \"title\" : \"Elasticsearch for Hadoop\", ...\r\n",
        "```"
      ]
    },
    {
      "cell_type": "markdown",
      "metadata": {
        "id": "Ycrmvosf0amI"
      },
      "source": [
        "**Utiliser des indexes multiples**\r\n",
        "\r\n",
        "Les opérations comme la recherche et l'aggrégation peuvent être effectuées sur plusieurs indexes dans la même requête. Il est possible de spécifier quelles indexes doivent être recherchées en utilisant des URLs différentes dans la requête GET.\r\n",
        "\r\n",
        "* Rechercher tous les documents dans toutes les indexes\r\n",
        "* Rechercher tous les documents dans une seule indexe\r\n",
        "* Rechercher tous les documents d'un seul type dans une indexe\r\n",
        "* Rechercher tous les documents dans des indexes multiples\r\n",
        "* Rechercher tous les documents d'un type particulier dans toutes les indexes\r\n",
        "\r\n",
        "La requête suivante cherche tous les documents, les documents retournés se limitent à 10, la taille par défaut.\r\n",
        "\r\n",
        "```\r\n",
        "GET /_search\r\n",
        "```\r\n",
        "\r\n",
        "* took précise le nombre de millisecondes pris par le cluster afin de retourner le résultat\r\n",
        "* timed_out: true signifie que l'opération s'est complété avec succès sans un timeout\r\n",
        "* _shards: Affiche le bilan du nombre de shards recherchés dans le cluster\r\n",
        "* hits: Contient le nombre de documents qui correspondent à la requête, il contient total, le nombre total des documents qui correspondent aux critères spécifiés, max_score affiche le score maximal du document le plus pertinent et hits la liste des documents qui correspondent\r\n"
      ]
    },
    {
      "cell_type": "markdown",
      "metadata": {
        "id": "PxANUXxR2vBd"
      },
      "source": [
        "**Recherche de tous les documents dans une seule indexe**\r\n",
        "\r\n",
        "Le code suivant permet de chercher tous les documents mais seulement dans l'indexe catalog.\r\n",
        "\r\n",
        "```\r\n",
        "GET /catalog/_search\r\n",
        "```\r\n",
        "\r\n",
        "On peut également spécifier le type et l'indexe:\r\n",
        "\r\n",
        "```\r\n",
        "GET /catalog/_doc/_search\r\n",
        "```"
      ]
    },
    {
      "cell_type": "markdown",
      "metadata": {
        "id": "Z9T1VVWT3ipn"
      },
      "source": [
        "**Rechercher tous les documents dans des indexes multiples**\r\n",
        "\r\n",
        "La commande suivante permet de chercher tous les documents dans l'indexe catalog et my_index:\r\n",
        "\r\n",
        "```\r\n",
        "GET /catalog,my_index/_search\r\n",
        "```"
      ]
    },
    {
      "cell_type": "markdown",
      "metadata": {
        "id": "pfZI9GXh36Mj"
      },
      "source": [
        "**Rechercher tous les documents d'un type particulier dans toutes les indexes**\r\n",
        "\r\n",
        "```\r\n",
        "GET /_all/_doc/_search\r\n",
        "```"
      ]
    },
    {
      "cell_type": "markdown",
      "metadata": {
        "id": "OLIlgHgO3Jzt"
      },
      "source": [
        ""
      ]
    },
    {
      "cell_type": "markdown",
      "metadata": {
        "id": "LiiB_h92eNH1"
      },
      "source": [
        ""
      ]
    },
    {
      "cell_type": "code",
      "metadata": {
        "id": "8ac-8uNNUCFn"
      },
      "source": [
        ""
      ],
      "execution_count": null,
      "outputs": []
    },
    {
      "cell_type": "code",
      "metadata": {
        "id": "zZW4WIC0e6ot"
      },
      "source": [
        ""
      ],
      "execution_count": null,
      "outputs": []
    },
    {
      "cell_type": "code",
      "metadata": {
        "id": "5fqail3wNNFw"
      },
      "source": [
        ""
      ],
      "execution_count": null,
      "outputs": []
    }
  ]
}