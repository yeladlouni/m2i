{
  "nbformat": 4,
  "nbformat_minor": 0,
  "metadata": {
    "colab": {
      "name": "Introduction Elastic Stack.ipynb",
      "provenance": [],
      "collapsed_sections": []
    },
    "kernelspec": {
      "name": "python3",
      "display_name": "Python 3"
    }
  },
  "cells": [
    {
      "cell_type": "markdown",
      "metadata": {
        "id": "Z8jYvy8ilJ8U"
      },
      "source": [
        "![m2i.png](data:image/png;base64,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)"
      ]
    },
    {
      "cell_type": "markdown",
      "metadata": {
        "id": "nq9KsesXlJGa"
      },
      "source": [
        "L'emergence du web, mobile, réseaux sociaux, blogs et partage de photos a crée un volume de données massif durant les dernières années. Ces nouvelles sources de données céent des informations qui ne peuvent pas être traitées en utilisant la technologie de stockage de données, les bases de données relationelles en instance. En tant que développeur d'applications ou développeur décisionnel (BI), votre rôle est de satisfaire les besoins en terme de recherche et d'analyse.\r\n",
        "\r\n",
        "Un grand nombre de stockages de données qui peuvent supporter un grand volume de données a emergé durant les dernières années y compris l'écosystème Hadoop, plusieurs bases de données NoSQL et des moteurs de recherche et d'analyse tel que Elasticsearch.\r\n",
        "\r\n",
        "La pile Elastic est un écosystème de composants riche permettant la recherche et l'analyse. Les composants principaux de la pile Elastic sont Kibana, Logstash, Beats, X-Pack et Elasticsearch.\r\n",
        "\r\n",
        "Elasticsearch est le coeur de la stack Elastic fournissant le stockage, la recherche et les fonctionnalités analytiques. Kibana, souvent référé comme étant une fenêtre sur la stack Elastic est une interface avec plusieurs fonctionnalités de visualisation. Logstash et Beats permettent l'ingestion de données dans la stack Elastic. X-Pack fournit des fonctionnalités avancées telles que la supervision, les alertes, la sécurité, l'analyse des graphes et le machine learning afin de faciliter le déploiement."
      ]
    },
    {
      "cell_type": "markdown",
      "metadata": {
        "id": "roAcA4Weo1eT"
      },
      "source": [
        "# Elasticsearch"
      ]
    },
    {
      "cell_type": "markdown",
      "metadata": {
        "id": "__XaeMkOo8yd"
      },
      "source": [
        "Elasticsearch est un moteur de recherche et d'analytiques en temps réel et distribué qui supportent la mise à l'échelle horizontale et capable de résoudre un large éventail de cas d'utilisation. Au coeur du stack Elastic, il centralise le stockage de données afin de les découvrir.\r\n",
        "\r\n",
        "Elasticsearch est au coeur de la stack, il joue un rôle central du moteur de recherche et d'analytiques, il se base sur Apache Lucene."
      ]
    },
    {
      "cell_type": "markdown",
      "metadata": {
        "id": "_NhlKwClp_2g"
      },
      "source": [
        "**Sans schéma et orienté document**\r\n",
        "\r\n",
        "Elasticseach n'impose pas une structure stricte pour les données, on peut stocker n'importe quel document JSON. Les documents JSON sont les structures de données de base d'Elastic à l'opposé des bases de données où les enregistrements et les colonnes sont les structures de base.\r\n",
        "Un document est similaire à un enregistrement dans une table des base de données. Les bases de données relationnelles requièrent un schéma pour leurs défintion préalable afin de spécifier les colonnes et les types de données ainsi que leurs tailles. Souvent, la nature de données est dynamique et requière le support des colonnes dynamiques. Les documents JSON supportent ce type de données."
      ]
    },
    {
      "cell_type": "code",
      "metadata": {
        "id": "Mlb7G_6cozB-"
      },
      "source": [
        "customer1 = {\r\n",
        "    \"name\": \"John Smith\",\r\n",
        "    \"address\": \"121 John Street, NY, 10010\",\r\n",
        "    \"age\": 40\r\n",
        "}"
      ],
      "execution_count": null,
      "outputs": []
    },
    {
      "cell_type": "markdown",
      "metadata": {
        "id": "37OIILmtrh9a"
      },
      "source": [
        "Ce document peut représenter un enregistrement client, il a comme champs `name`, `address` et `age`.\r\n",
        "\r\n",
        "Un autre enregistrement peut être comme suivant:"
      ]
    },
    {
      "cell_type": "code",
      "metadata": {
        "id": "1WCK2mu3p-Wv"
      },
      "source": [
        "customer2 = {\r\n",
        "    \"name\": \"John Doe\",\r\n",
        "    \"age\": 38,\r\n",
        "    \"email\": \"john.doe@company.org\"\r\n",
        "}"
      ],
      "execution_count": null,
      "outputs": []
    },
    {
      "cell_type": "markdown",
      "metadata": {
        "id": "DP02KytVsKbd"
      },
      "source": [
        "Le deuxième client n'a pas le champs `address` mais a un champs `email`. ce qui permet un grand degré de flexibilité en terme de stockage."
      ]
    },
    {
      "cell_type": "markdown",
      "metadata": {
        "id": "jg6Vz3WYs01m"
      },
      "source": [
        "**Recherche**\r\n",
        "\r\n",
        "Elasticsearch se caractérise par sa grande capacité de traitement du texte, il est performant quand il s'agit de la recherche du texte.\r\n",
        "\r\n",
        "La recherche du texte signifie la recherche dans tous les termes de tous les documents stockés. Ceci nécessite l'analyse et le stockage préalable des documents. Il permet à l'instar de Google Search d'entrer une requête composée de plusieurs mots clés et de parcourir l'ensemble de documents qui sont pertinents à cette requête. Ces requêtes sont différentes des requêtes SQL."
      ]
    },
    {
      "cell_type": "markdown",
      "metadata": {
        "id": "8KX9nlk2u_qE"
      },
      "source": [
        "**Analytiques**\r\n",
        "\r\n",
        "A part la recherche, la deuxième fonctionnalité qui distingue Elasticsearch sont les analytiques. Elasticsearch est utilisé comme moteur d'analytiques pour plusieurs cas d'utilisation. Plusieurs organisations utilisent des solutions analytiques à base d'Elasticsearch en production.\r\n",
        "\r\n",
        "Conduire une recherche est similaire à un zoom avant pour trouver une aiguille dans une botte de foin i.e localiser précisemment notre besoin dans un grand volume de données. Les analytiques est exactement le contraire, il s'agit d'un zoom arrière qui permet d'avoir la vision gloable. Par exemple, pour avoir le nombre total des visiteurs du site web à partir des USA ou avoir une idée combien d'utilisateurs utilisent MacOS, Windows ou Linux.\r\n",
        "\r\n",
        "Elasticsearch supporte un grand nombre d'aggrégations pour les analytiques, les aggrégations Elasticsearch sont très puissantes et peuvent être appliquées à plusieurs types de données."
      ]
    },
    {
      "cell_type": "markdown",
      "metadata": {
        "id": "sMS6qIMEydEl"
      },
      "source": [
        "**REST API**\r\n",
        "\r\n",
        "Elasticsearch supporte plusieurs bibliothèques qui leurs permettent d'être accessible depuis plusieurs langages de programmation (Java, C#, Python, JavaScript, PHP, Perl, Ruby...).\r\n",
        "Elasticsearch possède un REST API qui est riche et qui fonctionne sur le protocole HTTP et qui est très bien documentée."
      ]
    },
    {
      "cell_type": "markdown",
      "metadata": {
        "id": "5DpHOkkSzQ6x"
      },
      "source": [
        "**Mise à l'échelle**\r\n",
        "\r\n",
        "Elasticsearch peut être exécuté sur un seul noeud et peut facilement se mettre à l'échelle sur plusieurs noeuds. Il est très facile de démarrer une instance d'Elasticsearch sur un seul noeud et ne nécessite aucune configuration.\r\n",
        "A l'opposé dans bases de données traditionnelles qui ne supportent que la mise à l'échelle verticale, il peut être démarré sur des disaines ou centaines de noeuds, l'application client ne nécessite aucun changement."
      ]
    },
    {
      "cell_type": "markdown",
      "metadata": {
        "id": "mGET33Ik0N03"
      },
      "source": [
        "**Temps réel**\r\n",
        "\r\n",
        "Les données deviennent disponibles pour les requêtes durant une seconde après leur indexation. Elasticsearch permet d'indexer des milliers jusqu'à des centaines de milliers de documents par seconde et les mettent disponibles pour la recherche immédiatement."
      ]
    },
    {
      "cell_type": "markdown",
      "metadata": {
        "id": "-VWamEU80xwF"
      },
      "source": [
        "**Rapide**\r\n",
        "\r\n",
        "Elasticsearch utilise Apache Lucene comme technologie de base. Par défaut, Elasticsearch indexe tous les champs des documents ce qui permet d'intérroger ou de chercher n'importe quel champs des enregistrements."
      ]
    },
    {
      "cell_type": "markdown",
      "metadata": {
        "id": "Er_q3lFZ1MNN"
      },
      "source": [
        "**Tolérant aux fautes**\r\n",
        "\r\n",
        "Les clusters Elasticsearch restent en exécution malgré les éventuelles problèmes machines comme les défaillances de noeuds et les défaillances réseaux. Dans le cas d'un problème de noeud, il réplique toutes les données du noeud défaillant à un autre noeud du cluster. Dans le cas d'une défaillance réseau, Elasticsearch nomme des replicats master pour garder le cluster en exécution."
      ]
    },
    {
      "cell_type": "markdown",
      "metadata": {
        "id": "YyXWPRlj2Lpq"
      },
      "source": [
        "# Exploration des composants de la stack Elastic"
      ]
    },
    {
      "cell_type": "markdown",
      "metadata": {
        "id": "IhWiNuHj2SlF"
      },
      "source": [
        "Les composants de la stack Elastic sont schématisés dans le digramme ci-dessous. Il n'est pas nécessaire de les inclure tous dans une solution. Quelques composants sont d'ordre général et peuvent être utilisés en dehors de la stack Elastic sans utiliser les autres composants."
      ]
    },
    {
      "cell_type": "markdown",
      "metadata": {
        "id": "gmEu6HgB27Jq"
      },
      "source": [
        "![elastic.png](data:image/png;base64,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)\r\n"
      ]
    },
    {
      "cell_type": "markdown",
      "metadata": {
        "id": "DT-E42aD51-9"
      },
      "source": [
        "**Elasticsearch**\r\n",
        "\r\n",
        "Elasticsearch est au coeur de la stack Elastic. Il stocke toutes les données et fournit les fonctionnalités de recherche et d'analytiques d'une manière évolutive."
      ]
    },
    {
      "cell_type": "markdown",
      "metadata": {
        "id": "2rODXp6f6mei"
      },
      "source": [
        "**Beats**\r\n",
        "\r\n",
        "Beats est une plateforme de transporteurs de données. Son rôle est complémentaire à Logstash. Ce dernier est un composant côté serveur alors que Beats a un rôle côté client. Il consiste en une bibiliothèque principale `libbeat` qui fournit une API pour transporter les données depuis la source, configurer les options d'entrée et implémenter la journalisation. Beats est installé sur les machines qui ne font pas partie des composants serveur tels que Elasticsearch, Logstash et Kibana. Ces agents résident dans les noeuds hors cluster et sont parfois appelé noeuds de bord.\r\n",
        "\r\n",
        "Plusieurs composants Beat ont été développés par l'équipe Elastic et la communauté: Packetbeat, Filebeat, Metricbeat, Winlogbeat, Audiobeat et Heartbeat..."
      ]
    },
    {
      "cell_type": "markdown",
      "metadata": {
        "id": "1e1Z9EDQ8Llb"
      },
      "source": [
        "**Kibana**\r\n",
        "\r\n",
        "Kibana est l'outil de visualisation de la stack Elastic et permet de mieux comprendre les données. Il est souvent nommé Fenêtre sur la stack Elastic. Il offre plusieurs types de visualisations: les histogrammes, les cartes, les graphiques lignes, les séries chronologiques...\r\n",
        "\r\n",
        "On peut mettre en place des visualisations avec quelques clics et explorer les données d'une manière interactive. Il permet de construire des tableaux de bord en combinant plusieurs visualisations, les partager avec les autres et exporter des états de haute qualité.\r\n",
        "\r\n",
        "Kibana possède également des outils de gestion et de développement. On peut gérer les paramètres et configurer les fonctionnalité de sécurité X-Pack. Kibana a également des outils de développement qui permettent aux développeurs de construire et de tester les requêtes REST API."
      ]
    },
    {
      "cell_type": "markdown",
      "metadata": {
        "id": "Huf3TcLG97sC"
      },
      "source": [
        "**X-Pack**\r\n",
        "\r\n",
        "X-Pack permet de faciliter le déploiement en production des solutions Elastic comme la sécurité, la supervision, les alertes, les reportings, l'analyse des graphes et le machine learning."
      ]
    },
    {
      "cell_type": "markdown",
      "metadata": {
        "id": "wcGvt4um-h45"
      },
      "source": [
        "**Sécurité**\r\n",
        "\r\n",
        "Les plugins de sécurité de X-Pack ajoutent l'autorisation et l'authentification à Elasticsearch et Kibana. Ils permettent de configurer permettent aussi de configurer la sécurité pour les champs et pour les documents avec la version payante."
      ]
    },
    {
      "cell_type": "markdown",
      "metadata": {
        "id": "VVIHVzFB_IiZ"
      },
      "source": [
        "**Supervision**\r\n",
        "\r\n",
        "On peut superviser les composants de la stack Elastic pour ne pas avoir des temps d'arrêt. Le composant de supervision dans X-Pack permet de superviser les cluster Elasticsearch et Kibana.\r\n",
        "\r\n",
        "On peut superviser les clusters, les noeuds, et les métriques des indexes. Le plugin maintient l'historique de performance pour comparer les métriques en cours et les anciennes métriques."
      ]
    },
    {
      "cell_type": "markdown",
      "metadata": {
        "id": "IN6RCt5h_7FP"
      },
      "source": [
        "**Reporting**\r\n",
        "\r\n",
        "Le plugin de reporting de X-Pack permet de générer des états de haute qualité à partir des visualisations Kibana. Les états peuvent être plannifiées d'une manière periodique ou déclenchées par un événement."
      ]
    },
    {
      "cell_type": "markdown",
      "metadata": {
        "id": "86uRhR9BAWwg"
      },
      "source": [
        "**Alertes**\r\n",
        "\r\n",
        "X-Pack possède des fonctionnalités sophistiquées d'alertes qui peuvent alerter quand une condition est vérifiée.\r\n",
        "\r\n",
        "On peut détecter les failles de sécurité, par exemple lorsqu'une authentification d'un utilisateur échoue après 5 essaies durant une heure depuis plusieurs localisations ou alors avoir une idée quand un produit est en tendance sur les réseaux sociaux, les alertes peuvent être envoyées par email, Slack, Hipchat et PagerDuty."
      ]
    },
    {
      "cell_type": "markdown",
      "metadata": {
        "id": "Z4bLYhxABS2d"
      },
      "source": [
        "**Graphes**\r\n",
        "\r\n",
        "Les graphes permettent d'explorer les relations dans les données. Les données dans Elasticsearch sont souvent perçues comme étant des listes d'entités sans connexions avec les autres entités. Les graphes permettent de mettre en évidence les relations entre plusieurs entités qui partagent des propriétés commes les personnes, les places, les produits et les préférences.\r\n",
        "\r\n",
        "Graph consiste en une API et une interface utilisateur UI dans Kibana qui permet d'explorer les relations. Derrière les coulisses, il exploite les requêtes distribuées et l'indexation à l'echelle."
      ]
    },
    {
      "cell_type": "markdown",
      "metadata": {
        "id": "Q7wv08XtCOrV"
      },
      "source": [
        "**Machine Learning**\r\n",
        "\r\n",
        "X-Pack possède un module d'apprentissage automatique pour détecter des motifs dans les données incluant l'apprentissage supervisé, non supervisé, l'apprentissage par renforcement et l'apprentissage profond.\r\n",
        "\r\n",
        "Le module ML de X-Pack est limité à la détection des anomalies dans les données de séries chronologiques."
      ]
    },
    {
      "cell_type": "markdown",
      "metadata": {
        "id": "M-n81KahDDsa"
      },
      "source": [
        "**Elastic Cloud**\r\n",
        "\r\n",
        "Elastic Cloud est une solution Elastic en cloud hébérgée et gérée par Elastic qui est derrière le développement de Elastic. Tous les composants sont open source sauf X-Pack."
      ]
    },
    {
      "cell_type": "markdown",
      "metadata": {
        "id": "l1K5GrIdDh7d"
      },
      "source": [
        "# Cas d'utilisation"
      ]
    },
    {
      "cell_type": "markdown",
      "metadata": {
        "id": "zveRWxNdDk-y"
      },
      "source": [
        "Les composant de la stack Elastic ont plusieurs cas d'utilisation pratiques et d'autres cas d'utilisation qui émergent à chaque fois un nouveau plugin est ajouté aux composants existants:\r\n",
        "\r\n",
        "* Analytiques des journaux et de la sécurité.\r\n",
        "* Recherche de produits\r\n",
        "* Analytiques des métriques\r\n",
        "* Recherche Web"
      ]
    },
    {
      "cell_type": "markdown",
      "metadata": {
        "id": "wlJMBkT2EICp"
      },
      "source": [
        "**Recherche de produits**\r\n",
        "\r\n",
        "Une recherche de produits permet de chercher le produit le plus pertinent à partir des millieurs de produits existants et les afficher selon le degré de pertinence en haut de la liste.\r\n",
        "\r\n",
        "La recherche de texte de Elasticsearch permet de chercher les résultats qui correspondent le plus et présente les résultats sur la première page ce qui augmente la chance que le client achète ces produits."
      ]
    },
    {
      "cell_type": "markdown",
      "metadata": {
        "id": "n25HdR-oEzD5"
      },
      "source": [
        "**Analytiques des métriques**\r\n",
        "\r\n",
        "La stack Elastic possède d'excellentes capacités analytiques graçe à l'API Aggregations. Ceci lui permet d'être un outil parfait pour l'analyse des donnes avec plusieurs métriques comme celles générées par les capteurs IoT, les téléphones, les serveurs, les machines virtuelles, les routeurs réseau, switchs...\r\n",
        "\r\n",
        "Les données métriques peuvent être aussi des séries chronologiques qui sont enregistrées durant une période donnée. Les dimensions peuvent également inclure les données de localisation.\r\n"
      ]
    },
    {
      "cell_type": "markdown",
      "metadata": {
        "id": "AmrqOaWFF2VJ"
      },
      "source": [
        "**Recherche Web**\r\n",
        "\r\n",
        "Elasticsearch peut être utilisé comme un moteur de recherche, il peut également être exploité pour construire des plateformes d'aggrégation \"Meta Search Engine\"."
      ]
    }
  ]
}