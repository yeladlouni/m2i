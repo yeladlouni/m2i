{
  "nbformat": 4,
  "nbformat_minor": 0,
  "metadata": {
    "colab": {
      "name": "Analytics.ipynb",
      "provenance": [],
      "collapsed_sections": []
    },
    "kernelspec": {
      "name": "python3",
      "display_name": "Python 3"
    }
  },
  "cells": [
    {
      "cell_type": "markdown",
      "metadata": {
        "id": "Z8jYvy8ilJ8U"
      },
      "source": [
        "![m2i.png](data:image/png;base64,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)"
      ]
    },
    {
      "cell_type": "markdown",
      "metadata": {
        "id": "Sr1nzMM1eh8j"
      },
      "source": [
        "# Aggrégations basiques"
      ]
    },
    {
      "cell_type": "markdown",
      "metadata": {
        "id": "mX0QCCGie_ly"
      },
      "source": [
        "A l'opposé de la recherche, les analytiques permettent d'avoir l'image globale des données.\r\n",
        "Les éléments d'aggrégations aggs permettent d'aggréger les données, elles ont la forme:\r\n",
        "\r\n",
        "```\r\n",
        "POST /<index_name>/_search {\r\n",
        "  \"aggs\": {\r\n",
        "      ... type of aggregation ...          \r\n",
        "  },  \r\n",
        "  \"query\": {\r\n",
        "      ... type of query ... \r\n",
        "  },\r\n",
        "  //optional query part size\":0                                         \r\n",
        "  //size typically set to 0\r\n",
        "}              \r\n",
        "```"
      ]
    },
    {
      "cell_type": "markdown",
      "metadata": {
        "id": "bTKfk4NcNYJy"
      },
      "source": [
        "**Aggrégations Bucket**\r\n",
        "\r\n",
        "Les aggrégations bucket segmentent les données (query) en plusieurs buckets qui sont identifiés pas une clé. Les aggrégations buckets évaluent chaque document dans le contexte en décidant le bucket auquel il appartient. Au final, un bucket contient un ensemble de documents et il est identifié par une clé.\r\n",
        "Les aggrégations bucket sont équivalents aux requêtes GROUP BY de SQL."
      ]
    },
    {
      "cell_type": "markdown",
      "metadata": {
        "id": "JvVsIwurO1ek"
      },
      "source": [
        "**Aggrégations Métrique**\r\n",
        "\r\n",
        "Les aggrégations métrique s'appliquent sur les champs numériques, ils calculent la valeur aggrégée du champs dans un contexte donné. Une aggrégation métrique peut calculer la somme, la moyenne, le minimum, le maximum..."
      ]
    },
    {
      "cell_type": "markdown",
      "metadata": {
        "id": "ZuaKH-rPPfOo"
      },
      "source": [
        "**Aggrégations Matricielles**\r\n",
        "\r\n",
        "Les aggrégations matricielles ont été introduites à partir de la version 5.0. Elles sont appliquées sur plusieurs champs et calculent les matrices à travers tous les documents dans un contexte déterminé.\r\n",
        "\r\n",
        "Les aggrégations matricielles peuvent être imbriquées dans les aggrégations bucket mais pas l'inverse."
      ]
    },
    {
      "cell_type": "markdown",
      "metadata": {
        "id": "m1vA4dw0QGIw"
      },
      "source": [
        "**Aggrégations Pipeline**\r\n",
        "\r\n",
        "Les aggrégations pipeline sont des aggrégations d'ordre supérieur et peuvent aggréger la sortie d'autre aggrégations. Elles peuvent être utilisées pour calculer par exemple les dérivées."
      ]
    },
    {
      "cell_type": "markdown",
      "metadata": {
        "id": "HXPxEWZbempm"
      },
      "source": [
        "# Préparation des données"
      ]
    },
    {
      "cell_type": "markdown",
      "metadata": {
        "id": "iVULQCRAQj82"
      },
      "source": [
        "**Chargement de données avec Logstash**\r\n",
        "\r\n",
        "1. Télécharger la version https://www.elastic.co/fr/downloads/logstash\r\n",
        "2. Extraire logstash\r\n",
        "3. Copier les fichiers network_traffic_data.zip et logstash_network_traffic_data.conf dans le répertoire files de logstash\r\n",
        "4. Décompresser  network_traffic_data.zip pour avoir network_traffic_data.json dans le répertoire files\r\n",
        "5. Mettre à jour logstash_network_traffic_data.conf en spécifiant le chemin du fichier JSON\r\n",
        "6. Créer l'indexe suivantes:\r\n",
        "```\r\n",
        "PUT /bigginsight\r\n",
        "{\r\n",
        "  \"settings\": {\r\n",
        "    \"index\": {\r\n",
        "      \"number_of_replicas\": \"1\",\r\n",
        "      \"number_of_shards\": \"5\"\r\n",
        "    }\r\n",
        "  },\r\n",
        "  \"mappings\": {\r\n",
        "    \"properties\": {\r\n",
        "      \"accessPointId\": {\r\n",
        "        \"type\": \"keyword\",\r\n",
        "        \"fields\": {\r\n",
        "          \"analyzed\": {\r\n",
        "            \"type\": \"text\"\r\n",
        "          }\r\n",
        "        }\r\n",
        "      },\r\n",
        "      \"application\": {\r\n",
        "        \"type\": \"keyword\",\r\n",
        "        \"fields\": {\r\n",
        "          \"analyzed\": {\r\n",
        "            \"type\": \"text\"\r\n",
        "          }\r\n",
        "        }\r\n",
        "      },\r\n",
        "      \"band\": {\r\n",
        "        \"type\": \"keyword\",\r\n",
        "        \"fields\": {\r\n",
        "          \"analyzed\": {\r\n",
        "            \"type\": \"text\"\r\n",
        "          }\r\n",
        "        }\r\n",
        "      },\r\n",
        "      \"bandwidth\": {\r\n",
        "        \"type\": \"double\"\r\n",
        "      },\r\n",
        "      \"category\": {\r\n",
        "        \"type\": \"keyword\",\r\n",
        "        \"fields\": {\r\n",
        "          \"analyzed\": {\r\n",
        "            \"type\": \"text\"\r\n",
        "          }\r\n",
        "        }\r\n",
        "      },\r\n",
        "      \"customer\": {\r\n",
        "        \"type\": \"keyword\",\r\n",
        "        \"fields\": {\r\n",
        "          \"analyzed\": {\r\n",
        "            \"type\": \"text\"\r\n",
        "          }\r\n",
        "        }\r\n",
        "      },\r\n",
        "      \"department\": {\r\n",
        "        \"type\": \"keyword\",\r\n",
        "        \"fields\": {\r\n",
        "          \"analyzed\": {\r\n",
        "            \"type\": \"text\"\r\n",
        "          }\r\n",
        "        }\r\n",
        "      },\r\n",
        "      \"downloadCurrent\": {\r\n",
        "        \"type\": \"double\"\r\n",
        "      },\r\n",
        "      \"downloadTotal\": {\r\n",
        "        \"type\": \"integer\"\r\n",
        "      },\r\n",
        "      \"inactiveMs\": {\r\n",
        "        \"type\": \"integer\"\r\n",
        "      },\r\n",
        "      \"location\": {\r\n",
        "        \"type\": \"geo_point\"\r\n",
        "      },\r\n",
        "      \"mac\": {\r\n",
        "        \"type\": \"keyword\",\r\n",
        "        \"fields\": {\r\n",
        "          \"analyzed\": {\r\n",
        "            \"type\": \"text\"\r\n",
        "          }\r\n",
        "        }\r\n",
        "      },\r\n",
        "      \"networkId\": {\r\n",
        "        \"type\": \"keyword\",\r\n",
        "        \"fields\": {\r\n",
        "          \"analyzed\": {\r\n",
        "            \"type\": \"text\"\r\n",
        "          }\r\n",
        "        }\r\n",
        "      },\r\n",
        "      \"signalStrength\": {\r\n",
        "        \"type\": \"integer\"\r\n",
        "      },\r\n",
        "      \"time\": {\r\n",
        "        \"type\": \"date\",\r\n",
        "        \"format\": \"strict_date_optional_time||epoch_millis\"\r\n",
        "      },\r\n",
        "      \"uploadCurrent\": {\r\n",
        "        \"type\": \"double\"\r\n",
        "      },\r\n",
        "      \"uploadTotal\": {\r\n",
        "        \"type\": \"integer\"\r\n",
        "      },\r\n",
        "      \"usage\": {\r\n",
        "        \"type\": \"double\"\r\n",
        "      },\r\n",
        "      \"username\": {\r\n",
        "        \"type\": \"keyword\",\r\n",
        "        \"fields\": {\r\n",
        "          \"analyzed\": {\r\n",
        "            \"type\": \"text\"\r\n",
        "          }\r\n",
        "        }\r\n",
        "      }\r\n",
        "    }\r\n",
        "  }\r\n",
        "}\r\n",
        "```\r\n",
        "\r\n",
        "7. Démarrer logstash avec la commande suivante:\r\n",
        "\r\n",
        "```\r\n",
        "bin\\logstash -f files\\logstash_network_traffic_data.conf\r\n",
        "```\r\n",
        "\r\n",
        "8. Vérifier les données avec la commande suivante que le nombre total de documents est de 242835, (utiliser le paramètre  track_total_hits=true pour afficher la valeur réelle.\r\n",
        "\r\n",
        "```\r\n",
        "GET /bigginsight/_search\r\n",
        "{\r\n",
        "  \"query\": {\r\n",
        "    \"match_all\": {}\r\n",
        "   },\r\n",
        "  \"size\": 1\r\n",
        "}\r\n",
        "```"
      ]
    },
    {
      "cell_type": "markdown",
      "metadata": {
        "id": "4ExLBsNTepKh"
      },
      "source": [
        "# Aggrégations Métriques"
      ]
    },
    {
      "cell_type": "markdown",
      "metadata": {
        "id": "s7MvEdcXTrYE"
      },
      "source": [
        "Les aggrégations métriques sont appliquées sur les données numériques et permettent de calculer l'une des métriques dans un contexte déterminé, le contexte peut être une requête, un filtre ou aucune requête pour inclure toute l'indexe/type. Elles peuvent également être imbriquées dans les aggrégations bucket pour qu'elles soient calculées pour chaque bucket. "
      ]
    },
    {
      "cell_type": "markdown",
      "metadata": {
        "id": "jxI409uKdtG3"
      },
      "source": [
        "**min,max,sum,avg**"
      ]
    },
    {
      "cell_type": "markdown",
      "metadata": {
        "id": "RP6eZ7iObQtx"
      },
      "source": [
        "```\r\n",
        "GET bigginsight/_search\r\n",
        "{\r\n",
        " \"aggregations\": {                     \r\n",
        "    \"download_sum\": {                  \r\n",
        "      \"sum\": {                         \r\n",
        "        \"field\": \"downloadTotal\"       \r\n",
        "      }      \r\n",
        "    }\r\n",
        "  },\r\n",
        "  \"size\": 0                            \r\n",
        "}\r\n",
        "```"
      ]
    },
    {
      "cell_type": "markdown",
      "metadata": {
        "id": "kposRUyVcNDB"
      },
      "source": [
        "```\r\n",
        "GET bigginsight/_search\r\n",
        "{\r\n",
        " \"aggregations\": {                     \r\n",
        "    \"download_average\": {                \r\n",
        "      \"avg\": {                           \r\n",
        "        \"field\": \"downloadTotal\"       \r\n",
        "      }      \r\n",
        "    }\r\n",
        "  },\r\n",
        "  \"size\": 0                            \r\n",
        "}\r\n",
        "```"
      ]
    },
    {
      "cell_type": "markdown",
      "metadata": {
        "id": "OhY0m8wYcTiI"
      },
      "source": [
        "```\r\n",
        "GET bigginsight/_search\r\n",
        "{\r\n",
        " \"aggregations\": {                    \r\n",
        "    \"download_min\": {                  \r\n",
        "      \"min\": {                         \r\n",
        "        \"field\": \"downloadTotal\"       \r\n",
        "      }      \r\n",
        "    }\r\n",
        "  },\r\n",
        "  \"size\": 0                            \r\n",
        "}\r\n",
        "```"
      ]
    },
    {
      "cell_type": "markdown",
      "metadata": {
        "id": "PjgoZhwAcXyU"
      },
      "source": [
        "```\r\n",
        "GET bigginsight/_search\r\n",
        "{\r\n",
        " \"aggregations\": {                    \r\n",
        "    \"download_max\": {                  \r\n",
        "      \"max\": {                         \r\n",
        "        \"field\": \"downloadTotal\"       \r\n",
        "      }      \r\n",
        "    }\r\n",
        "  },\r\n",
        "  \"size\": 0                            \r\n",
        "}\r\n",
        "```"
      ]
    },
    {
      "cell_type": "markdown",
      "metadata": {
        "id": "NEEujnYnd45e"
      },
      "source": [
        "**Statistiques**"
      ]
    },
    {
      "cell_type": "markdown",
      "metadata": {
        "id": "6HGOn2Z_ceQf"
      },
      "source": [
        "```\r\n",
        "GET bigginsight/_search\r\n",
        "{\r\n",
        " \"aggregations\": {\r\n",
        "    \"download_stats\": {\r\n",
        "      \"stats\": {\r\n",
        "        \"field\": \"downloadTotal\"\r\n",
        "      }\r\n",
        "    }\r\n",
        "  },\r\n",
        "  \"size\": 0\r\n",
        "}\r\n",
        "```"
      ]
    },
    {
      "cell_type": "markdown",
      "metadata": {
        "id": "9pCCpt0icjaf"
      },
      "source": [
        "```\r\n",
        "GET bigginsight/_search\r\n",
        "{\r\n",
        " \"aggregations\": {\r\n",
        "    \"download_estats\": {\r\n",
        "      \"extended_stats\": {\r\n",
        "        \"field\": \"downloadTotal\"\r\n",
        "      }\r\n",
        "    }\r\n",
        "  },\r\n",
        "  \"size\": 0\r\n",
        "}\r\n",
        "```"
      ]
    },
    {
      "cell_type": "markdown",
      "metadata": {
        "id": "d3Rmio20d8IO"
      },
      "source": [
        "**Cardinalité**\r\n",
        "\r\n",
        "Les aggrégations cardinalité permettent de retrouver le compte des valeurs uniques pour un certain champ."
      ]
    },
    {
      "cell_type": "markdown",
      "metadata": {
        "id": "-AIEHN3kPjvf"
      },
      "source": [
        "NB:\r\n",
        "\r\n",
        "Pour afficher le mapping des champs:\r\n",
        "\r\n",
        "```\r\n",
        "GET /bigginsight/_mapping\r\n",
        "```\r\n",
        "\r\n",
        "A partir de la version 7.10, pour les champs text, il faut mettre fielddata à true pour pouvoir analyser ces champs:\r\n",
        "\r\n",
        "```\r\n",
        "PUT /bigginsight/_mapping\r\n",
        "{\r\n",
        "  \"properties\": {\r\n",
        "    \"username\": {\r\n",
        "      \"type\": \"text\",\r\n",
        "      \"fielddata\": true\r\n",
        "    }\r\n",
        "  }\r\n",
        "}\r\n",
        "```"
      ]
    },
    {
      "cell_type": "markdown",
      "metadata": {
        "id": "bjmaC6mOeQdu"
      },
      "source": [
        "```\r\n",
        "GET bigginsight/_search\r\n",
        "{\r\n",
        " \"aggregations\": {\r\n",
        "    \"unique_visitors\": {\r\n",
        "      \"cardinality\": {\r\n",
        "        \"field\": \"username\"\r\n",
        "      }\r\n",
        "    }\r\n",
        "  },\r\n",
        "  \"size\": 0\r\n",
        "}\r\n",
        "```"
      ]
    },
    {
      "cell_type": "markdown",
      "metadata": {
        "id": "XRcU2UePethe"
      },
      "source": [
        "# Aggrégations Buckets"
      ]
    },
    {
      "cell_type": "markdown",
      "metadata": {
        "id": "MAsS6jE4ecmK"
      },
      "source": [
        "Les aggrégations bucket permettent de segmenter les données en petites parties."
      ]
    },
    {
      "cell_type": "markdown",
      "metadata": {
        "id": "fjfiaqeUeyPd"
      },
      "source": [
        "**Termes**"
      ]
    },
    {
      "cell_type": "markdown",
      "metadata": {
        "id": "BWnmlPLrfSdM"
      },
      "source": [
        "```\r\n",
        "GET /bigginsight/_search\r\n",
        "{\r\n",
        "  \"aggs\": {                           \r\n",
        "    \"byCategory\": {                   \r\n",
        "      \"terms\": {                      \r\n",
        "        \"field\": \"category\"           \r\n",
        "      }\r\n",
        "    }\r\n",
        "  },\r\n",
        "  \"size\": 0                           \r\n",
        "}\r\n",
        "```"
      ]
    },
    {
      "cell_type": "markdown",
      "metadata": {
        "id": "8JV4IbLumyJH"
      },
      "source": [
        "Pour filtrer les valeurs avant de regrouper, on peut utiliser la requête suivante:\r\n",
        "\r\n",
        "```\r\n",
        "GET /bigginsight/_search\r\n",
        "{\r\n",
        "  \"query\": {\r\n",
        "    \"constant_score\": {\r\n",
        "      \"filter\": {\r\n",
        "        \"terms\": {\r\n",
        "          \"category.keyword\": [\r\n",
        "            \"Chat\",\r\n",
        "            \"Blogging\"\r\n",
        "          ]\r\n",
        "        }\r\n",
        "      },\r\n",
        "      \"boost\": 1.2\r\n",
        "    }\r\n",
        "  },\r\n",
        "  \"aggs\": {\r\n",
        "    \"byCategory\": {\r\n",
        "      \"terms\": {\r\n",
        "        \"field\": \"category.keyword\"\r\n",
        "      }\r\n",
        "    }\r\n",
        "  }\r\n",
        "}\r\n",
        "```"
      ]
    },
    {
      "cell_type": "markdown",
      "metadata": {
        "id": "jbckRX7Iezwi"
      },
      "source": [
        "```\r\n",
        "GET /bigginsight/_search?size=0\r\n",
        "{\r\n",
        "  \"aggs\": {\r\n",
        "    \"byApplication\": {\r\n",
        "      \"terms\": {\r\n",
        "        \"field\": \"application\"\r\n",
        "      }\r\n",
        "    }\r\n",
        "  }\r\n",
        "}\r\n",
        "```"
      ]
    },
    {
      "cell_type": "markdown",
      "metadata": {
        "id": "MTPwBIK7fneN"
      },
      "source": [
        "```\r\n",
        "GET /bigginsight/_search?size=0\r\n",
        "{\r\n",
        "  \"aggs\": {\r\n",
        "    \"byApplication\": {\r\n",
        "      \"terms\": {\r\n",
        "        \"field\": \"application\",\r\n",
        "        \"size\": 15\r\n",
        "      }\r\n",
        "    }\r\n",
        "  }\r\n",
        "}\r\n",
        "```"
      ]
    },
    {
      "cell_type": "markdown",
      "metadata": {
        "id": "evFwmecKgmJq"
      },
      "source": [
        "**Numérique**"
      ]
    },
    {
      "cell_type": "markdown",
      "metadata": {
        "id": "mPd79SArgoNB"
      },
      "source": [
        "```\r\n",
        "POST /bigginsight/_search?size=0\r\n",
        "{\r\n",
        "  \"aggs\": {\r\n",
        "    \"by_usage\": {\r\n",
        "      \"histogram\": {\r\n",
        "        \"field\": \"usage\",\r\n",
        "        \"interval\": 1000\r\n",
        "      }\r\n",
        "    }\r\n",
        "  }\r\n",
        "}\r\n",
        "```"
      ]
    },
    {
      "cell_type": "markdown",
      "metadata": {
        "id": "VyLqJusvgwnL"
      },
      "source": [
        "```\r\n",
        "POST /bigginsight/_search?size=0\r\n",
        "{\r\n",
        "  \"aggs\": {\r\n",
        "    \"by_usage\": {\r\n",
        "      \"range\": {\r\n",
        "        \"field\": \"usage\",\r\n",
        "        \"ranges\": [\r\n",
        "          { \"to\": 1024 },\r\n",
        "          { \"from\": 1024, \"to\": 102400 },\r\n",
        "          { \"from\": 102400 }\r\n",
        "        ]\r\n",
        "      }\r\n",
        "    }\r\n",
        "  }\r\n",
        "}\r\n",
        "```"
      ]
    },
    {
      "cell_type": "markdown",
      "metadata": {
        "id": "3iP0HqUlg4u-"
      },
      "source": [
        "```\r\n",
        "POST /bigginsight/_search?size=0\r\n",
        "{\r\n",
        "  \"aggs\": {\r\n",
        "    \"by_usage\": {\r\n",
        "      \"range\": {\r\n",
        "        \"field\": \"usage\",\r\n",
        "        \"ranges\": [\r\n",
        "          { \"key\": \"Upto 1 kb\", \"to\": 1024 },\r\n",
        "          { \"key\": \"1 kb to 100 kb\",\"from\": 1024, \"to\": 102400 },\r\n",
        "          { \"key\": \"100 kb and more\", \"from\": 102400 }\r\n",
        "        ]\r\n",
        "      }\r\n",
        "    }\r\n",
        "  }\r\n",
        "}\r\n",
        "```"
      ]
    },
    {
      "cell_type": "markdown",
      "metadata": {
        "id": "bK7TxeIWhB6q"
      },
      "source": [
        "**Aggrégations sur les données filtrées**\r\n",
        "\r\n",
        "```\r\n",
        "GET /bigginsight/_search?size=0\r\n",
        "{\r\n",
        "  \"query\": {\r\n",
        "    \"term\": {\r\n",
        "      \"customer\": \"Linkedin\"\r\n",
        "    }\r\n",
        "  }, \r\n",
        "  \"aggs\": {                           \r\n",
        "    \"byCategory\": {                   \r\n",
        "      \"terms\": {                      \r\n",
        "        \"field\": \"category\"           \r\n",
        "      }\r\n",
        "    }\r\n",
        "  }\r\n",
        "}\r\n",
        "```\r\n",
        "\r\n",
        "```\r\n",
        "GET /bigginsight/_search?size=0\r\n",
        "{\r\n",
        "  \"query\": {\r\n",
        "    \"bool\": {\r\n",
        "      \"must\": [\r\n",
        "        {\"term\": {\"customer\": \"Linkedin\"}}, \r\n",
        "        {\"range\": {\"time\": {\"gte\": 1506277800000, \"lte\": 1506294200000}}}\r\n",
        "      ]\r\n",
        "    }\r\n",
        "  },\r\n",
        "  \"aggs\": {\r\n",
        "    \"byCategory\": {\r\n",
        "      \"terms\": {\r\n",
        "        \"field\": \"category\"\r\n",
        "      }\r\n",
        "    }\r\n",
        "  }\r\n",
        "}\r\n",
        "```"
      ]
    },
    {
      "cell_type": "markdown",
      "metadata": {
        "id": "XOZ64xoRhkBC"
      },
      "source": [
        "**Imbriquer des aggrégations**\r\n",
        "\r\n",
        "```\r\n",
        "GET /bigginsight/_search?size=0\r\n",
        "{\r\n",
        "  \"query\": {                                      \r\n",
        "    \"bool\": {\r\n",
        "      \"must\": [\r\n",
        "        {\"term\": {\"customer\": \"Linkedin\"}}, \r\n",
        "        {\"range\": {\"time\": {\"gte\": 1506257800000, \"lte\": 1506314200000}}}\r\n",
        "      ]\r\n",
        "    }\r\n",
        "  },\r\n",
        "  \"aggs\": {\r\n",
        "    \"by_users\": {                                 \r\n",
        "      \"terms\": {\r\n",
        "        \"field\": \"username\"\r\n",
        "      },\r\n",
        "      \"aggs\": {\r\n",
        "        \"total_usage\": {                          \r\n",
        "          \"sum\": { \"field\": \"usage\" }\r\n",
        "        }\r\n",
        "      }\r\n",
        "    }\r\n",
        "  }\r\n",
        "}\r\n",
        "```\r\n",
        "\r\n",
        "On peut également trier selon un groupe:\r\n",
        "\r\n",
        "```\r\n",
        "GET /bigginsight/_search?size=0\r\n",
        "{\r\n",
        "  \"query\": {                                                  \r\n",
        "    \"bool\": {\r\n",
        "      \"must\": [\r\n",
        "        {\"term\": {\"customer.keyword\": \"Linkedin\"}}, \r\n",
        "        {\"range\": {\"time\": {\"gte\": 1506257800000, \"lte\": 1506314200000}}}\r\n",
        "      ]\r\n",
        "    }\r\n",
        "  },\r\n",
        "  \"aggs\": {\r\n",
        "    \"by_departments\": {                                       \r\n",
        "      \"terms\": { \"field\": \"department.keyword\" },               \r\n",
        "      \"aggs\": {\r\n",
        "        \"by_users\": {                                         \r\n",
        "          \"terms\": {\r\n",
        "            \"field\": \"username.keyword\",\r\n",
        "            \"size\": 2,                                        \r\n",
        "            \"order\": { \"total_usage\": \"desc\"}\r\n",
        "          },\r\n",
        "          \"aggs\": {\r\n",
        "            \"total_usage\": {\"sum\": { \"field\": \"usage\" }}      \r\n",
        "          }\r\n",
        "        }\r\n",
        "      }\r\n",
        "    }\r\n",
        "  }\r\n",
        "}\r\n",
        "```"
      ]
    },
    {
      "cell_type": "markdown",
      "metadata": {
        "id": "vyiBXBNaio4Z"
      },
      "source": [
        "**Filtrer une aggrégation**\r\n",
        "\r\n",
        "```\r\n",
        "POST /bigginsight/_search?size=0\r\n",
        "{\r\n",
        "  \"aggs\": {\r\n",
        "    \"chat\": {\r\n",
        "      \"filter\": {\r\n",
        "        \"term\": {\r\n",
        "          \"category\": \"Chat\"\r\n",
        "        }\r\n",
        "      }\r\n",
        "    }\r\n",
        "  }\r\n",
        "}\r\n",
        "```\r\n",
        "\r\n",
        "On peut également utiliser plusieurs filtres:\r\n",
        "\r\n",
        "```\r\n",
        "GET bigginsight/_search?size=0\r\n",
        "{\r\n",
        "  \"aggs\": {\r\n",
        "    \"messages\": {\r\n",
        "      \"filters\": {\r\n",
        "        \"filters\": {\r\n",
        "          \"chat\": { \"match\": { \"category\": \"Chat\" }},              \r\n",
        "          \"skype\": { \"match\": { \"application\": \"Skype\" }},         \r\n",
        "          \"other_than_skype\": {                                    \r\n",
        "            \"bool\": {\r\n",
        "              \"must\": {\"match\": {\"category\": \"Chat\"}},\r\n",
        "              \"must_not\": {\"match\": {\"application\": \"Skype\"}}\r\n",
        "            }\r\n",
        "          }\r\n",
        "        }\r\n",
        "      }\r\n",
        "    }\r\n",
        "  }\r\n",
        "}\r\n",
        "```\r\n"
      ]
    },
    {
      "cell_type": "markdown",
      "metadata": {
        "id": "bqEZx2BFjnvR"
      },
      "source": [
        "**Date/Time**\r\n",
        "\r\n",
        "Les aggrégations histogramme de date permettent de créer des buckets pour un champs date.\r\n",
        "\r\n",
        "```\r\n",
        "GET /bigginsight/_search?size=0       \r\n",
        "{\r\n",
        "  \"aggs\": {\r\n",
        "    \"counts_over_time\": {\r\n",
        "      \"date_histogram\": {                         \r\n",
        "        \"field\": \"time\",\r\n",
        "        \"interval\": \"1d\"                          \r\n",
        "      }\r\n",
        "    }\r\n",
        "  }\r\n",
        "}\r\n",
        "```\r\n",
        "\r\n",
        "On peut préciser le fuseau horaire \"time zone\":\r\n",
        "\r\n",
        "```\r\n",
        "GET /bigginsight/_search?size=0\r\n",
        "{\r\n",
        "  \"aggs\": {\r\n",
        "    \"counts_over_time\": {\r\n",
        "      \"date_histogram\": {\r\n",
        "        \"field\": \"time\",\r\n",
        "        \"interval\": \"1d\",\r\n",
        "        \"time_zone\": \"+05:30\"\r\n",
        "      }\r\n",
        "    }\r\n",
        "  }\r\n",
        "}\r\n",
        "```\r\n",
        "\r\n",
        "On peut afficher les données par intervalles de temps:\r\n",
        "\r\n",
        "```\r\n",
        "GET /bigginsight/_search?size=0\r\n",
        "{\r\n",
        "  \"query\": { \"term\": {\"customer\": \"Linkedin\"} },\r\n",
        "  \"aggs\": {\r\n",
        "    \"counts_over_time\": {\r\n",
        "      \"date_histogram\": {\r\n",
        "        \"field\": \"time\",\r\n",
        "        \"interval\": \"1d\",\r\n",
        "        \"time_zone\": \"+05:30\"\r\n",
        "      },\r\n",
        "      \"aggs\": {\r\n",
        "        \"total_bandwidth\": {\r\n",
        "          \"sum\": { \"field\": \"usage\" }\r\n",
        "        }\r\n",
        "      }\r\n",
        "    }\r\n",
        "  }\r\n",
        "}\r\n",
        "```\r\n",
        "\r\n",
        "On peut faire des aggrégations par heure:\r\n",
        "\r\n",
        "```\r\n",
        "GET /bigginsight/_search?size=0\r\n",
        "{\r\n",
        "  \"query\": {\r\n",
        "    \"bool\": {\r\n",
        "      \"must\": [\r\n",
        "        {\"term\": {\"customer\": \"Linkedin\"}}, \r\n",
        "        {\"range\": {\"time\": {\"gte\": 1506277800000}}}\r\n",
        "      ]\r\n",
        "    }\r\n",
        "  },\r\n",
        "  \"aggs\": {\r\n",
        "    \"counts_over_time\": {\r\n",
        "      \"date_histogram\": {\r\n",
        "        \"field\": \"time\",\r\n",
        "        \"interval\": \"1h\",\r\n",
        "        \"time_zone\": \"+05:30\"\r\n",
        "      },\r\n",
        "      \"aggs\": {\r\n",
        "        \"hourly_usage\": {\r\n",
        "          \"sum\": { \"field\": \"usage\" }\r\n",
        "        }\r\n",
        "      }\r\n",
        "    }\r\n",
        "  }\r\n",
        "}\r\n",
        "```"
      ]
    },
    {
      "cell_type": "markdown",
      "metadata": {
        "id": "bjCNq3RnmAD4"
      },
      "source": [
        "**Géolocalisation**\r\n",
        "\r\n",
        "On peut utiliser les coordonnées géospatiales pour créer des buckets en spécifiant une distance depuis l'origine.\r\n",
        "\r\n",
        "```\r\n",
        "GET bigginsight/_search?size=0\r\n",
        "{\r\n",
        "  \"aggs\": {\r\n",
        "    \"within_radius\": {\r\n",
        "      \"geo_distance\": {\r\n",
        "        \"field\": \"location\",\r\n",
        "        \"origin\": {\"lat\": 23.102869,\"lon\": 72.595692},\r\n",
        "        \"ranges\": [{\"to\": 5}]\r\n",
        "      }\r\n",
        "    }\r\n",
        "  }\r\n",
        "}\r\n",
        "```\r\n",
        "\r\n",
        "ou en spécifiant un intervalle:\r\n",
        "\r\n",
        "```\r\n",
        "GET bigginsight/_search?size=0\r\n",
        "{\r\n",
        "  \"aggs\": {\r\n",
        "    \"within_radius\": {\r\n",
        "      \"geo_distance\": {\r\n",
        "        \"field\": \"location\",\r\n",
        "        \"origin\": {\"lat\": 23.102869,\"lon\": 72.595692},\r\n",
        "        \"ranges\": [{\"from\": 5, \"to\": 10}]\r\n",
        "      }\r\n",
        "    }\r\n",
        "  }\r\n",
        "}\r\n",
        "```\r\n",
        "\r\n",
        "On peut également utiliser les geohash qui sont sous forme rectangulaire pour aggréger les données selon la zone géographique:\r\n",
        "\r\n",
        "```\r\n",
        "GET bigginsight/_search?size=0\r\n",
        "{\r\n",
        "  \"aggs\": {\r\n",
        "    \"geo_hash\": {\r\n",
        "      \"geohash_grid\": {\r\n",
        "        \"field\": \"location\",\r\n",
        "        \"precision\": 7\r\n",
        "      }\r\n",
        "    }\r\n",
        "  }\r\n",
        "}\r\n",
        "```\r\n",
        "\r\n"
      ]
    },
    {
      "cell_type": "markdown",
      "metadata": {
        "id": "5ItfTY5eewtB"
      },
      "source": [
        "# Pipeline"
      ]
    },
    {
      "cell_type": "markdown",
      "metadata": {
        "id": "4mRoK4R7oHFd"
      },
      "source": [
        "Les aggrégations pipeline permettent d'aggréger le résultat d'une autre aggrégation.\r\n",
        "\r\n",
        "```\r\n",
        "GET /bigginsight/_search?size=0\r\n",
        "{\r\n",
        "  \"query\": {\r\n",
        "    \"bool\": {\r\n",
        "      \"must\": [\r\n",
        "        {\"term\": {\"customer\": \"Linkedin\"}}, \r\n",
        "        {\"range\": {\"time\": {\"gte\": 1506277800000}}}\r\n",
        "      ]\r\n",
        "    }\r\n",
        "  },\r\n",
        "  \"aggs\": {\r\n",
        "    \"counts_over_time\": {\r\n",
        "      \"date_histogram\": {\r\n",
        "        \"field\": \"time\",\r\n",
        "        \"interval\": \"1h\",\r\n",
        "        \"time_zone\": \"+05:30\"\r\n",
        "      },\r\n",
        "      \"aggs\": {\r\n",
        "        \"hourly_usage\": {\r\n",
        "          \"sum\": { \"field\": \"usage\" }\r\n",
        "        },\r\n",
        "        \"cumulative_hourly_usage\": {         \r\n",
        "          \"cumulative_sum\": {                 \r\n",
        "              \"buckets_path\": \"hourly_usage\"   \r\n",
        "          }\r\n",
        "        }\r\n",
        "      }\r\n",
        "    }\r\n",
        "  }\r\n",
        "}\r\n",
        "```"
      ]
    },
    {
      "cell_type": "code",
      "metadata": {
        "id": "k9tK5TH0ek5f"
      },
      "source": [
        ""
      ],
      "execution_count": null,
      "outputs": []
    }
  ]
}