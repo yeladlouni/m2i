{
  "nbformat": 4,
  "nbformat_minor": 0,
  "metadata": {
    "colab": {
      "name": "Recherche.ipynb",
      "provenance": [],
      "collapsed_sections": []
    },
    "kernelspec": {
      "name": "python3",
      "display_name": "Python 3"
    }
  },
  "cells": [
    {
      "cell_type": "markdown",
      "metadata": {
        "id": "Z8jYvy8ilJ8U"
      },
      "source": [
        "![m2i.png](data:image/png;base64,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)"
      ]
    },
    {
      "cell_type": "markdown",
      "metadata": {
        "id": "nq9KsesXlJGa"
      },
      "source": [
        "Parmi les points forts de Elasticsearch est sa capacité de recherche."
      ]
    },
    {
      "cell_type": "markdown",
      "metadata": {
        "id": "8wmBtJkO9pla"
      },
      "source": [
        "# Les bases de l'analyse textuelle"
      ]
    },
    {
      "cell_type": "markdown",
      "metadata": {
        "id": "tX7hTl6094uJ"
      },
      "source": [
        "L'analyse du texte est différente de l'analyse de données des autres types tels que les nombres et les dates.L'analyse des données numériques et des dates peut être faites d'une manière plus définitive. Par exemple, si on cherche tous les enregistrements avec un prix supérieur ou égal à 50, le résultat est simple pour chaque enregistrement.\r\n",
        "\r\n",
        "L'analyse du texte est différente puisque le texte est de nature différente."
      ]
    },
    {
      "cell_type": "markdown",
      "metadata": {
        "id": "LoBmLP25CndJ"
      },
      "source": [
        "# Analyseurs Elasticsearch"
      ]
    },
    {
      "cell_type": "markdown",
      "metadata": {
        "id": "NVX1scNUC0Zi"
      },
      "source": [
        "La tâche principale d'un analyseur est de prendre la valeur d'un champs et le décomposer en plusieurs mots, il permet d'extraire les termes à partir à partir des champs contenus dans chaque document. Ces termes nous aident à trouver les documents qui contiennent les termes de recherche.\r\n",
        "\r\n",
        "L'analyseur performe ce processus de décomposition des chaînes de caractères en plusieurs termes, ceci est effectué à deux reprises:\r\n",
        "\r\n",
        "* Lors de l'indexation\r\n",
        "* Lors de la recherche\r\n",
        "\r\n",
        "La tâche principale de l'analyseur est d'analyser les champs du document et construire l'indexe.\r\n",
        "\r\n",
        "Chaque champs de type texte a besoin d'être analysé avant que le document soit indexé. Les analyseurs peuvent être configurés pour chaque champs, il est possible d'avoir deux champs text dans le même document, chacun utilisant un analyseur différent.\r\n",
        "\r\n",
        "Elasticsearch utilise les analyseurs afin d'analyser les données textuelles, un analyseur posssède les composants suivants:\r\n",
        "\r\n",
        "* Filtres de caractères\r\n",
        "* Tokenizer\r\n",
        "* Filtres de tokens"
      ]
    },
    {
      "cell_type": "markdown",
      "metadata": {
        "id": "w_Wfv3AZFgK6"
      },
      "source": [
        "**Filtres de caractères**\r\n",
        "\r\n",
        "Lors de la création d'un analyseur, on peut configurer un ou plusieurs filtres de caractères. Un filtre de caractères agit sur un flux de caractères à partir du champs en entrée. Chaque filtre de caractères peut ajouter, supprimer ou modifier les caractères dans le champs en entrée.\r\n",
        "\r\n",
        "Elasticsearch possède quelques filtres de caractères qui peuvent être utilisés pour composer ou créer notre propre analyseur.\r\n",
        "\r\n",
        "Parmi les filtres de caractères contenus dans Elasticsearch, on trouve le filtre Mapping Char. Il relie un caractère ou une séquence de caractères avec des caractères cibles.\r\n",
        "\r\n",
        "Par exemple, il est possible de transformer les émoticones en un texte qui les représente:\r\n",
        "\r\n",
        "* :) doit être traduite vers _smile_\r\n",
        "* :( doit être traduite vers _sad_\r\n",
        "* :D doit être traduite vers _laugh_"
      ]
    },
    {
      "cell_type": "markdown",
      "metadata": {
        "id": "sPsjxsrqG-41"
      },
      "source": [
        "**Tokenizer**\r\n",
        "\r\n",
        "Un analyseur possède un seul tokenizer. La responsabilité d'un tokenizer est de recevoir un stream de caractères et de générer un stream de tokens. Ces tokens sont utilisés pour construire une indexe inversée. Un token est presque équivalent à un mot. En plus de décomposer les caractères en mots ou tokens, il produit également à la sortie l'indice de début et de fin de chaque token dans le flux d'entrée.\r\n",
        "\r\n",
        "Plusieurs tokenizers contenus dans Elasticsearch peuvent être utilisés afin de composer un analyseur personnalisé, ces tokenizers sont également utilisés par Elasticsearch pour composer ses analyseurs.\r\n",
        "\r\n",
        "Standard Tokenizer est l'un des tokenizers les plus utilisés comme il est adapté pour plusieurs langages. Il utilise les caractères blancs et la ponctuation pour décomposer un flux en entrée.\r\n",
        "\r\n",
        "```\r\n",
        "POST _analyze\r\n",
        "{\r\n",
        "  \"tokenizer\": \"standard\",\r\n",
        "  \"text\": \"Tokenizer breaks characters into tokens!\"\r\n",
        "}\r\n",
        "```"
      ]
    },
    {
      "cell_type": "markdown",
      "metadata": {
        "id": "duMnCXIdLQY1"
      },
      "source": [
        "**Filtres de tokens**\r\n",
        "\r\n",
        "Il peut y avoir zéro ou plusieurs filtres de tokens dans un analyseur. Chaque filtre peut ajouter, supprimer ou modifier les tokens dans le flux d'entrée qu'il reçoit. Puisqu'il est possible d'avoir plusieurs filtres de tokens dans un analyseur, la sortie de chaque filtre est envoyée au suivant.\r\n",
        "\r\n",
        "Elasticsearch possède plusieurs filtres de tokens et peuvent être utilisés pour composer nos propres analyseurs:\r\n",
        "\r\n",
        "* Filtre tokens lowercase: remplace tous les tokens avec leurs équivalents en minuscules\r\n",
        "* Filtre anti-dictionnaire: supprimes les mots anti-dictionnaire de l'entrée.\r\n"
      ]
    },
    {
      "cell_type": "markdown",
      "metadata": {
        "id": "ztnEQ9yDMeB8"
      },
      "source": [
        "**Utilisation des analyseurs intégrés**\r\n",
        "\r\n",
        "Elasticsearch possède plusieurs analyseurs intégrés qui peuvent être utilisés directement. La plupart de ces analyseurs fonctionnent sans configuration:\r\n",
        "\r\n",
        "* Analyseur Standard: L'analyseur par défaut de Elasticsearch.\r\n",
        "* Analyseurs des langages: Chaque langage possède ses règles grammaticales."
      ]
    },
    {
      "cell_type": "markdown",
      "metadata": {
        "id": "IYEcBVZ0BP5Z"
      },
      "source": [
        "**Analyseur Standard**\r\n",
        "\r\n",
        "L'analyseur standard est adapté pour plusieurs langages et situations. Il peut être aussi personnalisé pour un langage ou une sitatuation, il est composé des composants suivants:\r\n",
        "\r\n",
        "* Standard tokenizer: Il décompose le texte en plusieurs tokens en utilisant les caractères blancs comme séparateurs.\r\n",
        "* Filtre de tokens:\r\n",
        "  - standard token filter: réservé pour les versions ultérieurs \"placeholder\"\r\n",
        "  - lowercase token filter: transforme les tokens en minuscules\r\n",
        "  - stop token filter: supprime les mots anti-dictionnaire \"stopwords\" spécifiés\r\n"
      ]
    },
    {
      "cell_type": "markdown",
      "metadata": {
        "id": "P2EtT90kFHfe"
      },
      "source": [
        "\r\n",
        "```\r\n",
        "PUT index_standard_analyzer\r\n",
        "{\r\n",
        "  \"settings\": {\r\n",
        "    \"analysis\": {\r\n",
        "      \"analyzer\": {\r\n",
        "        \"std\": { \r\n",
        "          \"type\": \"standard\"\r\n",
        "        }\r\n",
        "      }\r\n",
        "    }\r\n",
        "  },\r\n",
        "  \"mappings\": {\r\n",
        "    \"properties\": {\r\n",
        "      \"my_text\": {\r\n",
        "        \"type\": \"text\",\r\n",
        "        \"analyzer\": \"std\"\r\n",
        "      }\r\n",
        "    }\r\n",
        "  }\r\n",
        "}\r\n",
        "```\r\n",
        "\r\n",
        "La commande permet de créer l'analyseur index_standard_analyzer:\r\n",
        "* settings permet de définir explicitement un seul analyseur avec le nom std, le type de l'analyseur est **standard**.\r\n",
        "* mappings permet de créer un seul type _doc dans l'indexe avec un seul champs my_text.\r\n",
        "\r\n",
        "On peut utiliser _analyze pour analyser un texte:\r\n",
        "\r\n",
        "```\r\n",
        "POST index_standard_analyzer/_analyze\r\n",
        "{\r\n",
        "  \"field\": \"my_text\", \r\n",
        "  \"text\": \"The Standard Analyzer works this way.\"\r\n",
        "}\r\n",
        "```\r\n",
        "\r\n",
        "Par défaut, standard analyzer est appliqué et aucune liste anti-dictionnaire n'est utilisé.\r\n",
        "\r\n",
        "On peut spécifier une liste ```_english``` en utilisant la commande suivante:\r\n",
        "\r\n",
        "```\r\n",
        "PUT index_standard_analyzer_english_stopwords\r\n",
        "{\r\n",
        "  \"settings\": {\r\n",
        "    \"analysis\": {\r\n",
        "      \"analyzer\": {\r\n",
        "        \"std\": { \r\n",
        "          \"type\": \"standard\",\r\n",
        "          \"stopwords\": \"_english_\"\r\n",
        "        }\r\n",
        "      }\r\n",
        "    }\r\n",
        "  },\r\n",
        "  \"mappings\": {\r\n",
        "    \"properties\": {\r\n",
        "      \"my_text\": {\r\n",
        "        \"type\": \"text\",\r\n",
        "        \"analyzer\": \"std\"\r\n",
        "      }\r\n",
        "    }\r\n",
        "  }\r\n",
        "}\r\n",
        "```\r\n",
        "\r\n",
        "On peut également spécifier une liste de mots à la place de la classe ```_english_```.\r\n",
        "\r\n",
        "On peut tester l'analyseur crée à travers la commande:\r\n",
        "\r\n",
        "```\r\n",
        "POST index_standard_analyzer_english_stopwords/_analyze\r\n",
        "{\r\n",
        "  \"field\": \"my_text\", \r\n",
        "  \"text\": \"The Standard Analyzer works this way.\"\r\n",
        "}\r\n",
        "```\r\n"
      ]
    },
    {
      "cell_type": "markdown",
      "metadata": {
        "id": "OGLgKIV_HM-p"
      },
      "source": [
        "# Recherche des données structurées"
      ]
    },
    {
      "cell_type": "markdown",
      "metadata": {
        "id": "JMbbRcZEIMHJ"
      },
      "source": [
        "**Range**\r\n",
        "\r\n",
        "Les requêtes range peuvent être appliquées sur les champs avec des types de données qui ont un ordre défini, par exemple integers, logs et dates.\r\n",
        "\r\n",
        "```\r\n",
        "GET /amazon_products/_search\r\n",
        "{\r\n",
        "  \"query\": {\r\n",
        "    \"range\": {\r\n",
        "      \"price\": {\r\n",
        "        \"gte\": 10,\r\n",
        "        \"lte\": 20\r\n",
        "      }\r\n",
        "    }\r\n",
        "  }\r\n",
        "}\r\n",
        "```\r\n",
        "\r\n",
        "On peut également l'appliquer pour les dates:\r\n",
        "\r\n",
        "```\r\n",
        "GET /orders/_search\r\n",
        "{\r\n",
        "    \"query\": {\r\n",
        "        \"range\" : {\r\n",
        "            \"orderDate\" : {\r\n",
        "                \"gte\": \"01/09/2017\",\r\n",
        "                \"lte\": \"30/09/2017\",\r\n",
        "                \"format\": \"dd/MM/yyyy\"\r\n",
        "            }\r\n",
        "        }\r\n",
        "    }\r\n",
        "}\r\n",
        "```\r\n",
        "\r\n",
        "On peut également utiliser des termes spéciaux comme **now** pour dénoter la date du jour:\r\n",
        "\r\n",
        "```\r\n",
        "GET /orders/_search\r\n",
        "{\r\n",
        "    \"query\": {\r\n",
        "        \"range\" : {\r\n",
        "            \"orderDate\" : {\r\n",
        "                \"gte\": \"now-7d\",\r\n",
        "                \"lte\": \"now\"\r\n",
        "            }\r\n",
        "        }\r\n",
        "    }\r\n",
        "}\r\n",
        "```\r\n"
      ]
    },
    {
      "cell_type": "markdown",
      "metadata": {
        "id": "RhKZ4wjIJbE1"
      },
      "source": [
        "**Exists**\r\n",
        "\r\n",
        "Permet de retourner les documents qui ont un champ non null et non vide:\r\n",
        "\r\n",
        "```\r\n",
        "GET /amazon_products/_search {\r\n",
        "  \"query\": {\r\n",
        "    \"exists\": {\r\n",
        "      \"field\": \"description\"\r\n",
        "    }  \r\n",
        "  }\r\n",
        "}\r\n",
        "```"
      ]
    },
    {
      "cell_type": "markdown",
      "metadata": {
        "id": "rHz9KJy2KSgt"
      },
      "source": [
        "**Term**\r\n",
        "\r\n",
        "Les requêtes term permettent de chercher un contenu texte exact dans les champs.\r\n",
        "\r\n",
        "```\r\n",
        "GET /amazon_products/_search\r\n",
        "{\r\n",
        "  \"query\": {\r\n",
        "    \"term\": {\r\n",
        "      \"manufacturer.raw\": \"victory multimedia\"\r\n",
        "    }\r\n",
        "  }\r\n",
        "}\r\n",
        "```"
      ]
    },
    {
      "cell_type": "markdown",
      "metadata": {
        "id": "P2gxJffTK8P8"
      },
      "source": [
        "# Recherche textuelle"
      ]
    },
    {
      "cell_type": "markdown",
      "metadata": {
        "id": "fC-IblDNNKvG"
      },
      "source": [
        "Les recherches textuelles s'appliquent aux champs non structurés. Ces requêtes utilisent le processus d'analyse où l'analyseur est appliqué sur les termes de la requête."
      ]
    },
    {
      "cell_type": "markdown",
      "metadata": {
        "id": "Rzh-bVTCNnLj"
      },
      "source": [
        "**Match**\r\n",
        "\r\n",
        "Si **match** est appliqué sur un champ keyword, la recherche est effectué sur le terme sans analyse:\r\n",
        "\r\n",
        "```\r\n",
        "GET /amazon_products/_search\r\n",
        "{\r\n",
        "  \"query\": {\r\n",
        "    \"match\": {\r\n",
        "      \"manufacturer.raw\": \"victory multimedia\"\r\n",
        "    }\r\n",
        "  }\r\n",
        "}\r\n",
        "```\r\n",
        "\r\n",
        "La requête est converti à une requête **term**:\r\n",
        "\r\n",
        "```\r\n",
        "GET /amazon_products/_search\r\n",
        "{\r\n",
        "  \"query\": {\r\n",
        "    \"term\": {\r\n",
        "      \"manufacturer.raw\": \"victory multimedia\"\r\n",
        "    }\r\n",
        "  }\r\n",
        "}\r\n",
        "```\r\n",
        "\r\n",
        "Si la requête est appliqué sur un champ text:\r\n",
        "\r\n",
        "```\r\n",
        "GET /amazon_products/_search\r\n",
        "{\r\n",
        "  \"query\": {\r\n",
        "    \"match\": {\r\n",
        "      \"manufacturer\": \"victory multimedia\"\r\n",
        "    }\r\n",
        "  }\r\n",
        "}\r\n",
        "```\r\n"
      ]
    },
    {
      "cell_type": "markdown",
      "metadata": {
        "id": "XMhd8M2IPIMk"
      },
      "source": [
        "**Operator**\r\n",
        "\r\n",
        "Par défaut, la recherche textuelle avec match utilise l'opérateur **or** pour combiner combiner les résultats, on peut utiliser l'opérateur **and** également:\r\n",
        "\r\n",
        "```\r\n",
        "GET /amazon_products/_search {\r\n",
        "  \"query\": {\r\n",
        "    \"match\": {\r\n",
        "      \"manufacturer\": {\r\n",
        "        \"query\": \"victory multimedia\",\r\n",
        "        \"operator\": \"and\"\r\n",
        "      }\r\n",
        "    }  \r\n",
        "  }\r\n",
        "}\r\n",
        "```"
      ]
    },
    {
      "cell_type": "markdown",
      "metadata": {
        "id": "ggboQxlVQC5s"
      },
      "source": [
        "**Minimum shoud match**\r\n",
        "\r\n",
        "On peut également spécifier combien de termes doivent matcher:\r\n",
        "\r\n",
        "```\r\n",
        "GET /amazon_products/_search\r\n",
        "{\r\n",
        "  \"query\": {\r\n",
        "    \"match\": {\r\n",
        "      \"manufacturer\": {\r\n",
        "        \"query\": \"victory multimedia\",\r\n",
        "        \"minimum_should_match\": 2\r\n",
        "      }\r\n",
        "    }\r\n",
        "  }\r\n",
        "}\r\n",
        "```"
      ]
    },
    {
      "cell_type": "markdown",
      "metadata": {
        "id": "QOkNNRIgQlzG"
      },
      "source": [
        "**Fuzziness**\r\n",
        "\r\n",
        "On peut utiliser le paramètre fuzziness pour transformer la requête en une requête fuzzy, elle se base sur la distance de Levenshtein \"edit distance\" pour convertir un terme vers un autre en utilisant une série de modifications (insertions, suppressions, substitutions), le paramètre fuzziness peut prendre l'une des valeur 0, 1, 2, AUTO.\r\n",
        "\r\n",
        "```\r\n",
        "GET /amazon_products/_search {\r\n",
        "  \"query\": {\r\n",
        "    \"match\": {\r\n",
        "      \"manufacturer\": {\r\n",
        "        \"query\": \"victor multimedia\",\r\n",
        "        \"fuzziness\": 1\r\n",
        "      }\r\n",
        "    }  \r\n",
        "  }\r\n",
        "}\r\n",
        "```"
      ]
    },
    {
      "cell_type": "markdown",
      "metadata": {
        "id": "8dKWbyi3R2nD"
      },
      "source": [
        "**Match phrase**\r\n",
        "\r\n",
        "Pour matcher une séquence de termes au lieu des termes individuels, on peut utiliser match_phrase:\r\n",
        "\r\n",
        "```\r\n",
        "GET /amazon_products/_search\r\n",
        "{\r\n",
        "  \"query\": {\r\n",
        "    \"match_phrase\": {\r\n",
        "      \"description\": {\r\n",
        "        \"query\": \"real video saltware aquarium\"\r\n",
        "      }\r\n",
        "    }\r\n",
        "  }\r\n",
        "}\r\n",
        "```\r\n",
        "\r\n",
        "Les requêtes match_phrase acceptent un paramètre slop qui permet de spécifier le nombre de mots qu'on peut ignorer:\r\n",
        "\r\n",
        "```\r\n",
        "GET /amazon_products/_search\r\n",
        "{\r\n",
        "  \"query\": {\r\n",
        "    \"match_phrase\": {\r\n",
        "      \"description\": {\r\n",
        "        \"query\": \"real video aquarium\",\r\n",
        "        \"slop\": 1\r\n",
        "      }\r\n",
        "    }\r\n",
        "  }\r\n",
        "}\r\n",
        "```\r\n"
      ]
    },
    {
      "cell_type": "markdown",
      "metadata": {
        "id": "BbahTXuCU7BJ"
      },
      "source": [
        "**Multi match**\r\n",
        "\r\n",
        "La requête multi match est une extension de la requête match qui permet d'exécuter la requête sur plusieurs champs.\r\n",
        "\r\n",
        "```\r\n",
        "GET /amazon_products/_search\r\n",
        "{\r\n",
        "  \"query\": {\r\n",
        "    \"multi_match\": {\r\n",
        "      \"query\": \"monitor aquarium\", \r\n",
        "      \"fields\": [\"title\", \"description\"]\r\n",
        "    }\r\n",
        "  }\r\n",
        "}\r\n",
        "```\r\n",
        "\r\n",
        "On peut utiliser booster un champ:\r\n",
        "\r\n",
        "```\r\n",
        "GET /amazon_products/_search {\r\n",
        "  \"query\": {\r\n",
        "    \"multi_match\": {\r\n",
        "      \"query\": \"monitor aquarium\",\r\n",
        "      \"fields\": [\"title^3\", \"description\"]    \r\n",
        "    }  \r\n",
        "  }\r\n",
        "}\r\n",
        "```"
      ]
    },
    {
      "cell_type": "markdown",
      "metadata": {
        "id": "9YXwjAlkX2qF"
      },
      "source": [
        "# Requêtes composées"
      ]
    },
    {
      "cell_type": "markdown",
      "metadata": {
        "id": "jhSOkavLat_h"
      },
      "source": [
        "**constant score**\r\n",
        "\r\n",
        "```\r\n",
        "GET /amazon_products/_search\r\n",
        "{\r\n",
        "  \"query\": {\r\n",
        "    \"constant_score\": {\r\n",
        "      \"filter\": {\r\n",
        "        \"term\": {\r\n",
        "          \"manufacturer.raw\": \"victory multimedia\"\r\n",
        "        }\r\n",
        "      }\r\n",
        "    }\r\n",
        "  }\r\n",
        "}\r\n",
        "```\r\n",
        "\r\n",
        "On peut utiliser le paramètre boost pour affecter un score donné:\r\n",
        "\r\n",
        "```\r\n",
        "GET /amazon_products/_search\r\n",
        "{\r\n",
        "  \"query\": {\r\n",
        "    \"constant_score\": {\r\n",
        "      \"filter\": {\r\n",
        "        \"term\": {\r\n",
        "          \"manufacturer.raw\": \"victory multimedia\"\r\n",
        "          \r\n",
        "        }\r\n",
        "      },\r\n",
        "      \"boost\": 1.2\r\n",
        "    }\r\n",
        "  }\r\n",
        "}\r\n",
        "```"
      ]
    },
    {
      "cell_type": "markdown",
      "metadata": {
        "id": "yVhvjQ3RbTn2"
      },
      "source": [
        "**Bool**\r\n",
        "\r\n",
        "Les requêtes booléennes permettent de combiner plusieurs requêtes:\r\n",
        "\r\n",
        "```\r\n",
        "GET /amazon_products/_search\r\n",
        "{\r\n",
        "  \"query\": {\r\n",
        "    \"constant_score\": {\r\n",
        "      \"filter\": {\r\n",
        "        \"bool\": {\r\n",
        "          \"should\": [\r\n",
        "            {\r\n",
        "              \"range\": {\r\n",
        "                \"price\": {\r\n",
        "                  \"gte\": 10,\r\n",
        "                  \"lte\": 13\r\n",
        "                }\r\n",
        "              }\r\n",
        "            },\r\n",
        "            {\r\n",
        "              \"term\": {\r\n",
        "                \"manufacturer.raw\": {\r\n",
        "                  \"value\": \"valuesoft\"\r\n",
        "                }\r\n",
        "              }\r\n",
        "            }\r\n",
        "        }\r\n",
        "      }\r\n",
        "    }\r\n",
        "  }\r\n",
        "}\r\n",
        "```\r\n",
        "On peut ajouter des conditions NOT:\r\n",
        "\r\n",
        "```\r\n",
        "GET /amazon_products/_search\r\n",
        "{\r\n",
        "  \"query\": {\r\n",
        "    \"constant_score\": {\r\n",
        "      \"filter\": {\r\n",
        "        \"bool\": {\r\n",
        "          \"must\": [\r\n",
        "            {\r\n",
        "              \"range\": {\r\n",
        "                \"price\": {\r\n",
        "                  \"gte\": 10,\r\n",
        "                  \"lte\": 20\r\n",
        "                }\r\n",
        "              }\r\n",
        "                   }\r\n",
        "          ],\r\n",
        "          \"must_not\": [\r\n",
        "            {\r\n",
        "              \"term\": {\r\n",
        "                \"manufacturer.raw\": \"encore\"\r\n",
        "              }\r\n",
        "            }\r\n",
        "          ]\r\n",
        "        }\r\n",
        "      }\r\n",
        "    }\r\n",
        "  }\r\n",
        "}\r\n",
        "```\r\n"
      ]
    },
    {
      "cell_type": "code",
      "metadata": {
        "id": "rLVj2lpW9nmY"
      },
      "source": [
        "\r\n"
      ],
      "execution_count": null,
      "outputs": []
    }
  ]
}