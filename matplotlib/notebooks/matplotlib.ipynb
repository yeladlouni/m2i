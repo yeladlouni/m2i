{
  "nbformat": 4,
  "nbformat_minor": 0,
  "metadata": {
    "colab": {
      "name": "matplotlib.ipynb",
      "provenance": [],
      "collapsed_sections": []
    },
    "kernelspec": {
      "name": "python3",
      "display_name": "Python 3"
    }
  },
  "cells": [
    {
      "cell_type": "markdown",
      "metadata": {
        "id": "YKb2K2ZlF4ol"
      },
      "source": [
        "![m2i.png](data:image/png;base64,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)"
      ]
    },
    {
      "cell_type": "markdown",
      "metadata": {
        "id": "L3YKyGBA5Lep"
      },
      "source": [
        "# Introduction"
      ]
    },
    {
      "cell_type": "markdown",
      "metadata": {
        "id": "x-lOcyyV5Ky4"
      },
      "source": [
        "La production des visualisations \"plots\" est l'une des tâches les plus importantes en analyse de données. Elle peut faire partie de l'étape exploratoire, par exemple, pour aider à identifier les valeurs extrêmes \"outliers\", les transformations de données ou la génération d'idées pour les modèles. Pour d'autres, la production d'une visualisation interactive pour le web peut être l'objectif. \n",
        "\n",
        "Python possède plusieurs bibliothèques pour la production des visualisations statiques ou dynamiques, la plus utilisée est **matplotlib**.\n",
        "\n",
        "La bibliothèque **matplotlib** a été conçue pour la création des graphiques(généralement 2D). Le projet a été démarré par John Hunter en 2002 afin de mettre en place une bibliothèque de graphiques semblable à celle de MATLAB. Les communautés IPython et matplotlib ont collaboré afin de simplifier la production des graphique depuis le shell IPython. matplotlib supporte plusieurs IHM sur tous les systèmes d'exploitation et peut exporter les graphiques vectoriels et raster (PDF, SVG, JPG, PNG, BMP, GIF, ...).\n",
        "\n",
        "Plusieurs bibliothèques se basent sur matplotlib telles que seaborn. "
      ]
    },
    {
      "cell_type": "markdown",
      "metadata": {
        "id": "CF0-WZuv8ehA"
      },
      "source": [
        "# API"
      ]
    },
    {
      "cell_type": "markdown",
      "metadata": {
        "id": "BCCM2i0k8kD-"
      },
      "source": [
        "Avec matplotlib, en utilise les conventions d'importation suivantes:"
      ]
    },
    {
      "cell_type": "code",
      "metadata": {
        "id": "g-f3G12yAL8s"
      },
      "source": [
        "pip install matplotlib  # Installation du package matplotlib"
      ],
      "execution_count": null,
      "outputs": []
    },
    {
      "cell_type": "code",
      "metadata": {
        "id": "h5MN1mmx8qV7"
      },
      "source": [
        "import matplotlib.pyplot as plt # La classe pyplot est la classe la plus utilisée du package"
      ],
      "execution_count": 2,
      "outputs": []
    },
    {
      "cell_type": "code",
      "metadata": {
        "id": "4n8mL2q48f5F"
      },
      "source": [
        "import numpy as np  # numpy ou Numerical Python est un package qui contient des fonctions mathématiques"
      ],
      "execution_count": 3,
      "outputs": []
    },
    {
      "cell_type": "code",
      "metadata": {
        "id": "KAXK7DUe9OJ8"
      },
      "source": [
        "data = np.arange(10)"
      ],
      "execution_count": 4,
      "outputs": []
    },
    {
      "cell_type": "code",
      "metadata": {
        "id": "VAmqZBO09S3F",
        "outputId": "5f505345-6f2b-4df3-959f-6069e2d3b649",
        "colab": {
          "base_uri": "https://localhost:8080/"
        }
      },
      "source": [
        "data"
      ],
      "execution_count": 5,
      "outputs": [
        {
          "output_type": "execute_result",
          "data": {
            "text/plain": [
              "array([0, 1, 2, 3, 4, 5, 6, 7, 8, 9])"
            ]
          },
          "metadata": {
            "tags": []
          },
          "execution_count": 5
        }
      ]
    },
    {
      "cell_type": "code",
      "metadata": {
        "id": "H2-8HU3M9UzU",
        "outputId": "8caa5b73-6edb-44e0-9971-66b44a1c1dbc",
        "colab": {
          "base_uri": "https://localhost:8080/",
          "height": 282
        }
      },
      "source": [
        "plt.plot(data)"
      ],
      "execution_count": 5,
      "outputs": [
        {
          "output_type": "execute_result",
          "data": {
            "text/plain": [
              "[<matplotlib.lines.Line2D at 0x7f63f1545160>]"
            ]
          },
          "metadata": {
            "tags": []
          },
          "execution_count": 5
        },
        {
          "output_type": "display_data",
          "data": {
            "image/png": "[encoded data removed]",
            "text/plain": [
              "<Figure size 432x288 with 1 Axes>"
            ]
          },
          "metadata": {
            "tags": [],
            "needs_background": "light"
          }
        }
      ]
    },
    {
      "cell_type": "code",
      "metadata": {
        "id": "YG4qD67FC-0x"
      },
      "source": [
        "plt.plot?"
      ],
      "execution_count": 22,
      "outputs": []
    },
    {
      "cell_type": "markdown",
      "metadata": {
        "id": "u0Ewnx_5-IJD"
      },
      "source": [
        "**Figures et Subplots**\n",
        "\n",
        "Les tracés \"plots\" en matplotlib résident dans un objet Figure.\n",
        "On peut créer une nouvelle figure avec plt.figure:"
      ]
    },
    {
      "cell_type": "code",
      "metadata": {
        "id": "ayhu5-S59YEG"
      },
      "source": [
        "fig = plt.figure(figsize=(500, 500))"
      ],
      "execution_count": null,
      "outputs": []
    },
    {
      "cell_type": "markdown",
      "metadata": {
        "id": "JLbheywO-mk4"
      },
      "source": [
        "Sur IPython, un tracé vide est affiché, alors que sur Jupyter, rien ne sera affiché jusqu'à l'utilisation d'autres commandes.\n",
        "\n",
        "**plt.figure** a un certain nombre d'options, notamment, **figsize** qui garantie que la figure a une certaine taille lors de la sauvegarde sur le disque.\n",
        "\n",
        "On ne peut pas créer un tracé avec une figure vide, on doit créer un ou plusieurs sous-tracés \"subplots\" en utilisant la fonction **add_subplot**:"
      ]
    },
    {
      "cell_type": "code",
      "metadata": {
        "id": "bWKvQZoK-F0k"
      },
      "source": [
        "ax1 = fig.add_subplot(2, 2, 1)"
      ],
      "execution_count": 8,
      "outputs": []
    },
    {
      "cell_type": "markdown",
      "metadata": {
        "id": "pM1JzqYcA4gV"
      },
      "source": [
        "Ceci signifie que la figure se composer de 2 x 2 tracés et on a séléctionné le premier des 4 subplots."
      ]
    },
    {
      "cell_type": "code",
      "metadata": {
        "id": "6e1HZWt8Az6O"
      },
      "source": [
        "ax2 = fig.add_subplot(2, 2, 2)"
      ],
      "execution_count": 9,
      "outputs": []
    },
    {
      "cell_type": "code",
      "metadata": {
        "id": "oFrEkSusBcy-"
      },
      "source": [
        "ax3 = fig.add_subplot(2, 2, 3)"
      ],
      "execution_count": 10,
      "outputs": []
    },
    {
      "cell_type": "markdown",
      "metadata": {
        "id": "h5HRB4a9BoOs"
      },
      "source": [
        "Pour Jupyter, il faut mettre l'ensemble des commandes dans la même cellule."
      ]
    },
    {
      "cell_type": "code",
      "metadata": {
        "id": "_5Szr_JqBg3c",
        "outputId": "15f14a1c-f2e2-41d3-c6af-72dbd9a93f1f",
        "colab": {
          "base_uri": "https://localhost:8080/",
          "height": 269
        }
      },
      "source": [
        "fig = plt.figure()\n",
        "ax1 = fig.add_subplot(2, 2, 1)\n",
        "ax2 = fig.add_subplot(2, 2, 2)\n",
        "ax3 = fig.add_subplot(2, 2, 3)"
      ],
      "execution_count": 11,
      "outputs": [
        {
          "output_type": "display_data",
          "data": {
            "image/png": "[encoded data removed]",
            "text/plain": [
              "<Figure size 432x288 with 3 Axes>"
            ]
          },
          "metadata": {
            "tags": [],
            "needs_background": "light"
          }
        }
      ]
    },
    {
      "cell_type": "markdown",
      "metadata": {
        "id": "WuB4ndccB_It"
      },
      "source": [
        "Une fois une commande telle que plt.plot([1.5, 3.5, -2, 1.6]) est exécutée, matplot dessine sur la dernière figure."
      ]
    },
    {
      "cell_type": "code",
      "metadata": {
        "id": "eKYiUA61B499",
        "outputId": "5913bd4d-fd57-4ddb-a414-46c8a772ec16",
        "colab": {
          "base_uri": "https://localhost:8080/",
          "height": 286
        }
      },
      "source": [
        "fig = plt.figure()\n",
        "ax1 = fig.add_subplot(2, 2, 1)\n",
        "ax2 = fig.add_subplot(2, 2, 2)\n",
        "ax3 = fig.add_subplot(2, 2, 3)\n",
        "plt.plot(np.random.randn(50).cumsum(), 'k--')"
      ],
      "execution_count": 13,
      "outputs": [
        {
          "output_type": "execute_result",
          "data": {
            "text/plain": [
              "[<matplotlib.lines.Line2D at 0x7f63f0d0cba8>]"
            ]
          },
          "metadata": {
            "tags": []
          },
          "execution_count": 13
        },
        {
          "output_type": "display_data",
          "data": {
            "image/png": "[encoded data removed]",
            "text/plain": [
              "<Figure size 432x288 with 3 Axes>"
            ]
          },
          "metadata": {
            "tags": [],
            "needs_background": "light"
          }
        }
      ]
    },
    {
      "cell_type": "markdown",
      "metadata": {
        "id": "gPscPVBQK37N"
      },
      "source": [
        "**NumPy**\n",
        "\n",
        "NumPy est la bibliothèque numérique de python, elle contient plusieurs classes et fonctions mathématiques."
      ]
    },
    {
      "cell_type": "code",
      "metadata": {
        "id": "OmAYKUSyKy10"
      },
      "source": [
        "import numpy as np"
      ],
      "execution_count": 1,
      "outputs": []
    },
    {
      "cell_type": "code",
      "metadata": {
        "id": "DgYV3p_ZLIhZ",
        "outputId": "d7788a8b-baf1-4d71-d85d-77e10f964778",
        "colab": {
          "base_uri": "https://localhost:8080/"
        }
      },
      "source": [
        "np.random.binomial(n=6, p=1/6)"
      ],
      "execution_count": 10,
      "outputs": [
        {
          "output_type": "execute_result",
          "data": {
            "text/plain": [
              "0"
            ]
          },
          "metadata": {
            "tags": []
          },
          "execution_count": 10
        }
      ]
    },
    {
      "cell_type": "markdown",
      "metadata": {
        "id": "VCYU6AjHCu4u"
      },
      "source": [
        "L'option 'k--' est une option de style qui permet de traçer une ligne noire discontinue. \n",
        "\n",
        "Les objets retournés par fig.add_subplot sont de type AxeSubplot, sur lesquels on peut directement traçer."
      ]
    },
    {
      "cell_type": "code",
      "metadata": {
        "id": "o5MSCdteCm7M",
        "outputId": "ba69f75e-9109-4275-fa27-28abcaaee704",
        "colab": {
          "base_uri": "https://localhost:8080/",
          "height": 282
        }
      },
      "source": [
        "fig = plt.figure()\n",
        "ax1 = fig.add_subplot(2, 2, 1)\n",
        "ax2 = fig.add_subplot(2, 2, 2)\n",
        "ax3 = fig.add_subplot(2, 2, 3)\n",
        "\n",
        "plt.plot(np.random.randn(50).cumsum(), 'k--')\n",
        "_ = ax1.hist(np.random.randn(100), bins=20, color='k', alpha=0.3)\n",
        "ax2.scatter(np.arange(30), np.arange(30) + 3 * np.random.randn(30))\n"
      ],
      "execution_count": 14,
      "outputs": [
        {
          "output_type": "execute_result",
          "data": {
            "text/plain": [
              "<matplotlib.collections.PathCollection at 0x7f63f0bb8d30>"
            ]
          },
          "metadata": {
            "tags": []
          },
          "execution_count": 14
        },
        {
          "output_type": "display_data",
          "data": {
            "image/png": "[encoded data removed]",
            "text/plain": [
              "<Figure size 432x288 with 3 Axes>"
            ]
          },
          "metadata": {
            "tags": [],
            "needs_background": "light"
          }
        }
      ]
    },
    {
      "cell_type": "markdown",
      "metadata": {
        "id": "cVj0ogetD9sI"
      },
      "source": [
        "La création d'une figure avec une grille de traçés est une tâche commune que matplot a crée une méthode plt.subplots qui crée la nouvelle figure et retourne un tableau NumPy contenant les sous-tracés crées."
      ]
    },
    {
      "cell_type": "code",
      "metadata": {
        "id": "8-p8_HUmD2lE",
        "outputId": "4b7e3019-0c80-4e3b-9934-11ce04e90761",
        "colab": {
          "base_uri": "https://localhost:8080/",
          "height": 269
        }
      },
      "source": [
        "fig, axes = plt.subplots(2, 3)"
      ],
      "execution_count": 15,
      "outputs": [
        {
          "output_type": "display_data",
          "data": {
            "image/png": "[encoded data removed]",
            "text/plain": [
              "<Figure size 432x288 with 6 Axes>"
            ]
          },
          "metadata": {
            "tags": [],
            "needs_background": "light"
          }
        }
      ]
    },
    {
      "cell_type": "code",
      "metadata": {
        "id": "BVnTQfmTEx0f",
        "outputId": "1e0827c7-dff3-4f25-d7e3-2de3e367437e",
        "colab": {
          "base_uri": "https://localhost:8080/"
        }
      },
      "source": [
        "axes"
      ],
      "execution_count": 16,
      "outputs": [
        {
          "output_type": "execute_result",
          "data": {
            "text/plain": [
              "array([[<matplotlib.axes._subplots.AxesSubplot object at 0x7f63f0c2af60>,\n",
              "        <matplotlib.axes._subplots.AxesSubplot object at 0x7f63f0afb400>,\n",
              "        <matplotlib.axes._subplots.AxesSubplot object at 0x7f63f0aaba58>],\n",
              "       [<matplotlib.axes._subplots.AxesSubplot object at 0x7f63f0adfdd8>,\n",
              "        <matplotlib.axes._subplots.AxesSubplot object at 0x7f63f0a9a198>,\n",
              "        <matplotlib.axes._subplots.AxesSubplot object at 0x7f63f0a4c518>]],\n",
              "      dtype=object)"
            ]
          },
          "metadata": {
            "tags": []
          },
          "execution_count": 16
        }
      ]
    },
    {
      "cell_type": "markdown",
      "metadata": {
        "id": "XL8dWu5dFBb4"
      },
      "source": [
        "Cette méthode est très utile comme on peut indexer le tableau comme un tableau à deux dimensions. Par exemple, axes[0, 1]. On peut aussi indiquer si les sous-tracés doivent avoir les mêmes axes x ou y en utilisant sharex et sharey respectivement. C'est particulièrement utilise quand on compare les données en utilisant la même échelle.\n",
        "\n",
        "> Argument | Description\n",
        "> -- | --\n",
        "> nrows | Nombre de lignes des sous-tracés\n",
        "> ncols | Nombre de colonnes des sous-tracés\n",
        "> sharex | Tous les sous-tracés utilisent la même échelle de l'axe x\n",
        "> sharey |  Tous les sous-tracés utilisent la même échelle de l'axe y\n",
        "> subplot_kw | Dictionnaire des mots clés passés à add_subplot\n",
        "> **fig_kw | Mots clés additionnels utilisés lors de la création de la figure."
      ]
    },
    {
      "cell_type": "markdown",
      "metadata": {
        "id": "oQQ4jxq-l8-H"
      },
      "source": [
        "**Ajuster les espacements**\n",
        "\n",
        "Par défaut, matplotlib laisse un certain remourrage \"padding\" aux alentours des sous-tracés et des espacements entre eux. Ces espacements sont relatifs à la largeur et à la longeur du tracé, si la fenêtre du tracé est redimensionnée manuellement ou automatiquement, le tracé s'ajuste dynamiquement. On peut changer l'espacement en utilisant la méthode subplots_adjust de l'objet Figure:\n",
        "\n",
        "\n",
        "\n",
        "```\n",
        "subplots_adjust(left=None, bottom=None, right=None, top=None, wspace=None, hspace=None)\n",
        "```\n",
        "\n"
      ]
    },
    {
      "cell_type": "code",
      "metadata": {
        "id": "JRK8Af5hEzeU",
        "outputId": "2561ec67-e9db-4cbd-cf9a-444b86241064",
        "colab": {
          "base_uri": "https://localhost:8080/",
          "height": 265
        }
      },
      "source": [
        "import numpy as np\n",
        "import matplotlib.pyplot as plt\n",
        "\n",
        "fig, axes = plt.subplots(2, 2, sharex=True, sharey=True)\n",
        "\n",
        "for i in range(2):\n",
        "  for j in range(2):\n",
        "    axes[i, j].hist(np.random.randn(500), bins=50, color='k', alpha=0.5)\n",
        "plt.subplots_adjust(wspace=0, hspace=0)"
      ],
      "execution_count": 3,
      "outputs": [
        {
          "output_type": "display_data",
          "data": {
            "image/png": "[encoded data removed]",
            "text/plain": [
              "<Figure size 432x288 with 4 Axes>"
            ]
          },
          "metadata": {
            "tags": [],
            "needs_background": "light"
          }
        }
      ]
    },
    {
      "cell_type": "markdown",
      "metadata": {
        "id": "nwNkj3LyoW3m"
      },
      "source": [
        "**Couleurs, Marquers et Styles de lignes**\n",
        "\n",
        "La fonction principale de matplotlib \"plot\" accepte des tableaux de coordonnés x et de y et optionnellement une abreviation sous forme de chaîne de caractères indiquant la couleur et le style de la ligne. Par exemple, pour tracer $y = \\mathcal{f(x)}$ avec une ligne discontinue en vert, on peut exécuter:\n",
        "\n",
        "```\n",
        "ax.plot(x, y, 'g--')\n",
        "```\n",
        "\n",
        "La syntaxe équivalente est:\n",
        "\n",
        "```\n",
        "ax.plot(x, y, linestyle='--', color='g')\n",
        "```\n",
        "\n",
        "Un nombre d'abréviations de couleurs sont fournies pour les couleurs communes, mais on peut utiliser n'importe quelle couleur du spectrum en utilisant le code hexadécimal ('#CECECE'), on peut afficher la liste complète des styles de lignes en utilsant plot?.\n"
      ]
    },
    {
      "cell_type": "code",
      "metadata": {
        "id": "zM4hfgNHsHoQ"
      },
      "source": [
        "from matplotlib.pyplot import plot"
      ],
      "execution_count": 11,
      "outputs": []
    },
    {
      "cell_type": "code",
      "metadata": {
        "id": "zd7dYCC7sMx8"
      },
      "source": [
        "plot?"
      ],
      "execution_count": 12,
      "outputs": []
    },
    {
      "cell_type": "markdown",
      "metadata": {
        "id": "kxMSbUxJquLp"
      },
      "source": [
        "Les lignes peuvent avoir des marqueurs pour surligner les points de données. Quand la ligne tracée est continue suite à l'interpolation, les points ne peuvent pas être distingués. Le marqueur peut être précisé dans la chaîne de style où la couleur doit être suivie du type de marqueur et du style de la ligne."
      ]
    },
    {
      "cell_type": "code",
      "metadata": {
        "id": "K2g-mgUloUo8"
      },
      "source": [
        "from numpy.random import randn"
      ],
      "execution_count": 6,
      "outputs": []
    },
    {
      "cell_type": "code",
      "metadata": {
        "id": "mnMdNmaOrmmX",
        "outputId": "91159b31-2abb-4cfd-feff-c02c7e4b2be1",
        "colab": {
          "base_uri": "https://localhost:8080/",
          "height": 282
        }
      },
      "source": [
        "plt.plot(randn(30).cumsum(), 'ko--')"
      ],
      "execution_count": 7,
      "outputs": [
        {
          "output_type": "execute_result",
          "data": {
            "text/plain": [
              "[<matplotlib.lines.Line2D at 0x7f161e625eb8>]"
            ]
          },
          "metadata": {
            "tags": []
          },
          "execution_count": 7
        },
        {
          "output_type": "display_data",
          "data": {
            "image/png": "[encoded data removed]",
            "text/plain": [
              "<Figure size 432x288 with 1 Axes>"
            ]
          },
          "metadata": {
            "tags": [],
            "needs_background": "light"
          }
        }
      ]
    },
    {
      "cell_type": "markdown",
      "metadata": {
        "id": "t3CwLxlgrxA2"
      },
      "source": [
        "D'une manière plus explicite:"
      ]
    },
    {
      "cell_type": "code",
      "metadata": {
        "id": "yigJO4_Qr_nj"
      },
      "source": [
        "from matplotlib.pyplot import plot"
      ],
      "execution_count": 9,
      "outputs": []
    },
    {
      "cell_type": "code",
      "metadata": {
        "id": "J3cj3BhjrsTM",
        "outputId": "d56a61e7-0eea-475c-edce-a2e47b5db008",
        "colab": {
          "base_uri": "https://localhost:8080/",
          "height": 282
        }
      },
      "source": [
        "plot(randn(30).cumsum(), color='k', linestyle='dashed', marker='o')"
      ],
      "execution_count": 10,
      "outputs": [
        {
          "output_type": "execute_result",
          "data": {
            "text/plain": [
              "[<matplotlib.lines.Line2D at 0x7f161e5ad668>]"
            ]
          },
          "metadata": {
            "tags": []
          },
          "execution_count": 10
        },
        {
          "output_type": "display_data",
          "data": {
            "image/png": "[encoded data removed]",
            "text/plain": [
              "<Figure size 432x288 with 1 Axes>"
            ]
          },
          "metadata": {
            "tags": [],
            "needs_background": "light"
          }
        }
      ]
    },
    {
      "cell_type": "markdown",
      "metadata": {
        "id": "CCpabraasf2G"
      },
      "source": [
        "Pour les tracés de lignes, on peut remarquer que certains points sont interpolés par défaut. Ceci peut être modifié avec l'option **drawstyle**."
      ]
    },
    {
      "cell_type": "code",
      "metadata": {
        "id": "xHU9Rcm-r6yT",
        "outputId": "ba0d363f-6991-4786-ea83-0027ee073eb7",
        "colab": {
          "base_uri": "https://localhost:8080/",
          "height": 282
        }
      },
      "source": [
        "data = np.random.randn(30).cumsum()\n",
        "plt.plot(data, 'k--', label='Default')\n",
        "plt.plot(data, 'k--', drawstyle='steps-post', label='steps-post')\n",
        "plt.legend(loc='best')"
      ],
      "execution_count": 17,
      "outputs": [
        {
          "output_type": "execute_result",
          "data": {
            "text/plain": [
              "<matplotlib.legend.Legend at 0x7f161e27d668>"
            ]
          },
          "metadata": {
            "tags": []
          },
          "execution_count": 17
        },
        {
          "output_type": "display_data",
          "data": {
            "image/png": "[encoded data removed]",
            "text/plain": [
              "<Figure size 432x288 with 1 Axes>"
            ]
          },
          "metadata": {
            "tags": [],
            "needs_background": "light"
          }
        }
      ]
    },
    {
      "cell_type": "code",
      "metadata": {
        "id": "cFT8n8kctN4k"
      },
      "source": [
        ""
      ],
      "execution_count": null,
      "outputs": []
    }
  ]
}