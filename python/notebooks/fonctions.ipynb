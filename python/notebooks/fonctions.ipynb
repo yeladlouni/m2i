{
  "nbformat": 4,
  "nbformat_minor": 0,
  "metadata": {
    "colab": {
      "name": "fonctions.ipynb",
      "provenance": [],
      "collapsed_sections": [],
      "toc_visible": true
    },
    "kernelspec": {
      "name": "python3",
      "display_name": "Python 3"
    }
  },
  "cells": [
    {
      "cell_type": "markdown",
      "metadata": {
        "id": "yYc208o8mMWx"
      },
      "source": [
        "Les fonctions sont des blocs de code nommés qui permettent d'exécuter un ensemble de tâches. Une fois définie, une fonction peut être appelée afin d'exécuter les tâches spécifiées. Autrement dit, les fonctions sont des unités logiques de code.\n",
        "\n",
        "Parmi les avantages de l'utilisation des fonctions:\n",
        "\n",
        "* Elles permettent de structurer le code afin de l'utiliser dans d'autres projets\n",
        "* Elles rendent le code plus facile pour la maintenance\n",
        "* Elles permettent le partage du code\n",
        "* Elles permettent le travail en équipe\n"
      ]
    },
    {
      "cell_type": "markdown",
      "metadata": {
        "id": "2nbZkP1Om172"
      },
      "source": [
        "# Définir une fonction"
      ]
    },
    {
      "cell_type": "code",
      "metadata": {
        "id": "AOZNrN0wm4QX"
      },
      "source": [
        "def show_message():\n",
        "  \"\"\"Afficher un message à l'utilisateur\"\"\"\n",
        "  print(\"Hello\")"
      ],
      "execution_count": null,
      "outputs": []
    },
    {
      "cell_type": "markdown",
      "metadata": {
        "id": "9pIVZHqinN61"
      },
      "source": [
        "L'exemple montre une structure simple d'une fonction. **def** permet de définir une fonction, l'instruction est suivie du nom de la fonction. Si la fonction a besoin d'informations pour accomplir sa tâche, ces informations peuvent être précisée entre les parenthèses qui suivent le nom de la fonction, le cas contraire, on peut omettre ces informations.\n",
        "\n",
        "Les lignes suivantes est le corps de la fonction, il contient les différentes tâches à exécuter par la fonction. Le corps de la fonction est indenté.\n",
        "\n",
        "On peut spécifier une documentation pour la fonction en utilsant un **docstring** qui est le descriptif de la fonction délimité par trois double quotes (\"\"\").\n",
        "\n",
        "Pour l'utilisation de la fonction, il suffit de faire appel à la fonction en mentionnant son nom et les différents arguments entre parenthèses en cas d'existence."
      ]
    },
    {
      "cell_type": "markdown",
      "metadata": {
        "id": "eGSXohBXorzf"
      },
      "source": [
        "**Passer des informations à la fonction**\n",
        "\n",
        "On peut passer des informations à la fonction à travers les arguments."
      ]
    },
    {
      "cell_type": "code",
      "metadata": {
        "id": "4G78vz0tnK_4"
      },
      "source": [
        "def show_message(username):\n",
        "  print(f\"Hello, {username}!\")"
      ],
      "execution_count": null,
      "outputs": []
    },
    {
      "cell_type": "code",
      "metadata": {
        "id": "fO0SfVNYpCER",
        "outputId": "3c81906b-bdc2-462f-bf09-75f05b980348",
        "colab": {
          "base_uri": "https://localhost:8080/"
        }
      },
      "source": [
        "show_message('Dupont')"
      ],
      "execution_count": null,
      "outputs": [
        {
          "output_type": "stream",
          "text": [
            "Hello, Dupont!\n"
          ],
          "name": "stdout"
        }
      ]
    },
    {
      "cell_type": "markdown",
      "metadata": {
        "id": "ZR8cndvupH-d"
      },
      "source": [
        "**Arguments et paramètres**\n",
        "\n",
        "Dans l'exemple précédent, username est un paramètre et 'Dupont' est un argument.\n",
        "\n",
        "Le paramètre est précisé lors de la définition de la fonction alors que l'argument est passé lors de l'appel de la fonction."
      ]
    },
    {
      "cell_type": "markdown",
      "metadata": {
        "id": "X1XVh2V5pj0T"
      },
      "source": [
        "# Passer des arguments"
      ]
    },
    {
      "cell_type": "markdown",
      "metadata": {
        "id": "JGQTEzoUrcmm"
      },
      "source": [
        "Comme la définition d'une fonction peut spécifier plusieurs paramètres, l'appel de cette fonction peut nécessiter la précision de plusieurs arguments.\n",
        "\n",
        "1.   Arguments positionnels où les arguments doivent être dans le même ordre que celui des paramètres.\n",
        "2.   Arguments sous forme de mots clés où chaque argument est constitué du nom de la varible et de sa valeur."
      ]
    },
    {
      "cell_type": "markdown",
      "metadata": {
        "id": "ISxzCf2g7hfD"
      },
      "source": [
        ""
      ]
    },
    {
      "cell_type": "markdown",
      "metadata": {
        "id": "D7ZMY4ws7jjJ"
      },
      "source": [
        "# Paramètres positionnels"
      ]
    },
    {
      "cell_type": "markdown",
      "metadata": {
        "id": "hTH1lqzj7ni3"
      },
      "source": [
        "Les paramètres positionnels vont permettre de spécifier les informations dans un ordre précis."
      ]
    },
    {
      "cell_type": "markdown",
      "metadata": {
        "id": "qZS2qdMT--Xi"
      },
      "source": [
        "Dans l'exemple suivant:\n",
        "\n",
        "* items: c'est la liste des voitures qu'on passe comme paramètre\n",
        "* i: l'indice de début\n",
        "* j: l'indice de fin (exclu)"
      ]
    },
    {
      "cell_type": "code",
      "metadata": {
        "id": "k8Yz-Atc_K_m"
      },
      "source": [
        "def show_cars(items, i, j):\n",
        "  print(items[i:j])"
      ],
      "execution_count": null,
      "outputs": []
    },
    {
      "cell_type": "code",
      "metadata": {
        "id": "T1x5QJsU_MIA",
        "outputId": "71e6dfd7-a19d-46b9-e9cd-4482a66a69c1",
        "colab": {
          "base_uri": "https://localhost:8080/"
        }
      },
      "source": [
        "cars1 = ['Audi', 'Honda', 'BMW', 'Honda']\n",
        "\n",
        "show_cars(cars1, 2, 4)"
      ],
      "execution_count": null,
      "outputs": [
        {
          "output_type": "stream",
          "text": [
            "['BMW', 'Honda']\n"
          ],
          "name": "stdout"
        }
      ]
    },
    {
      "cell_type": "markdown",
      "metadata": {
        "id": "FFbIQMYp_ZKY"
      },
      "source": [
        "On peut affecter des valeurs par défaut aux différents paramètres en ajoutant = après le paramètre suivi de la valeur par défaut."
      ]
    },
    {
      "cell_type": "code",
      "metadata": {
        "id": "FCVRs8UWAJr0"
      },
      "source": [
        "def show_cars(items, i=0, j=-1):\n",
        "  print(items[i:j])  "
      ],
      "execution_count": null,
      "outputs": []
    },
    {
      "cell_type": "code",
      "metadata": {
        "id": "hFs6JR8-Ab3i",
        "outputId": "e8ec1794-86d8-4a1c-8ea9-5e045cacc9e5",
        "colab": {
          "base_uri": "https://localhost:8080/"
        }
      },
      "source": [
        "show_cars(cars1) # équivalente show_cars(cars1, 0, -1)"
      ],
      "execution_count": null,
      "outputs": [
        {
          "output_type": "stream",
          "text": [
            "['Audi', 'Honda', 'BMW']\n"
          ],
          "name": "stdout"
        }
      ]
    },
    {
      "cell_type": "code",
      "metadata": {
        "id": "PkPVKmrrAlL4",
        "outputId": "7d7abf76-6536-4ef5-a407-452b9d35248d",
        "colab": {
          "base_uri": "https://localhost:8080/"
        }
      },
      "source": [
        "show_cars(cars1) # le 2 correspond à la valeur utilisée pour i"
      ],
      "execution_count": null,
      "outputs": [
        {
          "output_type": "stream",
          "text": [
            "['Audi', 'Honda', 'BMW']\n"
          ],
          "name": "stdout"
        }
      ]
    },
    {
      "cell_type": "markdown",
      "metadata": {
        "id": "jPfu6uIo73Xg"
      },
      "source": [
        "# Les ensembles"
      ]
    },
    {
      "cell_type": "markdown",
      "metadata": {
        "id": "0B3al4Lw8DhW"
      },
      "source": [
        "Les ensembles sont des collections de données ordonnées qui permettent de stocker des valeurs distinctes.\n",
        "On peut définir un ensemble en utilisant les accolades {} comme pour les dictionnaires mais sans spécifier de clé."
      ]
    },
    {
      "cell_type": "code",
      "metadata": {
        "id": "7GO4hC5e8VNA"
      },
      "source": [
        "names = {'Manon', 'Alex', 'Frederic', 'Willy', 'Willy'}"
      ],
      "execution_count": null,
      "outputs": []
    },
    {
      "cell_type": "code",
      "metadata": {
        "id": "NHXiI9Os8hpK",
        "outputId": "e77afdf9-9893-4ccf-faf5-c4ef9924b826",
        "colab": {
          "base_uri": "https://localhost:8080/"
        }
      },
      "source": [
        "print(type(names))"
      ],
      "execution_count": null,
      "outputs": [
        {
          "output_type": "stream",
          "text": [
            "<class 'set'>\n"
          ],
          "name": "stdout"
        }
      ]
    },
    {
      "cell_type": "code",
      "metadata": {
        "id": "oKvsAQ7I8uDi",
        "outputId": "13d84a72-85c3-43f7-d025-17c9d9e6eac1",
        "colab": {
          "base_uri": "https://localhost:8080/"
        }
      },
      "source": [
        "names"
      ],
      "execution_count": null,
      "outputs": [
        {
          "output_type": "execute_result",
          "data": {
            "text/plain": [
              "{'Alex', 'Frederic', 'Manon', 'Willy'}"
            ]
          },
          "metadata": {
            "tags": []
          },
          "execution_count": 6
        }
      ]
    },
    {
      "cell_type": "markdown",
      "metadata": {
        "id": "wUPypS0J8stl"
      },
      "source": [
        ""
      ]
    },
    {
      "cell_type": "code",
      "metadata": {
        "id": "sJABQOoI7wF0"
      },
      "source": [
        "cars = ['Audi', 'Audi', 'BMW', 'Mercedes', 'Honda']"
      ],
      "execution_count": null,
      "outputs": []
    },
    {
      "cell_type": "code",
      "metadata": {
        "id": "BR1FofvVplcv",
        "outputId": "42aab70d-d212-4532-e825-5f3985a15727",
        "colab": {
          "base_uri": "https://localhost:8080/"
        }
      },
      "source": [
        "set(cars)"
      ],
      "execution_count": null,
      "outputs": [
        {
          "output_type": "execute_result",
          "data": {
            "text/plain": [
              "{'Audi', 'BMW', 'Honda', 'Mercedes'}"
            ]
          },
          "metadata": {
            "tags": []
          },
          "execution_count": 8
        }
      ]
    },
    {
      "cell_type": "code",
      "metadata": {
        "id": "iHOprxNV84UF"
      },
      "source": [
        "cars_set = set(cars)"
      ],
      "execution_count": null,
      "outputs": []
    },
    {
      "cell_type": "markdown",
      "metadata": {
        "id": "TwssG7569GwY"
      },
      "source": [
        "La méthode **add** permet d'ajouter des élément à l'ensemble."
      ]
    },
    {
      "cell_type": "code",
      "metadata": {
        "id": "UUtG129J8-HP"
      },
      "source": [
        "cars_set.add('Huyndai')"
      ],
      "execution_count": null,
      "outputs": []
    },
    {
      "cell_type": "code",
      "metadata": {
        "id": "WMmeWV1O9ONX",
        "outputId": "f32f9030-0198-4331-b428-6f580e24dc4a",
        "colab": {
          "base_uri": "https://localhost:8080/"
        }
      },
      "source": [
        "cars_set"
      ],
      "execution_count": null,
      "outputs": [
        {
          "output_type": "execute_result",
          "data": {
            "text/plain": [
              "{'Audi', 'BMW', 'Honda', 'Huyndai', 'Mercedes'}"
            ]
          },
          "metadata": {
            "tags": []
          },
          "execution_count": 12
        }
      ]
    },
    {
      "cell_type": "code",
      "metadata": {
        "id": "6sv8BUaO9Ozl"
      },
      "source": [
        "autombiles = {'Honda', 'BMW', 'Peugeot'}"
      ],
      "execution_count": null,
      "outputs": []
    },
    {
      "cell_type": "markdown",
      "metadata": {
        "id": "cbVCAAea96WC"
      },
      "source": [
        "La fonction **intersection** permet de retourner les éléments communs entre les deux listes."
      ]
    },
    {
      "cell_type": "code",
      "metadata": {
        "id": "iP4xlIbJ9kGu",
        "outputId": "bbb58018-00a5-42b0-b39c-e024f4a646d5",
        "colab": {
          "base_uri": "https://localhost:8080/"
        }
      },
      "source": [
        "cars_set.intersection(autombiles)"
      ],
      "execution_count": null,
      "outputs": [
        {
          "output_type": "execute_result",
          "data": {
            "text/plain": [
              "{'BMW', 'Honda'}"
            ]
          },
          "metadata": {
            "tags": []
          },
          "execution_count": 17
        }
      ]
    },
    {
      "cell_type": "markdown",
      "metadata": {
        "id": "Z9D-P0b99vic"
      },
      "source": [
        "La fonction **difference** permet d'afficher la différence des deux ensembles."
      ]
    },
    {
      "cell_type": "code",
      "metadata": {
        "id": "j6erBibW9mwt",
        "outputId": "9139fdb8-d83b-4667-ed83-e505b5fc35da",
        "colab": {
          "base_uri": "https://localhost:8080/"
        }
      },
      "source": [
        "cars_set.difference(autombiles)"
      ],
      "execution_count": null,
      "outputs": [
        {
          "output_type": "execute_result",
          "data": {
            "text/plain": [
              "{'Audi', 'Huyndai', 'Mercedes'}"
            ]
          },
          "metadata": {
            "tags": []
          },
          "execution_count": 18
        }
      ]
    },
    {
      "cell_type": "code",
      "metadata": {
        "id": "PfnMseOt-GR-"
      },
      "source": [
        ""
      ],
      "execution_count": null,
      "outputs": []
    }
  ]
}