{
  "nbformat": 4,
  "nbformat_minor": 0,
  "metadata": {
    "colab": {
      "name": "fichiers.ipynb",
      "provenance": [],
      "collapsed_sections": []
    },
    "kernelspec": {
      "name": "python3",
      "display_name": "Python 3"
    }
  },
  "cells": [
    {
      "cell_type": "markdown",
      "metadata": {
        "id": "5aSvdDT7qaSh"
      },
      "source": [
        "# Lecture des fichiers"
      ]
    },
    {
      "cell_type": "markdown",
      "metadata": {
        "id": "iCDrZnWoqNDa"
      },
      "source": [
        "Les fichiers textes sont organisés sous forme de ligne et peuvent contenir des caractères ASCII ou alors des caractères unicode (UTF-8)."
      ]
    },
    {
      "cell_type": "markdown",
      "metadata": {
        "id": "eg6_Wun1qeKg"
      },
      "source": [
        "**Lecture des fichiers**\n",
        "\n",
        "Pour lire un fichier texte, il suffit d'utiliser la fonction **open** en spécifiant le chemin du fichier comme premier argument, le deuxième argument peut être omis et représente le mode de lecture du fichier.\n",
        "Si la fonction **open** est utilisée sans l'entourer de with, le fichier est lu mais n'est pas fermé à la fin, en utilisant **with**, une fois la lecture est terminée, le fichier est fermé automatiquement. "
      ]
    },
    {
      "cell_type": "code",
      "metadata": {
        "id": "rb4ZmrmVqvfu"
      },
      "source": [
        "!echo -e \"Audi\\nBMW\\nMercedes\\nHonda\\nHuyndai\" > cars.txt"
      ],
      "execution_count": 3,
      "outputs": []
    },
    {
      "cell_type": "code",
      "metadata": {
        "id": "ANxcVMEmqCAz",
        "outputId": "07090c6b-8842-4127-a14e-399d63662572",
        "colab": {
          "base_uri": "https://localhost:8080/"
        }
      },
      "source": [
        "!cat cars.txt"
      ],
      "execution_count": 4,
      "outputs": [
        {
          "output_type": "stream",
          "text": [
            "Audi\n",
            "BMW\n",
            "Mercedes\n",
            "Honda\n",
            "Huyndai\n"
          ],
          "name": "stdout"
        }
      ]
    },
    {
      "cell_type": "markdown",
      "metadata": {
        "id": "nBdPxorpr1Oq"
      },
      "source": [
        "Sans utiliser l'instruction with, le fichier est verouillé et on ne peut pas le modifier."
      ]
    },
    {
      "cell_type": "code",
      "metadata": {
        "id": "b47PjUUAreDI",
        "outputId": "0173ee71-cf90-4e48-dfb7-8e421a84f5e5",
        "colab": {
          "base_uri": "https://localhost:8080/"
        }
      },
      "source": [
        "f = open('cars.txt')\n",
        "\n",
        "for line in f:\n",
        "  print(line)"
      ],
      "execution_count": 7,
      "outputs": [
        {
          "output_type": "stream",
          "text": [
            "Audi\n",
            "\n",
            "BMW\n",
            "\n",
            "Mercedes\n",
            "\n",
            "Honda\n",
            "\n",
            "Huyndai\n",
            "\n"
          ],
          "name": "stdout"
        }
      ]
    },
    {
      "cell_type": "markdown",
      "metadata": {
        "id": "owBRlMBwsZwN"
      },
      "source": [
        "Pour fermer un fichier ouvert, il suffit d'utiliser la fonction **close**"
      ]
    },
    {
      "cell_type": "code",
      "metadata": {
        "id": "D_g-Htvvse4I"
      },
      "source": [
        "f.close()"
      ],
      "execution_count": 9,
      "outputs": []
    },
    {
      "cell_type": "markdown",
      "metadata": {
        "id": "V_0a6GzksEnK"
      },
      "source": [
        "En utilisant **with**, le fichier est ouvert mais fermé à la fin de sa lecture."
      ]
    },
    {
      "cell_type": "code",
      "metadata": {
        "id": "J5IOgDaurvIL",
        "outputId": "8fdcfcf6-71b8-4142-ebb7-8bd271765ffa",
        "colab": {
          "base_uri": "https://localhost:8080/"
        }
      },
      "source": [
        "with open('cars.txt') as f:\n",
        "  for line in f:\n",
        "    print(line)"
      ],
      "execution_count": 6,
      "outputs": [
        {
          "output_type": "stream",
          "text": [
            "Audi\n",
            "\n",
            "BMW\n",
            "\n",
            "Mercedes\n",
            "\n",
            "Honda\n",
            "\n",
            "Huyndai\n",
            "\n"
          ],
          "name": "stdout"
        }
      ]
    },
    {
      "cell_type": "markdown",
      "metadata": {
        "id": "nodmes7rs4KT"
      },
      "source": [
        "On peut lire d'autres formats de fichiers comme les fichiers CSV, les fichiers JSON et les fichiers XML."
      ]
    },
    {
      "cell_type": "code",
      "metadata": {
        "id": "wK99omfns_Gr"
      },
      "source": [
        "!echo -e \"Audi;01/01/2019;150;2;4\\nHONDA;01/04/2015;150;4;4\\nBMW;01/01/2012;150;4;4\" > cars-details.csv"
      ],
      "execution_count": 10,
      "outputs": []
    },
    {
      "cell_type": "code",
      "metadata": {
        "id": "PrZbm9iVtXSt",
        "outputId": "76036bcd-1de7-4d74-d5ed-00082e6a4dc4",
        "colab": {
          "base_uri": "https://localhost:8080/"
        }
      },
      "source": [
        "!cat cars-details.csv"
      ],
      "execution_count": 11,
      "outputs": [
        {
          "output_type": "stream",
          "text": [
            "Audi;01/01/2019;150;2;4\n",
            "HONDA;01/04/2015;150;4;4\n",
            "BMW;01/01/2012;150;4;4\n"
          ],
          "name": "stdout"
        }
      ]
    },
    {
      "cell_type": "code",
      "metadata": {
        "id": "Xpuy9w0qtbhs",
        "outputId": "98b20f55-1189-4b0f-9c96-1bb2568a71a8",
        "colab": {
          "base_uri": "https://localhost:8080/"
        }
      },
      "source": [
        "with open('cars-details.csv') as f:\n",
        "  for line in f:\n",
        "    print(line)"
      ],
      "execution_count": 12,
      "outputs": [
        {
          "output_type": "stream",
          "text": [
            "Audi;01/01/2019;150;2;4\n",
            "\n",
            "HONDA;01/04/2015;150;4;4\n",
            "\n",
            "BMW;01/01/2012;150;4;4\n",
            "\n"
          ],
          "name": "stdout"
        }
      ]
    },
    {
      "cell_type": "markdown",
      "metadata": {
        "id": "Mi8I56xCtldF"
      },
      "source": [
        "Et pour récupérer les valeurs pour chaque champs, il suffit d'utiliser la fonction split pour chaque ligne."
      ]
    },
    {
      "cell_type": "code",
      "metadata": {
        "id": "dK6CZ8VWtj_c",
        "outputId": "fac38431-03bc-4cb4-cf4b-8352d135fe48",
        "colab": {
          "base_uri": "https://localhost:8080/"
        }
      },
      "source": [
        "with open('cars-details.csv') as f:\n",
        "  for line in f:\n",
        "    car, _, horses, _, _ = line.split(\";\")\n",
        "    print(f\"La voiture {car} a {horses}\")"
      ],
      "execution_count": 15,
      "outputs": [
        {
          "output_type": "stream",
          "text": [
            "La voiture Audi a 150\n",
            "La voiture HONDA a 150\n",
            "La voiture BMW a 150\n"
          ],
          "name": "stdout"
        }
      ]
    },
    {
      "cell_type": "markdown",
      "metadata": {
        "id": "ScQuq6UjukEh"
      },
      "source": [
        "Et si on avait un fichier JSON"
      ]
    },
    {
      "cell_type": "code",
      "metadata": {
        "id": "TjiQx5ARu4BB"
      },
      "source": [
        "!echo -e \"{\"name\": 'Audi', 'production': '12/01/2013', 'horses': 130, 'doors': 2, 'places': 4}\" > cars.json"
      ],
      "execution_count": 16,
      "outputs": []
    },
    {
      "cell_type": "code",
      "metadata": {
        "id": "s_OVyiWKvdhF",
        "outputId": "263559ef-b6f8-47e5-b83b-bf4ad12d4b34",
        "colab": {
          "base_uri": "https://localhost:8080/"
        }
      },
      "source": [
        "!cat cars.json"
      ],
      "execution_count": 27,
      "outputs": [
        {
          "output_type": "stream",
          "text": [
            "{\"name\": 'Audi', \"production\": '12/01/2013', \"horses\": 130, \"doors\": 2, \"places\": 4}\n"
          ],
          "name": "stdout"
        }
      ]
    },
    {
      "cell_type": "code",
      "metadata": {
        "id": "-TeD8UaovpH2",
        "outputId": "01c6731a-67cf-4b3f-a00f-adf39573f19e",
        "colab": {
          "base_uri": "https://localhost:8080/"
        }
      },
      "source": [
        "with open('cars.json') as f:\n",
        "  for line in f:\n",
        "    print(line)"
      ],
      "execution_count": 28,
      "outputs": [
        {
          "output_type": "stream",
          "text": [
            "{\"name\": 'Audi', \"production\": '12/01/2013', \"horses\": 130, \"doors\": 2, \"places\": 4}\n",
            "\n"
          ],
          "name": "stdout"
        }
      ]
    },
    {
      "cell_type": "markdown",
      "metadata": {
        "id": "cv7cwRTIv0h8"
      },
      "source": [
        "Afin de pouvoir exploiter les champs du fichier JSON, on peut utiliser la bibliothèque **json**"
      ]
    },
    {
      "cell_type": "code",
      "metadata": {
        "id": "ik8rRpdbvzuz"
      },
      "source": [
        "import json"
      ],
      "execution_count": 29,
      "outputs": []
    },
    {
      "cell_type": "markdown",
      "metadata": {
        "id": "IqpJMn4VwCN2"
      },
      "source": [
        "**json** contient plusieurs fonctions qui permettent de lire ou d'enregistrer un contenu sous forme JSON.\n",
        "\n",
        "Afin de lire un fichier JSON, on peut utiliser l'une des deux fonctions:\n",
        "\n",
        "* load permet de lire le fichier en précisant son chemin.\n",
        "* loads permet de lire le JSON à partir d'une chaîne de caractères."
      ]
    },
    {
      "cell_type": "code",
      "metadata": {
        "id": "AgtZORwJwPco",
        "outputId": "58f339ca-406e-452f-b4a6-24ed127435d2",
        "colab": {
          "base_uri": "https://localhost:8080/"
        }
      },
      "source": [
        "with open('cars.json') as f:\n",
        "  content = json.load(f)\n",
        "  print(f\"La voiture {content['name']} a {content['horses']} chevaux.\")"
      ],
      "execution_count": 31,
      "outputs": [
        {
          "output_type": "stream",
          "text": [
            "La voiture Audi a 130 chevaux.\n"
          ],
          "name": "stdout"
        }
      ]
    },
    {
      "cell_type": "code",
      "metadata": {
        "id": "bmX_zWRryFQI"
      },
      "source": [
        "line = \"{\\\"name\\\": \\\"Audi\\\", \\\"production\\\": \\\"12/01/2013\\\", \\\"horses\\\": 130, \\\"doors\\\": 2, \\\"places\\\": 4}\""
      ],
      "execution_count": 32,
      "outputs": []
    },
    {
      "cell_type": "code",
      "metadata": {
        "id": "uwHGihHnyKig"
      },
      "source": [
        "content = json.loads(line)"
      ],
      "execution_count": 33,
      "outputs": []
    },
    {
      "cell_type": "code",
      "metadata": {
        "id": "bjCqqbDHzf-I",
        "outputId": "6c6fe62c-12d2-4335-bf9b-538be9b8a8f2",
        "colab": {
          "base_uri": "https://localhost:8080/"
        }
      },
      "source": [
        "print(content)"
      ],
      "execution_count": 34,
      "outputs": [
        {
          "output_type": "stream",
          "text": [
            "{'name': 'Audi', 'production': '12/01/2013', 'horses': 130, 'doors': 2, 'places': 4}\n"
          ],
          "name": "stdout"
        }
      ]
    },
    {
      "cell_type": "code",
      "metadata": {
        "id": "W22GxdB8ziKC",
        "outputId": "a399d9a0-0306-4cc6-ebf5-b1263a2d5075",
        "colab": {
          "base_uri": "https://localhost:8080/"
        }
      },
      "source": [
        "print(content['doors'])"
      ],
      "execution_count": 35,
      "outputs": [
        {
          "output_type": "stream",
          "text": [
            "2\n"
          ],
          "name": "stdout"
        }
      ]
    },
    {
      "cell_type": "markdown",
      "metadata": {
        "id": "QXXrRyvlzyVQ"
      },
      "source": [
        "Le contenu lu depuis un fichier JSON à travers open est un texte, il faut impérativement utiliser le package json afin de pouvoir accéder aux différents champs."
      ]
    },
    {
      "cell_type": "code",
      "metadata": {
        "id": "U5i37bDIzncf",
        "outputId": "76c1a105-1898-4c44-ea53-0811b157eed7",
        "colab": {
          "base_uri": "https://localhost:8080/",
          "height": 232
        }
      },
      "source": [
        "with open('cars.json') as f:\n",
        "  for line in f:\n",
        "    print(line)\n",
        "    print(line['doors'])"
      ],
      "execution_count": 37,
      "outputs": [
        {
          "output_type": "stream",
          "text": [
            "{\"name\": \"Audi\", \"production\": \"12/01/2013\", \"horses\": 130, \"doors\": 2, \"places\": 4}\n",
            "\n"
          ],
          "name": "stdout"
        },
        {
          "output_type": "error",
          "ename": "TypeError",
          "evalue": "ignored",
          "traceback": [
            "\u001b[0;31m---------------------------------------------------------------------------\u001b[0m",
            "\u001b[0;31mTypeError\u001b[0m                                 Traceback (most recent call last)",
            "\u001b[0;32m<ipython-input-37-2d52e5eed310>\u001b[0m in \u001b[0;36m<module>\u001b[0;34m()\u001b[0m\n\u001b[1;32m      2\u001b[0m   \u001b[0;32mfor\u001b[0m \u001b[0mline\u001b[0m \u001b[0;32min\u001b[0m \u001b[0mf\u001b[0m\u001b[0;34m:\u001b[0m\u001b[0;34m\u001b[0m\u001b[0;34m\u001b[0m\u001b[0m\n\u001b[1;32m      3\u001b[0m     \u001b[0mprint\u001b[0m\u001b[0;34m(\u001b[0m\u001b[0mline\u001b[0m\u001b[0;34m)\u001b[0m\u001b[0;34m\u001b[0m\u001b[0;34m\u001b[0m\u001b[0m\n\u001b[0;32m----> 4\u001b[0;31m     \u001b[0mprint\u001b[0m\u001b[0;34m(\u001b[0m\u001b[0mline\u001b[0m\u001b[0;34m[\u001b[0m\u001b[0;34m'doors'\u001b[0m\u001b[0;34m]\u001b[0m\u001b[0;34m)\u001b[0m\u001b[0;34m\u001b[0m\u001b[0;34m\u001b[0m\u001b[0m\n\u001b[0m",
            "\u001b[0;31mTypeError\u001b[0m: string indices must be integers"
          ]
        }
      ]
    },
    {
      "cell_type": "markdown",
      "metadata": {
        "id": "Q9NHP6B3uxdk"
      },
      "source": [
        "Et si on avait un fichier JSON Line \"JSONL\""
      ]
    },
    {
      "cell_type": "code",
      "metadata": {
        "id": "3_TeQNMF0tE2"
      },
      "source": [
        "with open('cars.jsonl') as f:\n",
        "  cars = json.load(f)"
      ],
      "execution_count": 43,
      "outputs": []
    },
    {
      "cell_type": "code",
      "metadata": {
        "id": "r4OPxtnS1v4g",
        "outputId": "001dad88-7a4a-416d-f7fe-fe053d9c952e",
        "colab": {
          "base_uri": "https://localhost:8080/"
        }
      },
      "source": [
        "print(cars)"
      ],
      "execution_count": 44,
      "outputs": [
        {
          "output_type": "stream",
          "text": [
            "[{'name': 'Audi', 'production': '12/01/2013', 'horses': 110, 'doors': 2, 'places': 4}, {'name': 'BMW', 'production': '12/01/2013', 'horses': 100, 'doors': 2, 'places': 4}, {'name': 'Mercedes', 'production': '12/01/2013', 'horses': 140, 'doors': 2, 'places': 4}, {'name': 'Honda', 'production': '12/01/2013', 'horses': 150, 'doors': 2, 'places': 4}, {'name': 'Huyndai', 'production': '12/01/2013', 'horses': 110, 'doors': 2, 'places': 4}]\n"
          ],
          "name": "stdout"
        }
      ]
    },
    {
      "cell_type": "code",
      "metadata": {
        "id": "itZJMfYM17Ls",
        "outputId": "d5164da2-19b1-4134-eab3-bc67ff7119e7",
        "colab": {
          "base_uri": "https://localhost:8080/"
        }
      },
      "source": [
        "print(type(cars))"
      ],
      "execution_count": 45,
      "outputs": [
        {
          "output_type": "stream",
          "text": [
            "<class 'list'>\n"
          ],
          "name": "stdout"
        }
      ]
    },
    {
      "cell_type": "code",
      "metadata": {
        "id": "D_nlHE4g2B1E",
        "outputId": "80500cd9-5cd1-4a42-df0d-1093fe8bcb70",
        "colab": {
          "base_uri": "https://localhost:8080/"
        }
      },
      "source": [
        "print(type(cars[0]))"
      ],
      "execution_count": 46,
      "outputs": [
        {
          "output_type": "stream",
          "text": [
            "<class 'dict'>\n"
          ],
          "name": "stdout"
        }
      ]
    },
    {
      "cell_type": "markdown",
      "metadata": {
        "id": "-WSfWiq32Zez"
      },
      "source": [
        "**Fichiers XML**\n",
        "\n",
        "Les fichiers XML sont des fichiers hierarchiques organisés sous forme de \"parent/fils\" permettent de stocker des données en utilisant des balises \"tags\". Pour chaque tag on peut préciser un certain nombre de propriétés \"properties\" et chaque tag peut être composer d'un ou plusieurs tags.\n",
        "\n",
        "Exemple:\n",
        "\n",
        "\n",
        "```\n",
        "\n",
        "<cars>\n",
        "  <car>\n",
        "    <name>Audi</name>\n",
        "    <production>01/01/2014</production>\n",
        "    <doors>2</doors>\n",
        "    <horses>110</horses>\n",
        "  </car>\n",
        "  <car>\n",
        "    <name>BMW</name>\n",
        "    <production>01/01/2014</production>\n",
        "    <doors>2</doors>\n",
        "    <horses>110</horses>\n",
        "  </car>\n",
        "</cars>\n",
        "\n",
        "```\n",
        "\n",
        "\n",
        "  "
      ]
    },
    {
      "cell_type": "markdown",
      "metadata": {
        "id": "z8oGd87734Bw"
      },
      "source": [
        "Pour lire/écrire des fichiers XML, on peut utiliser l'un des deux packages:\n",
        "\n",
        "* xml: permet de lire les fichiers XML\n",
        "* lxml: permet de lire les fichiers XML et HTML"
      ]
    },
    {
      "cell_type": "code",
      "metadata": {
        "id": "04mNrpic2H40"
      },
      "source": [
        "import xml.etree.ElementTree as ET\n",
        "\n",
        "content = ET.parse('cars.xml')\n",
        "\n",
        "cars = content.getroot()"
      ],
      "execution_count": 52,
      "outputs": []
    },
    {
      "cell_type": "code",
      "metadata": {
        "id": "f_4gcL6g5Xdx",
        "outputId": "b5f1be28-ce1e-4b8a-db7e-5b4fbf167c0f",
        "colab": {
          "base_uri": "https://localhost:8080/"
        }
      },
      "source": [
        "for car in cars:\n",
        "  children = car.getchildren()\n",
        "  for child in list(car):\n",
        "    print(child.tag, child.text)\n",
        "    counter += 1\n",
        "  "
      ],
      "execution_count": 77,
      "outputs": [
        {
          "output_type": "stream",
          "text": [
            "name Audi\n",
            "production 01/01/2014\n",
            "doors 2\n",
            "horses 110\n",
            "name BMW\n",
            "production 01/01/2014\n",
            "doors 2\n",
            "horses 110\n"
          ],
          "name": "stdout"
        }
      ]
    },
    {
      "cell_type": "code",
      "metadata": {
        "id": "CqMskii58Hmy",
        "outputId": "3ce97972-9138-4f7b-9494-0fd8dfe0f42f",
        "colab": {
          "base_uri": "https://localhost:8080/"
        }
      },
      "source": [
        "!tar -czvf cars.gz ./car* "
      ],
      "execution_count": 70,
      "outputs": [
        {
          "output_type": "stream",
          "text": [
            "./cars-details.csv\n",
            "./cars.json\n",
            "./cars.jsonl\n",
            "./cars.txt\n",
            "./cars.xml\n"
          ],
          "name": "stdout"
        }
      ]
    },
    {
      "cell_type": "markdown",
      "metadata": {
        "id": "qJ3qk3lBHOpQ"
      },
      "source": [
        "# Ecriture des fichiers"
      ]
    },
    {
      "cell_type": "markdown",
      "metadata": {
        "id": "3W8eFbNVHTJJ"
      },
      "source": [
        "L'écriture dans les fichiers textes permet de créer de nouveaux fichier ou de les mettre à jour.\n",
        "\n",
        "La fonction **open** accepte deux arguments, le nom et le chemin du fichier et le mode d'accès au fichier. Les modes d'accès aux fichiers sont:\n",
        "\n",
        "* r: \"read\" permet la lecture depuis un fichier, c'est le mode par défaut\n",
        "* w: \"write\" permet la création d'un fichier s'il n'existe pas, et l'écriture dans ce fichier. Si le fichier existe déjà, il sera écrasé.\n",
        "* a: \"append\" permet d'ajouter du contenu à un fichier pré-existant "
      ]
    },
    {
      "cell_type": "markdown",
      "metadata": {
        "id": "EVZx31GuIdzR"
      },
      "source": [
        "Une fois on a un pointeur vers le fichier, on peut écrire dedans en utilisant la fonction **write**."
      ]
    },
    {
      "cell_type": "code",
      "metadata": {
        "id": "iOAGR8T5IT4n"
      },
      "source": [
        "with open('employees.txt', 'w') as f:\n",
        "  f.write(\"10;Jacques;Prévert;100;SA_REP\\n10;Willey;Smith;100;IT_PROG\")"
      ],
      "execution_count": 78,
      "outputs": []
    },
    {
      "cell_type": "markdown",
      "metadata": {
        "id": "hFHF5v1GJMvz"
      },
      "source": [
        "Afin d'écrire un contenu json dans un fichier, on peut utiliser le package json.\n",
        "La fonction **dump** permet de sérialiser le contenu en utilisant un dictionnaire par exemple. \n",
        "\n",
        "* La fonction **dump** permet de convertir un objet vers une chaîne de caractères et sauvegarder le résultat dans un fichier.\n",
        "* La fonction **dumps** permet de convertir un objet vers une chaîne de caractères mais sans l'enregistrer dans un fichier."
      ]
    },
    {
      "cell_type": "code",
      "metadata": {
        "id": "WjBeHqZOJMR3"
      },
      "source": [
        "import json"
      ],
      "execution_count": 88,
      "outputs": []
    },
    {
      "cell_type": "code",
      "metadata": {
        "id": "W2F1giA3I9w4"
      },
      "source": [
        "employees = [\n",
        "             {'first_name': 'Jacques', 'last_name': 'Prévert', 'department_id': 100, 'job_id': 'SA_REP'},\n",
        "             {'first_name': 'Alfredo', 'last_name': 'Kimberley', 'department_id': 200, 'job_id': 'IT_PROG'},\n",
        "             {'first_name': 'Willy', 'last_name': 'Smith', 'department_id': 300, 'job_id': 'MANAGER'}\n",
        "]"
      ],
      "execution_count": 89,
      "outputs": []
    },
    {
      "cell_type": "code",
      "metadata": {
        "id": "Zc58aFHQKEs-",
        "outputId": "36b49edd-0c0e-4f57-9a88-53ed63168504",
        "colab": {
          "base_uri": "https://localhost:8080/"
        }
      },
      "source": [
        "print(type(employees))"
      ],
      "execution_count": 90,
      "outputs": [
        {
          "output_type": "stream",
          "text": [
            "<class 'list'>\n"
          ],
          "name": "stdout"
        }
      ]
    },
    {
      "cell_type": "code",
      "metadata": {
        "id": "XFWwgvZvKGgn",
        "outputId": "0599e217-a9d4-4a41-ea7e-55cfedb480a1",
        "colab": {
          "base_uri": "https://localhost:8080/"
        }
      },
      "source": [
        "print(type(employees[0]))"
      ],
      "execution_count": 91,
      "outputs": [
        {
          "output_type": "stream",
          "text": [
            "<class 'dict'>\n"
          ],
          "name": "stdout"
        }
      ]
    },
    {
      "cell_type": "code",
      "metadata": {
        "id": "aT3oaCbPKWMY"
      },
      "source": [
        "with open('employees.jsonl', 'w') as f:\n",
        "  json.dump(employees, f)"
      ],
      "execution_count": 92,
      "outputs": []
    },
    {
      "cell_type": "code",
      "metadata": {
        "id": "Rd1T_oaLKJEt"
      },
      "source": [
        "content = json.dumps(employees)"
      ],
      "execution_count": 93,
      "outputs": []
    },
    {
      "cell_type": "code",
      "metadata": {
        "id": "8cA6mqNnKTYs",
        "outputId": "0a77015d-e640-49eb-a298-ca707d4687c7",
        "colab": {
          "base_uri": "https://localhost:8080/"
        }
      },
      "source": [
        "print(content)"
      ],
      "execution_count": 94,
      "outputs": [
        {
          "output_type": "stream",
          "text": [
            "[{\"first_name\": \"Jacques\", \"last_name\": \"Pr\\u00e9vert\", \"department_id\": 100, \"job_id\": \"SA_REP\"}, {\"first_name\": \"Alfredo\", \"last_name\": \"Kimberley\", \"department_id\": 200, \"job_id\": \"IT_PROG\"}, {\"first_name\": \"Willy\", \"last_name\": \"Smith\", \"department_id\": 300, \"job_id\": \"MANAGER\"}]\n"
          ],
          "name": "stdout"
        }
      ]
    },
    {
      "cell_type": "markdown",
      "metadata": {
        "id": "yBziWtgrLwUC"
      },
      "source": [
        "# Fichiers binaires"
      ]
    },
    {
      "cell_type": "markdown",
      "metadata": {
        "id": "hRs0Gr05L0k8"
      },
      "source": [
        "On peut être amenés à lire des fichiers binaires, dans ce cas on a besoin d'un package afin de lire le fichier.\n",
        "\n",
        "Exemples:\n",
        "\n",
        "Fichiers XLS, on peut utiliser le package **pandas** pour les lires\n",
        "Fichier Pickle, on peut utiliser le package pickle pour les lire.\n",
        "..."
      ]
    },
    {
      "cell_type": "markdown",
      "metadata": {
        "id": "wLLNQK-gMQjG"
      },
      "source": [
        "# Intéragir avec le système d'exploitation"
      ]
    },
    {
      "cell_type": "markdown",
      "metadata": {
        "id": "WNkhu6NoMnyp"
      },
      "source": [
        "On peut utiliser plusieurs packages en Python, certains sont natifs \"natives\" (os, sys, ...) et d'autres mis à disposition par des tiers (pandas).\n",
        "\n",
        "Afin de pouvoir intéragir avec le système d'exploitation, on peut utiliser le package **os**"
      ]
    },
    {
      "cell_type": "code",
      "metadata": {
        "id": "HkIBx4k0MudF"
      },
      "source": [
        "import os"
      ],
      "execution_count": 95,
      "outputs": []
    },
    {
      "cell_type": "markdown",
      "metadata": {
        "id": "FEg7GOUhMWyq"
      },
      "source": [
        "**Lister les fichiers/dossiers d'un répertoire**"
      ]
    },
    {
      "cell_type": "markdown",
      "metadata": {
        "id": "gPezcAF3M0Gl"
      },
      "source": [
        "La fonction **listdir** permet d'afficher un listing des fichiers et des dossiers contenus dans un répertoire spécifié."
      ]
    },
    {
      "cell_type": "code",
      "metadata": {
        "id": "kyhId5HcMx5P",
        "outputId": "248c27ad-11f4-4bef-b13c-084d6e7d66c4",
        "colab": {
          "base_uri": "https://localhost:8080/"
        }
      },
      "source": [
        "os.listdir('./')"
      ],
      "execution_count": 96,
      "outputs": [
        {
          "output_type": "execute_result",
          "data": {
            "text/plain": [
              "['.config',\n",
              " 'cars-details.csv',\n",
              " 'cars.jsonl',\n",
              " 'cars.json',\n",
              " '.ipynb_checkpoints',\n",
              " 'employees.jsonl',\n",
              " 'cars.xml',\n",
              " 'cars.gz',\n",
              " 'cars.txt',\n",
              " 'employees.txt',\n",
              " 'sample_data']"
            ]
          },
          "metadata": {
            "tags": []
          },
          "execution_count": 96
        }
      ]
    },
    {
      "cell_type": "markdown",
      "metadata": {
        "id": "S_mNesHoMdSa"
      },
      "source": [
        "**Créer des dossiers**"
      ]
    },
    {
      "cell_type": "markdown",
      "metadata": {
        "id": "M9E3gHIKNq6S"
      },
      "source": [
        "Pour créer un dossier, il suffit d'utiliser la fonction **mkdir** en précisant le chemin dans lequel on veut créer le dossier."
      ]
    },
    {
      "cell_type": "code",
      "metadata": {
        "id": "-a2O-PfvNvci"
      },
      "source": [
        "os.mkdir('./samples')"
      ],
      "execution_count": 97,
      "outputs": []
    },
    {
      "cell_type": "markdown",
      "metadata": {
        "id": "zCbiugTEMgrr"
      },
      "source": [
        "**Décompresser des fichiers compressés**"
      ]
    },
    {
      "cell_type": "code",
      "metadata": {
        "id": "CrVSpd-LMmwV"
      },
      "source": [
        ""
      ],
      "execution_count": null,
      "outputs": []
    }
  ]
}