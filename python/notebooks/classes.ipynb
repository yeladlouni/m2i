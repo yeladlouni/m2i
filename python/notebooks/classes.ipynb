{
  "nbformat": 4,
  "nbformat_minor": 0,
  "metadata": {
    "colab": {
      "name": "classes.ipynb",
      "provenance": [],
      "collapsed_sections": []
    },
    "kernelspec": {
      "name": "python3",
      "display_name": "Python 3"
    }
  },
  "cells": [
    {
      "cell_type": "markdown",
      "metadata": {
        "id": "yJyiCO2rCUUh"
      },
      "source": [
        "Les classes permettent de modéliser la réalité en définissant plusieurs entités ou artefacts. \n",
        "\n",
        "Une classe est composée d'un ou plusieurs ou plusieurs attributs (variables) et d'une ou plusieurs méthodes (fonctions)."
      ]
    },
    {
      "cell_type": "markdown",
      "metadata": {
        "id": "jPDQRj4UFMg6"
      },
      "source": [
        "La classe en Python peut être définie en utilisant le mot clé **class** suivi du nom de la classe suivi des paramètres entre parenthèses.\n",
        "\n",
        "Les méthodes sont des fonctions qu'on peut appeler depuis un objet, le premier pramètre est toujours \"_self\" pour désigner l'objet en cours.\n",
        "\n",
        "L'instruction **pass** permet de temporiser la défintion d'une méthode. Une méthode non définie engendre une erreur."
      ]
    },
    {
      "cell_type": "code",
      "metadata": {
        "id": "t5exvnLECP5s"
      },
      "source": [
        "class Car():\n",
        "  marque = ''\n",
        "  production = '01/01/2013'\n",
        "\n",
        "  def accelerer(_self, vitesse):\n",
        "    pass\n",
        "  def freiner(_self):\n",
        "    pass\n",
        "\n"
      ],
      "execution_count": null,
      "outputs": []
    },
    {
      "cell_type": "markdown",
      "metadata": {
        "id": "30cSo7FlEsvO"
      },
      "source": [
        "L'instanciation d'une classe se fait en affectant la classe en spécifiant les arguments entre parenthèses à l'objet qu'on veut créer."
      ]
    },
    {
      "cell_type": "code",
      "metadata": {
        "id": "l8bgPlCIDrLg"
      },
      "source": [
        "car = Car()"
      ],
      "execution_count": null,
      "outputs": []
    },
    {
      "cell_type": "markdown",
      "metadata": {
        "id": "lvfkZ98rFAMg"
      },
      "source": [
        "On peut appeler les méthodes sur l'objet crée."
      ]
    },
    {
      "cell_type": "code",
      "metadata": {
        "id": "_FrKBTUvD0vF"
      },
      "source": [
        "car.accelerer(100)"
      ],
      "execution_count": null,
      "outputs": []
    },
    {
      "cell_type": "code",
      "metadata": {
        "id": "XJr--S9OEIcu",
        "outputId": "2aaf0a91-d9ca-45d7-b338-9ff9b042252b",
        "colab": {
          "base_uri": "https://localhost:8080/",
          "height": 34
        }
      },
      "source": [
        "car.production"
      ],
      "execution_count": null,
      "outputs": [
        {
          "output_type": "execute_result",
          "data": {
            "application/vnd.google.colaboratory.intrinsic+json": {
              "type": "string"
            },
            "text/plain": [
              "'01/01/2013'"
            ]
          },
          "metadata": {
            "tags": []
          },
          "execution_count": 19
        }
      ]
    },
    {
      "cell_type": "code",
      "metadata": {
        "id": "-dR9aO6tEVLW"
      },
      "source": [
        "car1 = Car()"
      ],
      "execution_count": null,
      "outputs": []
    },
    {
      "cell_type": "markdown",
      "metadata": {
        "id": "6WowjnV1FF3v"
      },
      "source": [
        "On peut également modifier les valeurs des attributs d'un objets."
      ]
    },
    {
      "cell_type": "code",
      "metadata": {
        "id": "QNfm5n-8EXSt"
      },
      "source": [
        "car1.marque = 'Honda'"
      ],
      "execution_count": null,
      "outputs": []
    },
    {
      "cell_type": "markdown",
      "metadata": {
        "id": "iBGbiVriLGJO"
      },
      "source": [
        "**Initialisation des objets**\n",
        "\n",
        "On peut initialiser nos objets en utilisant la méthode ```__init__```."
      ]
    },
    {
      "cell_type": "code",
      "metadata": {
        "id": "zTUzboQiKcRG"
      },
      "source": [
        "class Car():\n",
        "  # Les attributs de l'objet\n",
        "  make = 'VW'\n",
        "  brand = 'Audi'\n",
        "  production = ''\n",
        "  color = ''\n",
        "  speed = 0\n",
        "\n",
        "  def __init__(_self, make='VW', brand='Audi', production='01/01/2013', color='black', speed=10): # L'initialisation de l'objet\n",
        "    \"\"\"\n",
        "      Méthode permettant d'initialiser un objet de type Car\n",
        "    \"\"\"\n",
        "    _self.make = make\n",
        "    _self.brand = brand\n",
        "    _self.production = production\n",
        "    _self.color = color\n",
        "    _self.speed = speed\n",
        "\n",
        "  def accelerate(_self, speed=100):\n",
        "    _self.speed = speed\n",
        "\n",
        "  def breakdown(_self):\n",
        "    _self.speed = 0"
      ],
      "execution_count": null,
      "outputs": []
    },
    {
      "cell_type": "code",
      "metadata": {
        "id": "C_8MKFf_NY1i"
      },
      "source": [
        "my_car = Car(brand='Golf', make='Honda', production='01/10/2020', color='white', speed=20)"
      ],
      "execution_count": null,
      "outputs": []
    },
    {
      "cell_type": "code",
      "metadata": {
        "id": "3BAOsHxANqz2",
        "outputId": "c55fd7f5-13f3-49a8-da78-a4f595e68e8c",
        "colab": {
          "base_uri": "https://localhost:8080/"
        }
      },
      "source": [
        "print(my_car)"
      ],
      "execution_count": null,
      "outputs": [
        {
          "output_type": "stream",
          "text": [
            "<__main__.Car object at 0x7f7f28480908>\n"
          ],
          "name": "stdout"
        }
      ]
    },
    {
      "cell_type": "code",
      "metadata": {
        "id": "rH0GlfVKOJZW"
      },
      "source": [
        ""
      ],
      "execution_count": null,
      "outputs": []
    }
  ]
}