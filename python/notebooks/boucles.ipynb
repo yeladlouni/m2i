{
  "nbformat": 4,
  "nbformat_minor": 0,
  "metadata": {
    "colab": {
      "name": "Boucles.ipynb",
      "provenance": [],
      "collapsed_sections": []
    },
    "kernelspec": {
      "name": "python3",
      "display_name": "Python 3"
    }
  },
  "cells": [
    {
      "cell_type": "markdown",
      "metadata": {
        "id": "kn2P36aEaBTs"
      },
      "source": [
        "# Entrées Utilisateur"
      ]
    },
    {
      "cell_type": "markdown",
      "metadata": {
        "id": "YUtvTVchaLYr"
      },
      "source": [
        "Les utilisateurs peuvent fournir des informations aux programmes en utilisant la fonction **input**.\n",
        "\n",
        "La fonction **input** accepte un seul argument, le prompt qui est le message affiché à l'utilisateur."
      ]
    },
    {
      "cell_type": "code",
      "metadata": {
        "id": "sRFQ-RKcaS72",
        "outputId": "5a71bd89-6780-461b-f0d7-56ec42f8dbd3",
        "colab": {
          "base_uri": "https://localhost:8080/"
        }
      },
      "source": [
        "TVA = input(\"Entrez la valeur de la TVA: \")"
      ],
      "execution_count": 6,
      "outputs": [
        {
          "output_type": "stream",
          "text": [
            "Entrez la valeur de la TVA: 0.2\n"
          ],
          "name": "stdout"
        }
      ]
    },
    {
      "cell_type": "code",
      "metadata": {
        "id": "rpgFGWwUaZ8A",
        "outputId": "e6f10bbc-5a08-4d7c-f5c8-0dd5ec4adb1b",
        "colab": {
          "base_uri": "https://localhost:8080/",
          "height": 35
        }
      },
      "source": [
        "TVA"
      ],
      "execution_count": 7,
      "outputs": [
        {
          "output_type": "execute_result",
          "data": {
            "application/vnd.google.colaboratory.intrinsic+json": {
              "type": "string"
            },
            "text/plain": [
              "'0.2'"
            ]
          },
          "metadata": {
            "tags": []
          },
          "execution_count": 7
        }
      ]
    },
    {
      "cell_type": "markdown",
      "metadata": {
        "id": "1hHBeeA9a9Wt"
      },
      "source": [
        "La fonction **int** permet de convertir la valeur saisie en un entier."
      ]
    },
    {
      "cell_type": "code",
      "metadata": {
        "id": "xdUIJJDRafUI",
        "outputId": "a18f8258-0335-47af-a3a3-2c53bc945bd9",
        "colab": {
          "base_uri": "https://localhost:8080/"
        }
      },
      "source": [
        "temperature = int(input(\"Entrez la valeur de la température: \"))"
      ],
      "execution_count": 9,
      "outputs": [
        {
          "output_type": "stream",
          "text": [
            "Entrez la valeur de la température: 37\n"
          ],
          "name": "stdout"
        }
      ]
    },
    {
      "cell_type": "code",
      "metadata": {
        "id": "a3Mcv4itbai4",
        "outputId": "d8a2fa0a-eadc-4466-ece8-32c15c8e7e88",
        "colab": {
          "base_uri": "https://localhost:8080/"
        }
      },
      "source": [
        "temperature"
      ],
      "execution_count": 10,
      "outputs": [
        {
          "output_type": "execute_result",
          "data": {
            "text/plain": [
              "37"
            ]
          },
          "metadata": {
            "tags": []
          },
          "execution_count": 10
        }
      ]
    },
    {
      "cell_type": "markdown",
      "metadata": {
        "id": "LjsSddKybrB9"
      },
      "source": [
        "L'opérateur modulo **%** permet de retourner le reste de la division de deux entiers."
      ]
    },
    {
      "cell_type": "code",
      "metadata": {
        "id": "K1Du7fKUbmlI",
        "outputId": "c41cf842-2f58-4cf2-a59e-8893bd218b35",
        "colab": {
          "base_uri": "https://localhost:8080/"
        }
      },
      "source": [
        "number = int(input(\"Entrez un nombre: \"))"
      ],
      "execution_count": 11,
      "outputs": [
        {
          "output_type": "stream",
          "text": [
            "Entrez un nombre: 4\n"
          ],
          "name": "stdout"
        }
      ]
    },
    {
      "cell_type": "code",
      "metadata": {
        "id": "uDYaHmcCcDFf",
        "outputId": "55fc84d2-1871-45d3-9d5a-672a60793570",
        "colab": {
          "base_uri": "https://localhost:8080/"
        }
      },
      "source": [
        "if number % 2 == 0:\n",
        "  print(f\"\\nLe nombre {number} est paire.\")\n",
        "else:\n",
        "  print(f\"\\nLe nombre {number} est impair.\")"
      ],
      "execution_count": 12,
      "outputs": [
        {
          "output_type": "stream",
          "text": [
            "\n",
            "Le nombre 4 est paire.\n"
          ],
          "name": "stdout"
        }
      ]
    },
    {
      "cell_type": "code",
      "metadata": {
        "id": "QgJY40EgcXQo"
      },
      "source": [
        ""
      ],
      "execution_count": null,
      "outputs": []
    },
    {
      "cell_type": "markdown",
      "metadata": {
        "id": "WzhjSg_YcZnR"
      },
      "source": [
        "# Boucles"
      ]
    },
    {
      "cell_type": "markdown",
      "metadata": {
        "id": "5weWJZhnccHD"
      },
      "source": [
        "Les boucles **for** applique un ensemble d'actions sur une collection spécifique. Les boucles **while** par contre exécutent un ensemble d'actions tant qu'une certaine condition est **True**."
      ]
    },
    {
      "cell_type": "code",
      "metadata": {
        "id": "h4mNZlJbc2XH",
        "outputId": "09159711-7aca-4600-ac3c-d659187a9755",
        "colab": {
          "base_uri": "https://localhost:8080/"
        }
      },
      "source": [
        "counter = 1\n",
        "\n",
        "while counter <= 5:\n",
        "  print(counter)\n",
        "  counter += 1"
      ],
      "execution_count": 13,
      "outputs": [
        {
          "output_type": "stream",
          "text": [
            "1\n",
            "2\n",
            "3\n",
            "4\n",
            "5\n"
          ],
          "name": "stdout"
        }
      ]
    },
    {
      "cell_type": "markdown",
      "metadata": {
        "id": "JqEc09xAdCxj"
      },
      "source": [
        "**Permettre à l'utilisateur de quitter une boucle**"
      ]
    },
    {
      "cell_type": "markdown",
      "metadata": {
        "id": "h0pdb2UedkGM"
      },
      "source": [
        "On peut définir une valeur d'arrêt pour arrêter l'exécution une fois l'utilisateur entre une valeur bien déterminée."
      ]
    },
    {
      "cell_type": "code",
      "metadata": {
        "id": "ekNTZe-Nc__X",
        "outputId": "4dc32cd1-e540-4ec4-990b-42b0a03bab91",
        "colab": {
          "base_uri": "https://localhost:8080/"
        }
      },
      "source": [
        "while message != 'quit':\n",
        "  message = input(\"Entrez une valeur: \")\n",
        "  print(message)"
      ],
      "execution_count": 14,
      "outputs": [
        {
          "output_type": "stream",
          "text": [
            "Entrez une valeur: 30\n",
            "30\n",
            "Entrez une valeur: quit\n",
            "quit\n"
          ],
          "name": "stdout"
        }
      ]
    },
    {
      "cell_type": "markdown",
      "metadata": {
        "id": "9ySpT7W5ecAv"
      },
      "source": [
        "**Utilisation des flags**\n",
        "\n",
        "On peut utiliser un flag pour arrêter l'exécution une fois le flag passe de True à False."
      ]
    },
    {
      "cell_type": "code",
      "metadata": {
        "id": "lO5ztr5eeO_R",
        "outputId": "a19310b9-c757-4852-9628-54fb55314dc9",
        "colab": {
          "base_uri": "https://localhost:8080/"
        }
      },
      "source": [
        "active = True\n",
        "\n",
        "while active:\n",
        "  message = input(\"Entrez une valeur: \")\n",
        "\n",
        "  if message == 'quit':\n",
        "    active = False\n",
        "  else:\n",
        "    print(message)"
      ],
      "execution_count": 15,
      "outputs": [
        {
          "output_type": "stream",
          "text": [
            "Entrez une valeur: 3\n",
            "3\n",
            "Entrez une valeur: quit\n"
          ],
          "name": "stdout"
        }
      ]
    },
    {
      "cell_type": "markdown",
      "metadata": {
        "id": "R7cFjuv1e5CM"
      },
      "source": [
        "**Utilisation de break pour sortir d'une boucle**\n",
        "\n",
        "Pour sortir immédiatement d'une boucle, il suffit d'utiliser l'instruction **break**."
      ]
    },
    {
      "cell_type": "code",
      "metadata": {
        "id": "WTNZfohae1S_",
        "outputId": "fb2819f5-6312-4540-bd8f-15d28d87e8c4",
        "colab": {
          "base_uri": "https://localhost:8080/"
        }
      },
      "source": [
        "while True:\n",
        "  message = input(\"Entrez la valeur: \")\n",
        "  \n",
        "  if message == 'quit':\n",
        "    break\n",
        "  else:\n",
        "    print(message)"
      ],
      "execution_count": 16,
      "outputs": [
        {
          "output_type": "stream",
          "text": [
            "Entrez la valeur: 10\n",
            "10\n",
            "Entrez la valeur: 3\n",
            "3\n",
            "Entrez la valeur: quit\n"
          ],
          "name": "stdout"
        }
      ]
    },
    {
      "cell_type": "markdown",
      "metadata": {
        "id": "BgX6JG-2flT0"
      },
      "source": [
        "**Utilisation de continue dans une boucle**\n",
        "\n",
        "On peut échapper l'exécution d'une étape de la boucle en utilisant l'instruction **continue**."
      ]
    },
    {
      "cell_type": "code",
      "metadata": {
        "id": "ujJWi3nYfXVw",
        "outputId": "60bab31d-b8c5-46c2-833e-53d953704a28",
        "colab": {
          "base_uri": "https://localhost:8080/"
        }
      },
      "source": [
        "counter = 0\n",
        "\n",
        "while counter < 10:\n",
        "  counter += 1\n",
        "  if counter % 2 == 0:\n",
        "    continue\n",
        "  \n",
        "  print(counter)"
      ],
      "execution_count": 17,
      "outputs": [
        {
          "output_type": "stream",
          "text": [
            "1\n",
            "3\n",
            "5\n",
            "7\n",
            "9\n"
          ],
          "name": "stdout"
        }
      ]
    },
    {
      "cell_type": "code",
      "metadata": {
        "id": "5ZTXJPTziQ0S"
      },
      "source": [
        ""
      ],
      "execution_count": null,
      "outputs": []
    },
    {
      "cell_type": "markdown",
      "metadata": {
        "id": "HP4UeWdoipXd"
      },
      "source": [
        "# Utilisation des boucles avec les listes et les dictionnaires"
      ]
    },
    {
      "cell_type": "markdown",
      "metadata": {
        "id": "KPjScTiEi08y"
      },
      "source": [
        "**Déplacer les éléments depuis une liste vers une autre**\n",
        "\n",
        "On peut utiliser les boucles pour parcourir une liste et déplacer ses éléments vers une autre liste.\n"
      ]
    },
    {
      "cell_type": "code",
      "metadata": {
        "id": "LirpOL9biuLf"
      },
      "source": [
        "source = ['Audi', 'BMW', 'Mercedes', 'Honda', 'Peugeot', 'Citröen']\n",
        "destination = []"
      ],
      "execution_count": 18,
      "outputs": []
    },
    {
      "cell_type": "code",
      "metadata": {
        "id": "40qdoNihjh4w",
        "outputId": "cca5f288-6b41-4658-e37c-888666c9282a",
        "colab": {
          "base_uri": "https://localhost:8080/"
        }
      },
      "source": [
        "while source:\n",
        "  current_item = source.pop()\n",
        "  print(current_item)\n",
        "  destination.append(current_item)"
      ],
      "execution_count": 19,
      "outputs": [
        {
          "output_type": "stream",
          "text": [
            "Citröen\n",
            "Peugeot\n",
            "Honda\n",
            "Mercedes\n",
            "BMW\n",
            "Audi\n"
          ],
          "name": "stdout"
        }
      ]
    },
    {
      "cell_type": "code",
      "metadata": {
        "id": "h6dfXbq5jzsA",
        "outputId": "d34b6b5d-0a83-49a8-f248-c67807ffd5c9",
        "colab": {
          "base_uri": "https://localhost:8080/"
        }
      },
      "source": [
        "source"
      ],
      "execution_count": 20,
      "outputs": [
        {
          "output_type": "execute_result",
          "data": {
            "text/plain": [
              "[]"
            ]
          },
          "metadata": {
            "tags": []
          },
          "execution_count": 20
        }
      ]
    },
    {
      "cell_type": "code",
      "metadata": {
        "id": "J-1IBn8mj1xP",
        "outputId": "c2e8bdde-986d-4180-d824-e2914e6575bd",
        "colab": {
          "base_uri": "https://localhost:8080/"
        }
      },
      "source": [
        "destination"
      ],
      "execution_count": 21,
      "outputs": [
        {
          "output_type": "execute_result",
          "data": {
            "text/plain": [
              "['Citröen', 'Peugeot', 'Honda', 'Mercedes', 'BMW', 'Audi']"
            ]
          },
          "metadata": {
            "tags": []
          },
          "execution_count": 21
        }
      ]
    },
    {
      "cell_type": "markdown",
      "metadata": {
        "id": "Ke96oQYFj8lw"
      },
      "source": [
        "**Supprimer les instances de valeurs spécifiques d'une liste**\n",
        "\n",
        "La fonction **remove** permet de supprimer une seule occurrence d'une valeur de la liste, pour supprimer toutes les occurrences, il suffit d'utiliser une boucle."
      ]
    },
    {
      "cell_type": "code",
      "metadata": {
        "id": "xho_JRE4j2pw"
      },
      "source": [
        "cars = ['Audi', 'BMW', 'Mercedes', 'Audi', 'Audi', 'Honda']"
      ],
      "execution_count": 22,
      "outputs": []
    },
    {
      "cell_type": "code",
      "metadata": {
        "id": "R2-GWi7BkaDH"
      },
      "source": [
        "while 'Audi' in cars:\n",
        "  cars.remove('Audi')"
      ],
      "execution_count": 23,
      "outputs": []
    },
    {
      "cell_type": "code",
      "metadata": {
        "id": "sghr0wmEkh2P",
        "outputId": "1d305b1b-f70b-4656-ddd6-d985ab62790e",
        "colab": {
          "base_uri": "https://localhost:8080/"
        }
      },
      "source": [
        "cars"
      ],
      "execution_count": 24,
      "outputs": [
        {
          "output_type": "execute_result",
          "data": {
            "text/plain": [
              "['BMW', 'Mercedes', 'Honda']"
            ]
          },
          "metadata": {
            "tags": []
          },
          "execution_count": 24
        }
      ]
    }
  ]
}